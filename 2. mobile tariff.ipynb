{
 "cells": [
  {
   "cell_type": "markdown",
   "metadata": {},
   "source": [
    "# Исследование тарифного плана  компании «Мегалайн»\n",
    "\n",
    "Предстоит сделать предварительный анализ тарифов на небольшой выборке клиентов. В распоряжении данные 500 пользователей «Мегалайна»: кто они, откуда, каким тарифом пользуются, сколько звонков и сообщений каждый отправил за 2018 год. Нужно проанализировать поведение клиентов и сделать вывод — какой тариф лучше.\n",
    "\n",
    "Описание тарифов:\n",
    "\n",
    "**Тариф «Смарт»**\n",
    "\n",
    "1. Ежемесячная плата: 550 рублей\n",
    "2. Включено 500 минут разговора, 50 сообщений и 15 Гб интернет-трафика\n",
    "3. Стоимость услуг сверх тарифного пакета:\n",
    "    * минута разговора: 3 рубля\n",
    "    * сообщение: 3 рубля\n",
    "    * 1 Гб интернет-трафика: 200 рублей\n",
    "\n",
    "**Тариф «Ультра»**\n",
    "\n",
    "1. Ежемесячная плата: 1950 рублей\n",
    "2. Включено 3000 минут разговора, 1000 сообщений и 30 Гб интернет-трафика\n",
    "3. Стоимость услуг сверх тарифного пакета:\n",
    "    * минута разговора: 1 рубль\n",
    "    * сообщение: 1 рубль\n",
    "    * 1 Гб интернет-трафика: 150 рублей\n",
    "\n",
    "**Примечание:**\n",
    "\n",
    "«Мегалайн» всегда округляет секунды до минут, а мегабайты — до гигабайт. Каждый звонок округляется отдельно: даже если он длился всего 1 секунду, будет засчитан как 1 минута.\n",
    "Для веб-трафика отдельные сессии не считаются. Вместо этого общая сумма за месяц округляется в бо́льшую сторону. Если абонент использует 1025 мегабайт в этом месяце, с него возьмут плату за 2 гигабайта."
   ]
  },
  {
   "cell_type": "markdown",
   "metadata": {},
   "source": [
    "## Шаг 1. Откройте файл с данными и изучите общую информацию"
   ]
  },
  {
   "cell_type": "markdown",
   "metadata": {},
   "source": [
    "### Знакомство с данными"
   ]
  },
  {
   "cell_type": "code",
   "execution_count": 2,
   "metadata": {},
   "outputs": [],
   "source": [
    "# для начала импортируем все библиотеки, которые могут понадобиться\n",
    "import pandas as pd\n",
    "from matplotlib import pyplot as plt\n",
    "from scipy import stats as st\n",
    "import numpy as np"
   ]
  },
  {
   "cell_type": "code",
   "execution_count": 3,
   "metadata": {},
   "outputs": [],
   "source": [
    "#читаем файлы с данными и сохраняем в переменные\n",
    "calls = pd.read_csv('/datasets/calls.csv')\n",
    "internet = pd.read_csv('/datasets/internet.csv')\n",
    "messages = pd.read_csv('/datasets/messages.csv')\n",
    "tariffs = pd.read_csv('/datasets/tariffs.csv')\n",
    "users = pd.read_csv('/datasets/users.csv')"
   ]
  },
  {
   "cell_type": "code",
   "execution_count": 4,
   "metadata": {},
   "outputs": [
    {
     "data": {
      "text/html": [
       "<div>\n",
       "<style scoped>\n",
       "    .dataframe tbody tr th:only-of-type {\n",
       "        vertical-align: middle;\n",
       "    }\n",
       "\n",
       "    .dataframe tbody tr th {\n",
       "        vertical-align: top;\n",
       "    }\n",
       "\n",
       "    .dataframe thead th {\n",
       "        text-align: right;\n",
       "    }\n",
       "</style>\n",
       "<table border=\"1\" class=\"dataframe\">\n",
       "  <thead>\n",
       "    <tr style=\"text-align: right;\">\n",
       "      <th></th>\n",
       "      <th>id</th>\n",
       "      <th>call_date</th>\n",
       "      <th>duration</th>\n",
       "      <th>user_id</th>\n",
       "    </tr>\n",
       "  </thead>\n",
       "  <tbody>\n",
       "    <tr>\n",
       "      <th>0</th>\n",
       "      <td>1000_0</td>\n",
       "      <td>2018-07-25</td>\n",
       "      <td>0.00</td>\n",
       "      <td>1000</td>\n",
       "    </tr>\n",
       "    <tr>\n",
       "      <th>1</th>\n",
       "      <td>1000_1</td>\n",
       "      <td>2018-08-17</td>\n",
       "      <td>0.00</td>\n",
       "      <td>1000</td>\n",
       "    </tr>\n",
       "    <tr>\n",
       "      <th>2</th>\n",
       "      <td>1000_2</td>\n",
       "      <td>2018-06-11</td>\n",
       "      <td>2.85</td>\n",
       "      <td>1000</td>\n",
       "    </tr>\n",
       "    <tr>\n",
       "      <th>3</th>\n",
       "      <td>1000_3</td>\n",
       "      <td>2018-09-21</td>\n",
       "      <td>13.80</td>\n",
       "      <td>1000</td>\n",
       "    </tr>\n",
       "    <tr>\n",
       "      <th>4</th>\n",
       "      <td>1000_4</td>\n",
       "      <td>2018-12-15</td>\n",
       "      <td>5.18</td>\n",
       "      <td>1000</td>\n",
       "    </tr>\n",
       "  </tbody>\n",
       "</table>\n",
       "</div>"
      ],
      "text/plain": [
       "       id   call_date  duration  user_id\n",
       "0  1000_0  2018-07-25      0.00     1000\n",
       "1  1000_1  2018-08-17      0.00     1000\n",
       "2  1000_2  2018-06-11      2.85     1000\n",
       "3  1000_3  2018-09-21     13.80     1000\n",
       "4  1000_4  2018-12-15      5.18     1000"
      ]
     },
     "metadata": {},
     "output_type": "display_data"
    },
    {
     "name": "stdout",
     "output_type": "stream",
     "text": [
      "<class 'pandas.core.frame.DataFrame'>\n",
      "RangeIndex: 202607 entries, 0 to 202606\n",
      "Data columns (total 4 columns):\n",
      " #   Column     Non-Null Count   Dtype  \n",
      "---  ------     --------------   -----  \n",
      " 0   id         202607 non-null  object \n",
      " 1   call_date  202607 non-null  object \n",
      " 2   duration   202607 non-null  float64\n",
      " 3   user_id    202607 non-null  int64  \n",
      "dtypes: float64(1), int64(1), object(2)\n",
      "memory usage: 6.2+ MB\n",
      "\n",
      "\n"
     ]
    },
    {
     "data": {
      "text/html": [
       "<div>\n",
       "<style scoped>\n",
       "    .dataframe tbody tr th:only-of-type {\n",
       "        vertical-align: middle;\n",
       "    }\n",
       "\n",
       "    .dataframe tbody tr th {\n",
       "        vertical-align: top;\n",
       "    }\n",
       "\n",
       "    .dataframe thead th {\n",
       "        text-align: right;\n",
       "    }\n",
       "</style>\n",
       "<table border=\"1\" class=\"dataframe\">\n",
       "  <thead>\n",
       "    <tr style=\"text-align: right;\">\n",
       "      <th></th>\n",
       "      <th>Unnamed: 0</th>\n",
       "      <th>id</th>\n",
       "      <th>mb_used</th>\n",
       "      <th>session_date</th>\n",
       "      <th>user_id</th>\n",
       "    </tr>\n",
       "  </thead>\n",
       "  <tbody>\n",
       "    <tr>\n",
       "      <th>0</th>\n",
       "      <td>0</td>\n",
       "      <td>1000_0</td>\n",
       "      <td>112.95</td>\n",
       "      <td>2018-11-25</td>\n",
       "      <td>1000</td>\n",
       "    </tr>\n",
       "    <tr>\n",
       "      <th>1</th>\n",
       "      <td>1</td>\n",
       "      <td>1000_1</td>\n",
       "      <td>1052.81</td>\n",
       "      <td>2018-09-07</td>\n",
       "      <td>1000</td>\n",
       "    </tr>\n",
       "    <tr>\n",
       "      <th>2</th>\n",
       "      <td>2</td>\n",
       "      <td>1000_2</td>\n",
       "      <td>1197.26</td>\n",
       "      <td>2018-06-25</td>\n",
       "      <td>1000</td>\n",
       "    </tr>\n",
       "    <tr>\n",
       "      <th>3</th>\n",
       "      <td>3</td>\n",
       "      <td>1000_3</td>\n",
       "      <td>550.27</td>\n",
       "      <td>2018-08-22</td>\n",
       "      <td>1000</td>\n",
       "    </tr>\n",
       "    <tr>\n",
       "      <th>4</th>\n",
       "      <td>4</td>\n",
       "      <td>1000_4</td>\n",
       "      <td>302.56</td>\n",
       "      <td>2018-09-24</td>\n",
       "      <td>1000</td>\n",
       "    </tr>\n",
       "  </tbody>\n",
       "</table>\n",
       "</div>"
      ],
      "text/plain": [
       "   Unnamed: 0      id  mb_used session_date  user_id\n",
       "0           0  1000_0   112.95   2018-11-25     1000\n",
       "1           1  1000_1  1052.81   2018-09-07     1000\n",
       "2           2  1000_2  1197.26   2018-06-25     1000\n",
       "3           3  1000_3   550.27   2018-08-22     1000\n",
       "4           4  1000_4   302.56   2018-09-24     1000"
      ]
     },
     "metadata": {},
     "output_type": "display_data"
    },
    {
     "name": "stdout",
     "output_type": "stream",
     "text": [
      "<class 'pandas.core.frame.DataFrame'>\n",
      "RangeIndex: 149396 entries, 0 to 149395\n",
      "Data columns (total 5 columns):\n",
      " #   Column        Non-Null Count   Dtype  \n",
      "---  ------        --------------   -----  \n",
      " 0   Unnamed: 0    149396 non-null  int64  \n",
      " 1   id            149396 non-null  object \n",
      " 2   mb_used       149396 non-null  float64\n",
      " 3   session_date  149396 non-null  object \n",
      " 4   user_id       149396 non-null  int64  \n",
      "dtypes: float64(1), int64(2), object(2)\n",
      "memory usage: 5.7+ MB\n",
      "\n",
      "\n"
     ]
    },
    {
     "data": {
      "text/html": [
       "<div>\n",
       "<style scoped>\n",
       "    .dataframe tbody tr th:only-of-type {\n",
       "        vertical-align: middle;\n",
       "    }\n",
       "\n",
       "    .dataframe tbody tr th {\n",
       "        vertical-align: top;\n",
       "    }\n",
       "\n",
       "    .dataframe thead th {\n",
       "        text-align: right;\n",
       "    }\n",
       "</style>\n",
       "<table border=\"1\" class=\"dataframe\">\n",
       "  <thead>\n",
       "    <tr style=\"text-align: right;\">\n",
       "      <th></th>\n",
       "      <th>id</th>\n",
       "      <th>message_date</th>\n",
       "      <th>user_id</th>\n",
       "    </tr>\n",
       "  </thead>\n",
       "  <tbody>\n",
       "    <tr>\n",
       "      <th>0</th>\n",
       "      <td>1000_0</td>\n",
       "      <td>2018-06-27</td>\n",
       "      <td>1000</td>\n",
       "    </tr>\n",
       "    <tr>\n",
       "      <th>1</th>\n",
       "      <td>1000_1</td>\n",
       "      <td>2018-10-08</td>\n",
       "      <td>1000</td>\n",
       "    </tr>\n",
       "    <tr>\n",
       "      <th>2</th>\n",
       "      <td>1000_2</td>\n",
       "      <td>2018-08-04</td>\n",
       "      <td>1000</td>\n",
       "    </tr>\n",
       "    <tr>\n",
       "      <th>3</th>\n",
       "      <td>1000_3</td>\n",
       "      <td>2018-06-16</td>\n",
       "      <td>1000</td>\n",
       "    </tr>\n",
       "    <tr>\n",
       "      <th>4</th>\n",
       "      <td>1000_4</td>\n",
       "      <td>2018-12-05</td>\n",
       "      <td>1000</td>\n",
       "    </tr>\n",
       "  </tbody>\n",
       "</table>\n",
       "</div>"
      ],
      "text/plain": [
       "       id message_date  user_id\n",
       "0  1000_0   2018-06-27     1000\n",
       "1  1000_1   2018-10-08     1000\n",
       "2  1000_2   2018-08-04     1000\n",
       "3  1000_3   2018-06-16     1000\n",
       "4  1000_4   2018-12-05     1000"
      ]
     },
     "metadata": {},
     "output_type": "display_data"
    },
    {
     "name": "stdout",
     "output_type": "stream",
     "text": [
      "<class 'pandas.core.frame.DataFrame'>\n",
      "RangeIndex: 123036 entries, 0 to 123035\n",
      "Data columns (total 3 columns):\n",
      " #   Column        Non-Null Count   Dtype \n",
      "---  ------        --------------   ----- \n",
      " 0   id            123036 non-null  object\n",
      " 1   message_date  123036 non-null  object\n",
      " 2   user_id       123036 non-null  int64 \n",
      "dtypes: int64(1), object(2)\n",
      "memory usage: 2.8+ MB\n",
      "\n",
      "\n"
     ]
    },
    {
     "data": {
      "text/html": [
       "<div>\n",
       "<style scoped>\n",
       "    .dataframe tbody tr th:only-of-type {\n",
       "        vertical-align: middle;\n",
       "    }\n",
       "\n",
       "    .dataframe tbody tr th {\n",
       "        vertical-align: top;\n",
       "    }\n",
       "\n",
       "    .dataframe thead th {\n",
       "        text-align: right;\n",
       "    }\n",
       "</style>\n",
       "<table border=\"1\" class=\"dataframe\">\n",
       "  <thead>\n",
       "    <tr style=\"text-align: right;\">\n",
       "      <th></th>\n",
       "      <th>messages_included</th>\n",
       "      <th>mb_per_month_included</th>\n",
       "      <th>minutes_included</th>\n",
       "      <th>rub_monthly_fee</th>\n",
       "      <th>rub_per_gb</th>\n",
       "      <th>rub_per_message</th>\n",
       "      <th>rub_per_minute</th>\n",
       "      <th>tariff_name</th>\n",
       "    </tr>\n",
       "  </thead>\n",
       "  <tbody>\n",
       "    <tr>\n",
       "      <th>0</th>\n",
       "      <td>50</td>\n",
       "      <td>15360</td>\n",
       "      <td>500</td>\n",
       "      <td>550</td>\n",
       "      <td>200</td>\n",
       "      <td>3</td>\n",
       "      <td>3</td>\n",
       "      <td>smart</td>\n",
       "    </tr>\n",
       "    <tr>\n",
       "      <th>1</th>\n",
       "      <td>1000</td>\n",
       "      <td>30720</td>\n",
       "      <td>3000</td>\n",
       "      <td>1950</td>\n",
       "      <td>150</td>\n",
       "      <td>1</td>\n",
       "      <td>1</td>\n",
       "      <td>ultra</td>\n",
       "    </tr>\n",
       "  </tbody>\n",
       "</table>\n",
       "</div>"
      ],
      "text/plain": [
       "   messages_included  mb_per_month_included  minutes_included  \\\n",
       "0                 50                  15360               500   \n",
       "1               1000                  30720              3000   \n",
       "\n",
       "   rub_monthly_fee  rub_per_gb  rub_per_message  rub_per_minute tariff_name  \n",
       "0              550         200                3               3       smart  \n",
       "1             1950         150                1               1       ultra  "
      ]
     },
     "metadata": {},
     "output_type": "display_data"
    },
    {
     "name": "stdout",
     "output_type": "stream",
     "text": [
      "<class 'pandas.core.frame.DataFrame'>\n",
      "RangeIndex: 2 entries, 0 to 1\n",
      "Data columns (total 8 columns):\n",
      " #   Column                 Non-Null Count  Dtype \n",
      "---  ------                 --------------  ----- \n",
      " 0   messages_included      2 non-null      int64 \n",
      " 1   mb_per_month_included  2 non-null      int64 \n",
      " 2   minutes_included       2 non-null      int64 \n",
      " 3   rub_monthly_fee        2 non-null      int64 \n",
      " 4   rub_per_gb             2 non-null      int64 \n",
      " 5   rub_per_message        2 non-null      int64 \n",
      " 6   rub_per_minute         2 non-null      int64 \n",
      " 7   tariff_name            2 non-null      object\n",
      "dtypes: int64(7), object(1)\n",
      "memory usage: 256.0+ bytes\n",
      "\n",
      "\n"
     ]
    },
    {
     "data": {
      "text/html": [
       "<div>\n",
       "<style scoped>\n",
       "    .dataframe tbody tr th:only-of-type {\n",
       "        vertical-align: middle;\n",
       "    }\n",
       "\n",
       "    .dataframe tbody tr th {\n",
       "        vertical-align: top;\n",
       "    }\n",
       "\n",
       "    .dataframe thead th {\n",
       "        text-align: right;\n",
       "    }\n",
       "</style>\n",
       "<table border=\"1\" class=\"dataframe\">\n",
       "  <thead>\n",
       "    <tr style=\"text-align: right;\">\n",
       "      <th></th>\n",
       "      <th>user_id</th>\n",
       "      <th>age</th>\n",
       "      <th>churn_date</th>\n",
       "      <th>city</th>\n",
       "      <th>first_name</th>\n",
       "      <th>last_name</th>\n",
       "      <th>reg_date</th>\n",
       "      <th>tariff</th>\n",
       "    </tr>\n",
       "  </thead>\n",
       "  <tbody>\n",
       "    <tr>\n",
       "      <th>0</th>\n",
       "      <td>1000</td>\n",
       "      <td>52</td>\n",
       "      <td>NaN</td>\n",
       "      <td>Краснодар</td>\n",
       "      <td>Рафаил</td>\n",
       "      <td>Верещагин</td>\n",
       "      <td>2018-05-25</td>\n",
       "      <td>ultra</td>\n",
       "    </tr>\n",
       "    <tr>\n",
       "      <th>1</th>\n",
       "      <td>1001</td>\n",
       "      <td>41</td>\n",
       "      <td>NaN</td>\n",
       "      <td>Москва</td>\n",
       "      <td>Иван</td>\n",
       "      <td>Ежов</td>\n",
       "      <td>2018-11-01</td>\n",
       "      <td>smart</td>\n",
       "    </tr>\n",
       "    <tr>\n",
       "      <th>2</th>\n",
       "      <td>1002</td>\n",
       "      <td>59</td>\n",
       "      <td>NaN</td>\n",
       "      <td>Стерлитамак</td>\n",
       "      <td>Евгений</td>\n",
       "      <td>Абрамович</td>\n",
       "      <td>2018-06-17</td>\n",
       "      <td>smart</td>\n",
       "    </tr>\n",
       "    <tr>\n",
       "      <th>3</th>\n",
       "      <td>1003</td>\n",
       "      <td>23</td>\n",
       "      <td>NaN</td>\n",
       "      <td>Москва</td>\n",
       "      <td>Белла</td>\n",
       "      <td>Белякова</td>\n",
       "      <td>2018-08-17</td>\n",
       "      <td>ultra</td>\n",
       "    </tr>\n",
       "    <tr>\n",
       "      <th>4</th>\n",
       "      <td>1004</td>\n",
       "      <td>68</td>\n",
       "      <td>NaN</td>\n",
       "      <td>Новокузнецк</td>\n",
       "      <td>Татьяна</td>\n",
       "      <td>Авдеенко</td>\n",
       "      <td>2018-05-14</td>\n",
       "      <td>ultra</td>\n",
       "    </tr>\n",
       "  </tbody>\n",
       "</table>\n",
       "</div>"
      ],
      "text/plain": [
       "   user_id  age churn_date         city first_name  last_name    reg_date  \\\n",
       "0     1000   52        NaN    Краснодар     Рафаил  Верещагин  2018-05-25   \n",
       "1     1001   41        NaN       Москва       Иван       Ежов  2018-11-01   \n",
       "2     1002   59        NaN  Стерлитамак    Евгений  Абрамович  2018-06-17   \n",
       "3     1003   23        NaN       Москва      Белла   Белякова  2018-08-17   \n",
       "4     1004   68        NaN  Новокузнецк    Татьяна   Авдеенко  2018-05-14   \n",
       "\n",
       "  tariff  \n",
       "0  ultra  \n",
       "1  smart  \n",
       "2  smart  \n",
       "3  ultra  \n",
       "4  ultra  "
      ]
     },
     "metadata": {},
     "output_type": "display_data"
    },
    {
     "name": "stdout",
     "output_type": "stream",
     "text": [
      "<class 'pandas.core.frame.DataFrame'>\n",
      "RangeIndex: 500 entries, 0 to 499\n",
      "Data columns (total 8 columns):\n",
      " #   Column      Non-Null Count  Dtype \n",
      "---  ------      --------------  ----- \n",
      " 0   user_id     500 non-null    int64 \n",
      " 1   age         500 non-null    int64 \n",
      " 2   churn_date  38 non-null     object\n",
      " 3   city        500 non-null    object\n",
      " 4   first_name  500 non-null    object\n",
      " 5   last_name   500 non-null    object\n",
      " 6   reg_date    500 non-null    object\n",
      " 7   tariff      500 non-null    object\n",
      "dtypes: int64(2), object(6)\n",
      "memory usage: 31.4+ KB\n",
      "\n",
      "\n"
     ]
    }
   ],
   "source": [
    "#смотрим первые 5 строк каждого датасета и выводим информацию о нем\n",
    "tables = [calls, internet, messages, tariffs, users]\n",
    "for table in tables:\n",
    "    display(table.head())\n",
    "    table.info()\n",
    "    print()\n",
    "    print()"
   ]
  },
  {
   "cell_type": "code",
   "execution_count": 5,
   "metadata": {},
   "outputs": [
    {
     "data": {
      "text/html": [
       "<div>\n",
       "<style scoped>\n",
       "    .dataframe tbody tr th:only-of-type {\n",
       "        vertical-align: middle;\n",
       "    }\n",
       "\n",
       "    .dataframe tbody tr th {\n",
       "        vertical-align: top;\n",
       "    }\n",
       "\n",
       "    .dataframe thead th {\n",
       "        text-align: right;\n",
       "    }\n",
       "</style>\n",
       "<table border=\"1\" class=\"dataframe\">\n",
       "  <thead>\n",
       "    <tr style=\"text-align: right;\">\n",
       "      <th></th>\n",
       "      <th>user_id</th>\n",
       "      <th>age</th>\n",
       "      <th>churn_date</th>\n",
       "      <th>city</th>\n",
       "      <th>first_name</th>\n",
       "      <th>last_name</th>\n",
       "      <th>reg_date</th>\n",
       "      <th>tariff</th>\n",
       "    </tr>\n",
       "  </thead>\n",
       "  <tbody>\n",
       "  </tbody>\n",
       "</table>\n",
       "</div>"
      ],
      "text/plain": [
       "Empty DataFrame\n",
       "Columns: [user_id, age, churn_date, city, first_name, last_name, reg_date, tariff]\n",
       "Index: []"
      ]
     },
     "execution_count": 5,
     "metadata": {},
     "output_type": "execute_result"
    }
   ],
   "source": [
    "users[users['churn_date'] == \"'2018-08-31T00:00:00.000000000'\"]"
   ]
  },
  {
   "cell_type": "markdown",
   "metadata": {},
   "source": [
    "### Выводы"
   ]
  },
  {
   "cell_type": "markdown",
   "metadata": {},
   "source": [
    "При оценке данных обнаружено, что пропущенные значения присутствуют в данных **users** в столбце `churn_date`, которая показывает дату выхода абонента из тарифного плана. Пропуск означает, что такой даты нет и на момент выгрузки абонент сети пользуется данным тарифом.\n",
    "\n",
    "В данных **calls** обнаружены звонки с нулевой длительностью. По условиям задачи это не ошибка, ведь нулями обозначены пропущенные звонки, поэтому их не нужно удалять.\n",
    "\n",
    "В данных **internet** обнаружен столбец 'Unnamed: 0' который дублирует индексы строк, поэтому его можно убрать из этих данных. Считаю, что это не будет ошибкой, а сам дата сет станет \"легче\" и будет быстрее обрабатываться памятью.\n",
    "\n",
    "Почти в каждом датасете мы имеем какой-либо столбец, в котором хранятся данные о времени. Таким значениям необходимо изменить тип данных со смешанного типа object на значение даты и времени.\n"
   ]
  },
  {
   "cell_type": "markdown",
   "metadata": {},
   "source": [
    "## Шаг 2. Подготовьте данные"
   ]
  },
  {
   "cell_type": "markdown",
   "metadata": {},
   "source": [
    "### Привидение данных к нужным типам"
   ]
  },
  {
   "cell_type": "markdown",
   "metadata": {},
   "source": [
    "Для работы со значением даты и времени воспользуется специальным методом **to_datetime**"
   ]
  },
  {
   "cell_type": "code",
   "execution_count": 6,
   "metadata": {},
   "outputs": [],
   "source": [
    "calls['call_date'] = pd.to_datetime(calls['call_date'], format='%Y-%m-%d')\n",
    "internet['session_date'] = pd.to_datetime(internet['session_date'], format='%Y-%m-%d')\n",
    "messages['message_date'] = pd.to_datetime(messages['message_date'], format='%Y-%m-%d')\n",
    "users['churn_date'] = pd.to_datetime(users['churn_date'], format='%Y-%m-%d')\n",
    "users['reg_date'] = pd.to_datetime(users['reg_date'], format='%Y-%m-%d')"
   ]
  },
  {
   "cell_type": "markdown",
   "metadata": {},
   "source": [
    "### Удалить столбец 'Unnamed: 0' в данных **internet** (дублирует индексы)"
   ]
  },
  {
   "cell_type": "code",
   "execution_count": 7,
   "metadata": {},
   "outputs": [],
   "source": [
    "internet = internet.drop(columns = ['Unnamed: 0'],axis = 1)"
   ]
  },
  {
   "cell_type": "code",
   "execution_count": 8,
   "metadata": {
    "scrolled": true
   },
   "outputs": [
    {
     "data": {
      "text/html": [
       "<div>\n",
       "<style scoped>\n",
       "    .dataframe tbody tr th:only-of-type {\n",
       "        vertical-align: middle;\n",
       "    }\n",
       "\n",
       "    .dataframe tbody tr th {\n",
       "        vertical-align: top;\n",
       "    }\n",
       "\n",
       "    .dataframe thead th {\n",
       "        text-align: right;\n",
       "    }\n",
       "</style>\n",
       "<table border=\"1\" class=\"dataframe\">\n",
       "  <thead>\n",
       "    <tr style=\"text-align: right;\">\n",
       "      <th></th>\n",
       "      <th>id</th>\n",
       "      <th>mb_used</th>\n",
       "      <th>session_date</th>\n",
       "      <th>user_id</th>\n",
       "    </tr>\n",
       "  </thead>\n",
       "  <tbody>\n",
       "    <tr>\n",
       "      <th>0</th>\n",
       "      <td>1000_0</td>\n",
       "      <td>112.95</td>\n",
       "      <td>2018-11-25</td>\n",
       "      <td>1000</td>\n",
       "    </tr>\n",
       "    <tr>\n",
       "      <th>1</th>\n",
       "      <td>1000_1</td>\n",
       "      <td>1052.81</td>\n",
       "      <td>2018-09-07</td>\n",
       "      <td>1000</td>\n",
       "    </tr>\n",
       "    <tr>\n",
       "      <th>2</th>\n",
       "      <td>1000_2</td>\n",
       "      <td>1197.26</td>\n",
       "      <td>2018-06-25</td>\n",
       "      <td>1000</td>\n",
       "    </tr>\n",
       "    <tr>\n",
       "      <th>3</th>\n",
       "      <td>1000_3</td>\n",
       "      <td>550.27</td>\n",
       "      <td>2018-08-22</td>\n",
       "      <td>1000</td>\n",
       "    </tr>\n",
       "    <tr>\n",
       "      <th>4</th>\n",
       "      <td>1000_4</td>\n",
       "      <td>302.56</td>\n",
       "      <td>2018-09-24</td>\n",
       "      <td>1000</td>\n",
       "    </tr>\n",
       "  </tbody>\n",
       "</table>\n",
       "</div>"
      ],
      "text/plain": [
       "       id  mb_used session_date  user_id\n",
       "0  1000_0   112.95   2018-11-25     1000\n",
       "1  1000_1  1052.81   2018-09-07     1000\n",
       "2  1000_2  1197.26   2018-06-25     1000\n",
       "3  1000_3   550.27   2018-08-22     1000\n",
       "4  1000_4   302.56   2018-09-24     1000"
      ]
     },
     "execution_count": 8,
     "metadata": {},
     "output_type": "execute_result"
    }
   ],
   "source": [
    "internet.head()\n",
    "#выведем первые 5 строк для проверки"
   ]
  },
  {
   "cell_type": "markdown",
   "metadata": {},
   "source": [
    "Столбца 'Unnamed: 0' больше нет с нами ))"
   ]
  },
  {
   "cell_type": "markdown",
   "metadata": {},
   "source": [
    "1) Рассмотрим гистограмму распределения длительности звонков, таким образом увидим, есть ли аномалии или нет?"
   ]
  },
  {
   "cell_type": "code",
   "execution_count": 9,
   "metadata": {},
   "outputs": [
    {
     "data": {
      "text/plain": [
       "count    202607.000000\n",
       "mean          6.755887\n",
       "std           5.843365\n",
       "min           0.000000\n",
       "25%           1.300000\n",
       "50%           6.000000\n",
       "75%          10.700000\n",
       "max          38.000000\n",
       "Name: duration, dtype: float64"
      ]
     },
     "execution_count": 9,
     "metadata": {},
     "output_type": "execute_result"
    }
   ],
   "source": [
    "calls['duration'].describe()"
   ]
  },
  {
   "cell_type": "code",
   "execution_count": 10,
   "metadata": {},
   "outputs": [
    {
     "data": {
      "image/png": "[encoded data removed]",
      "text/plain": [
       "<Figure size 432x288 with 1 Axes>"
      ]
     },
     "metadata": {
      "needs_background": "light"
     },
     "output_type": "display_data"
    }
   ],
   "source": [
    "calls['duration'].plot(kind='hist', bins=40)\n",
    "plt.show()"
   ]
  },
  {
   "cell_type": "markdown",
   "metadata": {},
   "source": [
    "* Итак, по результатам описательной статистики и на гистограмме видно, что максимальная длина звонков - 38 минут. Минимальная 0. По условиям, если продолжительность звонков равна 0 - это пропущенные звонки. Эти значения мы не трогаем, но здесь можно посмотреть на количество звонков продолжительность до полуминуты."
   ]
  },
  {
   "cell_type": "code",
   "execution_count": 11,
   "metadata": {},
   "outputs": [
    {
     "data": {
      "text/html": [
       "<div>\n",
       "<style scoped>\n",
       "    .dataframe tbody tr th:only-of-type {\n",
       "        vertical-align: middle;\n",
       "    }\n",
       "\n",
       "    .dataframe tbody tr th {\n",
       "        vertical-align: top;\n",
       "    }\n",
       "\n",
       "    .dataframe thead th {\n",
       "        text-align: right;\n",
       "    }\n",
       "</style>\n",
       "<table border=\"1\" class=\"dataframe\">\n",
       "  <thead>\n",
       "    <tr style=\"text-align: right;\">\n",
       "      <th></th>\n",
       "      <th>id</th>\n",
       "      <th>call_date</th>\n",
       "      <th>duration</th>\n",
       "      <th>user_id</th>\n",
       "    </tr>\n",
       "  </thead>\n",
       "  <tbody>\n",
       "    <tr>\n",
       "      <th>55</th>\n",
       "      <td>1000_55</td>\n",
       "      <td>2018-09-19</td>\n",
       "      <td>0.31</td>\n",
       "      <td>1000</td>\n",
       "    </tr>\n",
       "    <tr>\n",
       "      <th>65</th>\n",
       "      <td>1000_65</td>\n",
       "      <td>2018-10-28</td>\n",
       "      <td>0.34</td>\n",
       "      <td>1000</td>\n",
       "    </tr>\n",
       "    <tr>\n",
       "      <th>97</th>\n",
       "      <td>1000_97</td>\n",
       "      <td>2018-10-26</td>\n",
       "      <td>0.33</td>\n",
       "      <td>1000</td>\n",
       "    </tr>\n",
       "    <tr>\n",
       "      <th>122</th>\n",
       "      <td>1000_122</td>\n",
       "      <td>2018-10-07</td>\n",
       "      <td>0.13</td>\n",
       "      <td>1000</td>\n",
       "    </tr>\n",
       "    <tr>\n",
       "      <th>135</th>\n",
       "      <td>1000_135</td>\n",
       "      <td>2018-10-25</td>\n",
       "      <td>0.02</td>\n",
       "      <td>1000</td>\n",
       "    </tr>\n",
       "    <tr>\n",
       "      <th>...</th>\n",
       "      <td>...</td>\n",
       "      <td>...</td>\n",
       "      <td>...</td>\n",
       "      <td>...</td>\n",
       "    </tr>\n",
       "    <tr>\n",
       "      <th>202318</th>\n",
       "      <td>1498_111</td>\n",
       "      <td>2018-10-17</td>\n",
       "      <td>0.46</td>\n",
       "      <td>1498</td>\n",
       "    </tr>\n",
       "    <tr>\n",
       "      <th>202322</th>\n",
       "      <td>1498_115</td>\n",
       "      <td>2018-10-02</td>\n",
       "      <td>0.49</td>\n",
       "      <td>1498</td>\n",
       "    </tr>\n",
       "    <tr>\n",
       "      <th>202438</th>\n",
       "      <td>1499_51</td>\n",
       "      <td>2018-10-08</td>\n",
       "      <td>0.47</td>\n",
       "      <td>1499</td>\n",
       "    </tr>\n",
       "    <tr>\n",
       "      <th>202452</th>\n",
       "      <td>1499_65</td>\n",
       "      <td>2018-11-30</td>\n",
       "      <td>0.20</td>\n",
       "      <td>1499</td>\n",
       "    </tr>\n",
       "    <tr>\n",
       "      <th>202484</th>\n",
       "      <td>1499_97</td>\n",
       "      <td>2018-12-22</td>\n",
       "      <td>0.07</td>\n",
       "      <td>1499</td>\n",
       "    </tr>\n",
       "  </tbody>\n",
       "</table>\n",
       "<p>4074 rows × 4 columns</p>\n",
       "</div>"
      ],
      "text/plain": [
       "              id  call_date  duration  user_id\n",
       "55       1000_55 2018-09-19      0.31     1000\n",
       "65       1000_65 2018-10-28      0.34     1000\n",
       "97       1000_97 2018-10-26      0.33     1000\n",
       "122     1000_122 2018-10-07      0.13     1000\n",
       "135     1000_135 2018-10-25      0.02     1000\n",
       "...          ...        ...       ...      ...\n",
       "202318  1498_111 2018-10-17      0.46     1498\n",
       "202322  1498_115 2018-10-02      0.49     1498\n",
       "202438   1499_51 2018-10-08      0.47     1499\n",
       "202452   1499_65 2018-11-30      0.20     1499\n",
       "202484   1499_97 2018-12-22      0.07     1499\n",
       "\n",
       "[4074 rows x 4 columns]"
      ]
     },
     "execution_count": 11,
     "metadata": {},
     "output_type": "execute_result"
    }
   ],
   "source": [
    "calls[(calls['duration'] > 0) & (calls['duration'] < 0.5)]"
   ]
  },
  {
   "cell_type": "markdown",
   "metadata": {},
   "source": [
    "В принципе у нас 4 тыс. записей с продолжительностью от 1 до 30 сек. Так что большое количество пропущенных не ошибка."
   ]
  },
  {
   "cell_type": "markdown",
   "metadata": {},
   "source": [
    "2) Рассмотрим гистограмму распределения использованных мегабайт"
   ]
  },
  {
   "cell_type": "code",
   "execution_count": 12,
   "metadata": {},
   "outputs": [
    {
     "data": {
      "text/plain": [
       "count    149396.000000\n",
       "mean        370.192426\n",
       "std         278.300951\n",
       "min           0.000000\n",
       "25%         138.187500\n",
       "50%         348.015000\n",
       "75%         559.552500\n",
       "max        1724.830000\n",
       "Name: mb_used, dtype: float64"
      ]
     },
     "execution_count": 12,
     "metadata": {},
     "output_type": "execute_result"
    }
   ],
   "source": [
    "internet['mb_used'].describe()"
   ]
  },
  {
   "cell_type": "code",
   "execution_count": 13,
   "metadata": {},
   "outputs": [
    {
     "data": {
      "image/png": "[encoded data removed]",
      "text/plain": [
       "<Figure size 432x288 with 1 Axes>"
      ]
     },
     "metadata": {
      "needs_background": "light"
     },
     "output_type": "display_data"
    }
   ],
   "source": [
    "internet['mb_used'].plot(kind='hist', bins=40)\n",
    "plt.show()"
   ]
  },
  {
   "cell_type": "markdown",
   "metadata": {},
   "source": [
    "В данных об использованных мегабайтах тоже нет выбивающихся значений. Мы видим что медианное значение за сессию 348 Мб, а максимально за сессию 1,7 Гб. Нулевые значения я не удаляю, интернет может быть включен, но человек может ничего не скачиваеть и не смотреть в данный момент."
   ]
  },
  {
   "cell_type": "markdown",
   "metadata": {},
   "source": [
    "3) Теперь рассмотрим на данные по смс (они есть выше)"
   ]
  },
  {
   "cell_type": "code",
   "execution_count": 14,
   "metadata": {},
   "outputs": [
    {
     "name": "stdout",
     "output_type": "stream",
     "text": [
      "<class 'pandas.core.frame.DataFrame'>\n",
      "RangeIndex: 123036 entries, 0 to 123035\n",
      "Data columns (total 3 columns):\n",
      " #   Column        Non-Null Count   Dtype         \n",
      "---  ------        --------------   -----         \n",
      " 0   id            123036 non-null  object        \n",
      " 1   message_date  123036 non-null  datetime64[ns]\n",
      " 2   user_id       123036 non-null  int64         \n",
      "dtypes: datetime64[ns](1), int64(1), object(1)\n",
      "memory usage: 2.8+ MB\n"
     ]
    }
   ],
   "source": [
    "messages.info()"
   ]
  },
  {
   "cell_type": "markdown",
   "metadata": {},
   "source": [
    "Тут данные полные и пропусков не обнаружено, получается, что 1 запись - 1 сообщение."
   ]
  },
  {
   "cell_type": "markdown",
   "metadata": {},
   "source": [
    "### Рассчитываем характеристики для каждого пользователя:\n",
    "1) количество сделанных звонков и израсходованных минут разговора по месяцам;\n",
    "\n",
    "2) количество отправленных сообщений по месяцам;\n",
    "\n",
    "3) объем израсходованного интернет-трафика по месяцам;\n",
    "\n",
    "4) помесячную выручку с каждого пользователя (вычтите бесплатный лимит из суммарного количества звонков, сообщений и интернет-трафика; \n"
   ]
  },
  {
   "cell_type": "markdown",
   "metadata": {},
   "source": [
    "#### КОЛИЧЕСТВО СДЕЛАННЫХ ЗВОНКОВ И ИЗРАСХОДОВАННЫХ МИНУТ"
   ]
  },
  {
   "cell_type": "code",
   "execution_count": 15,
   "metadata": {},
   "outputs": [],
   "source": [
    "# для работы добавляем столбец с обозначением месяца\n",
    "calls['month'] = calls['call_date'].dt.month"
   ]
  },
  {
   "cell_type": "code",
   "execution_count": 16,
   "metadata": {
    "scrolled": true
   },
   "outputs": [
    {
     "name": "stdout",
     "output_type": "stream",
     "text": [
      "<class 'pandas.core.frame.DataFrame'>\n",
      "RangeIndex: 202607 entries, 0 to 202606\n",
      "Data columns (total 5 columns):\n",
      " #   Column     Non-Null Count   Dtype         \n",
      "---  ------     --------------   -----         \n",
      " 0   id         202607 non-null  object        \n",
      " 1   call_date  202607 non-null  datetime64[ns]\n",
      " 2   duration   202607 non-null  float64       \n",
      " 3   user_id    202607 non-null  int64         \n",
      " 4   month      202607 non-null  int64         \n",
      "dtypes: datetime64[ns](1), float64(1), int64(2), object(1)\n",
      "memory usage: 7.7+ MB\n"
     ]
    }
   ],
   "source": [
    "calls.info()"
   ]
  },
  {
   "cell_type": "code",
   "execution_count": 17,
   "metadata": {},
   "outputs": [
    {
     "data": {
      "text/html": [
       "<div>\n",
       "<style scoped>\n",
       "    .dataframe tbody tr th:only-of-type {\n",
       "        vertical-align: middle;\n",
       "    }\n",
       "\n",
       "    .dataframe tbody tr th {\n",
       "        vertical-align: top;\n",
       "    }\n",
       "\n",
       "    .dataframe thead th {\n",
       "        text-align: right;\n",
       "    }\n",
       "</style>\n",
       "<table border=\"1\" class=\"dataframe\">\n",
       "  <thead>\n",
       "    <tr style=\"text-align: right;\">\n",
       "      <th></th>\n",
       "      <th>id</th>\n",
       "      <th>call_date</th>\n",
       "      <th>duration</th>\n",
       "      <th>user_id</th>\n",
       "      <th>month</th>\n",
       "    </tr>\n",
       "  </thead>\n",
       "  <tbody>\n",
       "    <tr>\n",
       "      <th>0</th>\n",
       "      <td>1000_0</td>\n",
       "      <td>2018-07-25</td>\n",
       "      <td>0.0</td>\n",
       "      <td>1000</td>\n",
       "      <td>7</td>\n",
       "    </tr>\n",
       "    <tr>\n",
       "      <th>1</th>\n",
       "      <td>1000_1</td>\n",
       "      <td>2018-08-17</td>\n",
       "      <td>0.0</td>\n",
       "      <td>1000</td>\n",
       "      <td>8</td>\n",
       "    </tr>\n",
       "    <tr>\n",
       "      <th>2</th>\n",
       "      <td>1000_2</td>\n",
       "      <td>2018-06-11</td>\n",
       "      <td>3.0</td>\n",
       "      <td>1000</td>\n",
       "      <td>6</td>\n",
       "    </tr>\n",
       "    <tr>\n",
       "      <th>3</th>\n",
       "      <td>1000_3</td>\n",
       "      <td>2018-09-21</td>\n",
       "      <td>14.0</td>\n",
       "      <td>1000</td>\n",
       "      <td>9</td>\n",
       "    </tr>\n",
       "    <tr>\n",
       "      <th>4</th>\n",
       "      <td>1000_4</td>\n",
       "      <td>2018-12-15</td>\n",
       "      <td>6.0</td>\n",
       "      <td>1000</td>\n",
       "      <td>12</td>\n",
       "    </tr>\n",
       "  </tbody>\n",
       "</table>\n",
       "</div>"
      ],
      "text/plain": [
       "       id  call_date  duration  user_id  month\n",
       "0  1000_0 2018-07-25       0.0     1000      7\n",
       "1  1000_1 2018-08-17       0.0     1000      8\n",
       "2  1000_2 2018-06-11       3.0     1000      6\n",
       "3  1000_3 2018-09-21      14.0     1000      9\n",
       "4  1000_4 2018-12-15       6.0     1000     12"
      ]
     },
     "execution_count": 17,
     "metadata": {},
     "output_type": "execute_result"
    }
   ],
   "source": [
    "calls['duration'] = np.ceil(calls['duration'])\n",
    "calls.head()"
   ]
  },
  {
   "cell_type": "code",
   "execution_count": 18,
   "metadata": {},
   "outputs": [],
   "source": [
    "group_calls = np.ceil(calls.pivot_table(index = ['user_id', 'month'], values = ['id', 'duration'],\n",
    "                            aggfunc={'id':'count', 'duration':'sum'})).reset_index()"
   ]
  },
  {
   "cell_type": "code",
   "execution_count": 19,
   "metadata": {},
   "outputs": [
    {
     "data": {
      "text/html": [
       "<div>\n",
       "<style scoped>\n",
       "    .dataframe tbody tr th:only-of-type {\n",
       "        vertical-align: middle;\n",
       "    }\n",
       "\n",
       "    .dataframe tbody tr th {\n",
       "        vertical-align: top;\n",
       "    }\n",
       "\n",
       "    .dataframe thead th {\n",
       "        text-align: right;\n",
       "    }\n",
       "</style>\n",
       "<table border=\"1\" class=\"dataframe\">\n",
       "  <thead>\n",
       "    <tr style=\"text-align: right;\">\n",
       "      <th></th>\n",
       "      <th>user_id</th>\n",
       "      <th>month</th>\n",
       "      <th>duration</th>\n",
       "      <th>calls</th>\n",
       "    </tr>\n",
       "  </thead>\n",
       "  <tbody>\n",
       "    <tr>\n",
       "      <th>0</th>\n",
       "      <td>1000</td>\n",
       "      <td>5</td>\n",
       "      <td>159.0</td>\n",
       "      <td>22.0</td>\n",
       "    </tr>\n",
       "    <tr>\n",
       "      <th>1</th>\n",
       "      <td>1000</td>\n",
       "      <td>6</td>\n",
       "      <td>172.0</td>\n",
       "      <td>43.0</td>\n",
       "    </tr>\n",
       "    <tr>\n",
       "      <th>2</th>\n",
       "      <td>1000</td>\n",
       "      <td>7</td>\n",
       "      <td>340.0</td>\n",
       "      <td>47.0</td>\n",
       "    </tr>\n",
       "    <tr>\n",
       "      <th>3</th>\n",
       "      <td>1000</td>\n",
       "      <td>8</td>\n",
       "      <td>408.0</td>\n",
       "      <td>52.0</td>\n",
       "    </tr>\n",
       "    <tr>\n",
       "      <th>4</th>\n",
       "      <td>1000</td>\n",
       "      <td>9</td>\n",
       "      <td>466.0</td>\n",
       "      <td>58.0</td>\n",
       "    </tr>\n",
       "    <tr>\n",
       "      <th>5</th>\n",
       "      <td>1000</td>\n",
       "      <td>10</td>\n",
       "      <td>350.0</td>\n",
       "      <td>57.0</td>\n",
       "    </tr>\n",
       "    <tr>\n",
       "      <th>6</th>\n",
       "      <td>1000</td>\n",
       "      <td>11</td>\n",
       "      <td>338.0</td>\n",
       "      <td>43.0</td>\n",
       "    </tr>\n",
       "    <tr>\n",
       "      <th>7</th>\n",
       "      <td>1000</td>\n",
       "      <td>12</td>\n",
       "      <td>333.0</td>\n",
       "      <td>46.0</td>\n",
       "    </tr>\n",
       "    <tr>\n",
       "      <th>8</th>\n",
       "      <td>1001</td>\n",
       "      <td>11</td>\n",
       "      <td>430.0</td>\n",
       "      <td>59.0</td>\n",
       "    </tr>\n",
       "    <tr>\n",
       "      <th>9</th>\n",
       "      <td>1001</td>\n",
       "      <td>12</td>\n",
       "      <td>414.0</td>\n",
       "      <td>63.0</td>\n",
       "    </tr>\n",
       "    <tr>\n",
       "      <th>10</th>\n",
       "      <td>1002</td>\n",
       "      <td>6</td>\n",
       "      <td>117.0</td>\n",
       "      <td>15.0</td>\n",
       "    </tr>\n",
       "    <tr>\n",
       "      <th>11</th>\n",
       "      <td>1002</td>\n",
       "      <td>7</td>\n",
       "      <td>214.0</td>\n",
       "      <td>26.0</td>\n",
       "    </tr>\n",
       "    <tr>\n",
       "      <th>12</th>\n",
       "      <td>1002</td>\n",
       "      <td>8</td>\n",
       "      <td>289.0</td>\n",
       "      <td>42.0</td>\n",
       "    </tr>\n",
       "    <tr>\n",
       "      <th>13</th>\n",
       "      <td>1002</td>\n",
       "      <td>9</td>\n",
       "      <td>206.0</td>\n",
       "      <td>36.0</td>\n",
       "    </tr>\n",
       "    <tr>\n",
       "      <th>14</th>\n",
       "      <td>1002</td>\n",
       "      <td>10</td>\n",
       "      <td>212.0</td>\n",
       "      <td>33.0</td>\n",
       "    </tr>\n",
       "  </tbody>\n",
       "</table>\n",
       "</div>"
      ],
      "text/plain": [
       "    user_id  month  duration  calls\n",
       "0      1000      5     159.0   22.0\n",
       "1      1000      6     172.0   43.0\n",
       "2      1000      7     340.0   47.0\n",
       "3      1000      8     408.0   52.0\n",
       "4      1000      9     466.0   58.0\n",
       "5      1000     10     350.0   57.0\n",
       "6      1000     11     338.0   43.0\n",
       "7      1000     12     333.0   46.0\n",
       "8      1001     11     430.0   59.0\n",
       "9      1001     12     414.0   63.0\n",
       "10     1002      6     117.0   15.0\n",
       "11     1002      7     214.0   26.0\n",
       "12     1002      8     289.0   42.0\n",
       "13     1002      9     206.0   36.0\n",
       "14     1002     10     212.0   33.0"
      ]
     },
     "execution_count": 19,
     "metadata": {},
     "output_type": "execute_result"
    }
   ],
   "source": [
    "\n",
    "group_calls = group_calls.rename(columns = {'user_id':'user_id', 'month': 'month', 'duration': 'duration', 'id':'calls'})\n",
    "group_calls.head(15)"
   ]
  },
  {
   "cell_type": "markdown",
   "metadata": {},
   "source": [
    "#### Количество отправленных сообщений по месяцам"
   ]
  },
  {
   "cell_type": "code",
   "execution_count": 20,
   "metadata": {},
   "outputs": [],
   "source": [
    "# для работы добавляем столбец с обозначением месяца\n",
    "messages['month'] = messages['message_date'].dt.month"
   ]
  },
  {
   "cell_type": "code",
   "execution_count": 21,
   "metadata": {},
   "outputs": [
    {
     "data": {
      "text/html": [
       "<div>\n",
       "<style scoped>\n",
       "    .dataframe tbody tr th:only-of-type {\n",
       "        vertical-align: middle;\n",
       "    }\n",
       "\n",
       "    .dataframe tbody tr th {\n",
       "        vertical-align: top;\n",
       "    }\n",
       "\n",
       "    .dataframe thead th {\n",
       "        text-align: right;\n",
       "    }\n",
       "</style>\n",
       "<table border=\"1\" class=\"dataframe\">\n",
       "  <thead>\n",
       "    <tr style=\"text-align: right;\">\n",
       "      <th></th>\n",
       "      <th>id</th>\n",
       "      <th>message_date</th>\n",
       "      <th>user_id</th>\n",
       "      <th>month</th>\n",
       "    </tr>\n",
       "  </thead>\n",
       "  <tbody>\n",
       "    <tr>\n",
       "      <th>0</th>\n",
       "      <td>1000_0</td>\n",
       "      <td>2018-06-27</td>\n",
       "      <td>1000</td>\n",
       "      <td>6</td>\n",
       "    </tr>\n",
       "    <tr>\n",
       "      <th>1</th>\n",
       "      <td>1000_1</td>\n",
       "      <td>2018-10-08</td>\n",
       "      <td>1000</td>\n",
       "      <td>10</td>\n",
       "    </tr>\n",
       "    <tr>\n",
       "      <th>2</th>\n",
       "      <td>1000_2</td>\n",
       "      <td>2018-08-04</td>\n",
       "      <td>1000</td>\n",
       "      <td>8</td>\n",
       "    </tr>\n",
       "    <tr>\n",
       "      <th>3</th>\n",
       "      <td>1000_3</td>\n",
       "      <td>2018-06-16</td>\n",
       "      <td>1000</td>\n",
       "      <td>6</td>\n",
       "    </tr>\n",
       "    <tr>\n",
       "      <th>4</th>\n",
       "      <td>1000_4</td>\n",
       "      <td>2018-12-05</td>\n",
       "      <td>1000</td>\n",
       "      <td>12</td>\n",
       "    </tr>\n",
       "    <tr>\n",
       "      <th>5</th>\n",
       "      <td>1000_5</td>\n",
       "      <td>2018-06-20</td>\n",
       "      <td>1000</td>\n",
       "      <td>6</td>\n",
       "    </tr>\n",
       "    <tr>\n",
       "      <th>6</th>\n",
       "      <td>1000_6</td>\n",
       "      <td>2018-11-19</td>\n",
       "      <td>1000</td>\n",
       "      <td>11</td>\n",
       "    </tr>\n",
       "    <tr>\n",
       "      <th>7</th>\n",
       "      <td>1000_7</td>\n",
       "      <td>2018-10-29</td>\n",
       "      <td>1000</td>\n",
       "      <td>10</td>\n",
       "    </tr>\n",
       "    <tr>\n",
       "      <th>8</th>\n",
       "      <td>1000_8</td>\n",
       "      <td>2018-06-25</td>\n",
       "      <td>1000</td>\n",
       "      <td>6</td>\n",
       "    </tr>\n",
       "    <tr>\n",
       "      <th>9</th>\n",
       "      <td>1000_9</td>\n",
       "      <td>2018-12-18</td>\n",
       "      <td>1000</td>\n",
       "      <td>12</td>\n",
       "    </tr>\n",
       "  </tbody>\n",
       "</table>\n",
       "</div>"
      ],
      "text/plain": [
       "       id message_date  user_id  month\n",
       "0  1000_0   2018-06-27     1000      6\n",
       "1  1000_1   2018-10-08     1000     10\n",
       "2  1000_2   2018-08-04     1000      8\n",
       "3  1000_3   2018-06-16     1000      6\n",
       "4  1000_4   2018-12-05     1000     12\n",
       "5  1000_5   2018-06-20     1000      6\n",
       "6  1000_6   2018-11-19     1000     11\n",
       "7  1000_7   2018-10-29     1000     10\n",
       "8  1000_8   2018-06-25     1000      6\n",
       "9  1000_9   2018-12-18     1000     12"
      ]
     },
     "execution_count": 21,
     "metadata": {},
     "output_type": "execute_result"
    }
   ],
   "source": [
    "messages.head(10)"
   ]
  },
  {
   "cell_type": "code",
   "execution_count": 22,
   "metadata": {
    "scrolled": true
   },
   "outputs": [
    {
     "data": {
      "text/html": [
       "<div>\n",
       "<style scoped>\n",
       "    .dataframe tbody tr th:only-of-type {\n",
       "        vertical-align: middle;\n",
       "    }\n",
       "\n",
       "    .dataframe tbody tr th {\n",
       "        vertical-align: top;\n",
       "    }\n",
       "\n",
       "    .dataframe thead th {\n",
       "        text-align: right;\n",
       "    }\n",
       "</style>\n",
       "<table border=\"1\" class=\"dataframe\">\n",
       "  <thead>\n",
       "    <tr style=\"text-align: right;\">\n",
       "      <th></th>\n",
       "      <th>user_id</th>\n",
       "      <th>month</th>\n",
       "      <th>messages</th>\n",
       "    </tr>\n",
       "  </thead>\n",
       "  <tbody>\n",
       "    <tr>\n",
       "      <th>0</th>\n",
       "      <td>1000</td>\n",
       "      <td>5</td>\n",
       "      <td>22</td>\n",
       "    </tr>\n",
       "    <tr>\n",
       "      <th>1</th>\n",
       "      <td>1000</td>\n",
       "      <td>6</td>\n",
       "      <td>60</td>\n",
       "    </tr>\n",
       "    <tr>\n",
       "      <th>2</th>\n",
       "      <td>1000</td>\n",
       "      <td>7</td>\n",
       "      <td>75</td>\n",
       "    </tr>\n",
       "    <tr>\n",
       "      <th>3</th>\n",
       "      <td>1000</td>\n",
       "      <td>8</td>\n",
       "      <td>81</td>\n",
       "    </tr>\n",
       "    <tr>\n",
       "      <th>4</th>\n",
       "      <td>1000</td>\n",
       "      <td>9</td>\n",
       "      <td>57</td>\n",
       "    </tr>\n",
       "    <tr>\n",
       "      <th>5</th>\n",
       "      <td>1000</td>\n",
       "      <td>10</td>\n",
       "      <td>73</td>\n",
       "    </tr>\n",
       "    <tr>\n",
       "      <th>6</th>\n",
       "      <td>1000</td>\n",
       "      <td>11</td>\n",
       "      <td>58</td>\n",
       "    </tr>\n",
       "    <tr>\n",
       "      <th>7</th>\n",
       "      <td>1000</td>\n",
       "      <td>12</td>\n",
       "      <td>70</td>\n",
       "    </tr>\n",
       "    <tr>\n",
       "      <th>8</th>\n",
       "      <td>1002</td>\n",
       "      <td>6</td>\n",
       "      <td>4</td>\n",
       "    </tr>\n",
       "    <tr>\n",
       "      <th>9</th>\n",
       "      <td>1002</td>\n",
       "      <td>7</td>\n",
       "      <td>11</td>\n",
       "    </tr>\n",
       "  </tbody>\n",
       "</table>\n",
       "</div>"
      ],
      "text/plain": [
       "   user_id  month  messages\n",
       "0     1000      5        22\n",
       "1     1000      6        60\n",
       "2     1000      7        75\n",
       "3     1000      8        81\n",
       "4     1000      9        57\n",
       "5     1000     10        73\n",
       "6     1000     11        58\n",
       "7     1000     12        70\n",
       "8     1002      6         4\n",
       "9     1002      7        11"
      ]
     },
     "execution_count": 22,
     "metadata": {},
     "output_type": "execute_result"
    }
   ],
   "source": [
    "#по пользователю и месяцу производим группировку с рассчетом количества отправленных сообщений\n",
    "\n",
    "group_message = messages.pivot_table(index=['user_id', 'month'], values='id', aggfunc='count').reset_index()\n",
    "group_message = group_message.rename(columns = {'user_id':'user_id', 'month':'month', 'id':'messages'})\n",
    "group_message.head(10)"
   ]
  },
  {
   "cell_type": "markdown",
   "metadata": {},
   "source": [
    "#### Объем израсходованного интернет-трафика по месяцам"
   ]
  },
  {
   "cell_type": "code",
   "execution_count": 23,
   "metadata": {},
   "outputs": [
    {
     "data": {
      "text/html": [
       "<div>\n",
       "<style scoped>\n",
       "    .dataframe tbody tr th:only-of-type {\n",
       "        vertical-align: middle;\n",
       "    }\n",
       "\n",
       "    .dataframe tbody tr th {\n",
       "        vertical-align: top;\n",
       "    }\n",
       "\n",
       "    .dataframe thead th {\n",
       "        text-align: right;\n",
       "    }\n",
       "</style>\n",
       "<table border=\"1\" class=\"dataframe\">\n",
       "  <thead>\n",
       "    <tr style=\"text-align: right;\">\n",
       "      <th></th>\n",
       "      <th>id</th>\n",
       "      <th>mb_used</th>\n",
       "      <th>session_date</th>\n",
       "      <th>user_id</th>\n",
       "      <th>month</th>\n",
       "    </tr>\n",
       "  </thead>\n",
       "  <tbody>\n",
       "    <tr>\n",
       "      <th>0</th>\n",
       "      <td>1000_0</td>\n",
       "      <td>112.95</td>\n",
       "      <td>2018-11-25</td>\n",
       "      <td>1000</td>\n",
       "      <td>11</td>\n",
       "    </tr>\n",
       "    <tr>\n",
       "      <th>1</th>\n",
       "      <td>1000_1</td>\n",
       "      <td>1052.81</td>\n",
       "      <td>2018-09-07</td>\n",
       "      <td>1000</td>\n",
       "      <td>9</td>\n",
       "    </tr>\n",
       "    <tr>\n",
       "      <th>2</th>\n",
       "      <td>1000_2</td>\n",
       "      <td>1197.26</td>\n",
       "      <td>2018-06-25</td>\n",
       "      <td>1000</td>\n",
       "      <td>6</td>\n",
       "    </tr>\n",
       "    <tr>\n",
       "      <th>3</th>\n",
       "      <td>1000_3</td>\n",
       "      <td>550.27</td>\n",
       "      <td>2018-08-22</td>\n",
       "      <td>1000</td>\n",
       "      <td>8</td>\n",
       "    </tr>\n",
       "    <tr>\n",
       "      <th>4</th>\n",
       "      <td>1000_4</td>\n",
       "      <td>302.56</td>\n",
       "      <td>2018-09-24</td>\n",
       "      <td>1000</td>\n",
       "      <td>9</td>\n",
       "    </tr>\n",
       "  </tbody>\n",
       "</table>\n",
       "</div>"
      ],
      "text/plain": [
       "       id  mb_used session_date  user_id  month\n",
       "0  1000_0   112.95   2018-11-25     1000     11\n",
       "1  1000_1  1052.81   2018-09-07     1000      9\n",
       "2  1000_2  1197.26   2018-06-25     1000      6\n",
       "3  1000_3   550.27   2018-08-22     1000      8\n",
       "4  1000_4   302.56   2018-09-24     1000      9"
      ]
     },
     "execution_count": 23,
     "metadata": {},
     "output_type": "execute_result"
    }
   ],
   "source": [
    "# для работы добавляем столбец с обозначением месяца\n",
    "internet['month'] = internet['session_date'].dt.month\n",
    "internet.head()"
   ]
  },
  {
   "cell_type": "code",
   "execution_count": 24,
   "metadata": {},
   "outputs": [
    {
     "data": {
      "text/html": [
       "<div>\n",
       "<style scoped>\n",
       "    .dataframe tbody tr th:only-of-type {\n",
       "        vertical-align: middle;\n",
       "    }\n",
       "\n",
       "    .dataframe tbody tr th {\n",
       "        vertical-align: top;\n",
       "    }\n",
       "\n",
       "    .dataframe thead th {\n",
       "        text-align: right;\n",
       "    }\n",
       "</style>\n",
       "<table border=\"1\" class=\"dataframe\">\n",
       "  <thead>\n",
       "    <tr style=\"text-align: right;\">\n",
       "      <th></th>\n",
       "      <th>user_id</th>\n",
       "      <th>month</th>\n",
       "      <th>mb_used</th>\n",
       "    </tr>\n",
       "  </thead>\n",
       "  <tbody>\n",
       "    <tr>\n",
       "      <th>0</th>\n",
       "      <td>1000</td>\n",
       "      <td>5</td>\n",
       "      <td>2253.49</td>\n",
       "    </tr>\n",
       "    <tr>\n",
       "      <th>1</th>\n",
       "      <td>1000</td>\n",
       "      <td>6</td>\n",
       "      <td>23233.77</td>\n",
       "    </tr>\n",
       "    <tr>\n",
       "      <th>2</th>\n",
       "      <td>1000</td>\n",
       "      <td>7</td>\n",
       "      <td>14003.64</td>\n",
       "    </tr>\n",
       "    <tr>\n",
       "      <th>3</th>\n",
       "      <td>1000</td>\n",
       "      <td>8</td>\n",
       "      <td>14055.93</td>\n",
       "    </tr>\n",
       "    <tr>\n",
       "      <th>4</th>\n",
       "      <td>1000</td>\n",
       "      <td>9</td>\n",
       "      <td>14568.91</td>\n",
       "    </tr>\n",
       "    <tr>\n",
       "      <th>5</th>\n",
       "      <td>1000</td>\n",
       "      <td>10</td>\n",
       "      <td>14702.49</td>\n",
       "    </tr>\n",
       "    <tr>\n",
       "      <th>6</th>\n",
       "      <td>1000</td>\n",
       "      <td>11</td>\n",
       "      <td>14756.47</td>\n",
       "    </tr>\n",
       "    <tr>\n",
       "      <th>7</th>\n",
       "      <td>1000</td>\n",
       "      <td>12</td>\n",
       "      <td>9817.61</td>\n",
       "    </tr>\n",
       "    <tr>\n",
       "      <th>8</th>\n",
       "      <td>1001</td>\n",
       "      <td>11</td>\n",
       "      <td>18429.34</td>\n",
       "    </tr>\n",
       "    <tr>\n",
       "      <th>9</th>\n",
       "      <td>1001</td>\n",
       "      <td>12</td>\n",
       "      <td>14036.66</td>\n",
       "    </tr>\n",
       "    <tr>\n",
       "      <th>10</th>\n",
       "      <td>1002</td>\n",
       "      <td>6</td>\n",
       "      <td>10856.82</td>\n",
       "    </tr>\n",
       "    <tr>\n",
       "      <th>11</th>\n",
       "      <td>1002</td>\n",
       "      <td>7</td>\n",
       "      <td>17580.10</td>\n",
       "    </tr>\n",
       "    <tr>\n",
       "      <th>12</th>\n",
       "      <td>1002</td>\n",
       "      <td>8</td>\n",
       "      <td>20319.26</td>\n",
       "    </tr>\n",
       "    <tr>\n",
       "      <th>13</th>\n",
       "      <td>1002</td>\n",
       "      <td>9</td>\n",
       "      <td>16691.08</td>\n",
       "    </tr>\n",
       "    <tr>\n",
       "      <th>14</th>\n",
       "      <td>1002</td>\n",
       "      <td>10</td>\n",
       "      <td>13888.25</td>\n",
       "    </tr>\n",
       "    <tr>\n",
       "      <th>15</th>\n",
       "      <td>1002</td>\n",
       "      <td>11</td>\n",
       "      <td>18587.28</td>\n",
       "    </tr>\n",
       "  </tbody>\n",
       "</table>\n",
       "</div>"
      ],
      "text/plain": [
       "    user_id  month   mb_used\n",
       "0      1000      5   2253.49\n",
       "1      1000      6  23233.77\n",
       "2      1000      7  14003.64\n",
       "3      1000      8  14055.93\n",
       "4      1000      9  14568.91\n",
       "5      1000     10  14702.49\n",
       "6      1000     11  14756.47\n",
       "7      1000     12   9817.61\n",
       "8      1001     11  18429.34\n",
       "9      1001     12  14036.66\n",
       "10     1002      6  10856.82\n",
       "11     1002      7  17580.10\n",
       "12     1002      8  20319.26\n",
       "13     1002      9  16691.08\n",
       "14     1002     10  13888.25\n",
       "15     1002     11  18587.28"
      ]
     },
     "execution_count": 24,
     "metadata": {},
     "output_type": "execute_result"
    }
   ],
   "source": [
    "#по пользователю и месяцу производим группировку с объема трафика\n",
    "\n",
    "#internet.head()\n",
    "group_internet = internet.pivot_table(index=['user_id', 'month'], values='mb_used', aggfunc='sum').reset_index()\n",
    "\n",
    "\n",
    "group_internet.head(16)"
   ]
  },
  {
   "cell_type": "markdown",
   "metadata": {},
   "source": [
    "#### Помесячная выручка с каждого пользователя (вычтите бесплатный лимит из суммарного количества звонков, сообщений и интернет-трафика"
   ]
  },
  {
   "cell_type": "code",
   "execution_count": 25,
   "metadata": {},
   "outputs": [
    {
     "data": {
      "text/html": [
       "<div>\n",
       "<style scoped>\n",
       "    .dataframe tbody tr th:only-of-type {\n",
       "        vertical-align: middle;\n",
       "    }\n",
       "\n",
       "    .dataframe tbody tr th {\n",
       "        vertical-align: top;\n",
       "    }\n",
       "\n",
       "    .dataframe thead th {\n",
       "        text-align: right;\n",
       "    }\n",
       "</style>\n",
       "<table border=\"1\" class=\"dataframe\">\n",
       "  <thead>\n",
       "    <tr style=\"text-align: right;\">\n",
       "      <th></th>\n",
       "      <th>user_id</th>\n",
       "      <th>tariff</th>\n",
       "    </tr>\n",
       "  </thead>\n",
       "  <tbody>\n",
       "    <tr>\n",
       "      <th>0</th>\n",
       "      <td>1000</td>\n",
       "      <td>ultra</td>\n",
       "    </tr>\n",
       "    <tr>\n",
       "      <th>1</th>\n",
       "      <td>1001</td>\n",
       "      <td>smart</td>\n",
       "    </tr>\n",
       "    <tr>\n",
       "      <th>2</th>\n",
       "      <td>1002</td>\n",
       "      <td>smart</td>\n",
       "    </tr>\n",
       "    <tr>\n",
       "      <th>3</th>\n",
       "      <td>1003</td>\n",
       "      <td>ultra</td>\n",
       "    </tr>\n",
       "    <tr>\n",
       "      <th>4</th>\n",
       "      <td>1004</td>\n",
       "      <td>ultra</td>\n",
       "    </tr>\n",
       "  </tbody>\n",
       "</table>\n",
       "</div>"
      ],
      "text/plain": [
       "   user_id tariff\n",
       "0     1000  ultra\n",
       "1     1001  smart\n",
       "2     1002  smart\n",
       "3     1003  ultra\n",
       "4     1004  ultra"
      ]
     },
     "execution_count": 25,
     "metadata": {},
     "output_type": "execute_result"
    }
   ],
   "source": [
    "# оставляем значение пользователя и тарифа\n",
    "users_1 = users[['user_id', 'tariff']]\n",
    "users_1.head()"
   ]
  },
  {
   "cell_type": "code",
   "execution_count": 26,
   "metadata": {},
   "outputs": [],
   "source": [
    "#mediumm = pd.merge(users_1, group_calls, on=('user_id'), how='left').reset_index()\n",
    "medium_table = pd.merge(group_calls, group_message, on=['user_id', 'month'], how='outer').reset_index(drop=True)"
   ]
  },
  {
   "cell_type": "code",
   "execution_count": 27,
   "metadata": {},
   "outputs": [
    {
     "data": {
      "text/html": [
       "<div>\n",
       "<style scoped>\n",
       "    .dataframe tbody tr th:only-of-type {\n",
       "        vertical-align: middle;\n",
       "    }\n",
       "\n",
       "    .dataframe tbody tr th {\n",
       "        vertical-align: top;\n",
       "    }\n",
       "\n",
       "    .dataframe thead th {\n",
       "        text-align: right;\n",
       "    }\n",
       "</style>\n",
       "<table border=\"1\" class=\"dataframe\">\n",
       "  <thead>\n",
       "    <tr style=\"text-align: right;\">\n",
       "      <th></th>\n",
       "      <th>user_id</th>\n",
       "      <th>month</th>\n",
       "      <th>duration</th>\n",
       "      <th>calls</th>\n",
       "      <th>messages</th>\n",
       "    </tr>\n",
       "  </thead>\n",
       "  <tbody>\n",
       "    <tr>\n",
       "      <th>0</th>\n",
       "      <td>1000</td>\n",
       "      <td>5</td>\n",
       "      <td>159.0</td>\n",
       "      <td>22.0</td>\n",
       "      <td>22.0</td>\n",
       "    </tr>\n",
       "    <tr>\n",
       "      <th>1</th>\n",
       "      <td>1000</td>\n",
       "      <td>6</td>\n",
       "      <td>172.0</td>\n",
       "      <td>43.0</td>\n",
       "      <td>60.0</td>\n",
       "    </tr>\n",
       "    <tr>\n",
       "      <th>2</th>\n",
       "      <td>1000</td>\n",
       "      <td>7</td>\n",
       "      <td>340.0</td>\n",
       "      <td>47.0</td>\n",
       "      <td>75.0</td>\n",
       "    </tr>\n",
       "    <tr>\n",
       "      <th>3</th>\n",
       "      <td>1000</td>\n",
       "      <td>8</td>\n",
       "      <td>408.0</td>\n",
       "      <td>52.0</td>\n",
       "      <td>81.0</td>\n",
       "    </tr>\n",
       "    <tr>\n",
       "      <th>4</th>\n",
       "      <td>1000</td>\n",
       "      <td>9</td>\n",
       "      <td>466.0</td>\n",
       "      <td>58.0</td>\n",
       "      <td>57.0</td>\n",
       "    </tr>\n",
       "  </tbody>\n",
       "</table>\n",
       "</div>"
      ],
      "text/plain": [
       "   user_id  month  duration  calls  messages\n",
       "0     1000      5     159.0   22.0      22.0\n",
       "1     1000      6     172.0   43.0      60.0\n",
       "2     1000      7     340.0   47.0      75.0\n",
       "3     1000      8     408.0   52.0      81.0\n",
       "4     1000      9     466.0   58.0      57.0"
      ]
     },
     "execution_count": 27,
     "metadata": {},
     "output_type": "execute_result"
    }
   ],
   "source": [
    "medium_table.head()"
   ]
  },
  {
   "cell_type": "code",
   "execution_count": 28,
   "metadata": {},
   "outputs": [],
   "source": [
    "mediummm = pd.merge(medium_table, group_internet, on=['user_id', 'month'], how='outer').reset_index(drop=True)"
   ]
  },
  {
   "cell_type": "code",
   "execution_count": 29,
   "metadata": {},
   "outputs": [
    {
     "data": {
      "text/html": [
       "<div>\n",
       "<style scoped>\n",
       "    .dataframe tbody tr th:only-of-type {\n",
       "        vertical-align: middle;\n",
       "    }\n",
       "\n",
       "    .dataframe tbody tr th {\n",
       "        vertical-align: top;\n",
       "    }\n",
       "\n",
       "    .dataframe thead th {\n",
       "        text-align: right;\n",
       "    }\n",
       "</style>\n",
       "<table border=\"1\" class=\"dataframe\">\n",
       "  <thead>\n",
       "    <tr style=\"text-align: right;\">\n",
       "      <th></th>\n",
       "      <th>user_id</th>\n",
       "      <th>month</th>\n",
       "      <th>duration</th>\n",
       "      <th>calls</th>\n",
       "      <th>messages</th>\n",
       "      <th>mb_used</th>\n",
       "    </tr>\n",
       "  </thead>\n",
       "  <tbody>\n",
       "    <tr>\n",
       "      <th>0</th>\n",
       "      <td>1000</td>\n",
       "      <td>5</td>\n",
       "      <td>159.0</td>\n",
       "      <td>22.0</td>\n",
       "      <td>22.0</td>\n",
       "      <td>2253.49</td>\n",
       "    </tr>\n",
       "    <tr>\n",
       "      <th>1</th>\n",
       "      <td>1000</td>\n",
       "      <td>6</td>\n",
       "      <td>172.0</td>\n",
       "      <td>43.0</td>\n",
       "      <td>60.0</td>\n",
       "      <td>23233.77</td>\n",
       "    </tr>\n",
       "    <tr>\n",
       "      <th>2</th>\n",
       "      <td>1000</td>\n",
       "      <td>7</td>\n",
       "      <td>340.0</td>\n",
       "      <td>47.0</td>\n",
       "      <td>75.0</td>\n",
       "      <td>14003.64</td>\n",
       "    </tr>\n",
       "    <tr>\n",
       "      <th>3</th>\n",
       "      <td>1000</td>\n",
       "      <td>8</td>\n",
       "      <td>408.0</td>\n",
       "      <td>52.0</td>\n",
       "      <td>81.0</td>\n",
       "      <td>14055.93</td>\n",
       "    </tr>\n",
       "    <tr>\n",
       "      <th>4</th>\n",
       "      <td>1000</td>\n",
       "      <td>9</td>\n",
       "      <td>466.0</td>\n",
       "      <td>58.0</td>\n",
       "      <td>57.0</td>\n",
       "      <td>14568.91</td>\n",
       "    </tr>\n",
       "  </tbody>\n",
       "</table>\n",
       "</div>"
      ],
      "text/plain": [
       "   user_id  month  duration  calls  messages   mb_used\n",
       "0     1000      5     159.0   22.0      22.0   2253.49\n",
       "1     1000      6     172.0   43.0      60.0  23233.77\n",
       "2     1000      7     340.0   47.0      75.0  14003.64\n",
       "3     1000      8     408.0   52.0      81.0  14055.93\n",
       "4     1000      9     466.0   58.0      57.0  14568.91"
      ]
     },
     "execution_count": 29,
     "metadata": {},
     "output_type": "execute_result"
    }
   ],
   "source": [
    "mediummm.head()"
   ]
  },
  {
   "cell_type": "code",
   "execution_count": 30,
   "metadata": {},
   "outputs": [],
   "source": [
    "final_data = pd.merge(mediummm, users_1, on='user_id', how='outer').reset_index(drop=True)"
   ]
  },
  {
   "cell_type": "code",
   "execution_count": 31,
   "metadata": {
    "scrolled": true
   },
   "outputs": [
    {
     "data": {
      "text/html": [
       "<div>\n",
       "<style scoped>\n",
       "    .dataframe tbody tr th:only-of-type {\n",
       "        vertical-align: middle;\n",
       "    }\n",
       "\n",
       "    .dataframe tbody tr th {\n",
       "        vertical-align: top;\n",
       "    }\n",
       "\n",
       "    .dataframe thead th {\n",
       "        text-align: right;\n",
       "    }\n",
       "</style>\n",
       "<table border=\"1\" class=\"dataframe\">\n",
       "  <thead>\n",
       "    <tr style=\"text-align: right;\">\n",
       "      <th></th>\n",
       "      <th>user_id</th>\n",
       "      <th>month</th>\n",
       "      <th>duration</th>\n",
       "      <th>calls</th>\n",
       "      <th>messages</th>\n",
       "      <th>mb_used</th>\n",
       "      <th>tariff</th>\n",
       "    </tr>\n",
       "  </thead>\n",
       "  <tbody>\n",
       "    <tr>\n",
       "      <th>0</th>\n",
       "      <td>1000</td>\n",
       "      <td>5.0</td>\n",
       "      <td>159.0</td>\n",
       "      <td>22.0</td>\n",
       "      <td>22.0</td>\n",
       "      <td>2253.49</td>\n",
       "      <td>ultra</td>\n",
       "    </tr>\n",
       "    <tr>\n",
       "      <th>1</th>\n",
       "      <td>1000</td>\n",
       "      <td>6.0</td>\n",
       "      <td>172.0</td>\n",
       "      <td>43.0</td>\n",
       "      <td>60.0</td>\n",
       "      <td>23233.77</td>\n",
       "      <td>ultra</td>\n",
       "    </tr>\n",
       "    <tr>\n",
       "      <th>2</th>\n",
       "      <td>1000</td>\n",
       "      <td>7.0</td>\n",
       "      <td>340.0</td>\n",
       "      <td>47.0</td>\n",
       "      <td>75.0</td>\n",
       "      <td>14003.64</td>\n",
       "      <td>ultra</td>\n",
       "    </tr>\n",
       "    <tr>\n",
       "      <th>3</th>\n",
       "      <td>1000</td>\n",
       "      <td>8.0</td>\n",
       "      <td>408.0</td>\n",
       "      <td>52.0</td>\n",
       "      <td>81.0</td>\n",
       "      <td>14055.93</td>\n",
       "      <td>ultra</td>\n",
       "    </tr>\n",
       "    <tr>\n",
       "      <th>4</th>\n",
       "      <td>1000</td>\n",
       "      <td>9.0</td>\n",
       "      <td>466.0</td>\n",
       "      <td>58.0</td>\n",
       "      <td>57.0</td>\n",
       "      <td>14568.91</td>\n",
       "      <td>ultra</td>\n",
       "    </tr>\n",
       "    <tr>\n",
       "      <th>5</th>\n",
       "      <td>1000</td>\n",
       "      <td>10.0</td>\n",
       "      <td>350.0</td>\n",
       "      <td>57.0</td>\n",
       "      <td>73.0</td>\n",
       "      <td>14702.49</td>\n",
       "      <td>ultra</td>\n",
       "    </tr>\n",
       "    <tr>\n",
       "      <th>6</th>\n",
       "      <td>1000</td>\n",
       "      <td>11.0</td>\n",
       "      <td>338.0</td>\n",
       "      <td>43.0</td>\n",
       "      <td>58.0</td>\n",
       "      <td>14756.47</td>\n",
       "      <td>ultra</td>\n",
       "    </tr>\n",
       "    <tr>\n",
       "      <th>7</th>\n",
       "      <td>1000</td>\n",
       "      <td>12.0</td>\n",
       "      <td>333.0</td>\n",
       "      <td>46.0</td>\n",
       "      <td>70.0</td>\n",
       "      <td>9817.61</td>\n",
       "      <td>ultra</td>\n",
       "    </tr>\n",
       "    <tr>\n",
       "      <th>8</th>\n",
       "      <td>1001</td>\n",
       "      <td>11.0</td>\n",
       "      <td>430.0</td>\n",
       "      <td>59.0</td>\n",
       "      <td>NaN</td>\n",
       "      <td>18429.34</td>\n",
       "      <td>smart</td>\n",
       "    </tr>\n",
       "    <tr>\n",
       "      <th>9</th>\n",
       "      <td>1001</td>\n",
       "      <td>12.0</td>\n",
       "      <td>414.0</td>\n",
       "      <td>63.0</td>\n",
       "      <td>NaN</td>\n",
       "      <td>14036.66</td>\n",
       "      <td>smart</td>\n",
       "    </tr>\n",
       "    <tr>\n",
       "      <th>10</th>\n",
       "      <td>1002</td>\n",
       "      <td>6.0</td>\n",
       "      <td>117.0</td>\n",
       "      <td>15.0</td>\n",
       "      <td>4.0</td>\n",
       "      <td>10856.82</td>\n",
       "      <td>smart</td>\n",
       "    </tr>\n",
       "    <tr>\n",
       "      <th>11</th>\n",
       "      <td>1002</td>\n",
       "      <td>7.0</td>\n",
       "      <td>214.0</td>\n",
       "      <td>26.0</td>\n",
       "      <td>11.0</td>\n",
       "      <td>17580.10</td>\n",
       "      <td>smart</td>\n",
       "    </tr>\n",
       "    <tr>\n",
       "      <th>12</th>\n",
       "      <td>1002</td>\n",
       "      <td>8.0</td>\n",
       "      <td>289.0</td>\n",
       "      <td>42.0</td>\n",
       "      <td>13.0</td>\n",
       "      <td>20319.26</td>\n",
       "      <td>smart</td>\n",
       "    </tr>\n",
       "    <tr>\n",
       "      <th>13</th>\n",
       "      <td>1002</td>\n",
       "      <td>9.0</td>\n",
       "      <td>206.0</td>\n",
       "      <td>36.0</td>\n",
       "      <td>4.0</td>\n",
       "      <td>16691.08</td>\n",
       "      <td>smart</td>\n",
       "    </tr>\n",
       "    <tr>\n",
       "      <th>14</th>\n",
       "      <td>1002</td>\n",
       "      <td>10.0</td>\n",
       "      <td>212.0</td>\n",
       "      <td>33.0</td>\n",
       "      <td>10.0</td>\n",
       "      <td>13888.25</td>\n",
       "      <td>smart</td>\n",
       "    </tr>\n",
       "  </tbody>\n",
       "</table>\n",
       "</div>"
      ],
      "text/plain": [
       "    user_id  month  duration  calls  messages   mb_used tariff\n",
       "0      1000    5.0     159.0   22.0      22.0   2253.49  ultra\n",
       "1      1000    6.0     172.0   43.0      60.0  23233.77  ultra\n",
       "2      1000    7.0     340.0   47.0      75.0  14003.64  ultra\n",
       "3      1000    8.0     408.0   52.0      81.0  14055.93  ultra\n",
       "4      1000    9.0     466.0   58.0      57.0  14568.91  ultra\n",
       "5      1000   10.0     350.0   57.0      73.0  14702.49  ultra\n",
       "6      1000   11.0     338.0   43.0      58.0  14756.47  ultra\n",
       "7      1000   12.0     333.0   46.0      70.0   9817.61  ultra\n",
       "8      1001   11.0     430.0   59.0       NaN  18429.34  smart\n",
       "9      1001   12.0     414.0   63.0       NaN  14036.66  smart\n",
       "10     1002    6.0     117.0   15.0       4.0  10856.82  smart\n",
       "11     1002    7.0     214.0   26.0      11.0  17580.10  smart\n",
       "12     1002    8.0     289.0   42.0      13.0  20319.26  smart\n",
       "13     1002    9.0     206.0   36.0       4.0  16691.08  smart\n",
       "14     1002   10.0     212.0   33.0      10.0  13888.25  smart"
      ]
     },
     "execution_count": 31,
     "metadata": {},
     "output_type": "execute_result"
    }
   ],
   "source": [
    "final_data.head(15)"
   ]
  },
  {
   "cell_type": "code",
   "execution_count": 32,
   "metadata": {},
   "outputs": [
    {
     "data": {
      "text/plain": [
       "1450301.0"
      ]
     },
     "execution_count": 32,
     "metadata": {},
     "output_type": "execute_result"
    }
   ],
   "source": [
    "final_data['duration'].sum()"
   ]
  },
  {
   "cell_type": "code",
   "execution_count": 33,
   "metadata": {},
   "outputs": [
    {
     "data": {
      "text/plain": [
       "1450301.0"
      ]
     },
     "execution_count": 33,
     "metadata": {},
     "output_type": "execute_result"
    }
   ],
   "source": [
    "calls['duration'].sum()"
   ]
  },
  {
   "cell_type": "code",
   "execution_count": 34,
   "metadata": {},
   "outputs": [
    {
     "data": {
      "text/plain": [
       "55305267.73"
      ]
     },
     "execution_count": 34,
     "metadata": {},
     "output_type": "execute_result"
    }
   ],
   "source": [
    "final_data['mb_used'].sum()"
   ]
  },
  {
   "cell_type": "code",
   "execution_count": 35,
   "metadata": {},
   "outputs": [
    {
     "data": {
      "text/plain": [
       "55305267.73"
      ]
     },
     "execution_count": 35,
     "metadata": {},
     "output_type": "execute_result"
    }
   ],
   "source": [
    "internet['mb_used'].sum()"
   ]
  },
  {
   "cell_type": "code",
   "execution_count": 36,
   "metadata": {},
   "outputs": [
    {
     "data": {
      "text/plain": [
       "123036.0"
      ]
     },
     "execution_count": 36,
     "metadata": {},
     "output_type": "execute_result"
    }
   ],
   "source": [
    "final_data['messages'].sum()"
   ]
  },
  {
   "cell_type": "code",
   "execution_count": 37,
   "metadata": {},
   "outputs": [
    {
     "data": {
      "text/plain": [
       "123036"
      ]
     },
     "execution_count": 37,
     "metadata": {},
     "output_type": "execute_result"
    }
   ],
   "source": [
    "messages['id'].count()"
   ]
  },
  {
   "cell_type": "code",
   "execution_count": 38,
   "metadata": {
    "scrolled": true
   },
   "outputs": [
    {
     "data": {
      "text/html": [
       "<div>\n",
       "<style scoped>\n",
       "    .dataframe tbody tr th:only-of-type {\n",
       "        vertical-align: middle;\n",
       "    }\n",
       "\n",
       "    .dataframe tbody tr th {\n",
       "        vertical-align: top;\n",
       "    }\n",
       "\n",
       "    .dataframe thead th {\n",
       "        text-align: right;\n",
       "    }\n",
       "</style>\n",
       "<table border=\"1\" class=\"dataframe\">\n",
       "  <thead>\n",
       "    <tr style=\"text-align: right;\">\n",
       "      <th></th>\n",
       "      <th>user_id</th>\n",
       "      <th>month</th>\n",
       "      <th>duration</th>\n",
       "      <th>calls</th>\n",
       "      <th>messages</th>\n",
       "      <th>mb_used</th>\n",
       "      <th>tariff</th>\n",
       "    </tr>\n",
       "  </thead>\n",
       "  <tbody>\n",
       "    <tr>\n",
       "      <th>0</th>\n",
       "      <td>1000</td>\n",
       "      <td>5.0</td>\n",
       "      <td>159.0</td>\n",
       "      <td>22.0</td>\n",
       "      <td>22.0</td>\n",
       "      <td>2253.49</td>\n",
       "      <td>ultra</td>\n",
       "    </tr>\n",
       "    <tr>\n",
       "      <th>1</th>\n",
       "      <td>1000</td>\n",
       "      <td>6.0</td>\n",
       "      <td>172.0</td>\n",
       "      <td>43.0</td>\n",
       "      <td>60.0</td>\n",
       "      <td>23233.77</td>\n",
       "      <td>ultra</td>\n",
       "    </tr>\n",
       "    <tr>\n",
       "      <th>2</th>\n",
       "      <td>1000</td>\n",
       "      <td>7.0</td>\n",
       "      <td>340.0</td>\n",
       "      <td>47.0</td>\n",
       "      <td>75.0</td>\n",
       "      <td>14003.64</td>\n",
       "      <td>ultra</td>\n",
       "    </tr>\n",
       "    <tr>\n",
       "      <th>3</th>\n",
       "      <td>1000</td>\n",
       "      <td>8.0</td>\n",
       "      <td>408.0</td>\n",
       "      <td>52.0</td>\n",
       "      <td>81.0</td>\n",
       "      <td>14055.93</td>\n",
       "      <td>ultra</td>\n",
       "    </tr>\n",
       "    <tr>\n",
       "      <th>4</th>\n",
       "      <td>1000</td>\n",
       "      <td>9.0</td>\n",
       "      <td>466.0</td>\n",
       "      <td>58.0</td>\n",
       "      <td>57.0</td>\n",
       "      <td>14568.91</td>\n",
       "      <td>ultra</td>\n",
       "    </tr>\n",
       "    <tr>\n",
       "      <th>5</th>\n",
       "      <td>1000</td>\n",
       "      <td>10.0</td>\n",
       "      <td>350.0</td>\n",
       "      <td>57.0</td>\n",
       "      <td>73.0</td>\n",
       "      <td>14702.49</td>\n",
       "      <td>ultra</td>\n",
       "    </tr>\n",
       "    <tr>\n",
       "      <th>6</th>\n",
       "      <td>1000</td>\n",
       "      <td>11.0</td>\n",
       "      <td>338.0</td>\n",
       "      <td>43.0</td>\n",
       "      <td>58.0</td>\n",
       "      <td>14756.47</td>\n",
       "      <td>ultra</td>\n",
       "    </tr>\n",
       "    <tr>\n",
       "      <th>7</th>\n",
       "      <td>1000</td>\n",
       "      <td>12.0</td>\n",
       "      <td>333.0</td>\n",
       "      <td>46.0</td>\n",
       "      <td>70.0</td>\n",
       "      <td>9817.61</td>\n",
       "      <td>ultra</td>\n",
       "    </tr>\n",
       "    <tr>\n",
       "      <th>8</th>\n",
       "      <td>1001</td>\n",
       "      <td>11.0</td>\n",
       "      <td>430.0</td>\n",
       "      <td>59.0</td>\n",
       "      <td>NaN</td>\n",
       "      <td>18429.34</td>\n",
       "      <td>smart</td>\n",
       "    </tr>\n",
       "    <tr>\n",
       "      <th>9</th>\n",
       "      <td>1001</td>\n",
       "      <td>12.0</td>\n",
       "      <td>414.0</td>\n",
       "      <td>63.0</td>\n",
       "      <td>NaN</td>\n",
       "      <td>14036.66</td>\n",
       "      <td>smart</td>\n",
       "    </tr>\n",
       "    <tr>\n",
       "      <th>10</th>\n",
       "      <td>1002</td>\n",
       "      <td>6.0</td>\n",
       "      <td>117.0</td>\n",
       "      <td>15.0</td>\n",
       "      <td>4.0</td>\n",
       "      <td>10856.82</td>\n",
       "      <td>smart</td>\n",
       "    </tr>\n",
       "    <tr>\n",
       "      <th>11</th>\n",
       "      <td>1002</td>\n",
       "      <td>7.0</td>\n",
       "      <td>214.0</td>\n",
       "      <td>26.0</td>\n",
       "      <td>11.0</td>\n",
       "      <td>17580.10</td>\n",
       "      <td>smart</td>\n",
       "    </tr>\n",
       "    <tr>\n",
       "      <th>12</th>\n",
       "      <td>1002</td>\n",
       "      <td>8.0</td>\n",
       "      <td>289.0</td>\n",
       "      <td>42.0</td>\n",
       "      <td>13.0</td>\n",
       "      <td>20319.26</td>\n",
       "      <td>smart</td>\n",
       "    </tr>\n",
       "    <tr>\n",
       "      <th>13</th>\n",
       "      <td>1002</td>\n",
       "      <td>9.0</td>\n",
       "      <td>206.0</td>\n",
       "      <td>36.0</td>\n",
       "      <td>4.0</td>\n",
       "      <td>16691.08</td>\n",
       "      <td>smart</td>\n",
       "    </tr>\n",
       "    <tr>\n",
       "      <th>14</th>\n",
       "      <td>1002</td>\n",
       "      <td>10.0</td>\n",
       "      <td>212.0</td>\n",
       "      <td>33.0</td>\n",
       "      <td>10.0</td>\n",
       "      <td>13888.25</td>\n",
       "      <td>smart</td>\n",
       "    </tr>\n",
       "  </tbody>\n",
       "</table>\n",
       "</div>"
      ],
      "text/plain": [
       "    user_id  month  duration  calls  messages   mb_used tariff\n",
       "0      1000    5.0     159.0   22.0      22.0   2253.49  ultra\n",
       "1      1000    6.0     172.0   43.0      60.0  23233.77  ultra\n",
       "2      1000    7.0     340.0   47.0      75.0  14003.64  ultra\n",
       "3      1000    8.0     408.0   52.0      81.0  14055.93  ultra\n",
       "4      1000    9.0     466.0   58.0      57.0  14568.91  ultra\n",
       "5      1000   10.0     350.0   57.0      73.0  14702.49  ultra\n",
       "6      1000   11.0     338.0   43.0      58.0  14756.47  ultra\n",
       "7      1000   12.0     333.0   46.0      70.0   9817.61  ultra\n",
       "8      1001   11.0     430.0   59.0       NaN  18429.34  smart\n",
       "9      1001   12.0     414.0   63.0       NaN  14036.66  smart\n",
       "10     1002    6.0     117.0   15.0       4.0  10856.82  smart\n",
       "11     1002    7.0     214.0   26.0      11.0  17580.10  smart\n",
       "12     1002    8.0     289.0   42.0      13.0  20319.26  smart\n",
       "13     1002    9.0     206.0   36.0       4.0  16691.08  smart\n",
       "14     1002   10.0     212.0   33.0      10.0  13888.25  smart"
      ]
     },
     "execution_count": 38,
     "metadata": {},
     "output_type": "execute_result"
    }
   ],
   "source": [
    "final_data.head(15)"
   ]
  },
  {
   "cell_type": "markdown",
   "metadata": {},
   "source": [
    "Для того, чтобы дальнейшая функция корректно работала я предлагаю заменить пропущенные значения на 0. Считаю, что это вполне корректно, ведь если значение Nan или 0 - получается, что человек не пользовался либо звонками, либо интернетом, либо сообщениями."
   ]
  },
  {
   "cell_type": "markdown",
   "metadata": {},
   "source": [
    "Проверяем в каких столбцах у нас присутствуют пропуски для того, чтобы заменить их на 0"
   ]
  },
  {
   "cell_type": "code",
   "execution_count": 39,
   "metadata": {},
   "outputs": [
    {
     "data": {
      "text/plain": [
       "user_id       0\n",
       "month         2\n",
       "duration     42\n",
       "calls        42\n",
       "messages    499\n",
       "mb_used      13\n",
       "tariff        0\n",
       "dtype: int64"
      ]
     },
     "execution_count": 39,
     "metadata": {},
     "output_type": "execute_result"
    }
   ],
   "source": [
    "# проверяем в каких столбцах у нас присутствуют пропуски для того, чтобы заменить их на 0\n",
    "final_data.isna().sum()\n"
   ]
  },
  {
   "cell_type": "code",
   "execution_count": 40,
   "metadata": {
    "scrolled": true
   },
   "outputs": [
    {
     "data": {
      "text/html": [
       "<div>\n",
       "<style scoped>\n",
       "    .dataframe tbody tr th:only-of-type {\n",
       "        vertical-align: middle;\n",
       "    }\n",
       "\n",
       "    .dataframe tbody tr th {\n",
       "        vertical-align: top;\n",
       "    }\n",
       "\n",
       "    .dataframe thead th {\n",
       "        text-align: right;\n",
       "    }\n",
       "</style>\n",
       "<table border=\"1\" class=\"dataframe\">\n",
       "  <thead>\n",
       "    <tr style=\"text-align: right;\">\n",
       "      <th></th>\n",
       "      <th>user_id</th>\n",
       "      <th>month</th>\n",
       "      <th>duration</th>\n",
       "      <th>calls</th>\n",
       "      <th>messages</th>\n",
       "      <th>mb_used</th>\n",
       "      <th>tariff</th>\n",
       "    </tr>\n",
       "  </thead>\n",
       "  <tbody>\n",
       "    <tr>\n",
       "      <th>3214</th>\n",
       "      <td>1128</td>\n",
       "      <td>NaN</td>\n",
       "      <td>NaN</td>\n",
       "      <td>NaN</td>\n",
       "      <td>NaN</td>\n",
       "      <td>NaN</td>\n",
       "      <td>ultra</td>\n",
       "    </tr>\n",
       "    <tr>\n",
       "      <th>3215</th>\n",
       "      <td>1371</td>\n",
       "      <td>NaN</td>\n",
       "      <td>NaN</td>\n",
       "      <td>NaN</td>\n",
       "      <td>NaN</td>\n",
       "      <td>NaN</td>\n",
       "      <td>smart</td>\n",
       "    </tr>\n",
       "  </tbody>\n",
       "</table>\n",
       "</div>"
      ],
      "text/plain": [
       "      user_id  month  duration  calls  messages  mb_used tariff\n",
       "3214     1128    NaN       NaN    NaN       NaN      NaN  ultra\n",
       "3215     1371    NaN       NaN    NaN       NaN      NaN  smart"
      ]
     },
     "execution_count": 40,
     "metadata": {},
     "output_type": "execute_result"
    }
   ],
   "source": [
    "final_data[final_data['month'].isna()]"
   ]
  },
  {
   "cell_type": "markdown",
   "metadata": {},
   "source": [
    "На мой взгляд эти 2 строки не нужны нам в исследовании. Объем этих данных составляет 0.4% от общего датасета и вообще не несет никакой информации, кроме названия тарифа - мы не сможем как то заполнить пропущенные значения. Поэтому проще будет их удалить и забыть"
   ]
  },
  {
   "cell_type": "code",
   "execution_count": 41,
   "metadata": {},
   "outputs": [],
   "source": [
    "final_data = final_data.dropna(axis='index', subset=['month']).reset_index(drop=True, inplace=False)"
   ]
  },
  {
   "cell_type": "code",
   "execution_count": 42,
   "metadata": {
    "scrolled": true
   },
   "outputs": [
    {
     "data": {
      "text/plain": [
       "user_id     0\n",
       "month       0\n",
       "duration    0\n",
       "calls       0\n",
       "messages    0\n",
       "mb_used     0\n",
       "tariff      0\n",
       "dtype: int64"
      ]
     },
     "execution_count": 42,
     "metadata": {},
     "output_type": "execute_result"
    }
   ],
   "source": [
    "#заменяем пропущенные значения на 0\n",
    "final_data['messages'] = final_data['messages'].fillna(0)\n",
    "final_data['mb_used'] = final_data['mb_used'].fillna(0)\n",
    "final_data['calls'] = final_data['calls'].fillna(0)\n",
    "final_data['duration'] = final_data['duration'].fillna(0)\n",
    "final_data.isna().sum()"
   ]
  },
  {
   "cell_type": "code",
   "execution_count": 43,
   "metadata": {},
   "outputs": [
    {
     "data": {
      "text/html": [
       "<div>\n",
       "<style scoped>\n",
       "    .dataframe tbody tr th:only-of-type {\n",
       "        vertical-align: middle;\n",
       "    }\n",
       "\n",
       "    .dataframe tbody tr th {\n",
       "        vertical-align: top;\n",
       "    }\n",
       "\n",
       "    .dataframe thead th {\n",
       "        text-align: right;\n",
       "    }\n",
       "</style>\n",
       "<table border=\"1\" class=\"dataframe\">\n",
       "  <thead>\n",
       "    <tr style=\"text-align: right;\">\n",
       "      <th></th>\n",
       "      <th>user_id</th>\n",
       "      <th>month</th>\n",
       "      <th>duration</th>\n",
       "      <th>calls</th>\n",
       "      <th>messages</th>\n",
       "      <th>mb_used</th>\n",
       "      <th>tariff</th>\n",
       "    </tr>\n",
       "  </thead>\n",
       "  <tbody>\n",
       "    <tr>\n",
       "      <th>0</th>\n",
       "      <td>1000</td>\n",
       "      <td>5.0</td>\n",
       "      <td>159.0</td>\n",
       "      <td>22.0</td>\n",
       "      <td>22.0</td>\n",
       "      <td>2253.49</td>\n",
       "      <td>ultra</td>\n",
       "    </tr>\n",
       "    <tr>\n",
       "      <th>1</th>\n",
       "      <td>1000</td>\n",
       "      <td>6.0</td>\n",
       "      <td>172.0</td>\n",
       "      <td>43.0</td>\n",
       "      <td>60.0</td>\n",
       "      <td>23233.77</td>\n",
       "      <td>ultra</td>\n",
       "    </tr>\n",
       "    <tr>\n",
       "      <th>2</th>\n",
       "      <td>1000</td>\n",
       "      <td>7.0</td>\n",
       "      <td>340.0</td>\n",
       "      <td>47.0</td>\n",
       "      <td>75.0</td>\n",
       "      <td>14003.64</td>\n",
       "      <td>ultra</td>\n",
       "    </tr>\n",
       "    <tr>\n",
       "      <th>3</th>\n",
       "      <td>1000</td>\n",
       "      <td>8.0</td>\n",
       "      <td>408.0</td>\n",
       "      <td>52.0</td>\n",
       "      <td>81.0</td>\n",
       "      <td>14055.93</td>\n",
       "      <td>ultra</td>\n",
       "    </tr>\n",
       "    <tr>\n",
       "      <th>4</th>\n",
       "      <td>1000</td>\n",
       "      <td>9.0</td>\n",
       "      <td>466.0</td>\n",
       "      <td>58.0</td>\n",
       "      <td>57.0</td>\n",
       "      <td>14568.91</td>\n",
       "      <td>ultra</td>\n",
       "    </tr>\n",
       "    <tr>\n",
       "      <th>5</th>\n",
       "      <td>1000</td>\n",
       "      <td>10.0</td>\n",
       "      <td>350.0</td>\n",
       "      <td>57.0</td>\n",
       "      <td>73.0</td>\n",
       "      <td>14702.49</td>\n",
       "      <td>ultra</td>\n",
       "    </tr>\n",
       "    <tr>\n",
       "      <th>6</th>\n",
       "      <td>1000</td>\n",
       "      <td>11.0</td>\n",
       "      <td>338.0</td>\n",
       "      <td>43.0</td>\n",
       "      <td>58.0</td>\n",
       "      <td>14756.47</td>\n",
       "      <td>ultra</td>\n",
       "    </tr>\n",
       "    <tr>\n",
       "      <th>7</th>\n",
       "      <td>1000</td>\n",
       "      <td>12.0</td>\n",
       "      <td>333.0</td>\n",
       "      <td>46.0</td>\n",
       "      <td>70.0</td>\n",
       "      <td>9817.61</td>\n",
       "      <td>ultra</td>\n",
       "    </tr>\n",
       "    <tr>\n",
       "      <th>8</th>\n",
       "      <td>1001</td>\n",
       "      <td>11.0</td>\n",
       "      <td>430.0</td>\n",
       "      <td>59.0</td>\n",
       "      <td>0.0</td>\n",
       "      <td>18429.34</td>\n",
       "      <td>smart</td>\n",
       "    </tr>\n",
       "    <tr>\n",
       "      <th>9</th>\n",
       "      <td>1001</td>\n",
       "      <td>12.0</td>\n",
       "      <td>414.0</td>\n",
       "      <td>63.0</td>\n",
       "      <td>0.0</td>\n",
       "      <td>14036.66</td>\n",
       "      <td>smart</td>\n",
       "    </tr>\n",
       "    <tr>\n",
       "      <th>10</th>\n",
       "      <td>1002</td>\n",
       "      <td>6.0</td>\n",
       "      <td>117.0</td>\n",
       "      <td>15.0</td>\n",
       "      <td>4.0</td>\n",
       "      <td>10856.82</td>\n",
       "      <td>smart</td>\n",
       "    </tr>\n",
       "    <tr>\n",
       "      <th>11</th>\n",
       "      <td>1002</td>\n",
       "      <td>7.0</td>\n",
       "      <td>214.0</td>\n",
       "      <td>26.0</td>\n",
       "      <td>11.0</td>\n",
       "      <td>17580.10</td>\n",
       "      <td>smart</td>\n",
       "    </tr>\n",
       "    <tr>\n",
       "      <th>12</th>\n",
       "      <td>1002</td>\n",
       "      <td>8.0</td>\n",
       "      <td>289.0</td>\n",
       "      <td>42.0</td>\n",
       "      <td>13.0</td>\n",
       "      <td>20319.26</td>\n",
       "      <td>smart</td>\n",
       "    </tr>\n",
       "    <tr>\n",
       "      <th>13</th>\n",
       "      <td>1002</td>\n",
       "      <td>9.0</td>\n",
       "      <td>206.0</td>\n",
       "      <td>36.0</td>\n",
       "      <td>4.0</td>\n",
       "      <td>16691.08</td>\n",
       "      <td>smart</td>\n",
       "    </tr>\n",
       "    <tr>\n",
       "      <th>14</th>\n",
       "      <td>1002</td>\n",
       "      <td>10.0</td>\n",
       "      <td>212.0</td>\n",
       "      <td>33.0</td>\n",
       "      <td>10.0</td>\n",
       "      <td>13888.25</td>\n",
       "      <td>smart</td>\n",
       "    </tr>\n",
       "  </tbody>\n",
       "</table>\n",
       "</div>"
      ],
      "text/plain": [
       "    user_id  month  duration  calls  messages   mb_used tariff\n",
       "0      1000    5.0     159.0   22.0      22.0   2253.49  ultra\n",
       "1      1000    6.0     172.0   43.0      60.0  23233.77  ultra\n",
       "2      1000    7.0     340.0   47.0      75.0  14003.64  ultra\n",
       "3      1000    8.0     408.0   52.0      81.0  14055.93  ultra\n",
       "4      1000    9.0     466.0   58.0      57.0  14568.91  ultra\n",
       "5      1000   10.0     350.0   57.0      73.0  14702.49  ultra\n",
       "6      1000   11.0     338.0   43.0      58.0  14756.47  ultra\n",
       "7      1000   12.0     333.0   46.0      70.0   9817.61  ultra\n",
       "8      1001   11.0     430.0   59.0       0.0  18429.34  smart\n",
       "9      1001   12.0     414.0   63.0       0.0  14036.66  smart\n",
       "10     1002    6.0     117.0   15.0       4.0  10856.82  smart\n",
       "11     1002    7.0     214.0   26.0      11.0  17580.10  smart\n",
       "12     1002    8.0     289.0   42.0      13.0  20319.26  smart\n",
       "13     1002    9.0     206.0   36.0       4.0  16691.08  smart\n",
       "14     1002   10.0     212.0   33.0      10.0  13888.25  smart"
      ]
     },
     "execution_count": 43,
     "metadata": {},
     "output_type": "execute_result"
    }
   ],
   "source": [
    "final_data.head(15)"
   ]
  },
  {
   "cell_type": "code",
   "execution_count": 44,
   "metadata": {},
   "outputs": [],
   "source": [
    "def make_profit (row):\n",
    "    if row['tariff'] == 'smart':\n",
    "        extra_minutes = row['duration'] - tariffs.loc[0, 'minutes_included'] #вычитаем из количества использованных минут тарифное значение\n",
    "        extra_megabytes = row['mb_used'] - tariffs.loc[0, 'mb_per_month_included'] #по аналогии с минутами, только Мб интернета\n",
    "        extra_sms = row['messages'] - tariffs.loc[0, 'messages_included'] #также сообщения\n",
    "            \n",
    "        if extra_minutes < 0: #если где-то разница меньше 0, значит перерасхода нет и доп.платежей не будет\n",
    "            extra_minutes = 0\n",
    "        if extra_megabytes < 0:\n",
    "            extra_megabytes = 0\n",
    "        if extra_sms < 0:\n",
    "            extra_sms = 0\n",
    "        return ((extra_minutes * tariffs.loc[0, 'rub_per_minute']) + \n",
    "                (np.ceil(extra_megabytes/1024)*tariffs.loc[0, 'rub_per_gb']) +\n",
    "                (extra_sms * tariffs.loc[0, 'rub_per_message']) + tariffs.loc[0, 'rub_monthly_fee'])\n",
    "        #np.ceil()округляет число вверх. Здесь мы округляем секунды в минуты, а также\n",
    "        #гигабайты с точкой до целого числа.\n",
    "        \n",
    "    else:\n",
    "        extra_minutes = row['duration'] - tariffs.loc[1, 'minutes_included']\n",
    "        extra_megabytes = row['mb_used'] - tariffs.loc[1, 'mb_per_month_included']\n",
    "        extra_sms = row['messages'] - tariffs.loc[1, 'messages_included']\n",
    "            \n",
    "        if extra_minutes < 0:\n",
    "            extra_minutes = 0\n",
    "            \n",
    "        if extra_megabytes < 0:\n",
    "            extra_megabytes = 0\n",
    "            \n",
    "        if extra_sms < 0:\n",
    "            extra_sms = 0\n",
    "        \n",
    "        return ((extra_minutes*tariffs.loc[1, 'rub_per_minute'])+\n",
    "                (np.ceil(extra_megabytes/1024)*tariffs.loc[1,'rub_per_gb'])+\n",
    "                (extra_sms*tariffs.loc[1,'rub_per_message'])+tariffs.loc[1,'rub_monthly_fee'])\n",
    "        \n",
    "  "
   ]
  },
  {
   "cell_type": "markdown",
   "metadata": {},
   "source": [
    "Помесячная выручка будет отображена в столбце 'earnings'. Он появится после применения функции make_profit. \n",
    "\n",
    "Также необходимо обозначить ось - axis=1"
   ]
  },
  {
   "cell_type": "code",
   "execution_count": 45,
   "metadata": {},
   "outputs": [],
   "source": [
    "\n",
    "final_data['earnings'] = final_data.apply(make_profit, axis=1)"
   ]
  },
  {
   "cell_type": "code",
   "execution_count": 46,
   "metadata": {},
   "outputs": [
    {
     "data": {
      "text/html": [
       "<div>\n",
       "<style scoped>\n",
       "    .dataframe tbody tr th:only-of-type {\n",
       "        vertical-align: middle;\n",
       "    }\n",
       "\n",
       "    .dataframe tbody tr th {\n",
       "        vertical-align: top;\n",
       "    }\n",
       "\n",
       "    .dataframe thead th {\n",
       "        text-align: right;\n",
       "    }\n",
       "</style>\n",
       "<table border=\"1\" class=\"dataframe\">\n",
       "  <thead>\n",
       "    <tr style=\"text-align: right;\">\n",
       "      <th></th>\n",
       "      <th>user_id</th>\n",
       "      <th>month</th>\n",
       "      <th>duration</th>\n",
       "      <th>calls</th>\n",
       "      <th>messages</th>\n",
       "      <th>mb_used</th>\n",
       "      <th>tariff</th>\n",
       "      <th>earnings</th>\n",
       "    </tr>\n",
       "  </thead>\n",
       "  <tbody>\n",
       "    <tr>\n",
       "      <th>0</th>\n",
       "      <td>1000</td>\n",
       "      <td>5.0</td>\n",
       "      <td>159.0</td>\n",
       "      <td>22.0</td>\n",
       "      <td>22.0</td>\n",
       "      <td>2253.49</td>\n",
       "      <td>ultra</td>\n",
       "      <td>1950.0</td>\n",
       "    </tr>\n",
       "    <tr>\n",
       "      <th>1</th>\n",
       "      <td>1000</td>\n",
       "      <td>6.0</td>\n",
       "      <td>172.0</td>\n",
       "      <td>43.0</td>\n",
       "      <td>60.0</td>\n",
       "      <td>23233.77</td>\n",
       "      <td>ultra</td>\n",
       "      <td>1950.0</td>\n",
       "    </tr>\n",
       "    <tr>\n",
       "      <th>2</th>\n",
       "      <td>1000</td>\n",
       "      <td>7.0</td>\n",
       "      <td>340.0</td>\n",
       "      <td>47.0</td>\n",
       "      <td>75.0</td>\n",
       "      <td>14003.64</td>\n",
       "      <td>ultra</td>\n",
       "      <td>1950.0</td>\n",
       "    </tr>\n",
       "    <tr>\n",
       "      <th>3</th>\n",
       "      <td>1000</td>\n",
       "      <td>8.0</td>\n",
       "      <td>408.0</td>\n",
       "      <td>52.0</td>\n",
       "      <td>81.0</td>\n",
       "      <td>14055.93</td>\n",
       "      <td>ultra</td>\n",
       "      <td>1950.0</td>\n",
       "    </tr>\n",
       "    <tr>\n",
       "      <th>4</th>\n",
       "      <td>1000</td>\n",
       "      <td>9.0</td>\n",
       "      <td>466.0</td>\n",
       "      <td>58.0</td>\n",
       "      <td>57.0</td>\n",
       "      <td>14568.91</td>\n",
       "      <td>ultra</td>\n",
       "      <td>1950.0</td>\n",
       "    </tr>\n",
       "    <tr>\n",
       "      <th>5</th>\n",
       "      <td>1000</td>\n",
       "      <td>10.0</td>\n",
       "      <td>350.0</td>\n",
       "      <td>57.0</td>\n",
       "      <td>73.0</td>\n",
       "      <td>14702.49</td>\n",
       "      <td>ultra</td>\n",
       "      <td>1950.0</td>\n",
       "    </tr>\n",
       "    <tr>\n",
       "      <th>6</th>\n",
       "      <td>1000</td>\n",
       "      <td>11.0</td>\n",
       "      <td>338.0</td>\n",
       "      <td>43.0</td>\n",
       "      <td>58.0</td>\n",
       "      <td>14756.47</td>\n",
       "      <td>ultra</td>\n",
       "      <td>1950.0</td>\n",
       "    </tr>\n",
       "    <tr>\n",
       "      <th>7</th>\n",
       "      <td>1000</td>\n",
       "      <td>12.0</td>\n",
       "      <td>333.0</td>\n",
       "      <td>46.0</td>\n",
       "      <td>70.0</td>\n",
       "      <td>9817.61</td>\n",
       "      <td>ultra</td>\n",
       "      <td>1950.0</td>\n",
       "    </tr>\n",
       "    <tr>\n",
       "      <th>8</th>\n",
       "      <td>1001</td>\n",
       "      <td>11.0</td>\n",
       "      <td>430.0</td>\n",
       "      <td>59.0</td>\n",
       "      <td>0.0</td>\n",
       "      <td>18429.34</td>\n",
       "      <td>smart</td>\n",
       "      <td>1150.0</td>\n",
       "    </tr>\n",
       "    <tr>\n",
       "      <th>9</th>\n",
       "      <td>1001</td>\n",
       "      <td>12.0</td>\n",
       "      <td>414.0</td>\n",
       "      <td>63.0</td>\n",
       "      <td>0.0</td>\n",
       "      <td>14036.66</td>\n",
       "      <td>smart</td>\n",
       "      <td>550.0</td>\n",
       "    </tr>\n",
       "    <tr>\n",
       "      <th>10</th>\n",
       "      <td>1002</td>\n",
       "      <td>6.0</td>\n",
       "      <td>117.0</td>\n",
       "      <td>15.0</td>\n",
       "      <td>4.0</td>\n",
       "      <td>10856.82</td>\n",
       "      <td>smart</td>\n",
       "      <td>550.0</td>\n",
       "    </tr>\n",
       "    <tr>\n",
       "      <th>11</th>\n",
       "      <td>1002</td>\n",
       "      <td>7.0</td>\n",
       "      <td>214.0</td>\n",
       "      <td>26.0</td>\n",
       "      <td>11.0</td>\n",
       "      <td>17580.10</td>\n",
       "      <td>smart</td>\n",
       "      <td>1150.0</td>\n",
       "    </tr>\n",
       "    <tr>\n",
       "      <th>12</th>\n",
       "      <td>1002</td>\n",
       "      <td>8.0</td>\n",
       "      <td>289.0</td>\n",
       "      <td>42.0</td>\n",
       "      <td>13.0</td>\n",
       "      <td>20319.26</td>\n",
       "      <td>smart</td>\n",
       "      <td>1550.0</td>\n",
       "    </tr>\n",
       "    <tr>\n",
       "      <th>13</th>\n",
       "      <td>1002</td>\n",
       "      <td>9.0</td>\n",
       "      <td>206.0</td>\n",
       "      <td>36.0</td>\n",
       "      <td>4.0</td>\n",
       "      <td>16691.08</td>\n",
       "      <td>smart</td>\n",
       "      <td>950.0</td>\n",
       "    </tr>\n",
       "    <tr>\n",
       "      <th>14</th>\n",
       "      <td>1002</td>\n",
       "      <td>10.0</td>\n",
       "      <td>212.0</td>\n",
       "      <td>33.0</td>\n",
       "      <td>10.0</td>\n",
       "      <td>13888.25</td>\n",
       "      <td>smart</td>\n",
       "      <td>550.0</td>\n",
       "    </tr>\n",
       "    <tr>\n",
       "      <th>15</th>\n",
       "      <td>1002</td>\n",
       "      <td>11.0</td>\n",
       "      <td>243.0</td>\n",
       "      <td>32.0</td>\n",
       "      <td>16.0</td>\n",
       "      <td>18587.28</td>\n",
       "      <td>smart</td>\n",
       "      <td>1350.0</td>\n",
       "    </tr>\n",
       "    <tr>\n",
       "      <th>16</th>\n",
       "      <td>1002</td>\n",
       "      <td>12.0</td>\n",
       "      <td>236.0</td>\n",
       "      <td>33.0</td>\n",
       "      <td>12.0</td>\n",
       "      <td>18113.73</td>\n",
       "      <td>smart</td>\n",
       "      <td>1150.0</td>\n",
       "    </tr>\n",
       "    <tr>\n",
       "      <th>17</th>\n",
       "      <td>1003</td>\n",
       "      <td>8.0</td>\n",
       "      <td>380.0</td>\n",
       "      <td>55.0</td>\n",
       "      <td>37.0</td>\n",
       "      <td>8565.21</td>\n",
       "      <td>ultra</td>\n",
       "      <td>1950.0</td>\n",
       "    </tr>\n",
       "    <tr>\n",
       "      <th>18</th>\n",
       "      <td>1003</td>\n",
       "      <td>9.0</td>\n",
       "      <td>961.0</td>\n",
       "      <td>134.0</td>\n",
       "      <td>91.0</td>\n",
       "      <td>12468.87</td>\n",
       "      <td>ultra</td>\n",
       "      <td>1950.0</td>\n",
       "    </tr>\n",
       "    <tr>\n",
       "      <th>19</th>\n",
       "      <td>1003</td>\n",
       "      <td>10.0</td>\n",
       "      <td>855.0</td>\n",
       "      <td>108.0</td>\n",
       "      <td>83.0</td>\n",
       "      <td>14768.14</td>\n",
       "      <td>ultra</td>\n",
       "      <td>1950.0</td>\n",
       "    </tr>\n",
       "  </tbody>\n",
       "</table>\n",
       "</div>"
      ],
      "text/plain": [
       "    user_id  month  duration  calls  messages   mb_used tariff  earnings\n",
       "0      1000    5.0     159.0   22.0      22.0   2253.49  ultra    1950.0\n",
       "1      1000    6.0     172.0   43.0      60.0  23233.77  ultra    1950.0\n",
       "2      1000    7.0     340.0   47.0      75.0  14003.64  ultra    1950.0\n",
       "3      1000    8.0     408.0   52.0      81.0  14055.93  ultra    1950.0\n",
       "4      1000    9.0     466.0   58.0      57.0  14568.91  ultra    1950.0\n",
       "5      1000   10.0     350.0   57.0      73.0  14702.49  ultra    1950.0\n",
       "6      1000   11.0     338.0   43.0      58.0  14756.47  ultra    1950.0\n",
       "7      1000   12.0     333.0   46.0      70.0   9817.61  ultra    1950.0\n",
       "8      1001   11.0     430.0   59.0       0.0  18429.34  smart    1150.0\n",
       "9      1001   12.0     414.0   63.0       0.0  14036.66  smart     550.0\n",
       "10     1002    6.0     117.0   15.0       4.0  10856.82  smart     550.0\n",
       "11     1002    7.0     214.0   26.0      11.0  17580.10  smart    1150.0\n",
       "12     1002    8.0     289.0   42.0      13.0  20319.26  smart    1550.0\n",
       "13     1002    9.0     206.0   36.0       4.0  16691.08  smart     950.0\n",
       "14     1002   10.0     212.0   33.0      10.0  13888.25  smart     550.0\n",
       "15     1002   11.0     243.0   32.0      16.0  18587.28  smart    1350.0\n",
       "16     1002   12.0     236.0   33.0      12.0  18113.73  smart    1150.0\n",
       "17     1003    8.0     380.0   55.0      37.0   8565.21  ultra    1950.0\n",
       "18     1003    9.0     961.0  134.0      91.0  12468.87  ultra    1950.0\n",
       "19     1003   10.0     855.0  108.0      83.0  14768.14  ultra    1950.0"
      ]
     },
     "execution_count": 46,
     "metadata": {},
     "output_type": "execute_result"
    }
   ],
   "source": [
    "final_data.head(20)"
   ]
  },
  {
   "cell_type": "markdown",
   "metadata": {},
   "source": [
    "### Выводы"
   ]
  },
  {
   "cell_type": "markdown",
   "metadata": {},
   "source": [
    "В этом разделе мы сгруппировали помесячно для каждого пользователя данные об использованных минутах, мегабайтах интернет-трафика и отправленных сообщениях. Исправили тип данных для даты и времени на соответствующий. В датасете internet был обнаружен столбец, дублирующий индексы - было принято решение его удалить. \n",
    "\n",
    "Также была написана функция, которая посредством обработки необходимых значений возвращает нам в новый столбец 'earnings' размер выручки."
   ]
  },
  {
   "cell_type": "markdown",
   "metadata": {},
   "source": [
    "## Шаг 3. Проанализируйте данные\n"
   ]
  },
  {
   "cell_type": "markdown",
   "metadata": {},
   "source": [
    "Нужно описать поведение клиентов оператора, исходя из выборки. Сколько минут разговора, сколько сообщений и какой объём интернет-трафика требуется пользователям каждого тарифа в месяц? Необходимо рассчитать среднее количество, дисперсию и стандартное отклонение, построить гистограммы и описать распределения."
   ]
  },
  {
   "cell_type": "markdown",
   "metadata": {},
   "source": [
    "### Рассмотрим описательную статистику для двух тарифов\n"
   ]
  },
  {
   "cell_type": "markdown",
   "metadata": {},
   "source": [
    "1) Для тарифа **ultra**"
   ]
  },
  {
   "cell_type": "code",
   "execution_count": 47,
   "metadata": {
    "scrolled": true
   },
   "outputs": [
    {
     "data": {
      "text/html": [
       "<div>\n",
       "<style scoped>\n",
       "    .dataframe tbody tr th:only-of-type {\n",
       "        vertical-align: middle;\n",
       "    }\n",
       "\n",
       "    .dataframe tbody tr th {\n",
       "        vertical-align: top;\n",
       "    }\n",
       "\n",
       "    .dataframe thead th {\n",
       "        text-align: right;\n",
       "    }\n",
       "</style>\n",
       "<table border=\"1\" class=\"dataframe\">\n",
       "  <thead>\n",
       "    <tr style=\"text-align: right;\">\n",
       "      <th></th>\n",
       "      <th>user_id</th>\n",
       "      <th>month</th>\n",
       "      <th>duration</th>\n",
       "      <th>calls</th>\n",
       "      <th>messages</th>\n",
       "      <th>mb_used</th>\n",
       "      <th>earnings</th>\n",
       "    </tr>\n",
       "  </thead>\n",
       "  <tbody>\n",
       "    <tr>\n",
       "      <th>count</th>\n",
       "      <td>985.000000</td>\n",
       "      <td>985.000000</td>\n",
       "      <td>985.000000</td>\n",
       "      <td>985.000000</td>\n",
       "      <td>985.000000</td>\n",
       "      <td>985.000000</td>\n",
       "      <td>985.000000</td>\n",
       "    </tr>\n",
       "    <tr>\n",
       "      <th>mean</th>\n",
       "      <td>1263.094416</td>\n",
       "      <td>8.250761</td>\n",
       "      <td>526.623350</td>\n",
       "      <td>73.392893</td>\n",
       "      <td>49.363452</td>\n",
       "      <td>19468.805208</td>\n",
       "      <td>2070.152284</td>\n",
       "    </tr>\n",
       "    <tr>\n",
       "      <th>std</th>\n",
       "      <td>140.694908</td>\n",
       "      <td>2.871762</td>\n",
       "      <td>317.606098</td>\n",
       "      <td>43.916853</td>\n",
       "      <td>47.804457</td>\n",
       "      <td>10087.170752</td>\n",
       "      <td>376.187114</td>\n",
       "    </tr>\n",
       "    <tr>\n",
       "      <th>min</th>\n",
       "      <td>1000.000000</td>\n",
       "      <td>1.000000</td>\n",
       "      <td>0.000000</td>\n",
       "      <td>0.000000</td>\n",
       "      <td>0.000000</td>\n",
       "      <td>0.000000</td>\n",
       "      <td>1950.000000</td>\n",
       "    </tr>\n",
       "    <tr>\n",
       "      <th>25%</th>\n",
       "      <td>1143.000000</td>\n",
       "      <td>6.000000</td>\n",
       "      <td>284.000000</td>\n",
       "      <td>41.000000</td>\n",
       "      <td>6.000000</td>\n",
       "      <td>11770.260000</td>\n",
       "      <td>1950.000000</td>\n",
       "    </tr>\n",
       "    <tr>\n",
       "      <th>50%</th>\n",
       "      <td>1277.000000</td>\n",
       "      <td>9.000000</td>\n",
       "      <td>518.000000</td>\n",
       "      <td>74.000000</td>\n",
       "      <td>38.000000</td>\n",
       "      <td>19308.010000</td>\n",
       "      <td>1950.000000</td>\n",
       "    </tr>\n",
       "    <tr>\n",
       "      <th>75%</th>\n",
       "      <td>1381.000000</td>\n",
       "      <td>11.000000</td>\n",
       "      <td>752.000000</td>\n",
       "      <td>104.000000</td>\n",
       "      <td>79.000000</td>\n",
       "      <td>26837.690000</td>\n",
       "      <td>1950.000000</td>\n",
       "    </tr>\n",
       "    <tr>\n",
       "      <th>max</th>\n",
       "      <td>1495.000000</td>\n",
       "      <td>12.000000</td>\n",
       "      <td>1673.000000</td>\n",
       "      <td>244.000000</td>\n",
       "      <td>224.000000</td>\n",
       "      <td>49745.690000</td>\n",
       "      <td>4800.000000</td>\n",
       "    </tr>\n",
       "  </tbody>\n",
       "</table>\n",
       "</div>"
      ],
      "text/plain": [
       "           user_id       month     duration       calls    messages  \\\n",
       "count   985.000000  985.000000   985.000000  985.000000  985.000000   \n",
       "mean   1263.094416    8.250761   526.623350   73.392893   49.363452   \n",
       "std     140.694908    2.871762   317.606098   43.916853   47.804457   \n",
       "min    1000.000000    1.000000     0.000000    0.000000    0.000000   \n",
       "25%    1143.000000    6.000000   284.000000   41.000000    6.000000   \n",
       "50%    1277.000000    9.000000   518.000000   74.000000   38.000000   \n",
       "75%    1381.000000   11.000000   752.000000  104.000000   79.000000   \n",
       "max    1495.000000   12.000000  1673.000000  244.000000  224.000000   \n",
       "\n",
       "            mb_used     earnings  \n",
       "count    985.000000   985.000000  \n",
       "mean   19468.805208  2070.152284  \n",
       "std    10087.170752   376.187114  \n",
       "min        0.000000  1950.000000  \n",
       "25%    11770.260000  1950.000000  \n",
       "50%    19308.010000  1950.000000  \n",
       "75%    26837.690000  1950.000000  \n",
       "max    49745.690000  4800.000000  "
      ]
     },
     "execution_count": 47,
     "metadata": {},
     "output_type": "execute_result"
    }
   ],
   "source": [
    "final_data[final_data['tariff'] == 'ultra'].describe()"
   ]
  },
  {
   "cell_type": "markdown",
   "metadata": {},
   "source": [
    "2) Для тарифа **smart**"
   ]
  },
  {
   "cell_type": "code",
   "execution_count": 48,
   "metadata": {
    "scrolled": false
   },
   "outputs": [
    {
     "data": {
      "text/html": [
       "<div>\n",
       "<style scoped>\n",
       "    .dataframe tbody tr th:only-of-type {\n",
       "        vertical-align: middle;\n",
       "    }\n",
       "\n",
       "    .dataframe tbody tr th {\n",
       "        vertical-align: top;\n",
       "    }\n",
       "\n",
       "    .dataframe thead th {\n",
       "        text-align: right;\n",
       "    }\n",
       "</style>\n",
       "<table border=\"1\" class=\"dataframe\">\n",
       "  <thead>\n",
       "    <tr style=\"text-align: right;\">\n",
       "      <th></th>\n",
       "      <th>user_id</th>\n",
       "      <th>month</th>\n",
       "      <th>duration</th>\n",
       "      <th>calls</th>\n",
       "      <th>messages</th>\n",
       "      <th>mb_used</th>\n",
       "      <th>earnings</th>\n",
       "    </tr>\n",
       "  </thead>\n",
       "  <tbody>\n",
       "    <tr>\n",
       "      <th>count</th>\n",
       "      <td>2229.000000</td>\n",
       "      <td>2229.000000</td>\n",
       "      <td>2229.000000</td>\n",
       "      <td>2229.000000</td>\n",
       "      <td>2229.000000</td>\n",
       "      <td>2229.000000</td>\n",
       "      <td>2229.000000</td>\n",
       "    </tr>\n",
       "    <tr>\n",
       "      <th>mean</th>\n",
       "      <td>1246.506505</td>\n",
       "      <td>8.346792</td>\n",
       "      <td>417.934948</td>\n",
       "      <td>58.463437</td>\n",
       "      <td>33.384029</td>\n",
       "      <td>16208.386990</td>\n",
       "      <td>1289.973531</td>\n",
       "    </tr>\n",
       "    <tr>\n",
       "      <th>std</th>\n",
       "      <td>146.119496</td>\n",
       "      <td>2.920316</td>\n",
       "      <td>190.313730</td>\n",
       "      <td>25.939858</td>\n",
       "      <td>28.227876</td>\n",
       "      <td>5870.476681</td>\n",
       "      <td>818.404367</td>\n",
       "    </tr>\n",
       "    <tr>\n",
       "      <th>min</th>\n",
       "      <td>1001.000000</td>\n",
       "      <td>1.000000</td>\n",
       "      <td>0.000000</td>\n",
       "      <td>0.000000</td>\n",
       "      <td>0.000000</td>\n",
       "      <td>0.000000</td>\n",
       "      <td>550.000000</td>\n",
       "    </tr>\n",
       "    <tr>\n",
       "      <th>25%</th>\n",
       "      <td>1121.000000</td>\n",
       "      <td>6.000000</td>\n",
       "      <td>282.000000</td>\n",
       "      <td>40.000000</td>\n",
       "      <td>10.000000</td>\n",
       "      <td>12643.010000</td>\n",
       "      <td>550.000000</td>\n",
       "    </tr>\n",
       "    <tr>\n",
       "      <th>50%</th>\n",
       "      <td>1239.000000</td>\n",
       "      <td>9.000000</td>\n",
       "      <td>422.000000</td>\n",
       "      <td>60.000000</td>\n",
       "      <td>28.000000</td>\n",
       "      <td>16506.840000</td>\n",
       "      <td>1023.000000</td>\n",
       "    </tr>\n",
       "    <tr>\n",
       "      <th>75%</th>\n",
       "      <td>1376.000000</td>\n",
       "      <td>11.000000</td>\n",
       "      <td>545.000000</td>\n",
       "      <td>76.000000</td>\n",
       "      <td>51.000000</td>\n",
       "      <td>20042.930000</td>\n",
       "      <td>1750.000000</td>\n",
       "    </tr>\n",
       "    <tr>\n",
       "      <th>max</th>\n",
       "      <td>1499.000000</td>\n",
       "      <td>12.000000</td>\n",
       "      <td>1435.000000</td>\n",
       "      <td>198.000000</td>\n",
       "      <td>143.000000</td>\n",
       "      <td>38552.450000</td>\n",
       "      <td>6770.000000</td>\n",
       "    </tr>\n",
       "  </tbody>\n",
       "</table>\n",
       "</div>"
      ],
      "text/plain": [
       "           user_id        month     duration        calls     messages  \\\n",
       "count  2229.000000  2229.000000  2229.000000  2229.000000  2229.000000   \n",
       "mean   1246.506505     8.346792   417.934948    58.463437    33.384029   \n",
       "std     146.119496     2.920316   190.313730    25.939858    28.227876   \n",
       "min    1001.000000     1.000000     0.000000     0.000000     0.000000   \n",
       "25%    1121.000000     6.000000   282.000000    40.000000    10.000000   \n",
       "50%    1239.000000     9.000000   422.000000    60.000000    28.000000   \n",
       "75%    1376.000000    11.000000   545.000000    76.000000    51.000000   \n",
       "max    1499.000000    12.000000  1435.000000   198.000000   143.000000   \n",
       "\n",
       "            mb_used     earnings  \n",
       "count   2229.000000  2229.000000  \n",
       "mean   16208.386990  1289.973531  \n",
       "std     5870.476681   818.404367  \n",
       "min        0.000000   550.000000  \n",
       "25%    12643.010000   550.000000  \n",
       "50%    16506.840000  1023.000000  \n",
       "75%    20042.930000  1750.000000  \n",
       "max    38552.450000  6770.000000  "
      ]
     },
     "execution_count": 48,
     "metadata": {},
     "output_type": "execute_result"
    }
   ],
   "source": [
    "final_data[final_data['tariff'] == 'smart'].describe()"
   ]
  },
  {
   "cell_type": "markdown",
   "metadata": {},
   "source": [
    "ПРОМЕЖУТОЧНАЯ ОЦЕНКА"
   ]
  },
  {
   "cell_type": "markdown",
   "metadata": {},
   "source": [
    "Опираясь на эти показатели уже можно сказать, что клиенты тарифа Smart по сравнению с теми, кто использует тариф Ultra совершают меньшее количество звонков, отсюда мы видим и меньшую среднюю продолжительность звонков 418 мин против 520 мин. Интернет трафик также используется в меньшем количестве в среднем на 3 Гб."
   ]
  },
  {
   "cell_type": "markdown",
   "metadata": {},
   "source": [
    "### Расчет среднего количества, дисперсии и стандартного отклонения. Построение гистограмм и описание распределения."
   ]
  },
  {
   "cell_type": "code",
   "execution_count": 49,
   "metadata": {},
   "outputs": [],
   "source": [
    "#группируем датасет по юзеру и отображаем медианное значение в столбцах\n",
    "mean_values = final_data.groupby('user_id').median()"
   ]
  },
  {
   "cell_type": "code",
   "execution_count": 50,
   "metadata": {},
   "outputs": [
    {
     "data": {
      "text/html": [
       "<div>\n",
       "<style scoped>\n",
       "    .dataframe tbody tr th:only-of-type {\n",
       "        vertical-align: middle;\n",
       "    }\n",
       "\n",
       "    .dataframe tbody tr th {\n",
       "        vertical-align: top;\n",
       "    }\n",
       "\n",
       "    .dataframe thead th {\n",
       "        text-align: right;\n",
       "    }\n",
       "</style>\n",
       "<table border=\"1\" class=\"dataframe\">\n",
       "  <thead>\n",
       "    <tr style=\"text-align: right;\">\n",
       "      <th></th>\n",
       "      <th>month</th>\n",
       "      <th>duration</th>\n",
       "      <th>calls</th>\n",
       "      <th>messages</th>\n",
       "      <th>mb_used</th>\n",
       "      <th>earnings</th>\n",
       "    </tr>\n",
       "    <tr>\n",
       "      <th>user_id</th>\n",
       "      <th></th>\n",
       "      <th></th>\n",
       "      <th></th>\n",
       "      <th></th>\n",
       "      <th></th>\n",
       "      <th></th>\n",
       "    </tr>\n",
       "  </thead>\n",
       "  <tbody>\n",
       "    <tr>\n",
       "      <th>1000</th>\n",
       "      <td>8.5</td>\n",
       "      <td>339.0</td>\n",
       "      <td>46.5</td>\n",
       "      <td>65.0</td>\n",
       "      <td>14312.42</td>\n",
       "      <td>1950.0</td>\n",
       "    </tr>\n",
       "    <tr>\n",
       "      <th>1001</th>\n",
       "      <td>11.5</td>\n",
       "      <td>422.0</td>\n",
       "      <td>61.0</td>\n",
       "      <td>0.0</td>\n",
       "      <td>16233.00</td>\n",
       "      <td>850.0</td>\n",
       "    </tr>\n",
       "    <tr>\n",
       "      <th>1002</th>\n",
       "      <td>9.0</td>\n",
       "      <td>214.0</td>\n",
       "      <td>33.0</td>\n",
       "      <td>11.0</td>\n",
       "      <td>17580.10</td>\n",
       "      <td>1150.0</td>\n",
       "    </tr>\n",
       "    <tr>\n",
       "      <th>1003</th>\n",
       "      <td>10.0</td>\n",
       "      <td>824.0</td>\n",
       "      <td>108.0</td>\n",
       "      <td>83.0</td>\n",
       "      <td>11356.89</td>\n",
       "      <td>1950.0</td>\n",
       "    </tr>\n",
       "    <tr>\n",
       "      <th>1004</th>\n",
       "      <td>8.5</td>\n",
       "      <td>132.5</td>\n",
       "      <td>21.5</td>\n",
       "      <td>154.5</td>\n",
       "      <td>17810.53</td>\n",
       "      <td>1950.0</td>\n",
       "    </tr>\n",
       "  </tbody>\n",
       "</table>\n",
       "</div>"
      ],
      "text/plain": [
       "         month  duration  calls  messages   mb_used  earnings\n",
       "user_id                                                      \n",
       "1000       8.5     339.0   46.5      65.0  14312.42    1950.0\n",
       "1001      11.5     422.0   61.0       0.0  16233.00     850.0\n",
       "1002       9.0     214.0   33.0      11.0  17580.10    1150.0\n",
       "1003      10.0     824.0  108.0      83.0  11356.89    1950.0\n",
       "1004       8.5     132.5   21.5     154.5  17810.53    1950.0"
      ]
     },
     "execution_count": 50,
     "metadata": {},
     "output_type": "execute_result"
    }
   ],
   "source": [
    "mean_values.head()"
   ]
  },
  {
   "cell_type": "code",
   "execution_count": 51,
   "metadata": {},
   "outputs": [
    {
     "data": {
      "text/html": [
       "<div>\n",
       "<style scoped>\n",
       "    .dataframe tbody tr th:only-of-type {\n",
       "        vertical-align: middle;\n",
       "    }\n",
       "\n",
       "    .dataframe tbody tr th {\n",
       "        vertical-align: top;\n",
       "    }\n",
       "\n",
       "    .dataframe thead th {\n",
       "        text-align: right;\n",
       "    }\n",
       "</style>\n",
       "<table border=\"1\" class=\"dataframe\">\n",
       "  <thead>\n",
       "    <tr style=\"text-align: right;\">\n",
       "      <th></th>\n",
       "      <th>user_id</th>\n",
       "      <th>month</th>\n",
       "      <th>duration</th>\n",
       "      <th>calls</th>\n",
       "      <th>messages</th>\n",
       "      <th>mb_used</th>\n",
       "      <th>earnings</th>\n",
       "      <th>tariff</th>\n",
       "    </tr>\n",
       "  </thead>\n",
       "  <tbody>\n",
       "    <tr>\n",
       "      <th>0</th>\n",
       "      <td>1000</td>\n",
       "      <td>8.5</td>\n",
       "      <td>339.0</td>\n",
       "      <td>46.5</td>\n",
       "      <td>65.0</td>\n",
       "      <td>14312.42</td>\n",
       "      <td>1950.0</td>\n",
       "      <td>ultra</td>\n",
       "    </tr>\n",
       "    <tr>\n",
       "      <th>1</th>\n",
       "      <td>1001</td>\n",
       "      <td>11.5</td>\n",
       "      <td>422.0</td>\n",
       "      <td>61.0</td>\n",
       "      <td>0.0</td>\n",
       "      <td>16233.00</td>\n",
       "      <td>850.0</td>\n",
       "      <td>smart</td>\n",
       "    </tr>\n",
       "    <tr>\n",
       "      <th>2</th>\n",
       "      <td>1002</td>\n",
       "      <td>9.0</td>\n",
       "      <td>214.0</td>\n",
       "      <td>33.0</td>\n",
       "      <td>11.0</td>\n",
       "      <td>17580.10</td>\n",
       "      <td>1150.0</td>\n",
       "      <td>smart</td>\n",
       "    </tr>\n",
       "    <tr>\n",
       "      <th>3</th>\n",
       "      <td>1003</td>\n",
       "      <td>10.0</td>\n",
       "      <td>824.0</td>\n",
       "      <td>108.0</td>\n",
       "      <td>83.0</td>\n",
       "      <td>11356.89</td>\n",
       "      <td>1950.0</td>\n",
       "      <td>ultra</td>\n",
       "    </tr>\n",
       "    <tr>\n",
       "      <th>4</th>\n",
       "      <td>1004</td>\n",
       "      <td>8.5</td>\n",
       "      <td>132.5</td>\n",
       "      <td>21.5</td>\n",
       "      <td>154.5</td>\n",
       "      <td>17810.53</td>\n",
       "      <td>1950.0</td>\n",
       "      <td>ultra</td>\n",
       "    </tr>\n",
       "  </tbody>\n",
       "</table>\n",
       "</div>"
      ],
      "text/plain": [
       "   user_id  month  duration  calls  messages   mb_used  earnings tariff\n",
       "0     1000    8.5     339.0   46.5      65.0  14312.42    1950.0  ultra\n",
       "1     1001   11.5     422.0   61.0       0.0  16233.00     850.0  smart\n",
       "2     1002    9.0     214.0   33.0      11.0  17580.10    1150.0  smart\n",
       "3     1003   10.0     824.0  108.0      83.0  11356.89    1950.0  ultra\n",
       "4     1004    8.5     132.5   21.5     154.5  17810.53    1950.0  ultra"
      ]
     },
     "execution_count": 51,
     "metadata": {},
     "output_type": "execute_result"
    }
   ],
   "source": [
    "# добавляем столбец с тарифом\n",
    "meane_values = pd.merge(mean_values, users_1, on=('user_id'), how='left')\n",
    "meane_values.head()"
   ]
  },
  {
   "cell_type": "markdown",
   "metadata": {},
   "source": [
    "Рассчитать среднее количество, дисперсию и стандартное отклонение нам поможет сводная таблица. Наш датасет будет сгруппирован по тарифу, а для длительности звонков, количества смс и использованных мегабайт с помощью словарей можно будет найти искомые величины, используя библиотеку **numpy**"
   ]
  },
  {
   "cell_type": "code",
   "execution_count": 52,
   "metadata": {},
   "outputs": [],
   "source": [
    "# закомментил старое решение\n",
    "#stat_table = meane_values.pivot_table(index='tariff', values=['duration','messages','mb_used'],\n",
    "                                      #aggfunc={'duration': [np.median, np.var, np.std],\n",
    "                                              #'messages': [np.median, np.var, np.std],\n",
    "                                              #'mb_used': [np.median, np.var, np.std]}\n",
    "#)"
   ]
  },
  {
   "cell_type": "code",
   "execution_count": 53,
   "metadata": {},
   "outputs": [],
   "source": [
    "stat_table2 = final_data.pivot_table(index='tariff', values=['duration','messages','mb_used'],\n",
    "                                      aggfunc={'duration': [np.median, np.var, np.std],\n",
    "                                              'messages': [np.median, np.var, np.std],\n",
    "                                              'mb_used': [np.median, np.var, np.std]}\n",
    ")"
   ]
  },
  {
   "cell_type": "code",
   "execution_count": 54,
   "metadata": {},
   "outputs": [
    {
     "data": {
      "text/html": [
       "<div>\n",
       "<style scoped>\n",
       "    .dataframe tbody tr th:only-of-type {\n",
       "        vertical-align: middle;\n",
       "    }\n",
       "\n",
       "    .dataframe tbody tr th {\n",
       "        vertical-align: top;\n",
       "    }\n",
       "\n",
       "    .dataframe thead tr th {\n",
       "        text-align: left;\n",
       "    }\n",
       "\n",
       "    .dataframe thead tr:last-of-type th {\n",
       "        text-align: right;\n",
       "    }\n",
       "</style>\n",
       "<table border=\"1\" class=\"dataframe\">\n",
       "  <thead>\n",
       "    <tr>\n",
       "      <th></th>\n",
       "      <th colspan=\"3\" halign=\"left\">duration</th>\n",
       "      <th colspan=\"3\" halign=\"left\">mb_used</th>\n",
       "      <th colspan=\"3\" halign=\"left\">messages</th>\n",
       "    </tr>\n",
       "    <tr>\n",
       "      <th></th>\n",
       "      <th>median</th>\n",
       "      <th>std</th>\n",
       "      <th>var</th>\n",
       "      <th>median</th>\n",
       "      <th>std</th>\n",
       "      <th>var</th>\n",
       "      <th>median</th>\n",
       "      <th>std</th>\n",
       "      <th>var</th>\n",
       "    </tr>\n",
       "    <tr>\n",
       "      <th>tariff</th>\n",
       "      <th></th>\n",
       "      <th></th>\n",
       "      <th></th>\n",
       "      <th></th>\n",
       "      <th></th>\n",
       "      <th></th>\n",
       "      <th></th>\n",
       "      <th></th>\n",
       "      <th></th>\n",
       "    </tr>\n",
       "  </thead>\n",
       "  <tbody>\n",
       "    <tr>\n",
       "      <th>smart</th>\n",
       "      <td>422.0</td>\n",
       "      <td>190.313730</td>\n",
       "      <td>36219.315784</td>\n",
       "      <td>16506.84</td>\n",
       "      <td>5870.476681</td>\n",
       "      <td>3.446250e+07</td>\n",
       "      <td>28.0</td>\n",
       "      <td>28.227876</td>\n",
       "      <td>796.812958</td>\n",
       "    </tr>\n",
       "    <tr>\n",
       "      <th>ultra</th>\n",
       "      <td>518.0</td>\n",
       "      <td>317.606098</td>\n",
       "      <td>100873.633397</td>\n",
       "      <td>19308.01</td>\n",
       "      <td>10087.170752</td>\n",
       "      <td>1.017510e+08</td>\n",
       "      <td>38.0</td>\n",
       "      <td>47.804457</td>\n",
       "      <td>2285.266143</td>\n",
       "    </tr>\n",
       "  </tbody>\n",
       "</table>\n",
       "</div>"
      ],
      "text/plain": [
       "       duration                              mb_used                \\\n",
       "         median         std            var    median           std   \n",
       "tariff                                                               \n",
       "smart     422.0  190.313730   36219.315784  16506.84   5870.476681   \n",
       "ultra     518.0  317.606098  100873.633397  19308.01  10087.170752   \n",
       "\n",
       "                     messages                          \n",
       "                 var   median        std          var  \n",
       "tariff                                                 \n",
       "smart   3.446250e+07     28.0  28.227876   796.812958  \n",
       "ultra   1.017510e+08     38.0  47.804457  2285.266143  "
      ]
     },
     "execution_count": 54,
     "metadata": {},
     "output_type": "execute_result"
    }
   ],
   "source": [
    "#новая таблица\n",
    "stat_table2"
   ]
  },
  {
   "cell_type": "markdown",
   "metadata": {},
   "source": [
    "По тарифу Ultra медианы меньше средних значений, значит датасет скошен вправо. А вот по тарифу Smart медианы немного больше средних значений(кроме параметра сообщений), значит датасет немного скошен влево. "
   ]
  },
  {
   "cell_type": "markdown",
   "metadata": {},
   "source": [
    "Дисперсия отображаем меру разброса данных вокруг среднего арифметического. Из нашей таблицы видно, что дисперсия шире у тарифа Ultra. Рассмотрим поближе на гистограммах"
   ]
  },
  {
   "cell_type": "markdown",
   "metadata": {},
   "source": [
    "Сравнивать гистограммы намного удобнее, если их разместить на одной сетке."
   ]
  },
  {
   "cell_type": "markdown",
   "metadata": {},
   "source": [
    "**Гистограмма для сравнения интернет трафика**"
   ]
  },
  {
   "cell_type": "code",
   "execution_count": 55,
   "metadata": {
    "scrolled": true
   },
   "outputs": [
    {
     "data": {
      "image/png": "[encoded data removed]",
      "text/plain": [
       "<Figure size 648x360 with 1 Axes>"
      ]
     },
     "metadata": {
      "needs_background": "light"
     },
     "output_type": "display_data"
    }
   ],
   "source": [
    "x = meane_values[meane_values['tariff'] == 'ultra']['mb_used']\n",
    "y = meane_values[meane_values['tariff'] == 'smart']['mb_used']\n",
    "\n",
    "\n",
    "plt.figure(figsize=(9, 5))\n",
    "plt.hist(x, bins=25, alpha=0.5, label='Тариф Ultra')\n",
    "plt.hist(y, bins=25, alpha=0.5, label='Тариф Smart')\n",
    "plt.legend(loc='upper right')\n",
    "plt.title('Объем интернет трафика по тарифам')\n",
    "plt.xlabel('Количество мегабайт')\n",
    "plt.ylabel('Кол-во клиентов')\n",
    "plt.show()"
   ]
  },
  {
   "cell_type": "markdown",
   "metadata": {},
   "source": [
    "* Можно сделать вывод, что большинству пользователей тарифа Smart явно не хватает пакета интернета. Очень много людей использует больше положенных 15 Гб. В сравнении с первыми, пользователи тарифа Ultra не так часто переходят за пределены установленного порога. "
   ]
  },
  {
   "cell_type": "markdown",
   "metadata": {},
   "source": [
    "**Гистограмма для сравнения количества сообщений**"
   ]
  },
  {
   "cell_type": "code",
   "execution_count": 56,
   "metadata": {
    "scrolled": true
   },
   "outputs": [
    {
     "data": {
      "image/png": "[encoded data removed]",
      "text/plain": [
       "<Figure size 648x360 with 1 Axes>"
      ]
     },
     "metadata": {
      "needs_background": "light"
     },
     "output_type": "display_data"
    }
   ],
   "source": [
    "x = meane_values[meane_values['tariff'] == 'ultra']['messages']\n",
    "y = meane_values[meane_values['tariff'] == 'smart']['messages']\n",
    "\n",
    "\n",
    "plt.figure(figsize=(9, 5))\n",
    "plt.hist(x, bins=15, alpha=0.5, label='Тариф Ultra')\n",
    "plt.hist(y, bins=20, alpha=0.5, label='Тариф Smart')\n",
    "plt.legend(loc='upper right')\n",
    "plt.title('Распределение отправленных сообщений')\n",
    "plt.xlabel('Количество сообщений')\n",
    "plt.ylabel('Кол-во клиентов')\n",
    "plt.show()"
   ]
  },
  {
   "cell_type": "markdown",
   "metadata": {},
   "source": [
    "* Здесь можно заметить, что довольно много пользователей обоих тарифов вообще не пользуются сообщениями (либо отравляют меньше 5 в месяц). Однако пользователям тарифа Smart и здесь не хватает 50 сообщений в месяц и довольно много людей ежемесячно переплачивают за переписку сверх лимита. А пользователи тарифа Ultra наоборот не используют в полной мере количество включенных сообщений."
   ]
  },
  {
   "cell_type": "markdown",
   "metadata": {},
   "source": [
    "**Гистограмма для сравнения продолжительности звонков**"
   ]
  },
  {
   "cell_type": "code",
   "execution_count": 57,
   "metadata": {
    "scrolled": true
   },
   "outputs": [
    {
     "data": {
      "image/png": "[encoded data removed]",
      "text/plain": [
       "<Figure size 648x360 with 1 Axes>"
      ]
     },
     "metadata": {
      "needs_background": "light"
     },
     "output_type": "display_data"
    }
   ],
   "source": [
    "x = meane_values[meane_values['tariff'] == 'ultra']['duration']\n",
    "y = meane_values[meane_values['tariff'] == 'smart']['duration']\n",
    "\n",
    "\n",
    "plt.figure(figsize=(9, 5))\n",
    "plt.hist(x, bins=15, alpha=0.5, label='Тариф Ultra')\n",
    "plt.hist(y, bins=15, alpha=0.5, label='Тариф Smart')\n",
    "plt.legend(loc='upper right')\n",
    "plt.title('Общая продолжительность звонков')\n",
    "plt.xlabel('Минуты')\n",
    "plt.ylabel('Кол-во клиентов')\n",
    "plt.show()"
   ]
  },
  {
   "cell_type": "markdown",
   "metadata": {},
   "source": [
    "* Здесь прослеживается схожая картина, что около 30% пользователей (также исходя из описательной статистики с применением метода .describe()) тарифа Smart не хватает включенных в этот тариф минут. А пользователи Ultra не используют минуты целиком."
   ]
  },
  {
   "cell_type": "code",
   "execution_count": 58,
   "metadata": {},
   "outputs": [],
   "source": [
    "smart_user = meane_values.query('tariff == \"smart\"')"
   ]
  },
  {
   "cell_type": "code",
   "execution_count": 59,
   "metadata": {},
   "outputs": [],
   "source": [
    "ultra_user = meane_values.query('tariff == \"ultra\"')"
   ]
  },
  {
   "cell_type": "code",
   "execution_count": 60,
   "metadata": {
    "scrolled": true
   },
   "outputs": [
    {
     "name": "stdout",
     "output_type": "stream",
     "text": [
      "------------Тариф Smart------------\n",
      "Количество абонентов, использующих минуты сверх лимита: 34%\n",
      "Количество абонентов, использующих интернет сверх лимита: 67%\n",
      "Количество абонентов, использующих больше сообщений: 25%\n",
      "Количество абонентов, переплачивающих за тариф: 86%\n",
      "------------Тариф Ultra------------\n",
      "Количество абонентов, использующих минуты сверх лимита: 0%\n",
      "Количество абонентов, использующих интернет сверх лимита: 14%\n",
      "Количество абонентов, использующих больше сообщений: 0%\n",
      "Количество абонентов, переплачивающих за тариф: 16%\n"
     ]
    }
   ],
   "source": [
    "print('------------Тариф Smart------------')\n",
    "print('Количество абонентов, использующих минуты сверх лимита: {:.0%}'.format(smart_user[smart_user['duration']>500].shape[0]/smart_user.shape[0]))\n",
    "print('Количество абонентов, использующих интернет сверх лимита: {:.0%}'.format(smart_user[smart_user['mb_used']>15000].shape[0]/smart_user.shape[0]))\n",
    "print('Количество абонентов, использующих больше сообщений: {:.0%}'.format(smart_user[smart_user['messages']>50].shape[0]/smart_user.shape[0]))\n",
    "print('Количество абонентов, переплачивающих за тариф: {:.0%}'.format(smart_user[smart_user['earnings']>550].shape[0]/smart_user.shape[0]))\n",
    "\n",
    "\n",
    "print('------------Тариф Ultra------------')\n",
    "print('Количество абонентов, использующих минуты сверх лимита: {:.0%}'.format(ultra_user[ultra_user['duration']>3000].shape[0]/ultra_user.shape[0]))\n",
    "print('Количество абонентов, использующих интернет сверх лимита: {:.0%}'.format(ultra_user[ultra_user['mb_used']>30000].shape[0]/ultra_user.shape[0]))\n",
    "print('Количество абонентов, использующих больше сообщений: {:.0%}'.format(ultra_user[ultra_user['messages']>1000].shape[0]/ultra_user.shape[0]))\n",
    "print('Количество абонентов, переплачивающих за тариф: {:.0%}'.format(ultra_user[ultra_user['earnings']>1950].shape[0]/ultra_user.shape[0]))"
   ]
  },
  {
   "cell_type": "code",
   "execution_count": 61,
   "metadata": {},
   "outputs": [
    {
     "name": "stdout",
     "output_type": "stream",
     "text": [
      "---------Средняя выручка с одного клиента по тарифу---------\n"
     ]
    },
    {
     "data": {
      "text/html": [
       "<div>\n",
       "<style scoped>\n",
       "    .dataframe tbody tr th:only-of-type {\n",
       "        vertical-align: middle;\n",
       "    }\n",
       "\n",
       "    .dataframe tbody tr th {\n",
       "        vertical-align: top;\n",
       "    }\n",
       "\n",
       "    .dataframe thead th {\n",
       "        text-align: right;\n",
       "    }\n",
       "</style>\n",
       "<table border=\"1\" class=\"dataframe\">\n",
       "  <thead>\n",
       "    <tr style=\"text-align: right;\">\n",
       "      <th></th>\n",
       "      <th>earnings</th>\n",
       "    </tr>\n",
       "    <tr>\n",
       "      <th>tariff</th>\n",
       "      <th></th>\n",
       "    </tr>\n",
       "  </thead>\n",
       "  <tbody>\n",
       "    <tr>\n",
       "      <th>smart</th>\n",
       "      <td>1023.0</td>\n",
       "    </tr>\n",
       "    <tr>\n",
       "      <th>ultra</th>\n",
       "      <td>1950.0</td>\n",
       "    </tr>\n",
       "  </tbody>\n",
       "</table>\n",
       "</div>"
      ],
      "text/plain": [
       "        earnings\n",
       "tariff          \n",
       "smart     1023.0\n",
       "ultra     1950.0"
      ]
     },
     "execution_count": 61,
     "metadata": {},
     "output_type": "execute_result"
    }
   ],
   "source": [
    "# средняя выручка по тарифу\n",
    "print('---------Средняя выручка с одного клиента по тарифу---------')\n",
    "final_data.pivot_table(index='tariff', values='earnings', aggfunc='median')"
   ]
  },
  {
   "cell_type": "markdown",
   "metadata": {},
   "source": [
    "### Выводы"
   ]
  },
  {
   "cell_type": "markdown",
   "metadata": {},
   "source": [
    "В этом разделе мы рассчитали среднее количество, дисперсию и стандартное отклонение и рассмотрели распределение основных показателей по каждому тарифу.\n",
    "\n",
    "Можно сделать о том, что только 14% пользователей тарифа Smart укладываются в установленные рамки, но превосходящее большинство, т.е. 86% вынуждены доплачивать в среднем 473 руб/месяц (почти 2 тарифа!!). В основном им не хватает интернет-трафика, а далее уже минут на разговоры. Оно и понятно - век интернета, вся жизнь так или иначе связа с его трафиком.\n",
    "\n",
    "Пользователи тарифа Ultra чувствуют себя более свободно в отношении того, как им использовать возможности своего тарифа. Основная часть пользователей (около 84%) не переплачивает за тариф, в основном не используя в полной мере количество минут и количество доступных сообщений и лишь 14% нужнаются в большем объеме интернет-трафика."
   ]
  },
  {
   "cell_type": "markdown",
   "metadata": {},
   "source": [
    "## Шаг 4. Проверка гипотез"
   ]
  },
  {
   "cell_type": "markdown",
   "metadata": {},
   "source": [
    "### Проверка гипотезы 1. Средняя выручка пользователей тарифов «Ультра» и «Смарт» различаются"
   ]
  },
  {
   "cell_type": "markdown",
   "metadata": {},
   "source": [
    "В Python есть специальный метод для проверки гипотезы о равенстве среднего двух генеральных совокупностей по взятым из них выборкам: \n",
    "* scipy.stats.ttest_ind (array1, array2,equal_var)\n",
    "\n",
    "Если параметр *equal_var* не указывать, то по умолчанию он примет значение _True_, т.е. будет считать, что наши дисперсии равны.\n",
    "Но в своем случае, опираясь на полученные теоретические знания, я буду использовать «правило большого пальца»: если выборки разного размера и/или можно предположить, что дисперсии у генеральных совокупностей разные — укажем *equal_var = False* при вызове метода scipy.stats.ttest_ind()."
   ]
  },
  {
   "cell_type": "markdown",
   "metadata": {},
   "source": [
    "_H0_- cредняя выручка пользователей тарифов «Ультра» и «Смарт» равны\n",
    "\n",
    "_H1_- cредняя выручка пользователей тарифов «Ультра» и «Смарт» различаются"
   ]
  },
  {
   "cell_type": "markdown",
   "metadata": {},
   "source": [
    "Уровень значимости обычно обозначается греческой буквой «альфа». Популярными уровнями значимости являются 5%, 1% и 0.1%. Для данного исследования я приму менее строгую α = 0.05."
   ]
  },
  {
   "cell_type": "code",
   "execution_count": 62,
   "metadata": {},
   "outputs": [],
   "source": [
    "smarts = final_data.query('tariff == \"smart\"')['earnings'] #датасет по выручке тарифа smart\n",
    "ultra = final_data.query('tariff == \"ultra\"')['earnings'] #датасет по выручке тарифа ultra\n"
   ]
  },
  {
   "cell_type": "code",
   "execution_count": 63,
   "metadata": {},
   "outputs": [],
   "source": [
    "alpha = 0.05"
   ]
  },
  {
   "cell_type": "code",
   "execution_count": 64,
   "metadata": {},
   "outputs": [
    {
     "name": "stdout",
     "output_type": "stream",
     "text": [
      "p-значение:  4.2606313931076085e-250\n",
      "Отвергаем нулевую гипотезу, выручки тарифов различаются \n"
     ]
    }
   ],
   "source": [
    "results = st.ttest_ind(smarts, ultra, equal_var = False)\n",
    "\n",
    "print('p-значение: ', results.pvalue)\n",
    "\n",
    "if results.pvalue < alpha:\n",
    "    print(\"Отвергаем нулевую гипотезу, выручки тарифов различаются \")\n",
    "else:\n",
    "    print(\"Не получилось отвергнуть нулевую гипотезу\") "
   ]
  },
  {
   "cell_type": "code",
   "execution_count": 65,
   "metadata": {},
   "outputs": [
    {
     "name": "stdout",
     "output_type": "stream",
     "text": [
      "---------Средняя выручка с одного клиента по тарифу---------\n"
     ]
    },
    {
     "data": {
      "text/html": [
       "<div>\n",
       "<style scoped>\n",
       "    .dataframe tbody tr th:only-of-type {\n",
       "        vertical-align: middle;\n",
       "    }\n",
       "\n",
       "    .dataframe tbody tr th {\n",
       "        vertical-align: top;\n",
       "    }\n",
       "\n",
       "    .dataframe thead th {\n",
       "        text-align: right;\n",
       "    }\n",
       "</style>\n",
       "<table border=\"1\" class=\"dataframe\">\n",
       "  <thead>\n",
       "    <tr style=\"text-align: right;\">\n",
       "      <th></th>\n",
       "      <th>earnings</th>\n",
       "    </tr>\n",
       "    <tr>\n",
       "      <th>tariff</th>\n",
       "      <th></th>\n",
       "    </tr>\n",
       "  </thead>\n",
       "  <tbody>\n",
       "    <tr>\n",
       "      <th>smart</th>\n",
       "      <td>1023.0</td>\n",
       "    </tr>\n",
       "    <tr>\n",
       "      <th>ultra</th>\n",
       "      <td>1950.0</td>\n",
       "    </tr>\n",
       "  </tbody>\n",
       "</table>\n",
       "</div>"
      ],
      "text/plain": [
       "        earnings\n",
       "tariff          \n",
       "smart     1023.0\n",
       "ultra     1950.0"
      ]
     },
     "execution_count": 65,
     "metadata": {},
     "output_type": "execute_result"
    }
   ],
   "source": [
    "# средняя выручка по тарифу\n",
    "print('---------Средняя выручка с одного клиента по тарифу---------')\n",
    "final_data.pivot_table(index='tariff', values='earnings', aggfunc='median')"
   ]
  },
  {
   "cell_type": "markdown",
   "metadata": {},
   "source": [
    "* **Результаты проведенного t-теста дают нам основание предположить, что нулевая гипотеза не верна.** Средняя выручка по тарифам различается в 2 раза в сторону тарифа Ultra.  "
   ]
  },
  {
   "cell_type": "markdown",
   "metadata": {},
   "source": [
    "### Проверка гипотезы 2. Cредняя выручка пользователей из Москвы отличается от выручки пользователей из других регионов"
   ]
  },
  {
   "cell_type": "code",
   "execution_count": 66,
   "metadata": {},
   "outputs": [
    {
     "data": {
      "text/html": [
       "<div>\n",
       "<style scoped>\n",
       "    .dataframe tbody tr th:only-of-type {\n",
       "        vertical-align: middle;\n",
       "    }\n",
       "\n",
       "    .dataframe tbody tr th {\n",
       "        vertical-align: top;\n",
       "    }\n",
       "\n",
       "    .dataframe thead th {\n",
       "        text-align: right;\n",
       "    }\n",
       "</style>\n",
       "<table border=\"1\" class=\"dataframe\">\n",
       "  <thead>\n",
       "    <tr style=\"text-align: right;\">\n",
       "      <th></th>\n",
       "      <th>user_id</th>\n",
       "      <th>city</th>\n",
       "    </tr>\n",
       "  </thead>\n",
       "  <tbody>\n",
       "    <tr>\n",
       "      <th>0</th>\n",
       "      <td>1000</td>\n",
       "      <td>Краснодар</td>\n",
       "    </tr>\n",
       "    <tr>\n",
       "      <th>1</th>\n",
       "      <td>1001</td>\n",
       "      <td>Москва</td>\n",
       "    </tr>\n",
       "    <tr>\n",
       "      <th>2</th>\n",
       "      <td>1002</td>\n",
       "      <td>Стерлитамак</td>\n",
       "    </tr>\n",
       "    <tr>\n",
       "      <th>3</th>\n",
       "      <td>1003</td>\n",
       "      <td>Москва</td>\n",
       "    </tr>\n",
       "    <tr>\n",
       "      <th>4</th>\n",
       "      <td>1004</td>\n",
       "      <td>Новокузнецк</td>\n",
       "    </tr>\n",
       "  </tbody>\n",
       "</table>\n",
       "</div>"
      ],
      "text/plain": [
       "   user_id         city\n",
       "0     1000    Краснодар\n",
       "1     1001       Москва\n",
       "2     1002  Стерлитамак\n",
       "3     1003       Москва\n",
       "4     1004  Новокузнецк"
      ]
     },
     "execution_count": 66,
     "metadata": {},
     "output_type": "execute_result"
    }
   ],
   "source": [
    "#из датасета users оставляю только 2 колонки: 1. пользователь и 2. город\n",
    "users_2 = users[['user_id','city']]\n",
    "users_2.head()"
   ]
  },
  {
   "cell_type": "code",
   "execution_count": 67,
   "metadata": {},
   "outputs": [
    {
     "data": {
      "text/html": [
       "<div>\n",
       "<style scoped>\n",
       "    .dataframe tbody tr th:only-of-type {\n",
       "        vertical-align: middle;\n",
       "    }\n",
       "\n",
       "    .dataframe tbody tr th {\n",
       "        vertical-align: top;\n",
       "    }\n",
       "\n",
       "    .dataframe thead th {\n",
       "        text-align: right;\n",
       "    }\n",
       "</style>\n",
       "<table border=\"1\" class=\"dataframe\">\n",
       "  <thead>\n",
       "    <tr style=\"text-align: right;\">\n",
       "      <th></th>\n",
       "      <th>user_id</th>\n",
       "      <th>month</th>\n",
       "      <th>duration</th>\n",
       "      <th>calls</th>\n",
       "      <th>messages</th>\n",
       "      <th>mb_used</th>\n",
       "      <th>tariff</th>\n",
       "      <th>earnings</th>\n",
       "      <th>city</th>\n",
       "    </tr>\n",
       "  </thead>\n",
       "  <tbody>\n",
       "    <tr>\n",
       "      <th>0</th>\n",
       "      <td>1000</td>\n",
       "      <td>5.0</td>\n",
       "      <td>159.0</td>\n",
       "      <td>22.0</td>\n",
       "      <td>22.0</td>\n",
       "      <td>2253.49</td>\n",
       "      <td>ultra</td>\n",
       "      <td>1950.0</td>\n",
       "      <td>Краснодар</td>\n",
       "    </tr>\n",
       "    <tr>\n",
       "      <th>1</th>\n",
       "      <td>1000</td>\n",
       "      <td>6.0</td>\n",
       "      <td>172.0</td>\n",
       "      <td>43.0</td>\n",
       "      <td>60.0</td>\n",
       "      <td>23233.77</td>\n",
       "      <td>ultra</td>\n",
       "      <td>1950.0</td>\n",
       "      <td>Краснодар</td>\n",
       "    </tr>\n",
       "    <tr>\n",
       "      <th>2</th>\n",
       "      <td>1000</td>\n",
       "      <td>7.0</td>\n",
       "      <td>340.0</td>\n",
       "      <td>47.0</td>\n",
       "      <td>75.0</td>\n",
       "      <td>14003.64</td>\n",
       "      <td>ultra</td>\n",
       "      <td>1950.0</td>\n",
       "      <td>Краснодар</td>\n",
       "    </tr>\n",
       "    <tr>\n",
       "      <th>3</th>\n",
       "      <td>1000</td>\n",
       "      <td>8.0</td>\n",
       "      <td>408.0</td>\n",
       "      <td>52.0</td>\n",
       "      <td>81.0</td>\n",
       "      <td>14055.93</td>\n",
       "      <td>ultra</td>\n",
       "      <td>1950.0</td>\n",
       "      <td>Краснодар</td>\n",
       "    </tr>\n",
       "    <tr>\n",
       "      <th>4</th>\n",
       "      <td>1000</td>\n",
       "      <td>9.0</td>\n",
       "      <td>466.0</td>\n",
       "      <td>58.0</td>\n",
       "      <td>57.0</td>\n",
       "      <td>14568.91</td>\n",
       "      <td>ultra</td>\n",
       "      <td>1950.0</td>\n",
       "      <td>Краснодар</td>\n",
       "    </tr>\n",
       "    <tr>\n",
       "      <th>5</th>\n",
       "      <td>1000</td>\n",
       "      <td>10.0</td>\n",
       "      <td>350.0</td>\n",
       "      <td>57.0</td>\n",
       "      <td>73.0</td>\n",
       "      <td>14702.49</td>\n",
       "      <td>ultra</td>\n",
       "      <td>1950.0</td>\n",
       "      <td>Краснодар</td>\n",
       "    </tr>\n",
       "    <tr>\n",
       "      <th>6</th>\n",
       "      <td>1000</td>\n",
       "      <td>11.0</td>\n",
       "      <td>338.0</td>\n",
       "      <td>43.0</td>\n",
       "      <td>58.0</td>\n",
       "      <td>14756.47</td>\n",
       "      <td>ultra</td>\n",
       "      <td>1950.0</td>\n",
       "      <td>Краснодар</td>\n",
       "    </tr>\n",
       "    <tr>\n",
       "      <th>7</th>\n",
       "      <td>1000</td>\n",
       "      <td>12.0</td>\n",
       "      <td>333.0</td>\n",
       "      <td>46.0</td>\n",
       "      <td>70.0</td>\n",
       "      <td>9817.61</td>\n",
       "      <td>ultra</td>\n",
       "      <td>1950.0</td>\n",
       "      <td>Краснодар</td>\n",
       "    </tr>\n",
       "    <tr>\n",
       "      <th>8</th>\n",
       "      <td>1001</td>\n",
       "      <td>11.0</td>\n",
       "      <td>430.0</td>\n",
       "      <td>59.0</td>\n",
       "      <td>0.0</td>\n",
       "      <td>18429.34</td>\n",
       "      <td>smart</td>\n",
       "      <td>1150.0</td>\n",
       "      <td>Москва</td>\n",
       "    </tr>\n",
       "    <tr>\n",
       "      <th>9</th>\n",
       "      <td>1001</td>\n",
       "      <td>12.0</td>\n",
       "      <td>414.0</td>\n",
       "      <td>63.0</td>\n",
       "      <td>0.0</td>\n",
       "      <td>14036.66</td>\n",
       "      <td>smart</td>\n",
       "      <td>550.0</td>\n",
       "      <td>Москва</td>\n",
       "    </tr>\n",
       "    <tr>\n",
       "      <th>10</th>\n",
       "      <td>1002</td>\n",
       "      <td>6.0</td>\n",
       "      <td>117.0</td>\n",
       "      <td>15.0</td>\n",
       "      <td>4.0</td>\n",
       "      <td>10856.82</td>\n",
       "      <td>smart</td>\n",
       "      <td>550.0</td>\n",
       "      <td>Стерлитамак</td>\n",
       "    </tr>\n",
       "    <tr>\n",
       "      <th>11</th>\n",
       "      <td>1002</td>\n",
       "      <td>7.0</td>\n",
       "      <td>214.0</td>\n",
       "      <td>26.0</td>\n",
       "      <td>11.0</td>\n",
       "      <td>17580.10</td>\n",
       "      <td>smart</td>\n",
       "      <td>1150.0</td>\n",
       "      <td>Стерлитамак</td>\n",
       "    </tr>\n",
       "    <tr>\n",
       "      <th>12</th>\n",
       "      <td>1002</td>\n",
       "      <td>8.0</td>\n",
       "      <td>289.0</td>\n",
       "      <td>42.0</td>\n",
       "      <td>13.0</td>\n",
       "      <td>20319.26</td>\n",
       "      <td>smart</td>\n",
       "      <td>1550.0</td>\n",
       "      <td>Стерлитамак</td>\n",
       "    </tr>\n",
       "    <tr>\n",
       "      <th>13</th>\n",
       "      <td>1002</td>\n",
       "      <td>9.0</td>\n",
       "      <td>206.0</td>\n",
       "      <td>36.0</td>\n",
       "      <td>4.0</td>\n",
       "      <td>16691.08</td>\n",
       "      <td>smart</td>\n",
       "      <td>950.0</td>\n",
       "      <td>Стерлитамак</td>\n",
       "    </tr>\n",
       "    <tr>\n",
       "      <th>14</th>\n",
       "      <td>1002</td>\n",
       "      <td>10.0</td>\n",
       "      <td>212.0</td>\n",
       "      <td>33.0</td>\n",
       "      <td>10.0</td>\n",
       "      <td>13888.25</td>\n",
       "      <td>smart</td>\n",
       "      <td>550.0</td>\n",
       "      <td>Стерлитамак</td>\n",
       "    </tr>\n",
       "  </tbody>\n",
       "</table>\n",
       "</div>"
      ],
      "text/plain": [
       "    user_id  month  duration  calls  messages   mb_used tariff  earnings  \\\n",
       "0      1000    5.0     159.0   22.0      22.0   2253.49  ultra    1950.0   \n",
       "1      1000    6.0     172.0   43.0      60.0  23233.77  ultra    1950.0   \n",
       "2      1000    7.0     340.0   47.0      75.0  14003.64  ultra    1950.0   \n",
       "3      1000    8.0     408.0   52.0      81.0  14055.93  ultra    1950.0   \n",
       "4      1000    9.0     466.0   58.0      57.0  14568.91  ultra    1950.0   \n",
       "5      1000   10.0     350.0   57.0      73.0  14702.49  ultra    1950.0   \n",
       "6      1000   11.0     338.0   43.0      58.0  14756.47  ultra    1950.0   \n",
       "7      1000   12.0     333.0   46.0      70.0   9817.61  ultra    1950.0   \n",
       "8      1001   11.0     430.0   59.0       0.0  18429.34  smart    1150.0   \n",
       "9      1001   12.0     414.0   63.0       0.0  14036.66  smart     550.0   \n",
       "10     1002    6.0     117.0   15.0       4.0  10856.82  smart     550.0   \n",
       "11     1002    7.0     214.0   26.0      11.0  17580.10  smart    1150.0   \n",
       "12     1002    8.0     289.0   42.0      13.0  20319.26  smart    1550.0   \n",
       "13     1002    9.0     206.0   36.0       4.0  16691.08  smart     950.0   \n",
       "14     1002   10.0     212.0   33.0      10.0  13888.25  smart     550.0   \n",
       "\n",
       "           city  \n",
       "0     Краснодар  \n",
       "1     Краснодар  \n",
       "2     Краснодар  \n",
       "3     Краснодар  \n",
       "4     Краснодар  \n",
       "5     Краснодар  \n",
       "6     Краснодар  \n",
       "7     Краснодар  \n",
       "8        Москва  \n",
       "9        Москва  \n",
       "10  Стерлитамак  \n",
       "11  Стерлитамак  \n",
       "12  Стерлитамак  \n",
       "13  Стерлитамак  \n",
       "14  Стерлитамак  "
      ]
     },
     "execution_count": 67,
     "metadata": {},
     "output_type": "execute_result"
    }
   ],
   "source": [
    "#объединяем данные с нашим датасетом\n",
    "final_data_city = pd.merge(final_data, users_2, on=('user_id'), how='left')\n",
    "final_data_city.head(15)"
   ]
  },
  {
   "cell_type": "code",
   "execution_count": 68,
   "metadata": {},
   "outputs": [],
   "source": [
    "moscow_us = final_data_city.query('city == \"Москва\"')['earnings'] #датасет по выручке пользователей из Москвы\n",
    "region_us = final_data_city.query('city != \"Москва\"')['earnings'] #датасет по выручке пользователей из Москвы"
   ]
  },
  {
   "cell_type": "markdown",
   "metadata": {},
   "source": [
    "H0- cредняя выручка пользователей из Москвы не отличается (почти равна) от выручки пользователей из других регионов¶\n",
    "\n",
    "H1- cредняя выручка пользователей из Москвы отличается от выручки пользователей из других регионов¶\n",
    "\n",
    "* Уровень значимости α = 0.05.\n",
    "\n",
    "* equal_var = False (так же как в предыдущей гипотезе)"
   ]
  },
  {
   "cell_type": "code",
   "execution_count": 69,
   "metadata": {},
   "outputs": [
    {
     "name": "stdout",
     "output_type": "stream",
     "text": [
      "p-значение:  0.5257376663729298\n",
      "Не получилось отвергнуть нулевую гипотезу\n"
     ]
    }
   ],
   "source": [
    "alpha = 0.05\n",
    "results = st.ttest_ind(moscow_us, region_us, equal_var = False)\n",
    "\n",
    "print('p-значение: ', results.pvalue)\n",
    "\n",
    "if results.pvalue < alpha:\n",
    "    print(\"Отвергаем нулевую гипотезу\")\n",
    "else:\n",
    "    print(\"Не получилось отвергнуть нулевую гипотезу\") "
   ]
  },
  {
   "cell_type": "markdown",
   "metadata": {},
   "source": [
    "Так как нулевую гипотезу отвергуть не получилось, то можно сделать вывод о том, что выручки пользователей из Москвы и регионов примерно равны между собой."
   ]
  },
  {
   "cell_type": "markdown",
   "metadata": {},
   "source": [
    "Можно разбить города на 2 значения: Москва и другой город. Напишем функцию, которая в новом столбце вернет это значение"
   ]
  },
  {
   "cell_type": "code",
   "execution_count": 70,
   "metadata": {},
   "outputs": [],
   "source": [
    "def what_city(data):\n",
    "    if data['city'] == 'Москва':\n",
    "        return 'Москва'\n",
    "    else:\n",
    "        return 'Другой город'\n",
    "    "
   ]
  },
  {
   "cell_type": "code",
   "execution_count": 71,
   "metadata": {},
   "outputs": [
    {
     "data": {
      "text/html": [
       "<div>\n",
       "<style scoped>\n",
       "    .dataframe tbody tr th:only-of-type {\n",
       "        vertical-align: middle;\n",
       "    }\n",
       "\n",
       "    .dataframe tbody tr th {\n",
       "        vertical-align: top;\n",
       "    }\n",
       "\n",
       "    .dataframe thead th {\n",
       "        text-align: right;\n",
       "    }\n",
       "</style>\n",
       "<table border=\"1\" class=\"dataframe\">\n",
       "  <thead>\n",
       "    <tr style=\"text-align: right;\">\n",
       "      <th></th>\n",
       "      <th>user_id</th>\n",
       "      <th>month</th>\n",
       "      <th>duration</th>\n",
       "      <th>calls</th>\n",
       "      <th>messages</th>\n",
       "      <th>mb_used</th>\n",
       "      <th>tariff</th>\n",
       "      <th>earnings</th>\n",
       "      <th>city</th>\n",
       "      <th>what_city</th>\n",
       "    </tr>\n",
       "  </thead>\n",
       "  <tbody>\n",
       "    <tr>\n",
       "      <th>0</th>\n",
       "      <td>1000</td>\n",
       "      <td>5.0</td>\n",
       "      <td>159.0</td>\n",
       "      <td>22.0</td>\n",
       "      <td>22.0</td>\n",
       "      <td>2253.49</td>\n",
       "      <td>ultra</td>\n",
       "      <td>1950.0</td>\n",
       "      <td>Краснодар</td>\n",
       "      <td>Другой город</td>\n",
       "    </tr>\n",
       "    <tr>\n",
       "      <th>1</th>\n",
       "      <td>1000</td>\n",
       "      <td>6.0</td>\n",
       "      <td>172.0</td>\n",
       "      <td>43.0</td>\n",
       "      <td>60.0</td>\n",
       "      <td>23233.77</td>\n",
       "      <td>ultra</td>\n",
       "      <td>1950.0</td>\n",
       "      <td>Краснодар</td>\n",
       "      <td>Другой город</td>\n",
       "    </tr>\n",
       "    <tr>\n",
       "      <th>2</th>\n",
       "      <td>1000</td>\n",
       "      <td>7.0</td>\n",
       "      <td>340.0</td>\n",
       "      <td>47.0</td>\n",
       "      <td>75.0</td>\n",
       "      <td>14003.64</td>\n",
       "      <td>ultra</td>\n",
       "      <td>1950.0</td>\n",
       "      <td>Краснодар</td>\n",
       "      <td>Другой город</td>\n",
       "    </tr>\n",
       "    <tr>\n",
       "      <th>3</th>\n",
       "      <td>1000</td>\n",
       "      <td>8.0</td>\n",
       "      <td>408.0</td>\n",
       "      <td>52.0</td>\n",
       "      <td>81.0</td>\n",
       "      <td>14055.93</td>\n",
       "      <td>ultra</td>\n",
       "      <td>1950.0</td>\n",
       "      <td>Краснодар</td>\n",
       "      <td>Другой город</td>\n",
       "    </tr>\n",
       "    <tr>\n",
       "      <th>4</th>\n",
       "      <td>1000</td>\n",
       "      <td>9.0</td>\n",
       "      <td>466.0</td>\n",
       "      <td>58.0</td>\n",
       "      <td>57.0</td>\n",
       "      <td>14568.91</td>\n",
       "      <td>ultra</td>\n",
       "      <td>1950.0</td>\n",
       "      <td>Краснодар</td>\n",
       "      <td>Другой город</td>\n",
       "    </tr>\n",
       "    <tr>\n",
       "      <th>5</th>\n",
       "      <td>1000</td>\n",
       "      <td>10.0</td>\n",
       "      <td>350.0</td>\n",
       "      <td>57.0</td>\n",
       "      <td>73.0</td>\n",
       "      <td>14702.49</td>\n",
       "      <td>ultra</td>\n",
       "      <td>1950.0</td>\n",
       "      <td>Краснодар</td>\n",
       "      <td>Другой город</td>\n",
       "    </tr>\n",
       "    <tr>\n",
       "      <th>6</th>\n",
       "      <td>1000</td>\n",
       "      <td>11.0</td>\n",
       "      <td>338.0</td>\n",
       "      <td>43.0</td>\n",
       "      <td>58.0</td>\n",
       "      <td>14756.47</td>\n",
       "      <td>ultra</td>\n",
       "      <td>1950.0</td>\n",
       "      <td>Краснодар</td>\n",
       "      <td>Другой город</td>\n",
       "    </tr>\n",
       "    <tr>\n",
       "      <th>7</th>\n",
       "      <td>1000</td>\n",
       "      <td>12.0</td>\n",
       "      <td>333.0</td>\n",
       "      <td>46.0</td>\n",
       "      <td>70.0</td>\n",
       "      <td>9817.61</td>\n",
       "      <td>ultra</td>\n",
       "      <td>1950.0</td>\n",
       "      <td>Краснодар</td>\n",
       "      <td>Другой город</td>\n",
       "    </tr>\n",
       "    <tr>\n",
       "      <th>8</th>\n",
       "      <td>1001</td>\n",
       "      <td>11.0</td>\n",
       "      <td>430.0</td>\n",
       "      <td>59.0</td>\n",
       "      <td>0.0</td>\n",
       "      <td>18429.34</td>\n",
       "      <td>smart</td>\n",
       "      <td>1150.0</td>\n",
       "      <td>Москва</td>\n",
       "      <td>Москва</td>\n",
       "    </tr>\n",
       "    <tr>\n",
       "      <th>9</th>\n",
       "      <td>1001</td>\n",
       "      <td>12.0</td>\n",
       "      <td>414.0</td>\n",
       "      <td>63.0</td>\n",
       "      <td>0.0</td>\n",
       "      <td>14036.66</td>\n",
       "      <td>smart</td>\n",
       "      <td>550.0</td>\n",
       "      <td>Москва</td>\n",
       "      <td>Москва</td>\n",
       "    </tr>\n",
       "    <tr>\n",
       "      <th>10</th>\n",
       "      <td>1002</td>\n",
       "      <td>6.0</td>\n",
       "      <td>117.0</td>\n",
       "      <td>15.0</td>\n",
       "      <td>4.0</td>\n",
       "      <td>10856.82</td>\n",
       "      <td>smart</td>\n",
       "      <td>550.0</td>\n",
       "      <td>Стерлитамак</td>\n",
       "      <td>Другой город</td>\n",
       "    </tr>\n",
       "    <tr>\n",
       "      <th>11</th>\n",
       "      <td>1002</td>\n",
       "      <td>7.0</td>\n",
       "      <td>214.0</td>\n",
       "      <td>26.0</td>\n",
       "      <td>11.0</td>\n",
       "      <td>17580.10</td>\n",
       "      <td>smart</td>\n",
       "      <td>1150.0</td>\n",
       "      <td>Стерлитамак</td>\n",
       "      <td>Другой город</td>\n",
       "    </tr>\n",
       "    <tr>\n",
       "      <th>12</th>\n",
       "      <td>1002</td>\n",
       "      <td>8.0</td>\n",
       "      <td>289.0</td>\n",
       "      <td>42.0</td>\n",
       "      <td>13.0</td>\n",
       "      <td>20319.26</td>\n",
       "      <td>smart</td>\n",
       "      <td>1550.0</td>\n",
       "      <td>Стерлитамак</td>\n",
       "      <td>Другой город</td>\n",
       "    </tr>\n",
       "    <tr>\n",
       "      <th>13</th>\n",
       "      <td>1002</td>\n",
       "      <td>9.0</td>\n",
       "      <td>206.0</td>\n",
       "      <td>36.0</td>\n",
       "      <td>4.0</td>\n",
       "      <td>16691.08</td>\n",
       "      <td>smart</td>\n",
       "      <td>950.0</td>\n",
       "      <td>Стерлитамак</td>\n",
       "      <td>Другой город</td>\n",
       "    </tr>\n",
       "    <tr>\n",
       "      <th>14</th>\n",
       "      <td>1002</td>\n",
       "      <td>10.0</td>\n",
       "      <td>212.0</td>\n",
       "      <td>33.0</td>\n",
       "      <td>10.0</td>\n",
       "      <td>13888.25</td>\n",
       "      <td>smart</td>\n",
       "      <td>550.0</td>\n",
       "      <td>Стерлитамак</td>\n",
       "      <td>Другой город</td>\n",
       "    </tr>\n",
       "  </tbody>\n",
       "</table>\n",
       "</div>"
      ],
      "text/plain": [
       "    user_id  month  duration  calls  messages   mb_used tariff  earnings  \\\n",
       "0      1000    5.0     159.0   22.0      22.0   2253.49  ultra    1950.0   \n",
       "1      1000    6.0     172.0   43.0      60.0  23233.77  ultra    1950.0   \n",
       "2      1000    7.0     340.0   47.0      75.0  14003.64  ultra    1950.0   \n",
       "3      1000    8.0     408.0   52.0      81.0  14055.93  ultra    1950.0   \n",
       "4      1000    9.0     466.0   58.0      57.0  14568.91  ultra    1950.0   \n",
       "5      1000   10.0     350.0   57.0      73.0  14702.49  ultra    1950.0   \n",
       "6      1000   11.0     338.0   43.0      58.0  14756.47  ultra    1950.0   \n",
       "7      1000   12.0     333.0   46.0      70.0   9817.61  ultra    1950.0   \n",
       "8      1001   11.0     430.0   59.0       0.0  18429.34  smart    1150.0   \n",
       "9      1001   12.0     414.0   63.0       0.0  14036.66  smart     550.0   \n",
       "10     1002    6.0     117.0   15.0       4.0  10856.82  smart     550.0   \n",
       "11     1002    7.0     214.0   26.0      11.0  17580.10  smart    1150.0   \n",
       "12     1002    8.0     289.0   42.0      13.0  20319.26  smart    1550.0   \n",
       "13     1002    9.0     206.0   36.0       4.0  16691.08  smart     950.0   \n",
       "14     1002   10.0     212.0   33.0      10.0  13888.25  smart     550.0   \n",
       "\n",
       "           city     what_city  \n",
       "0     Краснодар  Другой город  \n",
       "1     Краснодар  Другой город  \n",
       "2     Краснодар  Другой город  \n",
       "3     Краснодар  Другой город  \n",
       "4     Краснодар  Другой город  \n",
       "5     Краснодар  Другой город  \n",
       "6     Краснодар  Другой город  \n",
       "7     Краснодар  Другой город  \n",
       "8        Москва        Москва  \n",
       "9        Москва        Москва  \n",
       "10  Стерлитамак  Другой город  \n",
       "11  Стерлитамак  Другой город  \n",
       "12  Стерлитамак  Другой город  \n",
       "13  Стерлитамак  Другой город  \n",
       "14  Стерлитамак  Другой город  "
      ]
     },
     "execution_count": 71,
     "metadata": {},
     "output_type": "execute_result"
    }
   ],
   "source": [
    "final_data_city['what_city'] = final_data_city.apply(what_city, axis=1)\n",
    "final_data_city.head(15)"
   ]
  },
  {
   "cell_type": "code",
   "execution_count": 72,
   "metadata": {},
   "outputs": [
    {
     "name": "stdout",
     "output_type": "stream",
     "text": [
      "---------Средняя выручка между Москвой и другими городами---------\n"
     ]
    },
    {
     "data": {
      "text/html": [
       "<div>\n",
       "<style scoped>\n",
       "    .dataframe tbody tr th:only-of-type {\n",
       "        vertical-align: middle;\n",
       "    }\n",
       "\n",
       "    .dataframe tbody tr th {\n",
       "        vertical-align: top;\n",
       "    }\n",
       "\n",
       "    .dataframe thead th {\n",
       "        text-align: right;\n",
       "    }\n",
       "</style>\n",
       "<table border=\"1\" class=\"dataframe\">\n",
       "  <thead>\n",
       "    <tr style=\"text-align: right;\">\n",
       "      <th></th>\n",
       "      <th>earnings</th>\n",
       "    </tr>\n",
       "    <tr>\n",
       "      <th>what_city</th>\n",
       "      <th></th>\n",
       "    </tr>\n",
       "  </thead>\n",
       "  <tbody>\n",
       "    <tr>\n",
       "      <th>Другой город</th>\n",
       "      <td>1583.0</td>\n",
       "    </tr>\n",
       "    <tr>\n",
       "      <th>Москва</th>\n",
       "      <td>1750.0</td>\n",
       "    </tr>\n",
       "  </tbody>\n",
       "</table>\n",
       "</div>"
      ],
      "text/plain": [
       "              earnings\n",
       "what_city             \n",
       "Другой город    1583.0\n",
       "Москва          1750.0"
      ]
     },
     "execution_count": 72,
     "metadata": {},
     "output_type": "execute_result"
    }
   ],
   "source": [
    "print('---------Средняя выручка между Москвой и другими городами---------')\n",
    "final_data_city.pivot_table(index='what_city', values='earnings', aggfunc='median')"
   ]
  },
  {
   "cell_type": "markdown",
   "metadata": {},
   "source": [
    "Средняя выручка между Москвой и другими городами различается приблизительно на 170 руб."
   ]
  },
  {
   "cell_type": "markdown",
   "metadata": {},
   "source": [
    "## Общий вывод"
   ]
  },
  {
   "cell_type": "markdown",
   "metadata": {},
   "source": [
    "В этой работе был проведен анализ клиентов оператора сотовой связи \"Мегалайн\" на небольшой выборке в 500 человек. Стояла задача определить какой тариф приносит больше денег.\n",
    "Для этого мы обработали не один, а целых 5 датасетов. Провели работу по изменению типа данных, поработали с пропущенными значениями и получили один удобный в работе датасет.\n",
    "\n",
    "Визуализация данных помогла нам установить, что дисперсия у пользователей тарифа *Ultra* больше, чем у пользователей тарифа *Smart*. Она больше по всем показателям: минуты, интернет-трафик, сообщения; т.е. пользователи тарифа *Ultra* чувствуют себя более свободно, не задумываясь о том, как именно использовать свой пакет, а кто-то и вовсе не использует его до конца. Они обладают более широким выбором и лишь 14% клиентов переплачивает за тариф. \n",
    "\n",
    "Напротив - только 14% пользователей тарифа *Smart* укладываются в установленные рамки, а превосходящее большинство, т.е. 86% вынуждены доплачивать в среднем 473 руб/месяц (почти 2 тарифа!!). В основном им не хватает интернет-трафика, а далее уже минут на разговоры. Оно и понятно - век интернета, вся жизнь так или иначе связа с его трафиком.\n",
    "Для принятия решения мы проверили две гипотезы, и установили:\n",
    "1. что выручки по тарифам различаются. И не смотря на то, что клиенты тарифа *Smart* регулярно платят в 2 раза больше стоимости тарифа(**~1023 руб.**), выручка с тарифа *Ultra* все равно выше, т.к. даже средний платеж равен сумме тарифа - **1950 руб.**\n",
    "2. между Москвой и другими регионами нет большой разницы в средней выручке, а значит, что в регионах можно запустить рекламу одного тарифа.\n",
    "\n",
    "На формирования конечного вывода повлиял результат сравнения средней выручки по Москве и другим городам, и эти значения оказались ниже чем плата за тарифа *Ultra*, т.е. ниже 1950 руб. Поэтому более удобным и бюджетным для клиентов \"Мегалайн\" является тариф *Smart*, т.к. в основном, даже с учетом переплаты, за месяц выйдет сумма меньше чем 1950 руб. Поэтому скорректировать рекламный бюджет можно таким образом, чтобы было больше рекламы для тарифа *Smart*.\n"
   ]
  }
 ],
 "metadata": {
  "ExecuteTimeLog": [
   {
    "duration": 1077,
    "start_time": "2022-02-09T19:09:14.006Z"
   },
   {
    "duration": 372,
    "start_time": "2022-02-09T19:09:15.086Z"
   },
   {
    "duration": 74,
    "start_time": "2022-02-09T19:09:15.460Z"
   },
   {
    "duration": 63,
    "start_time": "2022-02-09T19:09:15.535Z"
   },
   {
    "duration": 6,
    "start_time": "2022-02-09T19:09:15.599Z"
   },
   {
    "duration": 25,
    "start_time": "2022-02-09T19:09:15.607Z"
   },
   {
    "duration": 22,
    "start_time": "2022-02-09T19:09:15.633Z"
   },
   {
    "duration": 414,
    "start_time": "2022-02-09T19:09:15.657Z"
   },
   {
    "duration": 14,
    "start_time": "2022-02-09T19:09:16.073Z"
   },
   {
    "duration": 20,
    "start_time": "2022-02-09T19:09:16.089Z"
   },
   {
    "duration": 16,
    "start_time": "2022-02-09T19:09:16.127Z"
   },
   {
    "duration": 24,
    "start_time": "2022-02-09T19:09:16.144Z"
   },
   {
    "duration": 19,
    "start_time": "2022-02-09T19:09:16.170Z"
   },
   {
    "duration": 45,
    "start_time": "2022-02-09T19:09:16.191Z"
   },
   {
    "duration": 8,
    "start_time": "2022-02-09T19:09:16.237Z"
   },
   {
    "duration": 25,
    "start_time": "2022-02-09T19:09:16.247Z"
   },
   {
    "duration": 2,
    "start_time": "2022-02-09T19:09:16.274Z"
   },
   {
    "duration": 13,
    "start_time": "2022-02-09T19:09:16.278Z"
   },
   {
    "duration": 5,
    "start_time": "2022-02-09T19:09:16.293Z"
   },
   {
    "duration": 6,
    "start_time": "2022-02-09T19:09:16.299Z"
   },
   {
    "duration": 27,
    "start_time": "2022-02-09T19:09:16.306Z"
   },
   {
    "duration": 2,
    "start_time": "2022-02-09T19:09:16.334Z"
   },
   {
    "duration": 5,
    "start_time": "2022-02-09T19:09:16.338Z"
   },
   {
    "duration": 5,
    "start_time": "2022-02-09T19:09:16.345Z"
   },
   {
    "duration": 6,
    "start_time": "2022-02-09T19:09:16.351Z"
   },
   {
    "duration": 4637,
    "start_time": "2022-02-09T19:09:16.358Z"
   },
   {
    "duration": 5,
    "start_time": "2022-02-09T19:13:55.569Z"
   },
   {
    "duration": 3,
    "start_time": "2022-02-09T19:14:08.271Z"
   },
   {
    "duration": 350,
    "start_time": "2022-02-09T19:14:08.275Z"
   },
   {
    "duration": 72,
    "start_time": "2022-02-09T19:14:08.627Z"
   },
   {
    "duration": 77,
    "start_time": "2022-02-09T19:14:08.700Z"
   },
   {
    "duration": 6,
    "start_time": "2022-02-09T19:14:08.779Z"
   },
   {
    "duration": 10,
    "start_time": "2022-02-09T19:14:08.786Z"
   },
   {
    "duration": 33,
    "start_time": "2022-02-09T19:14:08.798Z"
   },
   {
    "duration": 364,
    "start_time": "2022-02-09T19:14:08.832Z"
   },
   {
    "duration": 13,
    "start_time": "2022-02-09T19:14:09.198Z"
   },
   {
    "duration": 28,
    "start_time": "2022-02-09T19:14:09.213Z"
   },
   {
    "duration": 16,
    "start_time": "2022-02-09T19:14:09.242Z"
   },
   {
    "duration": 19,
    "start_time": "2022-02-09T19:14:09.260Z"
   },
   {
    "duration": 47,
    "start_time": "2022-02-09T19:14:09.281Z"
   },
   {
    "duration": 16,
    "start_time": "2022-02-09T19:14:09.330Z"
   },
   {
    "duration": 8,
    "start_time": "2022-02-09T19:14:09.348Z"
   },
   {
    "duration": 13,
    "start_time": "2022-02-09T19:14:09.357Z"
   },
   {
    "duration": 2,
    "start_time": "2022-02-09T19:14:09.372Z"
   },
   {
    "duration": 4,
    "start_time": "2022-02-09T19:14:09.375Z"
   },
   {
    "duration": 5,
    "start_time": "2022-02-09T19:14:09.381Z"
   },
   {
    "duration": 39,
    "start_time": "2022-02-09T19:14:09.388Z"
   },
   {
    "duration": 9,
    "start_time": "2022-02-09T19:14:09.428Z"
   },
   {
    "duration": 8,
    "start_time": "2022-02-09T19:14:09.438Z"
   },
   {
    "duration": 10,
    "start_time": "2022-02-09T19:14:09.447Z"
   },
   {
    "duration": 5,
    "start_time": "2022-02-09T19:14:09.459Z"
   },
   {
    "duration": 4935,
    "start_time": "2022-02-09T19:14:09.466Z"
   },
   {
    "duration": 305,
    "start_time": "2022-02-09T19:14:34.632Z"
   },
   {
    "duration": 14,
    "start_time": "2022-02-09T19:14:54.923Z"
   },
   {
    "duration": 10,
    "start_time": "2022-02-09T19:17:43.091Z"
   },
   {
    "duration": 9,
    "start_time": "2022-02-09T19:18:48.814Z"
   },
   {
    "duration": 9,
    "start_time": "2022-02-09T19:24:14.834Z"
   },
   {
    "duration": 285,
    "start_time": "2022-02-09T19:24:15.828Z"
   },
   {
    "duration": 11,
    "start_time": "2022-02-09T19:24:17.616Z"
   },
   {
    "duration": 4536,
    "start_time": "2022-02-09T19:24:22.640Z"
   },
   {
    "duration": 270,
    "start_time": "2022-02-09T19:24:30.891Z"
   },
   {
    "duration": 9,
    "start_time": "2022-02-09T19:26:15.606Z"
   },
   {
    "duration": 274,
    "start_time": "2022-02-09T19:26:17.011Z"
   },
   {
    "duration": 10,
    "start_time": "2022-02-09T19:26:18.884Z"
   },
   {
    "duration": 6,
    "start_time": "2022-02-09T19:28:09.949Z"
   },
   {
    "duration": 279,
    "start_time": "2022-02-09T19:28:11.401Z"
   },
   {
    "duration": 10,
    "start_time": "2022-02-09T19:28:12.569Z"
   },
   {
    "duration": 6,
    "start_time": "2022-02-09T19:28:49.814Z"
   },
   {
    "duration": 272,
    "start_time": "2022-02-09T19:28:50.531Z"
   },
   {
    "duration": 10,
    "start_time": "2022-02-09T19:28:51.395Z"
   },
   {
    "duration": 6,
    "start_time": "2022-02-09T19:30:24.232Z"
   },
   {
    "duration": 276,
    "start_time": "2022-02-09T19:30:25.294Z"
   },
   {
    "duration": 10,
    "start_time": "2022-02-09T19:30:25.885Z"
   },
   {
    "duration": 10,
    "start_time": "2022-02-09T19:31:09.846Z"
   },
   {
    "duration": 409,
    "start_time": "2022-02-09T19:31:10.957Z"
   },
   {
    "duration": 13,
    "start_time": "2022-02-09T19:31:11.417Z"
   },
   {
    "duration": 6,
    "start_time": "2022-02-09T19:31:27.146Z"
   },
   {
    "duration": 376,
    "start_time": "2022-02-09T19:31:28.718Z"
   },
   {
    "duration": 11,
    "start_time": "2022-02-09T19:31:29.244Z"
   },
   {
    "duration": 6,
    "start_time": "2022-02-09T19:31:48.993Z"
   },
   {
    "duration": 283,
    "start_time": "2022-02-09T19:31:50.056Z"
   },
   {
    "duration": 10,
    "start_time": "2022-02-09T19:31:50.363Z"
   },
   {
    "duration": 11,
    "start_time": "2022-02-09T19:35:13.126Z"
   },
   {
    "duration": 6,
    "start_time": "2022-02-09T19:39:04.939Z"
   },
   {
    "duration": 266,
    "start_time": "2022-02-09T19:39:06.510Z"
   },
   {
    "duration": 11,
    "start_time": "2022-02-09T19:39:07.035Z"
   },
   {
    "duration": 6,
    "start_time": "2022-02-09T19:45:38.933Z"
   },
   {
    "duration": 269,
    "start_time": "2022-02-09T19:45:39.859Z"
   },
   {
    "duration": 11,
    "start_time": "2022-02-09T19:45:40.858Z"
   },
   {
    "duration": 6,
    "start_time": "2022-02-09T19:48:37.535Z"
   },
   {
    "duration": 264,
    "start_time": "2022-02-09T19:48:38.616Z"
   },
   {
    "duration": 11,
    "start_time": "2022-02-09T19:48:39.169Z"
   },
   {
    "duration": 6,
    "start_time": "2022-02-09T19:48:47.550Z"
   },
   {
    "duration": 271,
    "start_time": "2022-02-09T19:48:49.128Z"
   },
   {
    "duration": 11,
    "start_time": "2022-02-09T19:48:49.818Z"
   },
   {
    "duration": 1418,
    "start_time": "2022-02-10T06:01:59.531Z"
   },
   {
    "duration": 810,
    "start_time": "2022-02-10T06:02:00.952Z"
   },
   {
    "duration": 178,
    "start_time": "2022-02-10T06:02:01.766Z"
   },
   {
    "duration": 116,
    "start_time": "2022-02-10T06:02:01.970Z"
   },
   {
    "duration": 12,
    "start_time": "2022-02-10T06:02:02.088Z"
   },
   {
    "duration": 54,
    "start_time": "2022-02-10T06:02:02.103Z"
   },
   {
    "duration": 39,
    "start_time": "2022-02-10T06:02:02.160Z"
   },
   {
    "duration": 926,
    "start_time": "2022-02-10T06:02:02.203Z"
   },
   {
    "duration": 21,
    "start_time": "2022-02-10T06:02:03.132Z"
   },
   {
    "duration": 43,
    "start_time": "2022-02-10T06:02:03.155Z"
   },
   {
    "duration": 24,
    "start_time": "2022-02-10T06:02:03.201Z"
   },
   {
    "duration": 65,
    "start_time": "2022-02-10T06:02:03.227Z"
   },
   {
    "duration": 32,
    "start_time": "2022-02-10T06:02:03.295Z"
   },
   {
    "duration": 52,
    "start_time": "2022-02-10T06:02:03.330Z"
   },
   {
    "duration": 11,
    "start_time": "2022-02-10T06:02:03.384Z"
   },
   {
    "duration": 24,
    "start_time": "2022-02-10T06:02:03.397Z"
   },
   {
    "duration": 3,
    "start_time": "2022-02-10T06:02:03.424Z"
   },
   {
    "duration": 44,
    "start_time": "2022-02-10T06:02:03.429Z"
   },
   {
    "duration": 17,
    "start_time": "2022-02-10T06:02:03.475Z"
   },
   {
    "duration": 7,
    "start_time": "2022-02-10T06:02:03.495Z"
   },
   {
    "duration": 18,
    "start_time": "2022-02-10T06:02:03.505Z"
   },
   {
    "duration": 14,
    "start_time": "2022-02-10T06:02:03.526Z"
   },
   {
    "duration": 29,
    "start_time": "2022-02-10T06:02:03.545Z"
   },
   {
    "duration": 9,
    "start_time": "2022-02-10T06:02:03.577Z"
   },
   {
    "duration": 541,
    "start_time": "2022-02-10T06:02:03.589Z"
   },
   {
    "duration": 19,
    "start_time": "2022-02-10T06:02:04.132Z"
   },
   {
    "duration": 24,
    "start_time": "2022-02-10T06:02:04.154Z"
   },
   {
    "duration": 371,
    "start_time": "2022-02-10T06:06:42.192Z"
   },
   {
    "duration": 10,
    "start_time": "2022-02-10T06:06:48.649Z"
   },
   {
    "duration": 6761,
    "start_time": "2022-02-10T06:06:49.183Z"
   },
   {
    "duration": 9,
    "start_time": "2022-02-10T06:07:43.644Z"
   },
   {
    "duration": 808,
    "start_time": "2022-02-10T06:07:48.339Z"
   },
   {
    "duration": 559,
    "start_time": "2022-02-10T06:07:57.555Z"
   },
   {
    "duration": 6,
    "start_time": "2022-02-10T06:12:04.647Z"
   },
   {
    "duration": 10,
    "start_time": "2022-02-10T06:16:53.187Z"
   },
   {
    "duration": 506,
    "start_time": "2022-02-10T06:16:54.853Z"
   },
   {
    "duration": 22,
    "start_time": "2022-02-10T06:16:56.622Z"
   },
   {
    "duration": 22,
    "start_time": "2022-02-10T06:17:17.921Z"
   },
   {
    "duration": 11,
    "start_time": "2022-02-10T06:17:37.313Z"
   },
   {
    "duration": 9,
    "start_time": "2022-02-10T06:18:19.197Z"
   },
   {
    "duration": 11,
    "start_time": "2022-02-10T06:18:19.894Z"
   },
   {
    "duration": 506,
    "start_time": "2022-02-10T06:18:20.740Z"
   },
   {
    "duration": 9,
    "start_time": "2022-02-10T06:18:34.191Z"
   },
   {
    "duration": 12,
    "start_time": "2022-02-10T06:18:34.950Z"
   },
   {
    "duration": 487,
    "start_time": "2022-02-10T06:18:35.886Z"
   },
   {
    "duration": 21,
    "start_time": "2022-02-10T06:18:39.631Z"
   },
   {
    "duration": 10,
    "start_time": "2022-02-10T06:23:31.084Z"
   },
   {
    "duration": 532,
    "start_time": "2022-02-10T06:23:35.517Z"
   },
   {
    "duration": 21,
    "start_time": "2022-02-10T06:23:37.070Z"
   },
   {
    "duration": 9,
    "start_time": "2022-02-10T06:25:22.926Z"
   },
   {
    "duration": 11,
    "start_time": "2022-02-10T06:25:23.638Z"
   },
   {
    "duration": 544,
    "start_time": "2022-02-10T06:25:24.134Z"
   },
   {
    "duration": 21,
    "start_time": "2022-02-10T06:25:25.322Z"
   },
   {
    "duration": 8,
    "start_time": "2022-02-10T06:25:35.728Z"
   },
   {
    "duration": 12,
    "start_time": "2022-02-10T06:25:36.471Z"
   },
   {
    "duration": 1049,
    "start_time": "2022-02-10T06:25:37.160Z"
   },
   {
    "duration": 19,
    "start_time": "2022-02-10T06:25:38.212Z"
   },
   {
    "duration": 8,
    "start_time": "2022-02-10T06:26:12.348Z"
   },
   {
    "duration": 11,
    "start_time": "2022-02-10T06:26:13.282Z"
   },
   {
    "duration": 535,
    "start_time": "2022-02-10T06:26:14.898Z"
   },
   {
    "duration": 19,
    "start_time": "2022-02-10T06:26:15.547Z"
   },
   {
    "duration": 10,
    "start_time": "2022-02-10T06:26:21.412Z"
   },
   {
    "duration": 12,
    "start_time": "2022-02-10T06:26:21.971Z"
   },
   {
    "duration": 490,
    "start_time": "2022-02-10T06:26:22.450Z"
   },
   {
    "duration": 9,
    "start_time": "2022-02-10T06:26:42.542Z"
   },
   {
    "duration": 11,
    "start_time": "2022-02-10T06:26:43.645Z"
   },
   {
    "duration": 582,
    "start_time": "2022-02-10T06:26:44.630Z"
   },
   {
    "duration": 21,
    "start_time": "2022-02-10T06:26:45.359Z"
   },
   {
    "duration": 4,
    "start_time": "2022-02-10T06:26:58.297Z"
   },
   {
    "duration": 529,
    "start_time": "2022-02-10T06:26:58.304Z"
   },
   {
    "duration": 141,
    "start_time": "2022-02-10T06:26:58.836Z"
   },
   {
    "duration": 115,
    "start_time": "2022-02-10T06:26:58.980Z"
   },
   {
    "duration": 12,
    "start_time": "2022-02-10T06:26:59.097Z"
   },
   {
    "duration": 14,
    "start_time": "2022-02-10T06:26:59.111Z"
   },
   {
    "duration": 59,
    "start_time": "2022-02-10T06:26:59.127Z"
   },
   {
    "duration": 929,
    "start_time": "2022-02-10T06:26:59.188Z"
   },
   {
    "duration": 22,
    "start_time": "2022-02-10T06:27:00.121Z"
   },
   {
    "duration": 51,
    "start_time": "2022-02-10T06:27:00.148Z"
   },
   {
    "duration": 24,
    "start_time": "2022-02-10T06:27:00.201Z"
   },
   {
    "duration": 58,
    "start_time": "2022-02-10T06:27:00.228Z"
   },
   {
    "duration": 34,
    "start_time": "2022-02-10T06:27:00.288Z"
   },
   {
    "duration": 53,
    "start_time": "2022-02-10T06:27:00.325Z"
   },
   {
    "duration": 12,
    "start_time": "2022-02-10T06:27:00.381Z"
   },
   {
    "duration": 39,
    "start_time": "2022-02-10T06:27:00.396Z"
   },
   {
    "duration": 5,
    "start_time": "2022-02-10T06:27:00.437Z"
   },
   {
    "duration": 24,
    "start_time": "2022-02-10T06:27:00.445Z"
   },
   {
    "duration": 15,
    "start_time": "2022-02-10T06:27:00.472Z"
   },
   {
    "duration": 14,
    "start_time": "2022-02-10T06:27:00.490Z"
   },
   {
    "duration": 23,
    "start_time": "2022-02-10T06:27:00.506Z"
   },
   {
    "duration": 28,
    "start_time": "2022-02-10T06:27:00.531Z"
   },
   {
    "duration": 14,
    "start_time": "2022-02-10T06:27:00.570Z"
   },
   {
    "duration": 11,
    "start_time": "2022-02-10T06:27:00.587Z"
   },
   {
    "duration": 21,
    "start_time": "2022-02-10T06:27:00.601Z"
   },
   {
    "duration": 571,
    "start_time": "2022-02-10T06:27:00.624Z"
   },
   {
    "duration": 21,
    "start_time": "2022-02-10T06:27:01.200Z"
   },
   {
    "duration": 33,
    "start_time": "2022-02-10T06:27:01.224Z"
   },
   {
    "duration": 16,
    "start_time": "2022-02-10T06:50:21.470Z"
   },
   {
    "duration": 10,
    "start_time": "2022-02-10T06:57:10.299Z"
   },
   {
    "duration": 550,
    "start_time": "2022-02-10T07:04:27.064Z"
   },
   {
    "duration": 22,
    "start_time": "2022-02-10T07:04:27.968Z"
   },
   {
    "duration": 22,
    "start_time": "2022-02-10T07:07:20.006Z"
   },
   {
    "duration": 4,
    "start_time": "2022-02-10T07:10:55.595Z"
   },
   {
    "duration": 534,
    "start_time": "2022-02-10T07:10:55.602Z"
   },
   {
    "duration": 143,
    "start_time": "2022-02-10T07:10:56.139Z"
   },
   {
    "duration": 124,
    "start_time": "2022-02-10T07:10:56.285Z"
   },
   {
    "duration": 11,
    "start_time": "2022-02-10T07:10:56.412Z"
   },
   {
    "duration": 15,
    "start_time": "2022-02-10T07:10:56.426Z"
   },
   {
    "duration": 33,
    "start_time": "2022-02-10T07:10:56.468Z"
   },
   {
    "duration": 835,
    "start_time": "2022-02-10T07:10:56.505Z"
   },
   {
    "duration": 33,
    "start_time": "2022-02-10T07:10:57.343Z"
   },
   {
    "duration": 32,
    "start_time": "2022-02-10T07:10:57.378Z"
   },
   {
    "duration": 25,
    "start_time": "2022-02-10T07:10:57.413Z"
   },
   {
    "duration": 61,
    "start_time": "2022-02-10T07:10:57.441Z"
   },
   {
    "duration": 32,
    "start_time": "2022-02-10T07:10:57.504Z"
   },
   {
    "duration": 54,
    "start_time": "2022-02-10T07:10:57.538Z"
   },
   {
    "duration": 13,
    "start_time": "2022-02-10T07:10:57.595Z"
   },
   {
    "duration": 26,
    "start_time": "2022-02-10T07:10:57.611Z"
   },
   {
    "duration": 34,
    "start_time": "2022-02-10T07:10:57.640Z"
   },
   {
    "duration": 8,
    "start_time": "2022-02-10T07:10:57.676Z"
   },
   {
    "duration": 20,
    "start_time": "2022-02-10T07:10:57.686Z"
   },
   {
    "duration": 23,
    "start_time": "2022-02-10T07:10:57.709Z"
   },
   {
    "duration": 44,
    "start_time": "2022-02-10T07:10:57.735Z"
   },
   {
    "duration": 11,
    "start_time": "2022-02-10T07:10:57.781Z"
   },
   {
    "duration": 573,
    "start_time": "2022-02-10T07:10:57.796Z"
   },
   {
    "duration": 19,
    "start_time": "2022-02-10T07:10:58.372Z"
   },
   {
    "duration": 271,
    "start_time": "2022-02-10T08:10:20.595Z"
   },
   {
    "duration": 660,
    "start_time": "2022-02-10T08:10:32.429Z"
   },
   {
    "duration": 672,
    "start_time": "2022-02-10T08:11:19.883Z"
   },
   {
    "duration": 638,
    "start_time": "2022-02-10T08:11:28.504Z"
   },
   {
    "duration": 57,
    "start_time": "2022-02-10T08:12:25.606Z"
   },
   {
    "duration": 736,
    "start_time": "2022-02-10T08:14:03.797Z"
   },
   {
    "duration": 649,
    "start_time": "2022-02-10T08:16:19.641Z"
   },
   {
    "duration": 649,
    "start_time": "2022-02-10T08:16:30.258Z"
   },
   {
    "duration": 637,
    "start_time": "2022-02-10T08:16:45.746Z"
   },
   {
    "duration": 666,
    "start_time": "2022-02-10T08:17:02.764Z"
   },
   {
    "duration": 659,
    "start_time": "2022-02-10T08:17:09.533Z"
   },
   {
    "duration": 1159,
    "start_time": "2022-02-10T08:17:15.837Z"
   },
   {
    "duration": 652,
    "start_time": "2022-02-10T08:17:39.382Z"
   },
   {
    "duration": 53,
    "start_time": "2022-02-10T08:18:03.648Z"
   },
   {
    "duration": 574,
    "start_time": "2022-02-10T08:20:30.540Z"
   },
   {
    "duration": 554,
    "start_time": "2022-02-10T08:25:24.580Z"
   },
   {
    "duration": 253,
    "start_time": "2022-02-10T08:25:47.574Z"
   },
   {
    "duration": 248,
    "start_time": "2022-02-10T08:25:52.190Z"
   },
   {
    "duration": 1153,
    "start_time": "2022-02-10T08:26:03.713Z"
   },
   {
    "duration": 46,
    "start_time": "2022-02-10T08:27:32.870Z"
   },
   {
    "duration": 47,
    "start_time": "2022-02-10T08:28:09.698Z"
   },
   {
    "duration": 278,
    "start_time": "2022-02-10T08:40:02.321Z"
   },
   {
    "duration": 127,
    "start_time": "2022-02-10T08:41:08.918Z"
   },
   {
    "duration": 266,
    "start_time": "2022-02-10T08:41:10.286Z"
   },
   {
    "duration": 86,
    "start_time": "2022-02-10T08:52:25.221Z"
   },
   {
    "duration": 85,
    "start_time": "2022-02-10T08:52:43.310Z"
   },
   {
    "duration": 859,
    "start_time": "2022-02-10T08:53:44.146Z"
   },
   {
    "duration": 445,
    "start_time": "2022-02-10T08:54:25.702Z"
   },
   {
    "duration": 449,
    "start_time": "2022-02-10T08:55:13.979Z"
   },
   {
    "duration": 582,
    "start_time": "2022-02-10T08:56:10.191Z"
   },
   {
    "duration": 727,
    "start_time": "2022-02-10T08:57:56.888Z"
   },
   {
    "duration": 670,
    "start_time": "2022-02-10T08:58:10.444Z"
   },
   {
    "duration": 574,
    "start_time": "2022-02-10T08:58:13.697Z"
   },
   {
    "duration": 584,
    "start_time": "2022-02-10T09:00:36.716Z"
   },
   {
    "duration": 567,
    "start_time": "2022-02-10T09:00:45.230Z"
   },
   {
    "duration": 641,
    "start_time": "2022-02-10T09:01:16.871Z"
   },
   {
    "duration": 695,
    "start_time": "2022-02-10T09:01:21.423Z"
   },
   {
    "duration": 582,
    "start_time": "2022-02-10T09:01:55.658Z"
   },
   {
    "duration": 851,
    "start_time": "2022-02-10T09:03:09.408Z"
   },
   {
    "duration": 567,
    "start_time": "2022-02-10T09:03:55.083Z"
   },
   {
    "duration": 647,
    "start_time": "2022-02-10T09:06:15.288Z"
   },
   {
    "duration": 664,
    "start_time": "2022-02-10T09:07:18.716Z"
   },
   {
    "duration": 764,
    "start_time": "2022-02-10T09:08:57.820Z"
   },
   {
    "duration": 547,
    "start_time": "2022-02-10T09:09:07.245Z"
   },
   {
    "duration": 539,
    "start_time": "2022-02-10T09:14:36.407Z"
   },
   {
    "duration": 481,
    "start_time": "2022-02-10T09:14:49.559Z"
   },
   {
    "duration": 473,
    "start_time": "2022-02-10T09:16:32.633Z"
   },
   {
    "duration": 526,
    "start_time": "2022-02-10T10:57:50.141Z"
   },
   {
    "duration": 894,
    "start_time": "2022-02-10T10:58:14.070Z"
   },
   {
    "duration": 866,
    "start_time": "2022-02-10T10:58:29.727Z"
   },
   {
    "duration": 594,
    "start_time": "2022-02-10T10:58:40.913Z"
   },
   {
    "duration": 560,
    "start_time": "2022-02-10T10:59:44.502Z"
   },
   {
    "duration": 21,
    "start_time": "2022-02-10T11:12:51.278Z"
   },
   {
    "duration": 17,
    "start_time": "2022-02-10T11:15:54.170Z"
   },
   {
    "duration": 17,
    "start_time": "2022-02-10T11:15:58.618Z"
   },
   {
    "duration": 16,
    "start_time": "2022-02-10T11:17:38.771Z"
   },
   {
    "duration": 24,
    "start_time": "2022-02-10T11:17:52.131Z"
   },
   {
    "duration": 16,
    "start_time": "2022-02-10T11:18:31.406Z"
   },
   {
    "duration": 16,
    "start_time": "2022-02-10T11:18:32.559Z"
   },
   {
    "duration": 82,
    "start_time": "2022-02-10T11:19:52.885Z"
   },
   {
    "duration": 259,
    "start_time": "2022-02-10T11:20:06.990Z"
   },
   {
    "duration": 19,
    "start_time": "2022-02-10T11:20:11.791Z"
   },
   {
    "duration": 21,
    "start_time": "2022-02-10T11:20:13.127Z"
   },
   {
    "duration": 284,
    "start_time": "2022-02-10T11:21:06.010Z"
   },
   {
    "duration": 4,
    "start_time": "2022-02-10T11:21:23.221Z"
   },
   {
    "duration": 6,
    "start_time": "2022-02-10T11:21:25.125Z"
   },
   {
    "duration": 10,
    "start_time": "2022-02-10T11:21:59.672Z"
   },
   {
    "duration": 15,
    "start_time": "2022-02-10T11:22:00.176Z"
   },
   {
    "duration": 10,
    "start_time": "2022-02-10T11:22:17.290Z"
   },
   {
    "duration": 19,
    "start_time": "2022-02-10T11:22:17.690Z"
   },
   {
    "duration": 33,
    "start_time": "2022-02-10T11:25:25.047Z"
   },
   {
    "duration": 7,
    "start_time": "2022-02-10T11:27:37.275Z"
   },
   {
    "duration": 7,
    "start_time": "2022-02-10T11:27:45.555Z"
   },
   {
    "duration": 5,
    "start_time": "2022-02-10T11:29:25.551Z"
   },
   {
    "duration": 511,
    "start_time": "2022-02-10T11:29:25.559Z"
   },
   {
    "duration": 146,
    "start_time": "2022-02-10T11:29:26.073Z"
   },
   {
    "duration": 131,
    "start_time": "2022-02-10T11:29:26.221Z"
   },
   {
    "duration": 21,
    "start_time": "2022-02-10T11:29:26.355Z"
   },
   {
    "duration": 28,
    "start_time": "2022-02-10T11:29:26.379Z"
   },
   {
    "duration": 60,
    "start_time": "2022-02-10T11:29:26.410Z"
   },
   {
    "duration": 40,
    "start_time": "2022-02-10T11:29:30.859Z"
   },
   {
    "duration": 1436,
    "start_time": "2022-02-10T11:29:31.422Z"
   },
   {
    "duration": 6340,
    "start_time": "2022-02-10T11:30:02.895Z"
   },
   {
    "duration": 8,
    "start_time": "2022-02-10T11:31:07.362Z"
   },
   {
    "duration": 6,
    "start_time": "2022-02-10T11:31:23.822Z"
   },
   {
    "duration": 808,
    "start_time": "2022-02-10T11:32:34.140Z"
   },
   {
    "duration": 256,
    "start_time": "2022-02-10T11:32:49.716Z"
   },
   {
    "duration": 276,
    "start_time": "2022-02-10T11:33:20.120Z"
   },
   {
    "duration": 22,
    "start_time": "2022-02-10T11:33:25.477Z"
   },
   {
    "duration": 33,
    "start_time": "2022-02-10T11:33:26.038Z"
   },
   {
    "duration": 44,
    "start_time": "2022-02-10T11:33:56.771Z"
   },
   {
    "duration": 31,
    "start_time": "2022-02-10T11:34:03.588Z"
   },
   {
    "duration": 55,
    "start_time": "2022-02-10T11:34:04.186Z"
   },
   {
    "duration": 48,
    "start_time": "2022-02-10T11:34:14.528Z"
   },
   {
    "duration": 475,
    "start_time": "2022-02-10T11:34:15.698Z"
   },
   {
    "duration": 94,
    "start_time": "2022-02-10T11:34:28.948Z"
   },
   {
    "duration": 1293,
    "start_time": "2022-02-10T11:34:34.515Z"
   },
   {
    "duration": 299,
    "start_time": "2022-02-10T11:36:51.392Z"
   },
   {
    "duration": 32,
    "start_time": "2022-02-10T11:37:13.775Z"
   },
   {
    "duration": 4,
    "start_time": "2022-02-10T11:37:28.860Z"
   },
   {
    "duration": 516,
    "start_time": "2022-02-10T11:37:28.866Z"
   },
   {
    "duration": 176,
    "start_time": "2022-02-10T11:37:29.385Z"
   },
   {
    "duration": 120,
    "start_time": "2022-02-10T11:37:29.569Z"
   },
   {
    "duration": 10,
    "start_time": "2022-02-10T11:37:29.692Z"
   },
   {
    "duration": 15,
    "start_time": "2022-02-10T11:37:29.705Z"
   },
   {
    "duration": 62,
    "start_time": "2022-02-10T11:37:29.726Z"
   },
   {
    "duration": 807,
    "start_time": "2022-02-10T11:37:29.791Z"
   },
   {
    "duration": 22,
    "start_time": "2022-02-10T11:37:30.600Z"
   },
   {
    "duration": 48,
    "start_time": "2022-02-10T11:37:30.624Z"
   },
   {
    "duration": 24,
    "start_time": "2022-02-10T11:37:30.675Z"
   },
   {
    "duration": 36,
    "start_time": "2022-02-10T11:37:30.701Z"
   },
   {
    "duration": 61,
    "start_time": "2022-02-10T11:37:30.740Z"
   },
   {
    "duration": 43,
    "start_time": "2022-02-10T11:37:30.804Z"
   },
   {
    "duration": 24,
    "start_time": "2022-02-10T11:37:30.849Z"
   },
   {
    "duration": 26,
    "start_time": "2022-02-10T11:37:30.876Z"
   },
   {
    "duration": 7,
    "start_time": "2022-02-10T11:37:30.904Z"
   },
   {
    "duration": 14,
    "start_time": "2022-02-10T11:37:30.915Z"
   },
   {
    "duration": 17,
    "start_time": "2022-02-10T11:37:30.969Z"
   },
   {
    "duration": 17,
    "start_time": "2022-02-10T11:37:30.990Z"
   },
   {
    "duration": 20,
    "start_time": "2022-02-10T11:37:31.013Z"
   },
   {
    "duration": 40,
    "start_time": "2022-02-10T11:37:31.036Z"
   },
   {
    "duration": 600,
    "start_time": "2022-02-10T11:37:31.080Z"
   },
   {
    "duration": 21,
    "start_time": "2022-02-10T11:37:31.683Z"
   },
   {
    "duration": 15,
    "start_time": "2022-02-10T11:37:31.707Z"
   },
   {
    "duration": 65,
    "start_time": "2022-02-10T11:37:31.725Z"
   },
   {
    "duration": 44,
    "start_time": "2022-02-10T11:37:31.793Z"
   },
   {
    "duration": 37,
    "start_time": "2022-02-10T11:37:31.840Z"
   },
   {
    "duration": 17,
    "start_time": "2022-02-10T11:37:31.880Z"
   },
   {
    "duration": 19,
    "start_time": "2022-02-10T11:37:31.900Z"
   },
   {
    "duration": 30,
    "start_time": "2022-02-10T11:37:31.921Z"
   },
   {
    "duration": 34,
    "start_time": "2022-02-10T11:37:31.953Z"
   },
   {
    "duration": 58,
    "start_time": "2022-02-10T11:37:31.990Z"
   },
   {
    "duration": 520,
    "start_time": "2022-02-10T11:37:32.050Z"
   },
   {
    "duration": 503,
    "start_time": "2022-02-10T11:37:32.573Z"
   },
   {
    "duration": 680,
    "start_time": "2022-02-10T11:37:33.079Z"
   },
   {
    "duration": 495,
    "start_time": "2022-02-10T11:37:33.761Z"
   },
   {
    "duration": 6706,
    "start_time": "2022-02-10T11:38:53.113Z"
   },
   {
    "duration": 6487,
    "start_time": "2022-02-10T11:39:52.628Z"
   },
   {
    "duration": 329,
    "start_time": "2022-02-10T11:40:03.086Z"
   },
   {
    "duration": 4,
    "start_time": "2022-02-10T11:59:00.291Z"
   },
   {
    "duration": 538,
    "start_time": "2022-02-10T11:59:00.299Z"
   },
   {
    "duration": 151,
    "start_time": "2022-02-10T11:59:00.841Z"
   },
   {
    "duration": 129,
    "start_time": "2022-02-10T11:59:00.996Z"
   },
   {
    "duration": 15,
    "start_time": "2022-02-10T11:59:01.127Z"
   },
   {
    "duration": 28,
    "start_time": "2022-02-10T11:59:01.145Z"
   },
   {
    "duration": 43,
    "start_time": "2022-02-10T11:59:01.176Z"
   },
   {
    "duration": 814,
    "start_time": "2022-02-10T11:59:01.222Z"
   },
   {
    "duration": 36,
    "start_time": "2022-02-10T11:59:02.040Z"
   },
   {
    "duration": 33,
    "start_time": "2022-02-10T11:59:02.080Z"
   },
   {
    "duration": 52,
    "start_time": "2022-02-10T11:59:02.117Z"
   },
   {
    "duration": 33,
    "start_time": "2022-02-10T11:59:02.171Z"
   },
   {
    "duration": 66,
    "start_time": "2022-02-10T11:59:02.207Z"
   },
   {
    "duration": 40,
    "start_time": "2022-02-10T11:59:02.276Z"
   },
   {
    "duration": 18,
    "start_time": "2022-02-10T11:59:02.319Z"
   },
   {
    "duration": 58,
    "start_time": "2022-02-10T11:59:02.339Z"
   },
   {
    "duration": 6,
    "start_time": "2022-02-10T11:59:02.400Z"
   },
   {
    "duration": 26,
    "start_time": "2022-02-10T11:59:02.410Z"
   },
   {
    "duration": 36,
    "start_time": "2022-02-10T11:59:02.439Z"
   },
   {
    "duration": 9,
    "start_time": "2022-02-10T11:59:02.477Z"
   },
   {
    "duration": 12,
    "start_time": "2022-02-10T11:59:02.489Z"
   },
   {
    "duration": 17,
    "start_time": "2022-02-10T11:59:02.504Z"
   },
   {
    "duration": 594,
    "start_time": "2022-02-10T11:59:02.523Z"
   },
   {
    "duration": 20,
    "start_time": "2022-02-10T11:59:03.119Z"
   },
   {
    "duration": 4,
    "start_time": "2022-02-10T11:59:03.142Z"
   },
   {
    "duration": 67,
    "start_time": "2022-02-10T11:59:03.148Z"
   },
   {
    "duration": 66,
    "start_time": "2022-02-10T11:59:03.220Z"
   },
   {
    "duration": 14,
    "start_time": "2022-02-10T11:59:03.290Z"
   },
   {
    "duration": 22,
    "start_time": "2022-02-10T11:59:03.306Z"
   },
   {
    "duration": 19,
    "start_time": "2022-02-10T11:59:03.330Z"
   },
   {
    "duration": 31,
    "start_time": "2022-02-10T11:59:03.352Z"
   },
   {
    "duration": 26,
    "start_time": "2022-02-10T11:59:03.385Z"
   },
   {
    "duration": 36,
    "start_time": "2022-02-10T11:59:03.414Z"
   },
   {
    "duration": 503,
    "start_time": "2022-02-10T11:59:03.453Z"
   },
   {
    "duration": 510,
    "start_time": "2022-02-10T11:59:03.959Z"
   },
   {
    "duration": 587,
    "start_time": "2022-02-10T11:59:04.472Z"
   },
   {
    "duration": 497,
    "start_time": "2022-02-10T11:59:05.061Z"
   },
   {
    "duration": 882,
    "start_time": "2022-02-10T12:03:00.381Z"
   },
   {
    "duration": 793,
    "start_time": "2022-02-10T12:03:23.350Z"
   },
   {
    "duration": 796,
    "start_time": "2022-02-10T12:03:43.265Z"
   },
   {
    "duration": 786,
    "start_time": "2022-02-10T12:04:17.889Z"
   },
   {
    "duration": 799,
    "start_time": "2022-02-10T12:35:57.466Z"
   },
   {
    "duration": 41,
    "start_time": "2022-02-10T12:36:22.779Z"
   },
   {
    "duration": 36,
    "start_time": "2022-02-10T12:36:31.027Z"
   },
   {
    "duration": 49,
    "start_time": "2022-02-10T12:36:37.574Z"
   },
   {
    "duration": 41,
    "start_time": "2022-02-10T12:36:43.918Z"
   },
   {
    "duration": 9,
    "start_time": "2022-02-10T12:49:44.858Z"
   },
   {
    "duration": 6,
    "start_time": "2022-02-10T12:49:53.662Z"
   },
   {
    "duration": 18,
    "start_time": "2022-02-10T13:21:00.920Z"
   },
   {
    "duration": 24,
    "start_time": "2022-02-10T13:21:07.489Z"
   },
   {
    "duration": 16,
    "start_time": "2022-02-10T13:22:38.952Z"
   },
   {
    "duration": 609,
    "start_time": "2022-02-10T13:23:32.246Z"
   },
   {
    "duration": 717,
    "start_time": "2022-02-10T13:25:56.936Z"
   },
   {
    "duration": 692,
    "start_time": "2022-02-10T13:26:07.024Z"
   },
   {
    "duration": 508,
    "start_time": "2022-02-10T13:26:12.904Z"
   },
   {
    "duration": 286,
    "start_time": "2022-02-10T13:26:18.104Z"
   },
   {
    "duration": 515,
    "start_time": "2022-02-10T13:26:21.945Z"
   },
   {
    "duration": 552,
    "start_time": "2022-02-10T13:26:24.073Z"
   },
   {
    "duration": 707,
    "start_time": "2022-02-10T13:27:40.616Z"
   },
   {
    "duration": 513,
    "start_time": "2022-02-10T13:29:06.584Z"
   },
   {
    "duration": 504,
    "start_time": "2022-02-10T13:29:21.245Z"
   },
   {
    "duration": 514,
    "start_time": "2022-02-10T13:31:23.137Z"
   },
   {
    "duration": 523,
    "start_time": "2022-02-10T13:32:33.831Z"
   },
   {
    "duration": 728,
    "start_time": "2022-02-10T13:33:38.204Z"
   },
   {
    "duration": 757,
    "start_time": "2022-02-10T13:33:48.182Z"
   },
   {
    "duration": 552,
    "start_time": "2022-02-10T13:33:55.703Z"
   },
   {
    "duration": 547,
    "start_time": "2022-02-10T13:34:02.801Z"
   },
   {
    "duration": 859,
    "start_time": "2022-02-10T13:34:14.495Z"
   },
   {
    "duration": 1037,
    "start_time": "2022-02-10T13:34:27.376Z"
   },
   {
    "duration": 602,
    "start_time": "2022-02-10T13:34:33.249Z"
   },
   {
    "duration": 769,
    "start_time": "2022-02-10T13:36:43.516Z"
   },
   {
    "duration": 618,
    "start_time": "2022-02-10T13:36:48.804Z"
   },
   {
    "duration": 559,
    "start_time": "2022-02-10T13:36:53.636Z"
   },
   {
    "duration": 535,
    "start_time": "2022-02-10T13:43:30.845Z"
   },
   {
    "duration": 779,
    "start_time": "2022-02-10T13:43:41.149Z"
   },
   {
    "duration": 571,
    "start_time": "2022-02-10T13:44:06.213Z"
   },
   {
    "duration": 541,
    "start_time": "2022-02-10T13:44:26.928Z"
   },
   {
    "duration": 506,
    "start_time": "2022-02-10T13:44:52.834Z"
   },
   {
    "duration": 575,
    "start_time": "2022-02-10T13:44:59.228Z"
   },
   {
    "duration": 636,
    "start_time": "2022-02-10T13:45:05.627Z"
   },
   {
    "duration": 530,
    "start_time": "2022-02-10T14:21:16.411Z"
   },
   {
    "duration": 525,
    "start_time": "2022-02-10T14:22:24.748Z"
   },
   {
    "duration": 563,
    "start_time": "2022-02-10T14:25:06.810Z"
   },
   {
    "duration": 544,
    "start_time": "2022-02-10T14:25:14.947Z"
   },
   {
    "duration": 560,
    "start_time": "2022-02-10T14:25:21.035Z"
   },
   {
    "duration": 797,
    "start_time": "2022-02-10T14:25:36.516Z"
   },
   {
    "duration": 867,
    "start_time": "2022-02-10T14:25:41.302Z"
   },
   {
    "duration": 1053,
    "start_time": "2022-02-10T17:53:52.449Z"
   },
   {
    "duration": 424,
    "start_time": "2022-02-10T17:53:53.504Z"
   },
   {
    "duration": 101,
    "start_time": "2022-02-10T17:53:53.930Z"
   },
   {
    "duration": 100,
    "start_time": "2022-02-10T17:53:54.035Z"
   },
   {
    "duration": 9,
    "start_time": "2022-02-10T17:53:54.138Z"
   },
   {
    "duration": 25,
    "start_time": "2022-02-10T17:53:54.150Z"
   },
   {
    "duration": 41,
    "start_time": "2022-02-10T17:53:54.177Z"
   },
   {
    "duration": 600,
    "start_time": "2022-02-10T17:53:54.220Z"
   },
   {
    "duration": 17,
    "start_time": "2022-02-10T17:53:54.824Z"
   },
   {
    "duration": 32,
    "start_time": "2022-02-10T17:53:54.844Z"
   },
   {
    "duration": 45,
    "start_time": "2022-02-10T17:53:54.878Z"
   },
   {
    "duration": 41,
    "start_time": "2022-02-10T17:53:54.925Z"
   },
   {
    "duration": 47,
    "start_time": "2022-02-10T17:53:54.968Z"
   },
   {
    "duration": 28,
    "start_time": "2022-02-10T17:53:55.018Z"
   },
   {
    "duration": 10,
    "start_time": "2022-02-10T17:53:55.048Z"
   },
   {
    "duration": 33,
    "start_time": "2022-02-10T17:53:55.060Z"
   },
   {
    "duration": 4,
    "start_time": "2022-02-10T17:53:55.108Z"
   },
   {
    "duration": 8,
    "start_time": "2022-02-10T17:53:55.114Z"
   },
   {
    "duration": 18,
    "start_time": "2022-02-10T17:53:55.124Z"
   },
   {
    "duration": 11,
    "start_time": "2022-02-10T17:53:55.144Z"
   },
   {
    "duration": 15,
    "start_time": "2022-02-10T17:53:55.156Z"
   },
   {
    "duration": 15,
    "start_time": "2022-02-10T17:53:55.173Z"
   },
   {
    "duration": 387,
    "start_time": "2022-02-10T17:53:55.208Z"
   },
   {
    "duration": 23,
    "start_time": "2022-02-10T17:53:55.597Z"
   },
   {
    "duration": 91,
    "start_time": "2022-02-10T17:53:55.623Z"
   },
   {
    "duration": 62,
    "start_time": "2022-02-10T17:53:55.717Z"
   },
   {
    "duration": 35,
    "start_time": "2022-02-10T17:53:55.782Z"
   },
   {
    "duration": 14,
    "start_time": "2022-02-10T17:53:55.819Z"
   },
   {
    "duration": 12,
    "start_time": "2022-02-10T17:53:55.835Z"
   },
   {
    "duration": 19,
    "start_time": "2022-02-10T17:53:55.850Z"
   },
   {
    "duration": 20,
    "start_time": "2022-02-10T17:53:55.872Z"
   },
   {
    "duration": 34,
    "start_time": "2022-02-10T17:53:55.894Z"
   },
   {
    "duration": 487,
    "start_time": "2022-02-10T17:53:55.931Z"
   },
   {
    "duration": 443,
    "start_time": "2022-02-10T17:53:56.420Z"
   },
   {
    "duration": 367,
    "start_time": "2022-02-10T17:53:56.865Z"
   },
   {
    "duration": 441,
    "start_time": "2022-02-10T17:53:57.235Z"
   },
   {
    "duration": 10,
    "start_time": "2022-02-10T17:57:45.594Z"
   },
   {
    "duration": 7,
    "start_time": "2022-02-10T17:58:06.965Z"
   },
   {
    "duration": 342,
    "start_time": "2022-02-10T17:58:21.013Z"
   },
   {
    "duration": 3,
    "start_time": "2022-02-10T18:35:38.822Z"
   },
   {
    "duration": 428,
    "start_time": "2022-02-10T18:35:38.828Z"
   },
   {
    "duration": 94,
    "start_time": "2022-02-10T18:35:39.259Z"
   },
   {
    "duration": 100,
    "start_time": "2022-02-10T18:35:39.355Z"
   },
   {
    "duration": 8,
    "start_time": "2022-02-10T18:35:39.457Z"
   },
   {
    "duration": 9,
    "start_time": "2022-02-10T18:35:42.845Z"
   },
   {
    "duration": 20,
    "start_time": "2022-02-10T18:36:20.096Z"
   },
   {
    "duration": 15,
    "start_time": "2022-02-10T18:36:24.752Z"
   },
   {
    "duration": 13,
    "start_time": "2022-02-10T18:37:50.973Z"
   },
   {
    "duration": 3,
    "start_time": "2022-02-10T18:37:55.050Z"
   },
   {
    "duration": 439,
    "start_time": "2022-02-10T18:37:55.055Z"
   },
   {
    "duration": 93,
    "start_time": "2022-02-10T18:37:55.496Z"
   },
   {
    "duration": 85,
    "start_time": "2022-02-10T18:37:55.591Z"
   },
   {
    "duration": 7,
    "start_time": "2022-02-10T18:37:55.678Z"
   },
   {
    "duration": 30,
    "start_time": "2022-02-10T18:37:55.687Z"
   },
   {
    "duration": 13,
    "start_time": "2022-02-10T18:38:36.518Z"
   },
   {
    "duration": 3,
    "start_time": "2022-02-10T18:40:05.236Z"
   },
   {
    "duration": 411,
    "start_time": "2022-02-10T18:40:05.241Z"
   },
   {
    "duration": 95,
    "start_time": "2022-02-10T18:40:05.654Z"
   },
   {
    "duration": 90,
    "start_time": "2022-02-10T18:40:05.751Z"
   },
   {
    "duration": 8,
    "start_time": "2022-02-10T18:40:05.843Z"
   },
   {
    "duration": 32,
    "start_time": "2022-02-10T18:40:05.853Z"
   },
   {
    "duration": 39,
    "start_time": "2022-02-10T18:40:05.887Z"
   },
   {
    "duration": 445,
    "start_time": "2022-02-10T18:40:05.928Z"
   },
   {
    "duration": 16,
    "start_time": "2022-02-10T18:40:06.376Z"
   },
   {
    "duration": 24,
    "start_time": "2022-02-10T18:40:06.406Z"
   },
   {
    "duration": 19,
    "start_time": "2022-02-10T18:40:06.432Z"
   },
   {
    "duration": 28,
    "start_time": "2022-02-10T18:40:06.453Z"
   },
   {
    "duration": 45,
    "start_time": "2022-02-10T18:40:06.483Z"
   },
   {
    "duration": 21,
    "start_time": "2022-02-10T18:40:06.530Z"
   },
   {
    "duration": 9,
    "start_time": "2022-02-10T18:40:06.553Z"
   },
   {
    "duration": 49,
    "start_time": "2022-02-10T18:40:06.563Z"
   },
   {
    "duration": 4,
    "start_time": "2022-02-10T18:40:06.614Z"
   },
   {
    "duration": 12,
    "start_time": "2022-02-10T18:40:06.619Z"
   },
   {
    "duration": 15,
    "start_time": "2022-02-10T18:40:06.632Z"
   },
   {
    "duration": 8,
    "start_time": "2022-02-10T18:40:06.648Z"
   },
   {
    "duration": 14,
    "start_time": "2022-02-10T18:40:06.658Z"
   },
   {
    "duration": 8,
    "start_time": "2022-02-10T18:40:06.674Z"
   },
   {
    "duration": 325,
    "start_time": "2022-02-10T18:40:06.708Z"
   },
   {
    "duration": 14,
    "start_time": "2022-02-10T18:40:07.035Z"
   },
   {
    "duration": 5,
    "start_time": "2022-02-10T18:40:07.051Z"
   },
   {
    "duration": 50,
    "start_time": "2022-02-10T18:40:07.058Z"
   },
   {
    "duration": 30,
    "start_time": "2022-02-10T18:40:07.112Z"
   },
   {
    "duration": 10,
    "start_time": "2022-02-10T18:40:07.144Z"
   },
   {
    "duration": 5,
    "start_time": "2022-02-10T18:40:07.156Z"
   },
   {
    "duration": 10,
    "start_time": "2022-02-10T18:40:07.163Z"
   },
   {
    "duration": 34,
    "start_time": "2022-02-10T18:40:07.175Z"
   },
   {
    "duration": 14,
    "start_time": "2022-02-10T18:40:07.211Z"
   },
   {
    "duration": 373,
    "start_time": "2022-02-10T18:40:07.227Z"
   },
   {
    "duration": 423,
    "start_time": "2022-02-10T18:40:07.602Z"
   },
   {
    "duration": 324,
    "start_time": "2022-02-10T18:40:08.028Z"
   },
   {
    "duration": 375,
    "start_time": "2022-02-10T18:40:08.354Z"
   },
   {
    "duration": 19,
    "start_time": "2022-02-10T19:07:20.200Z"
   },
   {
    "duration": 13,
    "start_time": "2022-02-10T19:07:28.914Z"
   },
   {
    "duration": 419,
    "start_time": "2022-02-10T19:17:21.985Z"
   },
   {
    "duration": 280,
    "start_time": "2022-02-10T19:17:31.856Z"
   },
   {
    "duration": 146,
    "start_time": "2022-02-10T19:19:16.777Z"
   },
   {
    "duration": 150,
    "start_time": "2022-02-10T19:20:25.395Z"
   },
   {
    "duration": 138,
    "start_time": "2022-02-10T19:20:31.162Z"
   },
   {
    "duration": 90,
    "start_time": "2022-02-10T19:21:34.209Z"
   },
   {
    "duration": 284,
    "start_time": "2022-02-10T19:21:38.798Z"
   },
   {
    "duration": 259,
    "start_time": "2022-02-10T19:22:13.401Z"
   },
   {
    "duration": 150,
    "start_time": "2022-02-10T19:23:05.304Z"
   },
   {
    "duration": 140,
    "start_time": "2022-02-10T19:23:32.757Z"
   },
   {
    "duration": 343,
    "start_time": "2022-02-10T19:23:40.958Z"
   },
   {
    "duration": 147,
    "start_time": "2022-02-10T19:24:11.962Z"
   },
   {
    "duration": 223,
    "start_time": "2022-02-10T19:24:49.114Z"
   },
   {
    "duration": 398,
    "start_time": "2022-02-10T19:25:22.148Z"
   },
   {
    "duration": 149,
    "start_time": "2022-02-10T19:25:35.323Z"
   },
   {
    "duration": 413,
    "start_time": "2022-02-10T19:25:41.544Z"
   },
   {
    "duration": 423,
    "start_time": "2022-02-10T19:25:49.934Z"
   },
   {
    "duration": 172,
    "start_time": "2022-02-10T19:26:14.067Z"
   },
   {
    "duration": 260,
    "start_time": "2022-02-10T19:29:54.780Z"
   },
   {
    "duration": 4,
    "start_time": "2022-02-10T19:30:01.072Z"
   },
   {
    "duration": 179,
    "start_time": "2022-02-10T19:31:00.316Z"
   },
   {
    "duration": 160,
    "start_time": "2022-02-10T19:31:15.117Z"
   },
   {
    "duration": 162,
    "start_time": "2022-02-10T19:31:19.716Z"
   },
   {
    "duration": 160,
    "start_time": "2022-02-10T19:31:24.619Z"
   },
   {
    "duration": 474,
    "start_time": "2022-02-10T19:32:03.987Z"
   },
   {
    "duration": 412,
    "start_time": "2022-02-10T19:33:48.615Z"
   },
   {
    "duration": 156,
    "start_time": "2022-02-10T19:34:53.636Z"
   },
   {
    "duration": 193,
    "start_time": "2022-02-10T19:35:16.822Z"
   },
   {
    "duration": 168,
    "start_time": "2022-02-10T19:35:48.155Z"
   },
   {
    "duration": 168,
    "start_time": "2022-02-10T19:36:00.219Z"
   },
   {
    "duration": 1400,
    "start_time": "2022-02-11T06:45:06.329Z"
   },
   {
    "duration": 461,
    "start_time": "2022-02-11T06:45:07.732Z"
   },
   {
    "duration": 114,
    "start_time": "2022-02-11T06:45:08.197Z"
   },
   {
    "duration": 116,
    "start_time": "2022-02-11T06:45:08.314Z"
   },
   {
    "duration": 22,
    "start_time": "2022-02-11T06:45:08.433Z"
   },
   {
    "duration": 15,
    "start_time": "2022-02-11T06:45:08.458Z"
   },
   {
    "duration": 34,
    "start_time": "2022-02-11T06:45:08.476Z"
   },
   {
    "duration": 758,
    "start_time": "2022-02-11T06:45:08.514Z"
   },
   {
    "duration": 19,
    "start_time": "2022-02-11T06:45:09.275Z"
   },
   {
    "duration": 29,
    "start_time": "2022-02-11T06:45:09.297Z"
   },
   {
    "duration": 24,
    "start_time": "2022-02-11T06:45:09.349Z"
   },
   {
    "duration": 39,
    "start_time": "2022-02-11T06:45:09.375Z"
   },
   {
    "duration": 52,
    "start_time": "2022-02-11T06:45:09.416Z"
   },
   {
    "duration": 27,
    "start_time": "2022-02-11T06:45:09.471Z"
   },
   {
    "duration": 11,
    "start_time": "2022-02-11T06:45:09.501Z"
   },
   {
    "duration": 53,
    "start_time": "2022-02-11T06:45:09.515Z"
   },
   {
    "duration": 14,
    "start_time": "2022-02-11T06:45:09.570Z"
   },
   {
    "duration": 21,
    "start_time": "2022-02-11T06:45:09.586Z"
   },
   {
    "duration": 22,
    "start_time": "2022-02-11T06:45:09.609Z"
   },
   {
    "duration": 28,
    "start_time": "2022-02-11T06:45:09.633Z"
   },
   {
    "duration": 17,
    "start_time": "2022-02-11T06:45:09.663Z"
   },
   {
    "duration": 10,
    "start_time": "2022-02-11T06:45:09.683Z"
   },
   {
    "duration": 545,
    "start_time": "2022-02-11T06:45:09.697Z"
   },
   {
    "duration": 20,
    "start_time": "2022-02-11T06:45:10.244Z"
   },
   {
    "duration": 4,
    "start_time": "2022-02-11T06:45:10.267Z"
   },
   {
    "duration": 43,
    "start_time": "2022-02-11T06:45:10.274Z"
   },
   {
    "duration": 66,
    "start_time": "2022-02-11T06:45:10.320Z"
   },
   {
    "duration": 14,
    "start_time": "2022-02-11T06:45:10.389Z"
   },
   {
    "duration": 5,
    "start_time": "2022-02-11T06:45:10.406Z"
   },
   {
    "duration": 39,
    "start_time": "2022-02-11T06:45:10.413Z"
   },
   {
    "duration": 14,
    "start_time": "2022-02-11T06:45:10.454Z"
   },
   {
    "duration": 22,
    "start_time": "2022-02-11T06:45:10.471Z"
   },
   {
    "duration": 61,
    "start_time": "2022-02-11T06:45:10.496Z"
   },
   {
    "duration": 18,
    "start_time": "2022-02-11T06:45:10.560Z"
   },
   {
    "duration": 545,
    "start_time": "2022-02-11T06:45:10.582Z"
   },
   {
    "duration": 502,
    "start_time": "2022-02-11T06:45:11.129Z"
   },
   {
    "duration": 480,
    "start_time": "2022-02-11T06:45:11.634Z"
   },
   {
    "duration": 137,
    "start_time": "2022-02-11T06:45:12.116Z"
   },
   {
    "duration": 263,
    "start_time": "2022-02-11T06:45:12.256Z"
   },
   {
    "duration": 421,
    "start_time": "2022-02-11T07:56:46.144Z"
   },
   {
    "duration": 515,
    "start_time": "2022-02-11T07:56:54.786Z"
   },
   {
    "duration": 154,
    "start_time": "2022-02-11T07:56:57.978Z"
   },
   {
    "duration": 855,
    "start_time": "2022-02-11T07:57:02.899Z"
   },
   {
    "duration": 627,
    "start_time": "2022-02-11T07:57:07.004Z"
   },
   {
    "duration": 542,
    "start_time": "2022-02-11T08:07:59.144Z"
   },
   {
    "duration": 4,
    "start_time": "2022-02-11T08:08:26.475Z"
   },
   {
    "duration": 503,
    "start_time": "2022-02-11T08:08:26.482Z"
   },
   {
    "duration": 137,
    "start_time": "2022-02-11T08:08:26.988Z"
   },
   {
    "duration": 127,
    "start_time": "2022-02-11T08:08:27.128Z"
   },
   {
    "duration": 10,
    "start_time": "2022-02-11T08:08:27.258Z"
   },
   {
    "duration": 18,
    "start_time": "2022-02-11T08:08:27.271Z"
   },
   {
    "duration": 57,
    "start_time": "2022-02-11T08:08:27.292Z"
   },
   {
    "duration": 743,
    "start_time": "2022-02-11T08:08:27.353Z"
   },
   {
    "duration": 19,
    "start_time": "2022-02-11T08:08:28.099Z"
   },
   {
    "duration": 55,
    "start_time": "2022-02-11T08:08:28.121Z"
   },
   {
    "duration": 22,
    "start_time": "2022-02-11T08:08:28.178Z"
   },
   {
    "duration": 55,
    "start_time": "2022-02-11T08:08:28.203Z"
   },
   {
    "duration": 30,
    "start_time": "2022-02-11T08:08:28.260Z"
   },
   {
    "duration": 27,
    "start_time": "2022-02-11T08:08:28.292Z"
   },
   {
    "duration": 11,
    "start_time": "2022-02-11T08:08:28.349Z"
   },
   {
    "duration": 27,
    "start_time": "2022-02-11T08:08:28.362Z"
   },
   {
    "duration": 5,
    "start_time": "2022-02-11T08:08:28.391Z"
   },
   {
    "duration": 11,
    "start_time": "2022-02-11T08:08:28.398Z"
   },
   {
    "duration": 44,
    "start_time": "2022-02-11T08:08:28.411Z"
   },
   {
    "duration": 10,
    "start_time": "2022-02-11T08:08:28.457Z"
   },
   {
    "duration": 15,
    "start_time": "2022-02-11T08:08:28.469Z"
   },
   {
    "duration": 11,
    "start_time": "2022-02-11T08:08:28.486Z"
   },
   {
    "duration": 568,
    "start_time": "2022-02-11T08:08:28.502Z"
   },
   {
    "duration": 19,
    "start_time": "2022-02-11T08:08:29.072Z"
   },
   {
    "duration": 66,
    "start_time": "2022-02-11T08:08:29.093Z"
   },
   {
    "duration": 44,
    "start_time": "2022-02-11T08:08:29.161Z"
   },
   {
    "duration": 8,
    "start_time": "2022-02-11T08:08:29.208Z"
   },
   {
    "duration": 40,
    "start_time": "2022-02-11T08:08:29.218Z"
   },
   {
    "duration": 22,
    "start_time": "2022-02-11T08:08:29.260Z"
   },
   {
    "duration": 29,
    "start_time": "2022-02-11T08:08:29.285Z"
   },
   {
    "duration": 44,
    "start_time": "2022-02-11T08:08:29.316Z"
   },
   {
    "duration": 555,
    "start_time": "2022-02-11T08:08:29.363Z"
   },
   {
    "duration": 531,
    "start_time": "2022-02-11T08:08:29.921Z"
   },
   {
    "duration": 488,
    "start_time": "2022-02-11T08:08:30.454Z"
   },
   {
    "duration": 325,
    "start_time": "2022-02-11T08:08:30.944Z"
   },
   {
    "duration": -8,
    "start_time": "2022-02-11T08:08:31.279Z"
   },
   {
    "duration": -11,
    "start_time": "2022-02-11T08:08:31.284Z"
   },
   {
    "duration": 7,
    "start_time": "2022-02-11T08:09:01.046Z"
   },
   {
    "duration": 22,
    "start_time": "2022-02-11T08:09:05.780Z"
   },
   {
    "duration": 23,
    "start_time": "2022-02-11T08:10:17.500Z"
   },
   {
    "duration": 5,
    "start_time": "2022-02-11T08:11:06.847Z"
   },
   {
    "duration": 5,
    "start_time": "2022-02-11T08:12:44.918Z"
   },
   {
    "duration": 6,
    "start_time": "2022-02-11T08:12:59.895Z"
   },
   {
    "duration": 5,
    "start_time": "2022-02-11T08:14:41.417Z"
   },
   {
    "duration": 322,
    "start_time": "2022-02-11T08:20:10.969Z"
   },
   {
    "duration": 7,
    "start_time": "2022-02-11T08:20:32.390Z"
   },
   {
    "duration": 7,
    "start_time": "2022-02-11T08:29:30.827Z"
   },
   {
    "duration": 11,
    "start_time": "2022-02-11T08:30:31.907Z"
   },
   {
    "duration": 11,
    "start_time": "2022-02-11T08:32:29.732Z"
   },
   {
    "duration": 12,
    "start_time": "2022-02-11T08:32:50.359Z"
   },
   {
    "duration": 14,
    "start_time": "2022-02-11T08:33:41.605Z"
   },
   {
    "duration": 7,
    "start_time": "2022-02-11T08:35:46.211Z"
   },
   {
    "duration": 7,
    "start_time": "2022-02-11T08:36:28.391Z"
   },
   {
    "duration": 12,
    "start_time": "2022-02-11T08:36:50.137Z"
   },
   {
    "duration": 7,
    "start_time": "2022-02-11T08:37:25.222Z"
   },
   {
    "duration": 10,
    "start_time": "2022-02-11T08:37:44.685Z"
   },
   {
    "duration": 11,
    "start_time": "2022-02-11T08:38:19.560Z"
   },
   {
    "duration": 14,
    "start_time": "2022-02-11T08:39:02.860Z"
   },
   {
    "duration": 4,
    "start_time": "2022-02-11T10:50:23.907Z"
   },
   {
    "duration": 626,
    "start_time": "2022-02-11T10:50:23.914Z"
   },
   {
    "duration": 171,
    "start_time": "2022-02-11T10:50:24.543Z"
   },
   {
    "duration": 116,
    "start_time": "2022-02-11T10:50:24.717Z"
   },
   {
    "duration": 24,
    "start_time": "2022-02-11T10:50:24.835Z"
   },
   {
    "duration": 17,
    "start_time": "2022-02-11T10:50:24.863Z"
   },
   {
    "duration": 32,
    "start_time": "2022-02-11T10:50:24.883Z"
   },
   {
    "duration": 804,
    "start_time": "2022-02-11T10:50:24.948Z"
   },
   {
    "duration": 23,
    "start_time": "2022-02-11T10:50:25.755Z"
   },
   {
    "duration": 30,
    "start_time": "2022-02-11T10:50:25.781Z"
   },
   {
    "duration": 56,
    "start_time": "2022-02-11T10:50:25.814Z"
   },
   {
    "duration": 38,
    "start_time": "2022-02-11T10:50:25.873Z"
   },
   {
    "duration": 71,
    "start_time": "2022-02-11T10:50:25.914Z"
   },
   {
    "duration": 30,
    "start_time": "2022-02-11T10:50:25.987Z"
   },
   {
    "duration": 39,
    "start_time": "2022-02-11T10:50:26.020Z"
   },
   {
    "duration": 25,
    "start_time": "2022-02-11T10:50:26.063Z"
   },
   {
    "duration": 7,
    "start_time": "2022-02-11T10:50:26.092Z"
   },
   {
    "duration": 49,
    "start_time": "2022-02-11T10:50:26.102Z"
   },
   {
    "duration": 33,
    "start_time": "2022-02-11T10:50:26.153Z"
   },
   {
    "duration": 28,
    "start_time": "2022-02-11T10:50:26.189Z"
   },
   {
    "duration": 13,
    "start_time": "2022-02-11T10:50:26.220Z"
   },
   {
    "duration": 24,
    "start_time": "2022-02-11T10:50:26.237Z"
   },
   {
    "duration": 609,
    "start_time": "2022-02-11T10:50:26.269Z"
   },
   {
    "duration": 20,
    "start_time": "2022-02-11T10:50:26.882Z"
   },
   {
    "duration": 72,
    "start_time": "2022-02-11T10:50:26.905Z"
   },
   {
    "duration": 47,
    "start_time": "2022-02-11T10:50:26.980Z"
   },
   {
    "duration": 26,
    "start_time": "2022-02-11T10:50:27.029Z"
   },
   {
    "duration": 16,
    "start_time": "2022-02-11T10:50:27.058Z"
   },
   {
    "duration": 32,
    "start_time": "2022-02-11T10:50:27.076Z"
   },
   {
    "duration": 86,
    "start_time": "2022-02-11T10:50:27.112Z"
   },
   {
    "duration": 24,
    "start_time": "2022-02-11T10:50:27.201Z"
   },
   {
    "duration": 623,
    "start_time": "2022-02-11T10:50:27.229Z"
   },
   {
    "duration": 533,
    "start_time": "2022-02-11T10:50:27.856Z"
   },
   {
    "duration": 507,
    "start_time": "2022-02-11T10:50:28.392Z"
   },
   {
    "duration": 7,
    "start_time": "2022-02-11T10:50:28.902Z"
   },
   {
    "duration": 18,
    "start_time": "2022-02-11T10:50:28.912Z"
   },
   {
    "duration": 26,
    "start_time": "2022-02-11T10:50:28.933Z"
   },
   {
    "duration": 24,
    "start_time": "2022-02-11T10:50:28.963Z"
   },
   {
    "duration": 11,
    "start_time": "2022-02-11T10:50:28.990Z"
   },
   {
    "duration": 315,
    "start_time": "2022-02-11T10:50:29.004Z"
   },
   {
    "duration": 537,
    "start_time": "2022-02-11T10:51:00.637Z"
   },
   {
    "duration": 635,
    "start_time": "2022-02-11T10:51:05.084Z"
   },
   {
    "duration": 547,
    "start_time": "2022-02-11T10:51:11.690Z"
   },
   {
    "duration": 538,
    "start_time": "2022-02-11T10:51:23.803Z"
   },
   {
    "duration": 11,
    "start_time": "2022-02-11T10:57:24.280Z"
   },
   {
    "duration": 10,
    "start_time": "2022-02-11T10:57:39.163Z"
   },
   {
    "duration": 99,
    "start_time": "2022-02-11T10:59:05.600Z"
   },
   {
    "duration": 88,
    "start_time": "2022-02-11T10:59:09.280Z"
   },
   {
    "duration": 10,
    "start_time": "2022-02-11T10:59:20.017Z"
   },
   {
    "duration": 11,
    "start_time": "2022-02-11T10:59:23.664Z"
   },
   {
    "duration": 9,
    "start_time": "2022-02-11T10:59:27.106Z"
   },
   {
    "duration": 11,
    "start_time": "2022-02-11T10:59:30.313Z"
   },
   {
    "duration": 495,
    "start_time": "2022-02-11T11:21:56.573Z"
   },
   {
    "duration": 530,
    "start_time": "2022-02-11T11:22:01.726Z"
   },
   {
    "duration": 470,
    "start_time": "2022-02-11T11:22:17.321Z"
   },
   {
    "duration": 23,
    "start_time": "2022-02-11T11:28:22.905Z"
   },
   {
    "duration": 106,
    "start_time": "2022-02-11T11:31:46.061Z"
   },
   {
    "duration": 108,
    "start_time": "2022-02-11T11:31:51.814Z"
   },
   {
    "duration": 146,
    "start_time": "2022-02-11T11:32:35.073Z"
   },
   {
    "duration": 7444,
    "start_time": "2022-02-11T11:32:38.736Z"
   },
   {
    "duration": 10920,
    "start_time": "2022-02-11T11:32:49.738Z"
   },
   {
    "duration": 7773,
    "start_time": "2022-02-11T11:33:05.819Z"
   },
   {
    "duration": 107,
    "start_time": "2022-02-11T11:33:16.083Z"
   },
   {
    "duration": 22,
    "start_time": "2022-02-11T11:33:19.237Z"
   },
   {
    "duration": 550,
    "start_time": "2022-02-11T11:33:33.660Z"
   },
   {
    "duration": 7350,
    "start_time": "2022-02-11T11:33:42.758Z"
   },
   {
    "duration": 354,
    "start_time": "2022-02-11T11:34:36.913Z"
   },
   {
    "duration": 401,
    "start_time": "2022-02-11T11:34:52.643Z"
   },
   {
    "duration": 310,
    "start_time": "2022-02-11T11:35:05.781Z"
   },
   {
    "duration": 26,
    "start_time": "2022-02-11T11:35:27.397Z"
   },
   {
    "duration": 18,
    "start_time": "2022-02-11T11:35:41.198Z"
   },
   {
    "duration": 24,
    "start_time": "2022-02-11T11:37:04.958Z"
   },
   {
    "duration": 19,
    "start_time": "2022-02-11T12:25:13.373Z"
   },
   {
    "duration": 21,
    "start_time": "2022-02-11T12:25:47.732Z"
   },
   {
    "duration": 19,
    "start_time": "2022-02-11T12:26:24.920Z"
   },
   {
    "duration": 19,
    "start_time": "2022-02-11T12:26:36.473Z"
   },
   {
    "duration": 21,
    "start_time": "2022-02-11T12:26:41.280Z"
   },
   {
    "duration": 21,
    "start_time": "2022-02-11T12:31:05.495Z"
   },
   {
    "duration": 4,
    "start_time": "2022-02-11T12:56:54.264Z"
   },
   {
    "duration": 1132,
    "start_time": "2022-02-12T10:57:04.674Z"
   },
   {
    "duration": 452,
    "start_time": "2022-02-12T10:57:05.808Z"
   },
   {
    "duration": 89,
    "start_time": "2022-02-12T10:57:06.262Z"
   },
   {
    "duration": 99,
    "start_time": "2022-02-12T10:57:06.354Z"
   },
   {
    "duration": 9,
    "start_time": "2022-02-12T10:57:06.455Z"
   },
   {
    "duration": 13,
    "start_time": "2022-02-12T10:57:06.466Z"
   },
   {
    "duration": 42,
    "start_time": "2022-02-12T10:57:06.481Z"
   },
   {
    "duration": 458,
    "start_time": "2022-02-12T10:57:06.525Z"
   },
   {
    "duration": 27,
    "start_time": "2022-02-12T10:57:06.986Z"
   },
   {
    "duration": 25,
    "start_time": "2022-02-12T10:57:07.016Z"
   },
   {
    "duration": 20,
    "start_time": "2022-02-12T10:57:07.044Z"
   },
   {
    "duration": 56,
    "start_time": "2022-02-12T10:57:07.066Z"
   },
   {
    "duration": 24,
    "start_time": "2022-02-12T10:57:07.124Z"
   },
   {
    "duration": 50,
    "start_time": "2022-02-12T10:57:07.150Z"
   },
   {
    "duration": 10,
    "start_time": "2022-02-12T10:57:07.202Z"
   },
   {
    "duration": 18,
    "start_time": "2022-02-12T10:57:07.214Z"
   },
   {
    "duration": 4,
    "start_time": "2022-02-12T10:57:07.233Z"
   },
   {
    "duration": 5,
    "start_time": "2022-02-12T10:57:07.239Z"
   },
   {
    "duration": 15,
    "start_time": "2022-02-12T10:57:07.246Z"
   },
   {
    "duration": 39,
    "start_time": "2022-02-12T10:57:07.263Z"
   },
   {
    "duration": 8,
    "start_time": "2022-02-12T10:57:07.303Z"
   },
   {
    "duration": 8,
    "start_time": "2022-02-12T10:57:07.313Z"
   },
   {
    "duration": 355,
    "start_time": "2022-02-12T10:57:07.322Z"
   },
   {
    "duration": 20,
    "start_time": "2022-02-12T10:57:07.679Z"
   },
   {
    "duration": 39,
    "start_time": "2022-02-12T10:57:07.701Z"
   },
   {
    "duration": 32,
    "start_time": "2022-02-12T10:57:07.742Z"
   },
   {
    "duration": 23,
    "start_time": "2022-02-12T10:57:07.778Z"
   },
   {
    "duration": 11,
    "start_time": "2022-02-12T10:57:07.803Z"
   },
   {
    "duration": 18,
    "start_time": "2022-02-12T10:57:07.816Z"
   },
   {
    "duration": 20,
    "start_time": "2022-02-12T10:57:07.836Z"
   },
   {
    "duration": 44,
    "start_time": "2022-02-12T10:57:07.858Z"
   },
   {
    "duration": 393,
    "start_time": "2022-02-12T10:57:07.904Z"
   },
   {
    "duration": 373,
    "start_time": "2022-02-12T10:57:08.298Z"
   },
   {
    "duration": 340,
    "start_time": "2022-02-12T10:57:08.672Z"
   },
   {
    "duration": 6,
    "start_time": "2022-02-12T10:57:09.014Z"
   },
   {
    "duration": 13,
    "start_time": "2022-02-12T10:57:09.022Z"
   },
   {
    "duration": 25,
    "start_time": "2022-02-12T10:57:09.037Z"
   },
   {
    "duration": 24,
    "start_time": "2022-02-12T10:57:09.064Z"
   },
   {
    "duration": 4,
    "start_time": "2022-02-12T10:57:09.090Z"
   },
   {
    "duration": 17,
    "start_time": "2022-02-12T10:57:09.099Z"
   },
   {
    "duration": 342,
    "start_time": "2022-02-12T10:57:59.806Z"
   },
   {
    "duration": 309,
    "start_time": "2022-02-12T10:58:11.622Z"
   },
   {
    "duration": 295,
    "start_time": "2022-02-12T10:58:23.299Z"
   },
   {
    "duration": 15,
    "start_time": "2022-02-12T10:59:00.247Z"
   },
   {
    "duration": 352,
    "start_time": "2022-02-12T11:16:01.414Z"
   },
   {
    "duration": 6,
    "start_time": "2022-02-12T11:16:06.482Z"
   },
   {
    "duration": 6,
    "start_time": "2022-02-12T11:16:10.145Z"
   },
   {
    "duration": 4,
    "start_time": "2022-02-12T11:16:51.541Z"
   },
   {
    "duration": 8,
    "start_time": "2022-02-12T11:19:13.254Z"
   },
   {
    "duration": 4,
    "start_time": "2022-02-12T11:19:20.551Z"
   },
   {
    "duration": 5,
    "start_time": "2022-02-12T11:19:33.258Z"
   },
   {
    "duration": 3,
    "start_time": "2022-02-12T11:20:17.928Z"
   },
   {
    "duration": 6,
    "start_time": "2022-02-12T11:21:18.426Z"
   },
   {
    "duration": 14,
    "start_time": "2022-02-12T11:23:04.487Z"
   },
   {
    "duration": 14,
    "start_time": "2022-02-12T11:23:09.986Z"
   },
   {
    "duration": 154,
    "start_time": "2022-02-12T11:23:39.899Z"
   },
   {
    "duration": 282,
    "start_time": "2022-02-12T11:23:43.090Z"
   },
   {
    "duration": 361,
    "start_time": "2022-02-12T11:23:58.943Z"
   },
   {
    "duration": 262,
    "start_time": "2022-02-12T11:25:04.672Z"
   },
   {
    "duration": 336,
    "start_time": "2022-02-12T11:25:34.194Z"
   },
   {
    "duration": 263,
    "start_time": "2022-02-12T11:45:04.895Z"
   },
   {
    "duration": 8,
    "start_time": "2022-02-12T11:45:37.018Z"
   },
   {
    "duration": 271,
    "start_time": "2022-02-12T11:46:23.637Z"
   },
   {
    "duration": 20,
    "start_time": "2022-02-12T11:46:32.380Z"
   },
   {
    "duration": 18,
    "start_time": "2022-02-12T11:47:56.959Z"
   },
   {
    "duration": 10,
    "start_time": "2022-02-12T11:49:12.104Z"
   },
   {
    "duration": 12,
    "start_time": "2022-02-12T11:50:06.749Z"
   },
   {
    "duration": 10,
    "start_time": "2022-02-12T11:50:15.408Z"
   },
   {
    "duration": 9,
    "start_time": "2022-02-12T11:50:17.519Z"
   },
   {
    "duration": 95,
    "start_time": "2022-02-12T11:52:19.018Z"
   },
   {
    "duration": 134,
    "start_time": "2022-02-12T11:52:21.560Z"
   },
   {
    "duration": 261,
    "start_time": "2022-02-12T11:54:32.326Z"
   },
   {
    "duration": 5,
    "start_time": "2022-02-12T11:55:05.410Z"
   },
   {
    "duration": 4,
    "start_time": "2022-02-12T12:01:08.623Z"
   },
   {
    "duration": 1283,
    "start_time": "2022-02-12T12:01:58.501Z"
   },
   {
    "duration": 1096,
    "start_time": "2022-02-12T12:02:37.272Z"
   },
   {
    "duration": 12,
    "start_time": "2022-02-12T12:02:55.816Z"
   },
   {
    "duration": 1304,
    "start_time": "2022-02-12T12:04:06.091Z"
   },
   {
    "duration": 3,
    "start_time": "2022-02-12T12:04:25.992Z"
   },
   {
    "duration": 3714,
    "start_time": "2022-02-12T12:04:38.988Z"
   },
   {
    "duration": 3615,
    "start_time": "2022-02-12T12:05:36.193Z"
   },
   {
    "duration": 41,
    "start_time": "2022-02-12T12:05:43.905Z"
   },
   {
    "duration": 57,
    "start_time": "2022-02-12T12:05:56.425Z"
   },
   {
    "duration": 54,
    "start_time": "2022-02-12T12:06:07.345Z"
   },
   {
    "duration": 51,
    "start_time": "2022-02-12T12:06:20.559Z"
   },
   {
    "duration": 14,
    "start_time": "2022-02-12T12:07:19.878Z"
   },
   {
    "duration": 1065,
    "start_time": "2022-02-13T13:52:57.789Z"
   },
   {
    "duration": 396,
    "start_time": "2022-02-13T13:52:58.858Z"
   },
   {
    "duration": 79,
    "start_time": "2022-02-13T13:52:59.256Z"
   },
   {
    "duration": 88,
    "start_time": "2022-02-13T13:52:59.336Z"
   },
   {
    "duration": 8,
    "start_time": "2022-02-13T13:52:59.426Z"
   },
   {
    "duration": 25,
    "start_time": "2022-02-13T13:52:59.435Z"
   },
   {
    "duration": 25,
    "start_time": "2022-02-13T13:52:59.461Z"
   },
   {
    "duration": 430,
    "start_time": "2022-02-13T13:52:59.488Z"
   },
   {
    "duration": 14,
    "start_time": "2022-02-13T13:52:59.921Z"
   },
   {
    "duration": 34,
    "start_time": "2022-02-13T13:52:59.937Z"
   },
   {
    "duration": 17,
    "start_time": "2022-02-13T13:52:59.972Z"
   },
   {
    "duration": 28,
    "start_time": "2022-02-13T13:52:59.990Z"
   },
   {
    "duration": 45,
    "start_time": "2022-02-13T13:53:00.020Z"
   },
   {
    "duration": 19,
    "start_time": "2022-02-13T13:53:00.067Z"
   },
   {
    "duration": 8,
    "start_time": "2022-02-13T13:53:00.088Z"
   },
   {
    "duration": 27,
    "start_time": "2022-02-13T13:53:00.097Z"
   },
   {
    "duration": 4,
    "start_time": "2022-02-13T13:53:00.126Z"
   },
   {
    "duration": 30,
    "start_time": "2022-02-13T13:53:00.132Z"
   },
   {
    "duration": 19,
    "start_time": "2022-02-13T13:53:00.164Z"
   },
   {
    "duration": 9,
    "start_time": "2022-02-13T13:53:00.185Z"
   },
   {
    "duration": 22,
    "start_time": "2022-02-13T13:53:00.196Z"
   },
   {
    "duration": 16,
    "start_time": "2022-02-13T13:53:00.220Z"
   },
   {
    "duration": 327,
    "start_time": "2022-02-13T13:53:00.237Z"
   },
   {
    "duration": 13,
    "start_time": "2022-02-13T13:53:00.566Z"
   },
   {
    "duration": 47,
    "start_time": "2022-02-13T13:53:00.581Z"
   },
   {
    "duration": 33,
    "start_time": "2022-02-13T13:53:00.630Z"
   },
   {
    "duration": 7,
    "start_time": "2022-02-13T13:53:00.666Z"
   },
   {
    "duration": 22,
    "start_time": "2022-02-13T13:53:00.675Z"
   },
   {
    "duration": 32,
    "start_time": "2022-02-13T13:53:00.699Z"
   },
   {
    "duration": 19,
    "start_time": "2022-02-13T13:53:00.732Z"
   },
   {
    "duration": 13,
    "start_time": "2022-02-13T13:53:00.752Z"
   },
   {
    "duration": 344,
    "start_time": "2022-02-13T13:53:00.766Z"
   },
   {
    "duration": 310,
    "start_time": "2022-02-13T13:53:01.112Z"
   },
   {
    "duration": 281,
    "start_time": "2022-02-13T13:53:01.424Z"
   },
   {
    "duration": 6,
    "start_time": "2022-02-13T13:53:01.707Z"
   },
   {
    "duration": 8,
    "start_time": "2022-02-13T13:53:01.715Z"
   },
   {
    "duration": 36,
    "start_time": "2022-02-13T13:53:01.724Z"
   },
   {
    "duration": 14,
    "start_time": "2022-02-13T13:53:01.762Z"
   },
   {
    "duration": 8,
    "start_time": "2022-02-13T13:53:01.777Z"
   },
   {
    "duration": 24,
    "start_time": "2022-02-13T13:53:01.787Z"
   },
   {
    "duration": 16,
    "start_time": "2022-02-13T13:53:01.813Z"
   },
   {
    "duration": 28,
    "start_time": "2022-02-13T13:53:01.832Z"
   },
   {
    "duration": 10,
    "start_time": "2022-02-13T13:53:01.862Z"
   },
   {
    "duration": 27,
    "start_time": "2022-02-13T13:53:01.874Z"
   },
   {
    "duration": 10,
    "start_time": "2022-02-13T13:53:01.903Z"
   },
   {
    "duration": 16,
    "start_time": "2022-02-13T13:53:01.915Z"
   },
   {
    "duration": 8,
    "start_time": "2022-02-13T13:53:01.934Z"
   },
   {
    "duration": 69,
    "start_time": "2022-02-13T13:53:01.944Z"
   },
   {
    "duration": 15,
    "start_time": "2022-02-13T13:53:02.015Z"
   },
   {
    "duration": 6,
    "start_time": "2022-02-13T13:53:02.032Z"
   },
   {
    "duration": 20,
    "start_time": "2022-02-13T13:53:02.058Z"
   },
   {
    "duration": 55,
    "start_time": "2022-02-13T15:33:48.415Z"
   },
   {
    "duration": 9,
    "start_time": "2022-02-13T15:33:53.765Z"
   },
   {
    "duration": 9,
    "start_time": "2022-02-13T15:34:01.196Z"
   },
   {
    "duration": 14,
    "start_time": "2022-02-13T15:52:08.841Z"
   },
   {
    "duration": 12,
    "start_time": "2022-02-13T15:52:19.064Z"
   },
   {
    "duration": 1191,
    "start_time": "2022-02-19T17:43:19.978Z"
   },
   {
    "duration": 448,
    "start_time": "2022-02-19T17:43:21.171Z"
   },
   {
    "duration": 95,
    "start_time": "2022-02-19T17:43:21.622Z"
   },
   {
    "duration": 101,
    "start_time": "2022-02-19T17:43:21.719Z"
   },
   {
    "duration": 8,
    "start_time": "2022-02-19T17:43:21.822Z"
   },
   {
    "duration": 18,
    "start_time": "2022-02-19T17:43:21.832Z"
   },
   {
    "duration": 49,
    "start_time": "2022-02-19T17:43:21.852Z"
   },
   {
    "duration": 487,
    "start_time": "2022-02-19T17:43:21.903Z"
   },
   {
    "duration": 17,
    "start_time": "2022-02-19T17:43:22.392Z"
   },
   {
    "duration": 29,
    "start_time": "2022-02-19T17:43:22.411Z"
   },
   {
    "duration": 37,
    "start_time": "2022-02-19T17:43:22.442Z"
   },
   {
    "duration": 28,
    "start_time": "2022-02-19T17:43:22.481Z"
   },
   {
    "duration": 24,
    "start_time": "2022-02-19T17:43:22.511Z"
   },
   {
    "duration": 44,
    "start_time": "2022-02-19T17:43:22.536Z"
   },
   {
    "duration": 9,
    "start_time": "2022-02-19T17:43:22.581Z"
   },
   {
    "duration": 34,
    "start_time": "2022-02-19T17:43:22.591Z"
   },
   {
    "duration": 4,
    "start_time": "2022-02-19T17:43:22.627Z"
   },
   {
    "duration": 26,
    "start_time": "2022-02-19T17:43:22.633Z"
   },
   {
    "duration": 23,
    "start_time": "2022-02-19T17:43:22.661Z"
   },
   {
    "duration": 16,
    "start_time": "2022-02-19T17:43:22.686Z"
   },
   {
    "duration": 22,
    "start_time": "2022-02-19T17:43:22.704Z"
   },
   {
    "duration": 14,
    "start_time": "2022-02-19T17:43:22.728Z"
   },
   {
    "duration": 350,
    "start_time": "2022-02-19T17:43:22.744Z"
   },
   {
    "duration": 14,
    "start_time": "2022-02-19T17:43:23.095Z"
   },
   {
    "duration": 46,
    "start_time": "2022-02-19T17:43:23.111Z"
   },
   {
    "duration": 32,
    "start_time": "2022-02-19T17:43:23.158Z"
   },
   {
    "duration": 7,
    "start_time": "2022-02-19T17:43:23.195Z"
   },
   {
    "duration": 17,
    "start_time": "2022-02-19T17:43:23.205Z"
   },
   {
    "duration": 21,
    "start_time": "2022-02-19T17:43:23.224Z"
   },
   {
    "duration": 22,
    "start_time": "2022-02-19T17:43:23.268Z"
   },
   {
    "duration": 21,
    "start_time": "2022-02-19T17:43:23.292Z"
   },
   {
    "duration": 373,
    "start_time": "2022-02-19T17:43:23.315Z"
   },
   {
    "duration": 336,
    "start_time": "2022-02-19T17:43:23.690Z"
   },
   {
    "duration": 311,
    "start_time": "2022-02-19T17:43:24.029Z"
   },
   {
    "duration": 7,
    "start_time": "2022-02-19T17:43:24.342Z"
   },
   {
    "duration": 29,
    "start_time": "2022-02-19T17:43:24.351Z"
   },
   {
    "duration": 24,
    "start_time": "2022-02-19T17:43:24.382Z"
   },
   {
    "duration": 30,
    "start_time": "2022-02-19T17:43:24.408Z"
   },
   {
    "duration": 26,
    "start_time": "2022-02-19T17:43:24.439Z"
   },
   {
    "duration": 25,
    "start_time": "2022-02-19T17:43:24.467Z"
   },
   {
    "duration": 15,
    "start_time": "2022-02-19T17:43:24.494Z"
   },
   {
    "duration": 31,
    "start_time": "2022-02-19T17:43:24.510Z"
   },
   {
    "duration": 22,
    "start_time": "2022-02-19T17:43:24.542Z"
   },
   {
    "duration": 26,
    "start_time": "2022-02-19T17:43:24.566Z"
   },
   {
    "duration": 11,
    "start_time": "2022-02-19T17:43:24.594Z"
   },
   {
    "duration": 6,
    "start_time": "2022-02-19T17:43:24.606Z"
   },
   {
    "duration": 10,
    "start_time": "2022-02-19T17:43:24.613Z"
   },
   {
    "duration": 65,
    "start_time": "2022-02-19T17:43:24.625Z"
   },
   {
    "duration": 14,
    "start_time": "2022-02-19T17:43:24.692Z"
   },
   {
    "duration": 8,
    "start_time": "2022-02-19T17:44:48.148Z"
   },
   {
    "duration": 8,
    "start_time": "2022-02-19T17:45:55.528Z"
   },
   {
    "duration": 1819,
    "start_time": "2022-02-19T19:36:14.388Z"
   },
   {
    "duration": 678,
    "start_time": "2022-02-19T19:36:16.211Z"
   },
   {
    "duration": 203,
    "start_time": "2022-02-19T19:36:16.892Z"
   },
   {
    "duration": 117,
    "start_time": "2022-02-19T19:36:17.098Z"
   },
   {
    "duration": 11,
    "start_time": "2022-02-19T19:36:17.218Z"
   },
   {
    "duration": 4,
    "start_time": "2022-02-19T19:36:24.901Z"
   },
   {
    "duration": 704,
    "start_time": "2022-02-19T19:36:24.907Z"
   },
   {
    "duration": 133,
    "start_time": "2022-02-19T19:36:25.615Z"
   },
   {
    "duration": 105,
    "start_time": "2022-02-19T19:36:25.751Z"
   },
   {
    "duration": 9,
    "start_time": "2022-02-19T19:36:25.859Z"
   },
   {
    "duration": 13,
    "start_time": "2022-02-19T19:36:31.220Z"
   },
   {
    "duration": 87,
    "start_time": "2022-02-19T19:37:00.643Z"
   },
   {
    "duration": 1075,
    "start_time": "2022-02-19T19:45:37.658Z"
   },
   {
    "duration": 440,
    "start_time": "2022-02-19T19:46:03.379Z"
   },
   {
    "duration": 473,
    "start_time": "2022-02-19T19:46:24.766Z"
   },
   {
    "duration": 407,
    "start_time": "2022-02-19T19:46:48.732Z"
   },
   {
    "duration": 439,
    "start_time": "2022-02-19T19:47:02.731Z"
   },
   {
    "duration": 423,
    "start_time": "2022-02-19T19:47:09.093Z"
   },
   {
    "duration": 20,
    "start_time": "2022-02-19T19:47:33.725Z"
   },
   {
    "duration": 23,
    "start_time": "2022-02-19T19:51:33.071Z"
   },
   {
    "duration": 381,
    "start_time": "2022-02-19T19:51:56.593Z"
   },
   {
    "duration": 21,
    "start_time": "2022-02-19T19:52:21.896Z"
   },
   {
    "duration": 482,
    "start_time": "2022-02-19T19:54:52.486Z"
   },
   {
    "duration": 18,
    "start_time": "2022-02-19T19:55:24.215Z"
   },
   {
    "duration": 404,
    "start_time": "2022-02-19T20:01:35.931Z"
   },
   {
    "duration": 6,
    "start_time": "2022-02-19T20:03:03.158Z"
   },
   {
    "duration": 15,
    "start_time": "2022-02-19T20:03:37.140Z"
   },
   {
    "duration": 18,
    "start_time": "2022-02-19T20:04:21.344Z"
   },
   {
    "duration": 24,
    "start_time": "2022-02-19T20:15:43.721Z"
   },
   {
    "duration": 34,
    "start_time": "2022-02-19T20:19:44.685Z"
   },
   {
    "duration": 1029,
    "start_time": "2022-02-19T20:21:12.091Z"
   },
   {
    "duration": 1024,
    "start_time": "2022-02-19T20:21:45.165Z"
   },
   {
    "duration": 799,
    "start_time": "2022-02-19T20:23:42.942Z"
   },
   {
    "duration": 3,
    "start_time": "2022-02-19T20:24:16.455Z"
   },
   {
    "duration": 4,
    "start_time": "2022-02-19T20:27:03.280Z"
   },
   {
    "duration": 474,
    "start_time": "2022-02-19T20:27:03.288Z"
   },
   {
    "duration": 132,
    "start_time": "2022-02-19T20:27:03.765Z"
   },
   {
    "duration": 107,
    "start_time": "2022-02-19T20:27:03.900Z"
   },
   {
    "duration": 9,
    "start_time": "2022-02-19T20:27:04.010Z"
   },
   {
    "duration": 22,
    "start_time": "2022-02-19T20:27:04.021Z"
   },
   {
    "duration": 26,
    "start_time": "2022-02-19T20:27:04.045Z"
   },
   {
    "duration": 402,
    "start_time": "2022-02-19T20:27:04.073Z"
   },
   {
    "duration": 28,
    "start_time": "2022-02-19T20:27:04.478Z"
   },
   {
    "duration": 16,
    "start_time": "2022-02-19T20:27:04.508Z"
   },
   {
    "duration": 409,
    "start_time": "2022-02-19T20:27:04.527Z"
   },
   {
    "duration": 15,
    "start_time": "2022-02-19T20:27:04.938Z"
   },
   {
    "duration": 32,
    "start_time": "2022-02-19T20:27:10.692Z"
   },
   {
    "duration": 3,
    "start_time": "2022-02-19T20:27:15.002Z"
   },
   {
    "duration": 25,
    "start_time": "2022-02-19T20:28:38.172Z"
   },
   {
    "duration": 45,
    "start_time": "2022-02-19T20:30:31.494Z"
   },
   {
    "duration": 14,
    "start_time": "2022-02-19T20:30:40.980Z"
   },
   {
    "duration": 45,
    "start_time": "2022-02-19T20:30:57.800Z"
   },
   {
    "duration": 14,
    "start_time": "2022-02-19T20:30:58.710Z"
   },
   {
    "duration": 46,
    "start_time": "2022-02-19T20:35:17.633Z"
   },
   {
    "duration": 13,
    "start_time": "2022-02-19T20:35:18.466Z"
   },
   {
    "duration": 10,
    "start_time": "2022-02-19T20:36:05.559Z"
   },
   {
    "duration": 269,
    "start_time": "2022-02-19T20:38:33.423Z"
   },
   {
    "duration": 27,
    "start_time": "2022-02-19T20:39:33.889Z"
   },
   {
    "duration": 17,
    "start_time": "2022-02-19T20:39:34.917Z"
   },
   {
    "duration": 42,
    "start_time": "2022-02-19T20:39:36.230Z"
   },
   {
    "duration": 63,
    "start_time": "2022-02-19T20:40:02.696Z"
   },
   {
    "duration": 14,
    "start_time": "2022-02-19T20:40:14.492Z"
   },
   {
    "duration": 19,
    "start_time": "2022-02-19T20:40:20.180Z"
   },
   {
    "duration": 21,
    "start_time": "2022-02-19T20:40:30.565Z"
   },
   {
    "duration": 16,
    "start_time": "2022-02-19T20:40:34.584Z"
   },
   {
    "duration": 12,
    "start_time": "2022-02-19T20:40:46.177Z"
   },
   {
    "duration": 27,
    "start_time": "2022-02-19T20:41:30.571Z"
   },
   {
    "duration": 33,
    "start_time": "2022-02-19T20:42:12.748Z"
   },
   {
    "duration": 42,
    "start_time": "2022-02-19T20:42:46.131Z"
   },
   {
    "duration": 29,
    "start_time": "2022-02-19T20:43:01.667Z"
   },
   {
    "duration": 34,
    "start_time": "2022-02-19T20:43:16.072Z"
   },
   {
    "duration": 20,
    "start_time": "2022-02-19T20:45:22.718Z"
   },
   {
    "duration": 31,
    "start_time": "2022-02-19T20:45:27.410Z"
   },
   {
    "duration": 26,
    "start_time": "2022-02-19T20:45:36.641Z"
   },
   {
    "duration": 20,
    "start_time": "2022-02-19T20:46:01.372Z"
   },
   {
    "duration": 20,
    "start_time": "2022-02-19T20:46:24.193Z"
   },
   {
    "duration": 21,
    "start_time": "2022-02-19T20:46:28.004Z"
   },
   {
    "duration": 28,
    "start_time": "2022-02-19T20:47:20.494Z"
   },
   {
    "duration": 6530,
    "start_time": "2022-02-19T20:49:34.178Z"
   },
   {
    "duration": -242,
    "start_time": "2022-02-19T20:49:40.953Z"
   },
   {
    "duration": 71,
    "start_time": "2022-02-19T20:49:43.436Z"
   },
   {
    "duration": 19,
    "start_time": "2022-02-19T20:49:44.102Z"
   },
   {
    "duration": 18,
    "start_time": "2022-02-19T20:53:12.179Z"
   },
   {
    "duration": 15,
    "start_time": "2022-02-19T20:54:40.245Z"
   },
   {
    "duration": 15,
    "start_time": "2022-02-19T20:54:49.792Z"
   },
   {
    "duration": 44,
    "start_time": "2022-02-19T20:55:27.845Z"
   },
   {
    "duration": 37,
    "start_time": "2022-02-19T20:55:40.440Z"
   },
   {
    "duration": 26,
    "start_time": "2022-02-19T20:55:52.892Z"
   },
   {
    "duration": 27,
    "start_time": "2022-02-19T20:56:03.969Z"
   },
   {
    "duration": 12,
    "start_time": "2022-02-19T20:57:06.045Z"
   },
   {
    "duration": 26,
    "start_time": "2022-02-19T20:57:07.781Z"
   },
   {
    "duration": 13,
    "start_time": "2022-02-19T20:57:23.317Z"
   },
   {
    "duration": 39,
    "start_time": "2022-02-19T20:57:46.191Z"
   },
   {
    "duration": 22,
    "start_time": "2022-02-19T20:58:05.602Z"
   },
   {
    "duration": 10,
    "start_time": "2022-02-19T20:58:22.691Z"
   },
   {
    "duration": 26,
    "start_time": "2022-02-19T20:58:24.941Z"
   },
   {
    "duration": 14,
    "start_time": "2022-02-19T21:04:27.371Z"
   },
   {
    "duration": 50,
    "start_time": "2022-02-19T21:04:44.893Z"
   },
   {
    "duration": 66,
    "start_time": "2022-02-19T21:04:59.244Z"
   },
   {
    "duration": 73,
    "start_time": "2022-02-19T21:05:04.950Z"
   },
   {
    "duration": 76,
    "start_time": "2022-02-19T21:05:57.213Z"
   },
   {
    "duration": 7,
    "start_time": "2022-02-19T21:13:33.377Z"
   },
   {
    "duration": 90,
    "start_time": "2022-02-19T21:13:54.472Z"
   },
   {
    "duration": 10,
    "start_time": "2022-02-19T21:15:04.295Z"
   },
   {
    "duration": 39,
    "start_time": "2022-02-19T21:15:16.310Z"
   },
   {
    "duration": 9,
    "start_time": "2022-02-19T21:22:21.665Z"
   },
   {
    "duration": 18,
    "start_time": "2022-02-19T21:22:25.362Z"
   },
   {
    "duration": 35,
    "start_time": "2022-02-19T21:22:47.502Z"
   },
   {
    "duration": 10,
    "start_time": "2022-02-19T21:22:53.584Z"
   },
   {
    "duration": 35,
    "start_time": "2022-02-19T21:22:54.456Z"
   },
   {
    "duration": 13,
    "start_time": "2022-02-19T21:23:04.742Z"
   },
   {
    "duration": 14,
    "start_time": "2022-02-19T21:23:26.390Z"
   },
   {
    "duration": 19,
    "start_time": "2022-02-19T21:24:27.178Z"
   },
   {
    "duration": 18,
    "start_time": "2022-02-19T21:25:21.378Z"
   },
   {
    "duration": 23,
    "start_time": "2022-02-19T21:26:24.820Z"
   },
   {
    "duration": 11,
    "start_time": "2022-02-19T21:27:35.225Z"
   },
   {
    "duration": 20,
    "start_time": "2022-02-19T21:27:36.103Z"
   },
   {
    "duration": 11,
    "start_time": "2022-02-19T21:27:49.961Z"
   },
   {
    "duration": 19,
    "start_time": "2022-02-19T21:27:50.896Z"
   },
   {
    "duration": 11,
    "start_time": "2022-02-19T21:28:53.827Z"
   },
   {
    "duration": 20,
    "start_time": "2022-02-19T21:28:54.680Z"
   },
   {
    "duration": 13,
    "start_time": "2022-02-19T21:29:07.120Z"
   },
   {
    "duration": 21,
    "start_time": "2022-02-19T21:29:07.916Z"
   },
   {
    "duration": 12,
    "start_time": "2022-02-19T21:29:54.444Z"
   },
   {
    "duration": 21,
    "start_time": "2022-02-19T21:29:54.958Z"
   },
   {
    "duration": 10,
    "start_time": "2022-02-19T21:30:31.954Z"
   },
   {
    "duration": 22,
    "start_time": "2022-02-19T21:30:33.585Z"
   },
   {
    "duration": 10,
    "start_time": "2022-02-19T21:31:04.340Z"
   },
   {
    "duration": 21,
    "start_time": "2022-02-19T21:31:04.945Z"
   },
   {
    "duration": 9,
    "start_time": "2022-02-19T21:32:06.474Z"
   },
   {
    "duration": 20,
    "start_time": "2022-02-19T21:32:07.144Z"
   },
   {
    "duration": 11,
    "start_time": "2022-02-19T21:32:23.595Z"
   },
   {
    "duration": 20,
    "start_time": "2022-02-19T21:32:27.623Z"
   },
   {
    "duration": 16,
    "start_time": "2022-02-19T21:32:48.477Z"
   },
   {
    "duration": 11,
    "start_time": "2022-02-19T21:34:01.488Z"
   },
   {
    "duration": 22,
    "start_time": "2022-02-19T21:34:06.179Z"
   },
   {
    "duration": 13,
    "start_time": "2022-02-19T21:34:21.727Z"
   },
   {
    "duration": 21,
    "start_time": "2022-02-19T21:34:22.499Z"
   },
   {
    "duration": 238,
    "start_time": "2022-02-19T21:36:07.840Z"
   },
   {
    "duration": 11,
    "start_time": "2022-02-19T21:36:19.392Z"
   },
   {
    "duration": 14,
    "start_time": "2022-02-19T21:36:20.102Z"
   },
   {
    "duration": 24,
    "start_time": "2022-02-19T21:36:26.877Z"
   },
   {
    "duration": 264,
    "start_time": "2022-02-19T21:37:49.191Z"
   },
   {
    "duration": 7,
    "start_time": "2022-02-19T21:37:58.399Z"
   },
   {
    "duration": 18,
    "start_time": "2022-02-19T21:38:52.017Z"
   },
   {
    "duration": 17,
    "start_time": "2022-02-19T21:40:38.358Z"
   },
   {
    "duration": 19,
    "start_time": "2022-02-19T21:40:50.037Z"
   },
   {
    "duration": 92,
    "start_time": "2022-02-19T21:43:02.950Z"
   },
   {
    "duration": 15,
    "start_time": "2022-02-19T21:43:18.935Z"
   },
   {
    "duration": 6,
    "start_time": "2022-02-19T21:46:52.559Z"
   },
   {
    "duration": 19,
    "start_time": "2022-02-19T21:47:01.032Z"
   },
   {
    "duration": 17,
    "start_time": "2022-02-19T21:47:31.853Z"
   },
   {
    "duration": 5,
    "start_time": "2022-02-19T21:49:02.630Z"
   },
   {
    "duration": 505,
    "start_time": "2022-02-19T21:49:02.638Z"
   },
   {
    "duration": 115,
    "start_time": "2022-02-19T21:49:03.147Z"
   },
   {
    "duration": 31,
    "start_time": "2022-02-19T21:49:03.265Z"
   },
   {
    "duration": 112,
    "start_time": "2022-02-19T21:49:03.298Z"
   },
   {
    "duration": 9,
    "start_time": "2022-02-19T21:49:03.413Z"
   },
   {
    "duration": 27,
    "start_time": "2022-02-19T21:49:03.425Z"
   },
   {
    "duration": 49,
    "start_time": "2022-02-19T21:49:03.454Z"
   },
   {
    "duration": 419,
    "start_time": "2022-02-19T21:49:03.508Z"
   },
   {
    "duration": 23,
    "start_time": "2022-02-19T21:49:03.931Z"
   },
   {
    "duration": 41,
    "start_time": "2022-02-19T21:49:03.957Z"
   },
   {
    "duration": 407,
    "start_time": "2022-02-19T21:49:04.001Z"
   },
   {
    "duration": 15,
    "start_time": "2022-02-19T21:49:04.410Z"
   },
   {
    "duration": 32,
    "start_time": "2022-02-19T21:49:04.427Z"
   },
   {
    "duration": 51,
    "start_time": "2022-02-19T21:49:04.461Z"
   },
   {
    "duration": 3,
    "start_time": "2022-02-19T21:49:04.514Z"
   },
   {
    "duration": 74,
    "start_time": "2022-02-19T21:49:04.519Z"
   },
   {
    "duration": 15,
    "start_time": "2022-02-19T21:49:04.595Z"
   },
   {
    "duration": 25,
    "start_time": "2022-02-19T21:49:04.613Z"
   },
   {
    "duration": 13,
    "start_time": "2022-02-19T21:49:04.640Z"
   },
   {
    "duration": 66,
    "start_time": "2022-02-19T21:49:04.655Z"
   },
   {
    "duration": 33,
    "start_time": "2022-02-19T21:49:04.724Z"
   },
   {
    "duration": 66,
    "start_time": "2022-02-19T21:49:04.759Z"
   },
   {
    "duration": 114,
    "start_time": "2022-02-19T21:49:04.827Z"
   },
   {
    "duration": 11,
    "start_time": "2022-02-19T21:49:04.943Z"
   },
   {
    "duration": 13,
    "start_time": "2022-02-19T21:49:04.956Z"
   },
   {
    "duration": 31,
    "start_time": "2022-02-19T21:49:04.973Z"
   },
   {
    "duration": 11,
    "start_time": "2022-02-19T21:49:05.007Z"
   },
   {
    "duration": 13,
    "start_time": "2022-02-19T21:49:05.020Z"
   },
   {
    "duration": 5,
    "start_time": "2022-02-19T21:49:05.036Z"
   },
   {
    "duration": 6,
    "start_time": "2022-02-19T21:49:09.674Z"
   },
   {
    "duration": 18,
    "start_time": "2022-02-19T21:49:11.679Z"
   },
   {
    "duration": 40,
    "start_time": "2022-02-19T21:49:54.449Z"
   },
   {
    "duration": 9,
    "start_time": "2022-02-19T21:53:25.127Z"
   },
   {
    "duration": 12,
    "start_time": "2022-02-19T21:53:28.584Z"
   },
   {
    "duration": 261,
    "start_time": "2022-02-19T21:54:37.717Z"
   },
   {
    "duration": 244,
    "start_time": "2022-02-19T21:54:42.229Z"
   },
   {
    "duration": 14,
    "start_time": "2022-02-19T21:54:47.492Z"
   },
   {
    "duration": 9,
    "start_time": "2022-02-19T21:55:11.840Z"
   },
   {
    "duration": 18,
    "start_time": "2022-02-19T21:55:33.184Z"
   },
   {
    "duration": 8,
    "start_time": "2022-02-19T21:58:04.980Z"
   },
   {
    "duration": 19,
    "start_time": "2022-02-19T21:58:09.247Z"
   },
   {
    "duration": 11,
    "start_time": "2022-02-19T21:58:56.335Z"
   },
   {
    "duration": 4,
    "start_time": "2022-02-19T22:04:52.763Z"
   },
   {
    "duration": 512,
    "start_time": "2022-02-19T22:04:52.769Z"
   },
   {
    "duration": 137,
    "start_time": "2022-02-19T22:04:53.284Z"
   },
   {
    "duration": 12,
    "start_time": "2022-02-19T22:04:53.424Z"
   },
   {
    "duration": 130,
    "start_time": "2022-02-19T22:04:53.439Z"
   },
   {
    "duration": 9,
    "start_time": "2022-02-19T22:04:53.571Z"
   },
   {
    "duration": 21,
    "start_time": "2022-02-19T22:04:53.582Z"
   },
   {
    "duration": 23,
    "start_time": "2022-02-19T22:04:53.606Z"
   },
   {
    "duration": 448,
    "start_time": "2022-02-19T22:04:53.632Z"
   },
   {
    "duration": 29,
    "start_time": "2022-02-19T22:04:54.084Z"
   },
   {
    "duration": 19,
    "start_time": "2022-02-19T22:04:54.115Z"
   },
   {
    "duration": 522,
    "start_time": "2022-02-19T22:04:54.136Z"
   },
   {
    "duration": 15,
    "start_time": "2022-02-19T22:04:54.661Z"
   },
   {
    "duration": 31,
    "start_time": "2022-02-19T22:04:54.694Z"
   },
   {
    "duration": 22,
    "start_time": "2022-02-19T22:04:54.728Z"
   },
   {
    "duration": 3,
    "start_time": "2022-02-19T22:04:54.753Z"
   },
   {
    "duration": 78,
    "start_time": "2022-02-19T22:04:54.758Z"
   },
   {
    "duration": 15,
    "start_time": "2022-02-19T22:04:54.838Z"
   },
   {
    "duration": 43,
    "start_time": "2022-02-19T22:04:54.856Z"
   },
   {
    "duration": 13,
    "start_time": "2022-02-19T22:04:54.901Z"
   },
   {
    "duration": 44,
    "start_time": "2022-02-19T22:04:54.917Z"
   },
   {
    "duration": 54,
    "start_time": "2022-02-19T22:04:54.963Z"
   },
   {
    "duration": 35,
    "start_time": "2022-02-19T22:04:55.019Z"
   },
   {
    "duration": 108,
    "start_time": "2022-02-19T22:04:55.056Z"
   },
   {
    "duration": 10,
    "start_time": "2022-02-19T22:04:55.167Z"
   },
   {
    "duration": 23,
    "start_time": "2022-02-19T22:04:55.179Z"
   },
   {
    "duration": 12,
    "start_time": "2022-02-19T22:04:55.207Z"
   },
   {
    "duration": 17,
    "start_time": "2022-02-19T22:04:55.222Z"
   },
   {
    "duration": 18,
    "start_time": "2022-02-19T22:04:55.241Z"
   },
   {
    "duration": 34,
    "start_time": "2022-02-19T22:04:55.261Z"
   },
   {
    "duration": 23,
    "start_time": "2022-02-19T22:04:55.297Z"
   },
   {
    "duration": 37,
    "start_time": "2022-02-19T22:04:55.322Z"
   },
   {
    "duration": 8,
    "start_time": "2022-02-19T22:05:00.260Z"
   },
   {
    "duration": 8,
    "start_time": "2022-02-19T22:08:44.058Z"
   },
   {
    "duration": 17,
    "start_time": "2022-02-19T22:10:43.689Z"
   },
   {
    "duration": 9,
    "start_time": "2022-02-19T22:10:57.092Z"
   },
   {
    "duration": 17,
    "start_time": "2022-02-19T22:10:57.996Z"
   },
   {
    "duration": 9,
    "start_time": "2022-02-19T22:11:13.024Z"
   },
   {
    "duration": 15,
    "start_time": "2022-02-19T22:11:13.595Z"
   },
   {
    "duration": 9,
    "start_time": "2022-02-19T22:12:30.335Z"
   },
   {
    "duration": 235,
    "start_time": "2022-02-19T22:12:30.940Z"
   },
   {
    "duration": 240,
    "start_time": "2022-02-19T22:12:54.967Z"
   },
   {
    "duration": 4,
    "start_time": "2022-02-19T22:13:18.670Z"
   },
   {
    "duration": 444,
    "start_time": "2022-02-19T22:13:18.677Z"
   },
   {
    "duration": 116,
    "start_time": "2022-02-19T22:13:19.124Z"
   },
   {
    "duration": 10,
    "start_time": "2022-02-19T22:13:19.242Z"
   },
   {
    "duration": 123,
    "start_time": "2022-02-19T22:13:19.254Z"
   },
   {
    "duration": 15,
    "start_time": "2022-02-19T22:13:19.379Z"
   },
   {
    "duration": 13,
    "start_time": "2022-02-19T22:13:19.397Z"
   },
   {
    "duration": 19,
    "start_time": "2022-02-19T22:13:19.413Z"
   },
   {
    "duration": 428,
    "start_time": "2022-02-19T22:13:19.434Z"
   },
   {
    "duration": 33,
    "start_time": "2022-02-19T22:13:19.865Z"
   },
   {
    "duration": 17,
    "start_time": "2022-02-19T22:13:19.901Z"
   },
   {
    "duration": 396,
    "start_time": "2022-02-19T22:13:19.920Z"
   },
   {
    "duration": 15,
    "start_time": "2022-02-19T22:13:20.318Z"
   },
   {
    "duration": 33,
    "start_time": "2022-02-19T22:13:20.335Z"
   },
   {
    "duration": 22,
    "start_time": "2022-02-19T22:13:20.394Z"
   },
   {
    "duration": 2,
    "start_time": "2022-02-19T22:13:20.419Z"
   },
   {
    "duration": 74,
    "start_time": "2022-02-19T22:13:20.424Z"
   },
   {
    "duration": 18,
    "start_time": "2022-02-19T22:13:20.500Z"
   },
   {
    "duration": 22,
    "start_time": "2022-02-19T22:13:20.524Z"
   },
   {
    "duration": 13,
    "start_time": "2022-02-19T22:13:20.549Z"
   },
   {
    "duration": 44,
    "start_time": "2022-02-19T22:13:20.593Z"
   },
   {
    "duration": 55,
    "start_time": "2022-02-19T22:13:20.640Z"
   },
   {
    "duration": 37,
    "start_time": "2022-02-19T22:13:20.697Z"
   },
   {
    "duration": 131,
    "start_time": "2022-02-19T22:13:20.737Z"
   },
   {
    "duration": 30,
    "start_time": "2022-02-19T22:13:20.871Z"
   },
   {
    "duration": 13,
    "start_time": "2022-02-19T22:13:20.904Z"
   },
   {
    "duration": 14,
    "start_time": "2022-02-19T22:13:20.920Z"
   },
   {
    "duration": 12,
    "start_time": "2022-02-19T22:13:20.937Z"
   },
   {
    "duration": 49,
    "start_time": "2022-02-19T22:13:20.952Z"
   },
   {
    "duration": 5,
    "start_time": "2022-02-19T22:13:21.004Z"
   },
   {
    "duration": 31,
    "start_time": "2022-02-19T22:13:21.011Z"
   },
   {
    "duration": 58,
    "start_time": "2022-02-19T22:13:21.045Z"
   },
   {
    "duration": 8,
    "start_time": "2022-02-19T22:13:21.105Z"
   },
   {
    "duration": 39,
    "start_time": "2022-02-19T22:13:21.115Z"
   },
   {
    "duration": 17,
    "start_time": "2022-02-19T22:13:25.494Z"
   },
   {
    "duration": 9,
    "start_time": "2022-02-19T22:13:28.694Z"
   },
   {
    "duration": 252,
    "start_time": "2022-02-19T22:13:29.871Z"
   },
   {
    "duration": 238,
    "start_time": "2022-02-19T22:13:42.159Z"
   },
   {
    "duration": 5,
    "start_time": "2022-02-19T22:15:14.201Z"
   },
   {
    "duration": 497,
    "start_time": "2022-02-19T22:15:14.208Z"
   },
   {
    "duration": 122,
    "start_time": "2022-02-19T22:15:14.708Z"
   },
   {
    "duration": 11,
    "start_time": "2022-02-19T22:15:14.833Z"
   },
   {
    "duration": 121,
    "start_time": "2022-02-19T22:15:14.846Z"
   },
   {
    "duration": 9,
    "start_time": "2022-02-19T22:15:14.970Z"
   },
   {
    "duration": 19,
    "start_time": "2022-02-19T22:15:14.981Z"
   },
   {
    "duration": 32,
    "start_time": "2022-02-19T22:15:15.003Z"
   },
   {
    "duration": 398,
    "start_time": "2022-02-19T22:15:15.038Z"
   },
   {
    "duration": 20,
    "start_time": "2022-02-19T22:15:15.439Z"
   },
   {
    "duration": 37,
    "start_time": "2022-02-19T22:15:15.461Z"
   },
   {
    "duration": 416,
    "start_time": "2022-02-19T22:15:15.501Z"
   },
   {
    "duration": 15,
    "start_time": "2022-02-19T22:15:15.919Z"
   },
   {
    "duration": 38,
    "start_time": "2022-02-19T22:15:15.936Z"
   },
   {
    "duration": 38,
    "start_time": "2022-02-19T22:15:15.977Z"
   },
   {
    "duration": 3,
    "start_time": "2022-02-19T22:15:16.018Z"
   },
   {
    "duration": 74,
    "start_time": "2022-02-19T22:15:16.024Z"
   },
   {
    "duration": 14,
    "start_time": "2022-02-19T22:15:16.101Z"
   },
   {
    "duration": 34,
    "start_time": "2022-02-19T22:15:16.117Z"
   },
   {
    "duration": 13,
    "start_time": "2022-02-19T22:15:16.154Z"
   },
   {
    "duration": 63,
    "start_time": "2022-02-19T22:15:16.170Z"
   },
   {
    "duration": 33,
    "start_time": "2022-02-19T22:15:16.236Z"
   },
   {
    "duration": 35,
    "start_time": "2022-02-19T22:15:16.294Z"
   },
   {
    "duration": 121,
    "start_time": "2022-02-19T22:15:16.331Z"
   },
   {
    "duration": 11,
    "start_time": "2022-02-19T22:15:16.454Z"
   },
   {
    "duration": 31,
    "start_time": "2022-02-19T22:15:16.467Z"
   },
   {
    "duration": 13,
    "start_time": "2022-02-19T22:15:16.500Z"
   },
   {
    "duration": 10,
    "start_time": "2022-02-19T22:15:16.515Z"
   },
   {
    "duration": 14,
    "start_time": "2022-02-19T22:15:16.527Z"
   },
   {
    "duration": 5,
    "start_time": "2022-02-19T22:15:16.543Z"
   },
   {
    "duration": 56,
    "start_time": "2022-02-19T22:15:16.551Z"
   },
   {
    "duration": 37,
    "start_time": "2022-02-19T22:15:16.610Z"
   },
   {
    "duration": 7,
    "start_time": "2022-02-19T22:15:16.649Z"
   },
   {
    "duration": 15,
    "start_time": "2022-02-19T22:15:16.694Z"
   },
   {
    "duration": 10,
    "start_time": "2022-02-19T22:15:19.822Z"
   },
   {
    "duration": 16,
    "start_time": "2022-02-19T22:15:20.257Z"
   },
   {
    "duration": 12,
    "start_time": "2022-02-19T22:16:34.114Z"
   },
   {
    "duration": 17,
    "start_time": "2022-02-19T22:16:35.287Z"
   },
   {
    "duration": 15,
    "start_time": "2022-02-19T22:16:54.176Z"
   },
   {
    "duration": 4,
    "start_time": "2022-02-19T22:19:19.637Z"
   },
   {
    "duration": 502,
    "start_time": "2022-02-19T22:19:19.644Z"
   },
   {
    "duration": 117,
    "start_time": "2022-02-19T22:19:20.149Z"
   },
   {
    "duration": 31,
    "start_time": "2022-02-19T22:19:20.269Z"
   },
   {
    "duration": 115,
    "start_time": "2022-02-19T22:19:20.302Z"
   },
   {
    "duration": 9,
    "start_time": "2022-02-19T22:19:20.420Z"
   },
   {
    "duration": 15,
    "start_time": "2022-02-19T22:19:20.431Z"
   },
   {
    "duration": 46,
    "start_time": "2022-02-19T22:19:20.449Z"
   },
   {
    "duration": 426,
    "start_time": "2022-02-19T22:19:20.501Z"
   },
   {
    "duration": 23,
    "start_time": "2022-02-19T22:19:20.931Z"
   },
   {
    "duration": 43,
    "start_time": "2022-02-19T22:19:20.956Z"
   },
   {
    "duration": 412,
    "start_time": "2022-02-19T22:19:21.001Z"
   },
   {
    "duration": 14,
    "start_time": "2022-02-19T22:19:21.416Z"
   },
   {
    "duration": 29,
    "start_time": "2022-02-19T22:19:21.432Z"
   },
   {
    "duration": 49,
    "start_time": "2022-02-19T22:19:21.464Z"
   },
   {
    "duration": 3,
    "start_time": "2022-02-19T22:19:21.515Z"
   },
   {
    "duration": 54,
    "start_time": "2022-02-19T22:19:21.520Z"
   },
   {
    "duration": 25,
    "start_time": "2022-02-19T22:19:21.582Z"
   },
   {
    "duration": 20,
    "start_time": "2022-02-19T22:19:21.610Z"
   },
   {
    "duration": 12,
    "start_time": "2022-02-19T22:19:21.633Z"
   },
   {
    "duration": 81,
    "start_time": "2022-02-19T22:19:21.647Z"
   },
   {
    "duration": 35,
    "start_time": "2022-02-19T22:19:21.731Z"
   },
   {
    "duration": 57,
    "start_time": "2022-02-19T22:19:21.768Z"
   },
   {
    "duration": 118,
    "start_time": "2022-02-19T22:19:21.828Z"
   },
   {
    "duration": 11,
    "start_time": "2022-02-19T22:19:21.948Z"
   },
   {
    "duration": 30,
    "start_time": "2022-02-19T22:19:21.962Z"
   },
   {
    "duration": 15,
    "start_time": "2022-02-19T22:19:21.998Z"
   },
   {
    "duration": 12,
    "start_time": "2022-02-19T22:19:22.016Z"
   },
   {
    "duration": 13,
    "start_time": "2022-02-19T22:19:22.030Z"
   },
   {
    "duration": 6,
    "start_time": "2022-02-19T22:19:22.045Z"
   },
   {
    "duration": 56,
    "start_time": "2022-02-19T22:19:22.054Z"
   },
   {
    "duration": 52,
    "start_time": "2022-02-19T22:19:22.113Z"
   },
   {
    "duration": 32,
    "start_time": "2022-02-19T22:19:22.167Z"
   },
   {
    "duration": 19,
    "start_time": "2022-02-19T22:19:22.201Z"
   },
   {
    "duration": 9,
    "start_time": "2022-02-19T22:19:24.807Z"
   },
   {
    "duration": 251,
    "start_time": "2022-02-19T22:19:25.602Z"
   },
   {
    "duration": 291,
    "start_time": "2022-02-19T22:19:34.672Z"
   },
   {
    "duration": 4,
    "start_time": "2022-02-19T22:19:54.086Z"
   },
   {
    "duration": 519,
    "start_time": "2022-02-19T22:19:54.093Z"
   },
   {
    "duration": 133,
    "start_time": "2022-02-19T22:19:54.615Z"
   },
   {
    "duration": 10,
    "start_time": "2022-02-19T22:19:54.751Z"
   },
   {
    "duration": 107,
    "start_time": "2022-02-19T22:19:54.795Z"
   },
   {
    "duration": 10,
    "start_time": "2022-02-19T22:19:54.905Z"
   },
   {
    "duration": 13,
    "start_time": "2022-02-19T22:19:54.920Z"
   },
   {
    "duration": 23,
    "start_time": "2022-02-19T22:19:54.937Z"
   },
   {
    "duration": 510,
    "start_time": "2022-02-19T22:19:54.995Z"
   },
   {
    "duration": 20,
    "start_time": "2022-02-19T22:19:55.507Z"
   },
   {
    "duration": 19,
    "start_time": "2022-02-19T22:19:55.529Z"
   },
   {
    "duration": 439,
    "start_time": "2022-02-19T22:19:55.550Z"
   },
   {
    "duration": 18,
    "start_time": "2022-02-19T22:19:55.991Z"
   },
   {
    "duration": 31,
    "start_time": "2022-02-19T22:19:56.012Z"
   },
   {
    "duration": 53,
    "start_time": "2022-02-19T22:19:56.046Z"
   },
   {
    "duration": 3,
    "start_time": "2022-02-19T22:19:56.102Z"
   },
   {
    "duration": 47,
    "start_time": "2022-02-19T22:19:56.108Z"
   },
   {
    "duration": 39,
    "start_time": "2022-02-19T22:19:56.158Z"
   },
   {
    "duration": 22,
    "start_time": "2022-02-19T22:19:56.202Z"
   },
   {
    "duration": 13,
    "start_time": "2022-02-19T22:19:56.227Z"
   },
   {
    "duration": 77,
    "start_time": "2022-02-19T22:19:56.243Z"
   },
   {
    "duration": 35,
    "start_time": "2022-02-19T22:19:56.322Z"
   },
   {
    "duration": 59,
    "start_time": "2022-02-19T22:19:56.359Z"
   },
   {
    "duration": 115,
    "start_time": "2022-02-19T22:19:56.421Z"
   },
   {
    "duration": 10,
    "start_time": "2022-02-19T22:19:56.539Z"
   },
   {
    "duration": 15,
    "start_time": "2022-02-19T22:19:56.551Z"
   },
   {
    "duration": 33,
    "start_time": "2022-02-19T22:19:56.568Z"
   },
   {
    "duration": 12,
    "start_time": "2022-02-19T22:19:56.603Z"
   },
   {
    "duration": 13,
    "start_time": "2022-02-19T22:19:56.617Z"
   },
   {
    "duration": 6,
    "start_time": "2022-02-19T22:19:56.633Z"
   },
   {
    "duration": 19,
    "start_time": "2022-02-19T22:19:56.641Z"
   },
   {
    "duration": 40,
    "start_time": "2022-02-19T22:19:56.694Z"
   },
   {
    "duration": 8,
    "start_time": "2022-02-19T22:19:56.736Z"
   },
   {
    "duration": 49,
    "start_time": "2022-02-19T22:19:56.746Z"
   },
   {
    "duration": 9,
    "start_time": "2022-02-19T22:19:59.773Z"
   },
   {
    "duration": 24,
    "start_time": "2022-02-19T22:20:00.593Z"
   },
   {
    "duration": 22,
    "start_time": "2022-02-19T22:20:20.923Z"
   },
   {
    "duration": 11,
    "start_time": "2022-02-19T22:20:45.189Z"
   },
   {
    "duration": 4,
    "start_time": "2022-02-19T22:20:58.225Z"
   },
   {
    "duration": 507,
    "start_time": "2022-02-19T22:20:58.232Z"
   },
   {
    "duration": 120,
    "start_time": "2022-02-19T22:20:58.742Z"
   },
   {
    "duration": 30,
    "start_time": "2022-02-19T22:20:58.865Z"
   },
   {
    "duration": 108,
    "start_time": "2022-02-19T22:20:58.897Z"
   },
   {
    "duration": 10,
    "start_time": "2022-02-19T22:20:59.007Z"
   },
   {
    "duration": 16,
    "start_time": "2022-02-19T22:20:59.020Z"
   },
   {
    "duration": 55,
    "start_time": "2022-02-19T22:20:59.040Z"
   },
   {
    "duration": 423,
    "start_time": "2022-02-19T22:20:59.098Z"
   },
   {
    "duration": 21,
    "start_time": "2022-02-19T22:20:59.523Z"
   },
   {
    "duration": 17,
    "start_time": "2022-02-19T22:20:59.546Z"
   },
   {
    "duration": 428,
    "start_time": "2022-02-19T22:20:59.565Z"
   },
   {
    "duration": 15,
    "start_time": "2022-02-19T22:20:59.996Z"
   },
   {
    "duration": 38,
    "start_time": "2022-02-19T22:21:00.014Z"
   },
   {
    "duration": 47,
    "start_time": "2022-02-19T22:21:00.055Z"
   },
   {
    "duration": 3,
    "start_time": "2022-02-19T22:21:00.105Z"
   },
   {
    "duration": 54,
    "start_time": "2022-02-19T22:21:00.110Z"
   },
   {
    "duration": 36,
    "start_time": "2022-02-19T22:21:00.167Z"
   },
   {
    "duration": 43,
    "start_time": "2022-02-19T22:21:00.210Z"
   },
   {
    "duration": 13,
    "start_time": "2022-02-19T22:21:00.256Z"
   },
   {
    "duration": 65,
    "start_time": "2022-02-19T22:21:00.271Z"
   },
   {
    "duration": 34,
    "start_time": "2022-02-19T22:21:00.338Z"
   },
   {
    "duration": 49,
    "start_time": "2022-02-19T22:21:00.375Z"
   },
   {
    "duration": 107,
    "start_time": "2022-02-19T22:21:00.427Z"
   },
   {
    "duration": 10,
    "start_time": "2022-02-19T22:21:00.537Z"
   },
   {
    "duration": 28,
    "start_time": "2022-02-19T22:21:00.550Z"
   },
   {
    "duration": 35,
    "start_time": "2022-02-19T22:21:00.580Z"
   },
   {
    "duration": 36,
    "start_time": "2022-02-19T22:21:00.618Z"
   },
   {
    "duration": 38,
    "start_time": "2022-02-19T22:21:00.656Z"
   },
   {
    "duration": 9,
    "start_time": "2022-02-19T22:21:00.696Z"
   },
   {
    "duration": 44,
    "start_time": "2022-02-19T22:21:00.707Z"
   },
   {
    "duration": 47,
    "start_time": "2022-02-19T22:21:00.753Z"
   },
   {
    "duration": 9,
    "start_time": "2022-02-19T22:21:00.804Z"
   },
   {
    "duration": 42,
    "start_time": "2022-02-19T22:21:00.816Z"
   },
   {
    "duration": 17,
    "start_time": "2022-02-19T22:21:00.861Z"
   },
   {
    "duration": 20,
    "start_time": "2022-02-19T22:21:00.881Z"
   },
   {
    "duration": 91,
    "start_time": "2022-02-19T22:21:00.904Z"
   },
   {
    "duration": -31,
    "start_time": "2022-02-19T22:21:01.030Z"
   },
   {
    "duration": -35,
    "start_time": "2022-02-19T22:21:01.036Z"
   },
   {
    "duration": -40,
    "start_time": "2022-02-19T22:21:01.043Z"
   },
   {
    "duration": -44,
    "start_time": "2022-02-19T22:21:01.049Z"
   },
   {
    "duration": -47,
    "start_time": "2022-02-19T22:21:01.054Z"
   },
   {
    "duration": -51,
    "start_time": "2022-02-19T22:21:01.060Z"
   },
   {
    "duration": -55,
    "start_time": "2022-02-19T22:21:01.066Z"
   },
   {
    "duration": -58,
    "start_time": "2022-02-19T22:21:01.071Z"
   },
   {
    "duration": -87,
    "start_time": "2022-02-19T22:21:01.102Z"
   },
   {
    "duration": -91,
    "start_time": "2022-02-19T22:21:01.108Z"
   },
   {
    "duration": -95,
    "start_time": "2022-02-19T22:21:01.114Z"
   },
   {
    "duration": -100,
    "start_time": "2022-02-19T22:21:01.121Z"
   },
   {
    "duration": -184,
    "start_time": "2022-02-19T22:21:01.207Z"
   },
   {
    "duration": -185,
    "start_time": "2022-02-19T22:21:01.210Z"
   },
   {
    "duration": -187,
    "start_time": "2022-02-19T22:21:01.214Z"
   },
   {
    "duration": -189,
    "start_time": "2022-02-19T22:21:01.218Z"
   },
   {
    "duration": -191,
    "start_time": "2022-02-19T22:21:01.222Z"
   },
   {
    "duration": -191,
    "start_time": "2022-02-19T22:21:01.225Z"
   },
   {
    "duration": -193,
    "start_time": "2022-02-19T22:21:01.229Z"
   },
   {
    "duration": -195,
    "start_time": "2022-02-19T22:21:01.233Z"
   },
   {
    "duration": -198,
    "start_time": "2022-02-19T22:21:01.237Z"
   },
   {
    "duration": -148,
    "start_time": "2022-02-19T22:21:01.241Z"
   },
   {
    "duration": -148,
    "start_time": "2022-02-19T22:21:01.244Z"
   },
   {
    "duration": -149,
    "start_time": "2022-02-19T22:21:01.247Z"
   },
   {
    "duration": -151,
    "start_time": "2022-02-19T22:21:01.251Z"
   },
   {
    "duration": -152,
    "start_time": "2022-02-19T22:21:01.254Z"
   },
   {
    "duration": -154,
    "start_time": "2022-02-19T22:21:01.258Z"
   },
   {
    "duration": 77,
    "start_time": "2022-02-19T22:22:57.682Z"
   },
   {
    "duration": 10,
    "start_time": "2022-02-19T22:23:56.517Z"
   },
   {
    "duration": 620,
    "start_time": "2022-02-19T22:24:00.561Z"
   },
   {
    "duration": 22,
    "start_time": "2022-02-19T22:24:05.005Z"
   },
   {
    "duration": 4,
    "start_time": "2022-02-19T22:24:10.772Z"
   },
   {
    "duration": 622,
    "start_time": "2022-02-19T22:24:10.779Z"
   },
   {
    "duration": 136,
    "start_time": "2022-02-19T22:24:11.404Z"
   },
   {
    "duration": 12,
    "start_time": "2022-02-19T22:24:11.544Z"
   },
   {
    "duration": 101,
    "start_time": "2022-02-19T22:24:11.593Z"
   },
   {
    "duration": 10,
    "start_time": "2022-02-19T22:24:11.697Z"
   },
   {
    "duration": 32,
    "start_time": "2022-02-19T22:24:11.709Z"
   },
   {
    "duration": 29,
    "start_time": "2022-02-19T22:24:11.743Z"
   },
   {
    "duration": 409,
    "start_time": "2022-02-19T22:24:11.775Z"
   },
   {
    "duration": 24,
    "start_time": "2022-02-19T22:24:12.187Z"
   },
   {
    "duration": 17,
    "start_time": "2022-02-19T22:24:12.214Z"
   },
   {
    "duration": 416,
    "start_time": "2022-02-19T22:24:12.234Z"
   },
   {
    "duration": 17,
    "start_time": "2022-02-19T22:24:12.653Z"
   },
   {
    "duration": 52,
    "start_time": "2022-02-19T22:24:12.673Z"
   },
   {
    "duration": 25,
    "start_time": "2022-02-19T22:24:12.727Z"
   },
   {
    "duration": 3,
    "start_time": "2022-02-19T22:24:12.755Z"
   },
   {
    "duration": 77,
    "start_time": "2022-02-19T22:24:12.760Z"
   },
   {
    "duration": 16,
    "start_time": "2022-02-19T22:24:12.839Z"
   },
   {
    "duration": 50,
    "start_time": "2022-02-19T22:24:12.858Z"
   },
   {
    "duration": 12,
    "start_time": "2022-02-19T22:24:12.911Z"
   },
   {
    "duration": 41,
    "start_time": "2022-02-19T22:24:12.926Z"
   },
   {
    "duration": 54,
    "start_time": "2022-02-19T22:24:12.970Z"
   },
   {
    "duration": 33,
    "start_time": "2022-02-19T22:24:13.026Z"
   },
   {
    "duration": 113,
    "start_time": "2022-02-19T22:24:13.061Z"
   },
   {
    "duration": 23,
    "start_time": "2022-02-19T22:24:13.177Z"
   },
   {
    "duration": 25,
    "start_time": "2022-02-19T22:24:13.202Z"
   },
   {
    "duration": 19,
    "start_time": "2022-02-19T22:24:13.233Z"
   },
   {
    "duration": 18,
    "start_time": "2022-02-19T22:24:13.255Z"
   },
   {
    "duration": 42,
    "start_time": "2022-02-19T22:24:13.275Z"
   },
   {
    "duration": 21,
    "start_time": "2022-02-19T22:24:13.319Z"
   },
   {
    "duration": 64,
    "start_time": "2022-02-19T22:24:13.342Z"
   },
   {
    "duration": 49,
    "start_time": "2022-02-19T22:24:13.409Z"
   },
   {
    "duration": 9,
    "start_time": "2022-02-19T22:24:13.460Z"
   },
   {
    "duration": 37,
    "start_time": "2022-02-19T22:24:13.471Z"
   },
   {
    "duration": 13,
    "start_time": "2022-02-19T22:24:13.510Z"
   },
   {
    "duration": 20,
    "start_time": "2022-02-19T22:24:13.526Z"
   },
   {
    "duration": 31,
    "start_time": "2022-02-19T22:24:13.549Z"
   },
   {
    "duration": 605,
    "start_time": "2022-02-19T22:24:13.582Z"
   },
   {
    "duration": 21,
    "start_time": "2022-02-19T22:24:14.190Z"
   },
   {
    "duration": 47,
    "start_time": "2022-02-19T22:24:14.213Z"
   },
   {
    "duration": 69,
    "start_time": "2022-02-19T22:24:14.262Z"
   },
   {
    "duration": 7,
    "start_time": "2022-02-19T22:24:14.334Z"
   },
   {
    "duration": 15,
    "start_time": "2022-02-19T22:24:14.343Z"
   },
   {
    "duration": 46,
    "start_time": "2022-02-19T22:24:14.360Z"
   },
   {
    "duration": 29,
    "start_time": "2022-02-19T22:24:14.409Z"
   },
   {
    "duration": 18,
    "start_time": "2022-02-19T22:24:14.440Z"
   },
   {
    "duration": 526,
    "start_time": "2022-02-19T22:24:14.460Z"
   },
   {
    "duration": 482,
    "start_time": "2022-02-19T22:24:14.989Z"
   },
   {
    "duration": 538,
    "start_time": "2022-02-19T22:24:15.473Z"
   },
   {
    "duration": 11,
    "start_time": "2022-02-19T22:24:16.013Z"
   },
   {
    "duration": 6,
    "start_time": "2022-02-19T22:24:16.026Z"
   },
   {
    "duration": 31,
    "start_time": "2022-02-19T22:24:16.035Z"
   },
   {
    "duration": 41,
    "start_time": "2022-02-19T22:24:16.069Z"
   },
   {
    "duration": 10,
    "start_time": "2022-02-19T22:24:16.112Z"
   },
   {
    "duration": 16,
    "start_time": "2022-02-19T22:24:16.124Z"
   },
   {
    "duration": 16,
    "start_time": "2022-02-19T22:24:16.142Z"
   },
   {
    "duration": 39,
    "start_time": "2022-02-19T22:24:16.160Z"
   },
   {
    "duration": 18,
    "start_time": "2022-02-19T22:24:16.202Z"
   },
   {
    "duration": 29,
    "start_time": "2022-02-19T22:24:16.223Z"
   },
   {
    "duration": 43,
    "start_time": "2022-02-19T22:24:16.255Z"
   },
   {
    "duration": 9,
    "start_time": "2022-02-19T22:24:16.300Z"
   },
   {
    "duration": 6,
    "start_time": "2022-02-19T22:24:16.312Z"
   },
   {
    "duration": 111,
    "start_time": "2022-02-19T22:24:16.320Z"
   },
   {
    "duration": 21,
    "start_time": "2022-02-19T22:24:16.434Z"
   },
   {
    "duration": 39,
    "start_time": "2022-02-19T22:33:20.257Z"
   },
   {
    "duration": 16,
    "start_time": "2022-02-19T23:00:49.537Z"
   },
   {
    "duration": 8,
    "start_time": "2022-02-19T23:14:38.573Z"
   },
   {
    "duration": 27,
    "start_time": "2022-02-19T23:21:17.190Z"
   },
   {
    "duration": 19,
    "start_time": "2022-02-19T23:21:22.573Z"
   },
   {
    "duration": 99,
    "start_time": "2022-02-19T23:22:25.409Z"
   },
   {
    "duration": 4,
    "start_time": "2022-02-19T23:22:36.691Z"
   },
   {
    "duration": 19,
    "start_time": "2022-02-19T23:35:45.323Z"
   },
   {
    "duration": 4,
    "start_time": "2022-02-19T23:48:57.831Z"
   },
   {
    "duration": 472,
    "start_time": "2022-02-19T23:48:57.841Z"
   },
   {
    "duration": 122,
    "start_time": "2022-02-19T23:48:58.315Z"
   },
   {
    "duration": 11,
    "start_time": "2022-02-19T23:48:58.439Z"
   },
   {
    "duration": 125,
    "start_time": "2022-02-19T23:48:58.453Z"
   },
   {
    "duration": 18,
    "start_time": "2022-02-19T23:48:58.581Z"
   },
   {
    "duration": 11,
    "start_time": "2022-02-19T23:48:58.602Z"
   },
   {
    "duration": 21,
    "start_time": "2022-02-19T23:48:58.616Z"
   },
   {
    "duration": 427,
    "start_time": "2022-02-19T23:48:58.641Z"
   },
   {
    "duration": 40,
    "start_time": "2022-02-19T23:48:59.071Z"
   },
   {
    "duration": 22,
    "start_time": "2022-02-19T23:48:59.114Z"
   },
   {
    "duration": 447,
    "start_time": "2022-02-19T23:48:59.139Z"
   },
   {
    "duration": 14,
    "start_time": "2022-02-19T23:48:59.593Z"
   },
   {
    "duration": 35,
    "start_time": "2022-02-19T23:48:59.609Z"
   },
   {
    "duration": 24,
    "start_time": "2022-02-19T23:48:59.646Z"
   },
   {
    "duration": 3,
    "start_time": "2022-02-19T23:48:59.694Z"
   },
   {
    "duration": 50,
    "start_time": "2022-02-19T23:48:59.699Z"
   },
   {
    "duration": 15,
    "start_time": "2022-02-19T23:48:59.751Z"
   },
   {
    "duration": 21,
    "start_time": "2022-02-19T23:48:59.793Z"
   },
   {
    "duration": 12,
    "start_time": "2022-02-19T23:48:59.817Z"
   },
   {
    "duration": 67,
    "start_time": "2022-02-19T23:48:59.831Z"
   },
   {
    "duration": 33,
    "start_time": "2022-02-19T23:48:59.901Z"
   },
   {
    "duration": 35,
    "start_time": "2022-02-19T23:48:59.937Z"
   },
   {
    "duration": 110,
    "start_time": "2022-02-19T23:48:59.998Z"
   },
   {
    "duration": 11,
    "start_time": "2022-02-19T23:49:00.113Z"
   },
   {
    "duration": 15,
    "start_time": "2022-02-19T23:49:00.127Z"
   },
   {
    "duration": 16,
    "start_time": "2022-02-19T23:49:00.144Z"
   },
   {
    "duration": 41,
    "start_time": "2022-02-19T23:49:00.162Z"
   },
   {
    "duration": 15,
    "start_time": "2022-02-19T23:49:00.205Z"
   },
   {
    "duration": 6,
    "start_time": "2022-02-19T23:49:00.222Z"
   },
   {
    "duration": 34,
    "start_time": "2022-02-19T23:49:00.232Z"
   },
   {
    "duration": 33,
    "start_time": "2022-02-19T23:49:00.293Z"
   },
   {
    "duration": 8,
    "start_time": "2022-02-19T23:49:00.328Z"
   },
   {
    "duration": 27,
    "start_time": "2022-02-19T23:49:00.339Z"
   },
   {
    "duration": 29,
    "start_time": "2022-02-19T23:49:00.368Z"
   },
   {
    "duration": 15,
    "start_time": "2022-02-19T23:49:00.399Z"
   },
   {
    "duration": 30,
    "start_time": "2022-02-19T23:49:00.416Z"
   },
   {
    "duration": 645,
    "start_time": "2022-02-19T23:49:00.448Z"
   },
   {
    "duration": 21,
    "start_time": "2022-02-19T23:49:01.096Z"
   },
   {
    "duration": 51,
    "start_time": "2022-02-19T23:49:01.119Z"
   },
   {
    "duration": 47,
    "start_time": "2022-02-19T23:49:01.193Z"
   },
   {
    "duration": 6,
    "start_time": "2022-02-19T23:49:01.243Z"
   },
   {
    "duration": 42,
    "start_time": "2022-02-19T23:49:01.252Z"
   },
   {
    "duration": 23,
    "start_time": "2022-02-19T23:49:01.296Z"
   },
   {
    "duration": 3,
    "start_time": "2022-02-19T23:49:01.321Z"
   },
   {
    "duration": 40,
    "start_time": "2022-02-19T23:49:01.326Z"
   },
   {
    "duration": 40,
    "start_time": "2022-02-19T23:49:01.369Z"
   },
   {
    "duration": 500,
    "start_time": "2022-02-19T23:49:01.411Z"
   },
   {
    "duration": 463,
    "start_time": "2022-02-19T23:49:01.914Z"
   },
   {
    "duration": 423,
    "start_time": "2022-02-19T23:49:02.379Z"
   },
   {
    "duration": 8,
    "start_time": "2022-02-19T23:49:02.804Z"
   },
   {
    "duration": 9,
    "start_time": "2022-02-19T23:49:02.814Z"
   },
   {
    "duration": 25,
    "start_time": "2022-02-19T23:49:02.825Z"
   },
   {
    "duration": 52,
    "start_time": "2022-02-19T23:49:02.852Z"
   },
   {
    "duration": 11,
    "start_time": "2022-02-19T23:49:02.907Z"
   },
   {
    "duration": 7,
    "start_time": "2022-02-19T23:49:02.921Z"
   },
   {
    "duration": 11,
    "start_time": "2022-02-19T23:49:02.930Z"
   },
   {
    "duration": 54,
    "start_time": "2022-02-19T23:49:02.943Z"
   },
   {
    "duration": 11,
    "start_time": "2022-02-19T23:49:02.999Z"
   },
   {
    "duration": 29,
    "start_time": "2022-02-19T23:49:03.012Z"
   },
   {
    "duration": 11,
    "start_time": "2022-02-19T23:49:03.043Z"
   },
   {
    "duration": 40,
    "start_time": "2022-02-19T23:49:03.057Z"
   },
   {
    "duration": 8,
    "start_time": "2022-02-19T23:49:03.100Z"
   },
   {
    "duration": 104,
    "start_time": "2022-02-19T23:49:03.111Z"
   },
   {
    "duration": 22,
    "start_time": "2022-02-19T23:49:03.218Z"
   },
   {
    "duration": 1320,
    "start_time": "2022-02-20T14:24:30.485Z"
   },
   {
    "duration": 501,
    "start_time": "2022-02-20T14:24:31.808Z"
   },
   {
    "duration": 137,
    "start_time": "2022-02-20T14:24:32.320Z"
   },
   {
    "duration": 12,
    "start_time": "2022-02-20T14:24:32.459Z"
   },
   {
    "duration": 137,
    "start_time": "2022-02-20T14:24:32.474Z"
   },
   {
    "duration": 11,
    "start_time": "2022-02-20T14:24:32.614Z"
   },
   {
    "duration": 35,
    "start_time": "2022-02-20T14:24:32.628Z"
   },
   {
    "duration": 24,
    "start_time": "2022-02-20T14:24:32.667Z"
   },
   {
    "duration": 415,
    "start_time": "2022-02-20T14:24:32.694Z"
   },
   {
    "duration": 38,
    "start_time": "2022-02-20T14:24:33.112Z"
   },
   {
    "duration": 17,
    "start_time": "2022-02-20T14:24:33.153Z"
   },
   {
    "duration": 405,
    "start_time": "2022-02-20T14:24:33.172Z"
   },
   {
    "duration": 16,
    "start_time": "2022-02-20T14:24:33.580Z"
   },
   {
    "duration": 60,
    "start_time": "2022-02-20T14:24:33.600Z"
   },
   {
    "duration": 22,
    "start_time": "2022-02-20T14:24:33.663Z"
   },
   {
    "duration": 3,
    "start_time": "2022-02-20T14:24:33.688Z"
   },
   {
    "duration": 91,
    "start_time": "2022-02-20T14:24:33.694Z"
   },
   {
    "duration": 17,
    "start_time": "2022-02-20T14:24:33.788Z"
   },
   {
    "duration": 40,
    "start_time": "2022-02-20T14:24:33.808Z"
   },
   {
    "duration": 13,
    "start_time": "2022-02-20T14:24:33.851Z"
   },
   {
    "duration": 57,
    "start_time": "2022-02-20T14:24:33.867Z"
   },
   {
    "duration": 49,
    "start_time": "2022-02-20T14:24:33.927Z"
   },
   {
    "duration": 40,
    "start_time": "2022-02-20T14:24:33.983Z"
   },
   {
    "duration": 123,
    "start_time": "2022-02-20T14:24:34.027Z"
   },
   {
    "duration": 12,
    "start_time": "2022-02-20T14:24:34.153Z"
   },
   {
    "duration": 20,
    "start_time": "2022-02-20T14:24:34.168Z"
   },
   {
    "duration": 12,
    "start_time": "2022-02-20T14:24:34.191Z"
   },
   {
    "duration": 43,
    "start_time": "2022-02-20T14:24:34.206Z"
   },
   {
    "duration": 14,
    "start_time": "2022-02-20T14:24:34.251Z"
   },
   {
    "duration": 453,
    "start_time": "2022-02-20T14:24:34.269Z"
   },
   {
    "duration": -633,
    "start_time": "2022-02-20T14:24:35.357Z"
   },
   {
    "duration": -636,
    "start_time": "2022-02-20T14:24:35.362Z"
   },
   {
    "duration": -638,
    "start_time": "2022-02-20T14:24:35.366Z"
   },
   {
    "duration": -640,
    "start_time": "2022-02-20T14:24:35.369Z"
   },
   {
    "duration": -642,
    "start_time": "2022-02-20T14:24:35.373Z"
   },
   {
    "duration": -644,
    "start_time": "2022-02-20T14:24:35.376Z"
   },
   {
    "duration": -646,
    "start_time": "2022-02-20T14:24:35.380Z"
   },
   {
    "duration": -647,
    "start_time": "2022-02-20T14:24:35.383Z"
   },
   {
    "duration": -649,
    "start_time": "2022-02-20T14:24:35.387Z"
   },
   {
    "duration": -651,
    "start_time": "2022-02-20T14:24:35.390Z"
   },
   {
    "duration": -654,
    "start_time": "2022-02-20T14:24:35.395Z"
   },
   {
    "duration": -656,
    "start_time": "2022-02-20T14:24:35.398Z"
   },
   {
    "duration": -659,
    "start_time": "2022-02-20T14:24:35.402Z"
   },
   {
    "duration": -660,
    "start_time": "2022-02-20T14:24:35.405Z"
   },
   {
    "duration": -662,
    "start_time": "2022-02-20T14:24:35.409Z"
   },
   {
    "duration": -663,
    "start_time": "2022-02-20T14:24:35.412Z"
   },
   {
    "duration": -666,
    "start_time": "2022-02-20T14:24:35.416Z"
   },
   {
    "duration": -667,
    "start_time": "2022-02-20T14:24:35.419Z"
   },
   {
    "duration": -670,
    "start_time": "2022-02-20T14:24:35.423Z"
   },
   {
    "duration": -672,
    "start_time": "2022-02-20T14:24:35.426Z"
   },
   {
    "duration": -674,
    "start_time": "2022-02-20T14:24:35.430Z"
   },
   {
    "duration": -674,
    "start_time": "2022-02-20T14:24:35.434Z"
   },
   {
    "duration": -676,
    "start_time": "2022-02-20T14:24:35.437Z"
   },
   {
    "duration": -678,
    "start_time": "2022-02-20T14:24:35.441Z"
   },
   {
    "duration": -680,
    "start_time": "2022-02-20T14:24:35.445Z"
   },
   {
    "duration": -682,
    "start_time": "2022-02-20T14:24:35.448Z"
   },
   {
    "duration": -684,
    "start_time": "2022-02-20T14:24:35.452Z"
   },
   {
    "duration": -694,
    "start_time": "2022-02-20T14:24:35.463Z"
   },
   {
    "duration": -696,
    "start_time": "2022-02-20T14:24:35.467Z"
   },
   {
    "duration": -697,
    "start_time": "2022-02-20T14:24:35.470Z"
   },
   {
    "duration": -699,
    "start_time": "2022-02-20T14:24:35.474Z"
   },
   {
    "duration": -700,
    "start_time": "2022-02-20T14:24:35.477Z"
   },
   {
    "duration": -703,
    "start_time": "2022-02-20T14:24:35.481Z"
   },
   {
    "duration": -705,
    "start_time": "2022-02-20T14:24:35.485Z"
   },
   {
    "duration": -708,
    "start_time": "2022-02-20T14:24:35.489Z"
   },
   {
    "duration": 18,
    "start_time": "2022-02-20T14:24:52.125Z"
   },
   {
    "duration": 23,
    "start_time": "2022-02-20T14:26:42.775Z"
   },
   {
    "duration": 1462,
    "start_time": "2022-02-20T17:49:35.836Z"
   },
   {
    "duration": 506,
    "start_time": "2022-02-20T17:49:37.301Z"
   },
   {
    "duration": 152,
    "start_time": "2022-02-20T17:49:37.810Z"
   },
   {
    "duration": 15,
    "start_time": "2022-02-20T17:49:37.965Z"
   },
   {
    "duration": 127,
    "start_time": "2022-02-20T17:49:37.983Z"
   },
   {
    "duration": 10,
    "start_time": "2022-02-20T17:49:38.112Z"
   },
   {
    "duration": 14,
    "start_time": "2022-02-20T17:49:38.125Z"
   },
   {
    "duration": 56,
    "start_time": "2022-02-20T17:49:38.141Z"
   },
   {
    "duration": 418,
    "start_time": "2022-02-20T17:49:38.200Z"
   },
   {
    "duration": 21,
    "start_time": "2022-02-20T17:49:38.621Z"
   },
   {
    "duration": 38,
    "start_time": "2022-02-20T17:49:38.645Z"
   },
   {
    "duration": 437,
    "start_time": "2022-02-20T17:49:38.686Z"
   },
   {
    "duration": 17,
    "start_time": "2022-02-20T17:49:39.126Z"
   },
   {
    "duration": 42,
    "start_time": "2022-02-20T17:49:44.021Z"
   },
   {
    "duration": 14,
    "start_time": "2022-02-20T17:49:57.916Z"
   },
   {
    "duration": 16,
    "start_time": "2022-02-20T17:50:52.786Z"
   },
   {
    "duration": 59,
    "start_time": "2022-02-20T17:51:01.317Z"
   },
   {
    "duration": 16,
    "start_time": "2022-02-20T17:51:02.831Z"
   },
   {
    "duration": 34,
    "start_time": "2022-02-20T17:54:35.774Z"
   },
   {
    "duration": 43,
    "start_time": "2022-02-20T17:54:37.676Z"
   },
   {
    "duration": 7,
    "start_time": "2022-02-20T17:54:59.674Z"
   },
   {
    "duration": 526,
    "start_time": "2022-02-20T17:54:59.836Z"
   },
   {
    "duration": 176,
    "start_time": "2022-02-20T17:55:00.365Z"
   },
   {
    "duration": 19,
    "start_time": "2022-02-20T17:55:00.567Z"
   },
   {
    "duration": 119,
    "start_time": "2022-02-20T17:55:00.590Z"
   },
   {
    "duration": 9,
    "start_time": "2022-02-20T17:55:00.712Z"
   },
   {
    "duration": 29,
    "start_time": "2022-02-20T17:55:00.724Z"
   },
   {
    "duration": 52,
    "start_time": "2022-02-20T17:55:00.756Z"
   },
   {
    "duration": 428,
    "start_time": "2022-02-20T17:55:00.811Z"
   },
   {
    "duration": 35,
    "start_time": "2022-02-20T17:55:01.244Z"
   },
   {
    "duration": 17,
    "start_time": "2022-02-20T17:55:01.283Z"
   },
   {
    "duration": 457,
    "start_time": "2022-02-20T17:55:01.302Z"
   },
   {
    "duration": 18,
    "start_time": "2022-02-20T17:55:01.766Z"
   },
   {
    "duration": 37,
    "start_time": "2022-02-20T17:55:01.787Z"
   },
   {
    "duration": 49,
    "start_time": "2022-02-20T17:55:01.827Z"
   },
   {
    "duration": 14,
    "start_time": "2022-02-20T17:55:01.879Z"
   },
   {
    "duration": 3,
    "start_time": "2022-02-20T17:55:01.896Z"
   },
   {
    "duration": 94,
    "start_time": "2022-02-20T17:55:01.902Z"
   },
   {
    "duration": 18,
    "start_time": "2022-02-20T17:55:01.998Z"
   },
   {
    "duration": 45,
    "start_time": "2022-02-20T17:55:02.019Z"
   },
   {
    "duration": 14,
    "start_time": "2022-02-20T17:55:02.070Z"
   },
   {
    "duration": 50,
    "start_time": "2022-02-20T17:55:02.087Z"
   },
   {
    "duration": 51,
    "start_time": "2022-02-20T17:55:02.140Z"
   },
   {
    "duration": 67,
    "start_time": "2022-02-20T17:55:02.194Z"
   },
   {
    "duration": 120,
    "start_time": "2022-02-20T17:55:02.264Z"
   },
   {
    "duration": 11,
    "start_time": "2022-02-20T17:55:02.387Z"
   },
   {
    "duration": 13,
    "start_time": "2022-02-20T17:55:02.401Z"
   },
   {
    "duration": 14,
    "start_time": "2022-02-20T17:55:02.420Z"
   },
   {
    "duration": 38,
    "start_time": "2022-02-20T17:55:02.436Z"
   },
   {
    "duration": 12,
    "start_time": "2022-02-20T17:55:07.000Z"
   },
   {
    "duration": 39,
    "start_time": "2022-02-20T17:55:19.050Z"
   },
   {
    "duration": 7,
    "start_time": "2022-02-20T17:55:31.845Z"
   },
   {
    "duration": 20,
    "start_time": "2022-02-20T17:55:33.690Z"
   },
   {
    "duration": 36,
    "start_time": "2022-02-20T17:57:07.905Z"
   },
   {
    "duration": 424,
    "start_time": "2022-02-20T17:57:51.406Z"
   },
   {
    "duration": 17,
    "start_time": "2022-02-20T17:57:58.426Z"
   },
   {
    "duration": 338,
    "start_time": "2022-02-20T17:58:05.141Z"
   },
   {
    "duration": 280,
    "start_time": "2022-02-20T17:58:29.116Z"
   },
   {
    "duration": 12,
    "start_time": "2022-02-20T17:58:36.146Z"
   },
   {
    "duration": 13,
    "start_time": "2022-02-20T17:58:39.631Z"
   },
   {
    "duration": 16,
    "start_time": "2022-02-20T17:59:32.536Z"
   },
   {
    "duration": 7,
    "start_time": "2022-02-20T18:00:31.516Z"
   },
   {
    "duration": 5,
    "start_time": "2022-02-20T18:01:55.355Z"
   },
   {
    "duration": 619,
    "start_time": "2022-02-20T18:01:55.367Z"
   },
   {
    "duration": 158,
    "start_time": "2022-02-20T18:01:55.990Z"
   },
   {
    "duration": 23,
    "start_time": "2022-02-20T18:01:58.225Z"
   },
   {
    "duration": 229,
    "start_time": "2022-02-20T18:01:58.252Z"
   },
   {
    "duration": 10,
    "start_time": "2022-02-20T18:01:58.484Z"
   },
   {
    "duration": 13,
    "start_time": "2022-02-20T18:01:58.498Z"
   },
   {
    "duration": 51,
    "start_time": "2022-02-20T18:01:58.514Z"
   },
   {
    "duration": 477,
    "start_time": "2022-02-20T18:01:58.568Z"
   },
   {
    "duration": 22,
    "start_time": "2022-02-20T18:01:59.048Z"
   },
   {
    "duration": 22,
    "start_time": "2022-02-20T18:01:59.075Z"
   },
   {
    "duration": 422,
    "start_time": "2022-02-20T18:01:59.102Z"
   },
   {
    "duration": 16,
    "start_time": "2022-02-20T18:01:59.528Z"
   },
   {
    "duration": 37,
    "start_time": "2022-02-20T18:01:59.563Z"
   },
   {
    "duration": 75,
    "start_time": "2022-02-20T18:01:59.603Z"
   },
   {
    "duration": 15,
    "start_time": "2022-02-20T18:01:59.681Z"
   },
   {
    "duration": 3,
    "start_time": "2022-02-20T18:01:59.699Z"
   },
   {
    "duration": 93,
    "start_time": "2022-02-20T18:01:59.704Z"
   },
   {
    "duration": 15,
    "start_time": "2022-02-20T18:01:59.800Z"
   },
   {
    "duration": 21,
    "start_time": "2022-02-20T18:01:59.818Z"
   },
   {
    "duration": 32,
    "start_time": "2022-02-20T18:01:59.841Z"
   },
   {
    "duration": 54,
    "start_time": "2022-02-20T18:01:59.875Z"
   },
   {
    "duration": 55,
    "start_time": "2022-02-20T18:01:59.933Z"
   },
   {
    "duration": 85,
    "start_time": "2022-02-20T18:01:59.991Z"
   },
   {
    "duration": 121,
    "start_time": "2022-02-20T18:02:00.079Z"
   },
   {
    "duration": 14,
    "start_time": "2022-02-20T18:02:00.203Z"
   },
   {
    "duration": 19,
    "start_time": "2022-02-20T18:02:00.219Z"
   },
   {
    "duration": 31,
    "start_time": "2022-02-20T18:02:00.241Z"
   },
   {
    "duration": 14,
    "start_time": "2022-02-20T18:02:00.278Z"
   },
   {
    "duration": 34,
    "start_time": "2022-02-20T18:02:00.299Z"
   },
   {
    "duration": 7,
    "start_time": "2022-02-20T18:02:00.337Z"
   },
   {
    "duration": 23,
    "start_time": "2022-02-20T18:02:00.347Z"
   },
   {
    "duration": 63,
    "start_time": "2022-02-20T18:02:00.373Z"
   },
   {
    "duration": 54,
    "start_time": "2022-02-20T18:02:00.439Z"
   },
   {
    "duration": 6,
    "start_time": "2022-02-20T18:02:00.496Z"
   },
   {
    "duration": 25,
    "start_time": "2022-02-20T18:02:00.505Z"
   },
   {
    "duration": 16,
    "start_time": "2022-02-20T18:02:00.532Z"
   },
   {
    "duration": 19,
    "start_time": "2022-02-20T18:02:00.550Z"
   },
   {
    "duration": 19,
    "start_time": "2022-02-20T18:02:00.573Z"
   },
   {
    "duration": 10,
    "start_time": "2022-02-20T18:02:00.594Z"
   },
   {
    "duration": 10,
    "start_time": "2022-02-20T18:02:00.607Z"
   },
   {
    "duration": 670,
    "start_time": "2022-02-20T18:02:00.619Z"
   },
   {
    "duration": 30,
    "start_time": "2022-02-20T18:02:01.292Z"
   },
   {
    "duration": 64,
    "start_time": "2022-02-20T18:02:01.325Z"
   },
   {
    "duration": 55,
    "start_time": "2022-02-20T18:02:01.392Z"
   },
   {
    "duration": 18,
    "start_time": "2022-02-20T18:02:01.450Z"
   },
   {
    "duration": 36,
    "start_time": "2022-02-20T18:02:01.470Z"
   },
   {
    "duration": 29,
    "start_time": "2022-02-20T18:02:01.509Z"
   },
   {
    "duration": 3,
    "start_time": "2022-02-20T18:02:01.540Z"
   },
   {
    "duration": 33,
    "start_time": "2022-02-20T18:02:01.545Z"
   },
   {
    "duration": 19,
    "start_time": "2022-02-20T18:02:01.581Z"
   },
   {
    "duration": 884,
    "start_time": "2022-02-20T18:02:01.602Z"
   },
   {
    "duration": 939,
    "start_time": "2022-02-20T18:02:02.489Z"
   },
   {
    "duration": 500,
    "start_time": "2022-02-20T18:02:03.431Z"
   },
   {
    "duration": 83,
    "start_time": "2022-02-20T18:02:03.934Z"
   },
   {
    "duration": 9,
    "start_time": "2022-02-20T18:02:04.020Z"
   },
   {
    "duration": 126,
    "start_time": "2022-02-20T18:02:04.031Z"
   },
   {
    "duration": 114,
    "start_time": "2022-02-20T18:02:04.166Z"
   },
   {
    "duration": 30,
    "start_time": "2022-02-20T18:02:04.285Z"
   },
   {
    "duration": 64,
    "start_time": "2022-02-20T18:02:04.318Z"
   },
   {
    "duration": 25,
    "start_time": "2022-02-20T18:02:04.385Z"
   },
   {
    "duration": 32,
    "start_time": "2022-02-20T18:02:04.413Z"
   },
   {
    "duration": 12,
    "start_time": "2022-02-20T18:02:04.448Z"
   },
   {
    "duration": 40,
    "start_time": "2022-02-20T18:02:04.462Z"
   },
   {
    "duration": 15,
    "start_time": "2022-02-20T18:02:04.504Z"
   },
   {
    "duration": 33,
    "start_time": "2022-02-20T18:02:04.522Z"
   },
   {
    "duration": 27,
    "start_time": "2022-02-20T18:02:04.564Z"
   },
   {
    "duration": 114,
    "start_time": "2022-02-20T18:02:04.593Z"
   },
   {
    "duration": 24,
    "start_time": "2022-02-20T18:02:04.710Z"
   },
   {
    "duration": 7,
    "start_time": "2022-02-20T18:10:30.642Z"
   },
   {
    "duration": 6,
    "start_time": "2022-02-20T18:11:36.802Z"
   },
   {
    "duration": 8,
    "start_time": "2022-02-20T18:11:54.162Z"
   },
   {
    "duration": 19,
    "start_time": "2022-02-20T18:12:26.182Z"
   },
   {
    "duration": 7,
    "start_time": "2022-02-20T18:12:38.360Z"
   },
   {
    "duration": 7,
    "start_time": "2022-02-20T18:13:09.002Z"
   },
   {
    "duration": 6,
    "start_time": "2022-02-20T18:13:12.542Z"
   },
   {
    "duration": 6,
    "start_time": "2022-02-20T18:13:31.710Z"
   },
   {
    "duration": 4,
    "start_time": "2022-02-20T18:17:20.110Z"
   },
   {
    "duration": 524,
    "start_time": "2022-02-20T18:17:20.127Z"
   },
   {
    "duration": 142,
    "start_time": "2022-02-20T18:17:20.654Z"
   },
   {
    "duration": 11,
    "start_time": "2022-02-20T18:17:20.799Z"
   },
   {
    "duration": 124,
    "start_time": "2022-02-20T18:17:20.812Z"
   },
   {
    "duration": 10,
    "start_time": "2022-02-20T18:17:20.939Z"
   },
   {
    "duration": 22,
    "start_time": "2022-02-20T18:17:20.952Z"
   },
   {
    "duration": 25,
    "start_time": "2022-02-20T18:17:20.976Z"
   },
   {
    "duration": 439,
    "start_time": "2022-02-20T18:17:21.003Z"
   },
   {
    "duration": 35,
    "start_time": "2022-02-20T18:17:21.446Z"
   },
   {
    "duration": 19,
    "start_time": "2022-02-20T18:17:21.485Z"
   },
   {
    "duration": 442,
    "start_time": "2022-02-20T18:17:21.507Z"
   },
   {
    "duration": 30,
    "start_time": "2022-02-20T18:17:21.952Z"
   },
   {
    "duration": 32,
    "start_time": "2022-02-20T18:17:21.985Z"
   },
   {
    "duration": 58,
    "start_time": "2022-02-20T18:17:22.020Z"
   },
   {
    "duration": 14,
    "start_time": "2022-02-20T18:17:22.081Z"
   },
   {
    "duration": 3,
    "start_time": "2022-02-20T18:17:22.097Z"
   },
   {
    "duration": 80,
    "start_time": "2022-02-20T18:17:22.103Z"
   },
   {
    "duration": 15,
    "start_time": "2022-02-20T18:17:22.186Z"
   },
   {
    "duration": 25,
    "start_time": "2022-02-20T18:17:22.203Z"
   },
   {
    "duration": 41,
    "start_time": "2022-02-20T18:17:22.230Z"
   },
   {
    "duration": 45,
    "start_time": "2022-02-20T18:17:22.275Z"
   },
   {
    "duration": 61,
    "start_time": "2022-02-20T18:17:22.323Z"
   },
   {
    "duration": 43,
    "start_time": "2022-02-20T18:17:22.387Z"
   },
   {
    "duration": 3,
    "start_time": "2022-02-20T18:17:22.433Z"
   },
   {
    "duration": 19,
    "start_time": "2022-02-20T18:17:22.462Z"
   },
   {
    "duration": 21,
    "start_time": "2022-02-20T18:17:28.558Z"
   },
   {
    "duration": 15,
    "start_time": "2022-02-20T18:17:37.210Z"
   },
   {
    "duration": 13,
    "start_time": "2022-02-20T18:17:48.726Z"
   },
   {
    "duration": 12,
    "start_time": "2022-02-20T18:17:49.106Z"
   },
   {
    "duration": 15,
    "start_time": "2022-02-20T18:19:15.014Z"
   },
   {
    "duration": 15,
    "start_time": "2022-02-20T18:19:23.518Z"
   },
   {
    "duration": 14,
    "start_time": "2022-02-20T18:20:46.678Z"
   },
   {
    "duration": 15,
    "start_time": "2022-02-20T18:20:52.910Z"
   },
   {
    "duration": 18,
    "start_time": "2022-02-20T18:21:00.998Z"
   },
   {
    "duration": 7,
    "start_time": "2022-02-20T18:23:34.671Z"
   },
   {
    "duration": 6,
    "start_time": "2022-02-20T18:23:52.149Z"
   },
   {
    "duration": 7,
    "start_time": "2022-02-20T18:24:03.396Z"
   },
   {
    "duration": 7,
    "start_time": "2022-02-20T18:24:15.751Z"
   },
   {
    "duration": 7,
    "start_time": "2022-02-20T18:24:24.299Z"
   },
   {
    "duration": 6,
    "start_time": "2022-02-20T18:24:39.721Z"
   },
   {
    "duration": 13,
    "start_time": "2022-02-20T18:25:34.281Z"
   },
   {
    "duration": 4,
    "start_time": "2022-02-20T18:28:37.132Z"
   },
   {
    "duration": 515,
    "start_time": "2022-02-20T18:28:37.140Z"
   },
   {
    "duration": 132,
    "start_time": "2022-02-20T18:28:37.658Z"
   },
   {
    "duration": 10,
    "start_time": "2022-02-20T18:28:37.792Z"
   },
   {
    "duration": 117,
    "start_time": "2022-02-20T18:28:37.804Z"
   },
   {
    "duration": 10,
    "start_time": "2022-02-20T18:28:37.924Z"
   },
   {
    "duration": 15,
    "start_time": "2022-02-20T18:28:37.936Z"
   },
   {
    "duration": 20,
    "start_time": "2022-02-20T18:28:37.953Z"
   },
   {
    "duration": 412,
    "start_time": "2022-02-20T18:28:37.977Z"
   },
   {
    "duration": 72,
    "start_time": "2022-02-20T18:28:38.393Z"
   },
   {
    "duration": 18,
    "start_time": "2022-02-20T18:28:38.467Z"
   },
   {
    "duration": 429,
    "start_time": "2022-02-20T18:28:38.487Z"
   },
   {
    "duration": 14,
    "start_time": "2022-02-20T18:28:38.919Z"
   },
   {
    "duration": 48,
    "start_time": "2022-02-20T18:28:38.935Z"
   },
   {
    "duration": 25,
    "start_time": "2022-02-20T18:28:38.986Z"
   },
   {
    "duration": 14,
    "start_time": "2022-02-20T18:28:39.014Z"
   },
   {
    "duration": 3,
    "start_time": "2022-02-20T18:28:39.062Z"
   },
   {
    "duration": 57,
    "start_time": "2022-02-20T18:28:39.067Z"
   },
   {
    "duration": 33,
    "start_time": "2022-02-20T18:28:39.127Z"
   },
   {
    "duration": 22,
    "start_time": "2022-02-20T18:28:39.163Z"
   },
   {
    "duration": 13,
    "start_time": "2022-02-20T18:28:39.187Z"
   },
   {
    "duration": 81,
    "start_time": "2022-02-20T18:28:39.203Z"
   },
   {
    "duration": 33,
    "start_time": "2022-02-20T18:28:39.287Z"
   },
   {
    "duration": 62,
    "start_time": "2022-02-20T18:28:39.324Z"
   },
   {
    "duration": 13,
    "start_time": "2022-02-20T18:28:39.389Z"
   },
   {
    "duration": 13,
    "start_time": "2022-02-20T18:28:39.404Z"
   },
   {
    "duration": 41,
    "start_time": "2022-02-20T18:28:39.423Z"
   },
   {
    "duration": 14,
    "start_time": "2022-02-20T18:28:39.468Z"
   },
   {
    "duration": 12,
    "start_time": "2022-02-20T18:28:39.484Z"
   },
   {
    "duration": 11,
    "start_time": "2022-02-20T18:28:39.499Z"
   },
   {
    "duration": 54,
    "start_time": "2022-02-20T18:28:39.512Z"
   },
   {
    "duration": 6,
    "start_time": "2022-02-20T18:28:39.568Z"
   },
   {
    "duration": 9,
    "start_time": "2022-02-20T18:28:39.576Z"
   },
   {
    "duration": 7,
    "start_time": "2022-02-20T18:28:39.587Z"
   },
   {
    "duration": 7,
    "start_time": "2022-02-20T18:28:39.597Z"
   },
   {
    "duration": 55,
    "start_time": "2022-02-20T18:28:39.606Z"
   },
   {
    "duration": 13,
    "start_time": "2022-02-20T18:28:39.664Z"
   },
   {
    "duration": 19,
    "start_time": "2022-02-20T18:28:39.680Z"
   },
   {
    "duration": 11,
    "start_time": "2022-02-20T18:28:39.702Z"
   },
   {
    "duration": 56,
    "start_time": "2022-02-20T18:28:39.716Z"
   },
   {
    "duration": 9,
    "start_time": "2022-02-20T18:28:39.774Z"
   },
   {
    "duration": 10,
    "start_time": "2022-02-20T18:28:39.786Z"
   },
   {
    "duration": 11,
    "start_time": "2022-02-20T18:28:39.798Z"
   },
   {
    "duration": 654,
    "start_time": "2022-02-20T18:28:39.811Z"
   },
   {
    "duration": 21,
    "start_time": "2022-02-20T18:28:40.468Z"
   },
   {
    "duration": 46,
    "start_time": "2022-02-20T18:28:40.491Z"
   },
   {
    "duration": 45,
    "start_time": "2022-02-20T18:28:40.562Z"
   },
   {
    "duration": 8,
    "start_time": "2022-02-20T18:28:40.609Z"
   },
   {
    "duration": 45,
    "start_time": "2022-02-20T18:28:40.619Z"
   },
   {
    "duration": 21,
    "start_time": "2022-02-20T18:28:40.666Z"
   },
   {
    "duration": 3,
    "start_time": "2022-02-20T18:28:40.690Z"
   },
   {
    "duration": 32,
    "start_time": "2022-02-20T18:28:40.695Z"
   },
   {
    "duration": 47,
    "start_time": "2022-02-20T18:28:40.730Z"
   },
   {
    "duration": 525,
    "start_time": "2022-02-20T18:28:40.779Z"
   },
   {
    "duration": 482,
    "start_time": "2022-02-20T18:28:41.306Z"
   },
   {
    "duration": 441,
    "start_time": "2022-02-20T18:28:41.792Z"
   },
   {
    "duration": 8,
    "start_time": "2022-02-20T18:28:42.236Z"
   },
   {
    "duration": 7,
    "start_time": "2022-02-20T18:28:42.261Z"
   },
   {
    "duration": 134,
    "start_time": "2022-02-20T18:28:42.271Z"
   },
   {
    "duration": 22,
    "start_time": "2022-02-20T18:28:42.408Z"
   },
   {
    "duration": 35,
    "start_time": "2022-02-20T18:28:42.433Z"
   },
   {
    "duration": 7,
    "start_time": "2022-02-20T18:28:42.471Z"
   },
   {
    "duration": 6,
    "start_time": "2022-02-20T18:28:42.481Z"
   },
   {
    "duration": 19,
    "start_time": "2022-02-20T18:28:42.489Z"
   },
   {
    "duration": 51,
    "start_time": "2022-02-20T18:28:42.510Z"
   },
   {
    "duration": 32,
    "start_time": "2022-02-20T18:28:42.564Z"
   },
   {
    "duration": 12,
    "start_time": "2022-02-20T18:28:42.599Z"
   },
   {
    "duration": 6,
    "start_time": "2022-02-20T18:28:42.613Z"
   },
   {
    "duration": 4,
    "start_time": "2022-02-20T18:28:42.662Z"
   },
   {
    "duration": 95,
    "start_time": "2022-02-20T18:28:42.668Z"
   },
   {
    "duration": 21,
    "start_time": "2022-02-20T18:28:42.766Z"
   },
   {
    "duration": 15,
    "start_time": "2022-02-20T18:34:15.218Z"
   },
   {
    "duration": 4,
    "start_time": "2022-02-20T18:34:35.911Z"
   },
   {
    "duration": 537,
    "start_time": "2022-02-20T18:34:35.919Z"
   },
   {
    "duration": 146,
    "start_time": "2022-02-20T18:34:36.459Z"
   },
   {
    "duration": 11,
    "start_time": "2022-02-20T18:34:36.608Z"
   },
   {
    "duration": 153,
    "start_time": "2022-02-20T18:34:36.622Z"
   },
   {
    "duration": 13,
    "start_time": "2022-02-20T18:34:36.778Z"
   },
   {
    "duration": 14,
    "start_time": "2022-02-20T18:34:36.794Z"
   },
   {
    "duration": 53,
    "start_time": "2022-02-20T18:34:36.811Z"
   },
   {
    "duration": 467,
    "start_time": "2022-02-20T18:34:36.871Z"
   },
   {
    "duration": 37,
    "start_time": "2022-02-20T18:34:37.341Z"
   },
   {
    "duration": 19,
    "start_time": "2022-02-20T18:34:37.381Z"
   },
   {
    "duration": 461,
    "start_time": "2022-02-20T18:34:37.403Z"
   },
   {
    "duration": 24,
    "start_time": "2022-02-20T18:34:37.867Z"
   },
   {
    "duration": 53,
    "start_time": "2022-02-20T18:34:37.893Z"
   },
   {
    "duration": 41,
    "start_time": "2022-02-20T18:34:37.948Z"
   },
   {
    "duration": 15,
    "start_time": "2022-02-20T18:34:37.991Z"
   },
   {
    "duration": 91,
    "start_time": "2022-02-20T18:34:38.009Z"
   },
   {
    "duration": 17,
    "start_time": "2022-02-20T18:34:38.103Z"
   },
   {
    "duration": 52,
    "start_time": "2022-02-20T18:34:38.123Z"
   },
   {
    "duration": 13,
    "start_time": "2022-02-20T18:34:38.178Z"
   },
   {
    "duration": 68,
    "start_time": "2022-02-20T18:34:38.193Z"
   },
   {
    "duration": 37,
    "start_time": "2022-02-20T18:34:38.264Z"
   },
   {
    "duration": 62,
    "start_time": "2022-02-20T18:34:38.303Z"
   },
   {
    "duration": 15,
    "start_time": "2022-02-20T18:34:38.369Z"
   },
   {
    "duration": 17,
    "start_time": "2022-02-20T18:34:38.386Z"
   },
   {
    "duration": 13,
    "start_time": "2022-02-20T18:34:38.406Z"
   },
   {
    "duration": 55,
    "start_time": "2022-02-20T18:34:38.426Z"
   },
   {
    "duration": 14,
    "start_time": "2022-02-20T18:34:38.485Z"
   },
   {
    "duration": 11,
    "start_time": "2022-02-20T18:34:38.502Z"
   },
   {
    "duration": 17,
    "start_time": "2022-02-20T18:34:38.516Z"
   },
   {
    "duration": 9,
    "start_time": "2022-02-20T18:34:38.562Z"
   },
   {
    "duration": 12,
    "start_time": "2022-02-20T18:34:38.575Z"
   },
   {
    "duration": 7,
    "start_time": "2022-02-20T18:34:38.590Z"
   },
   {
    "duration": 8,
    "start_time": "2022-02-20T18:34:38.600Z"
   },
   {
    "duration": 53,
    "start_time": "2022-02-20T18:34:38.610Z"
   },
   {
    "duration": 22,
    "start_time": "2022-02-20T18:34:38.667Z"
   },
   {
    "duration": 18,
    "start_time": "2022-02-20T18:34:38.692Z"
   },
   {
    "duration": 8,
    "start_time": "2022-02-20T18:34:38.713Z"
   },
   {
    "duration": 49,
    "start_time": "2022-02-20T18:34:38.724Z"
   },
   {
    "duration": 11,
    "start_time": "2022-02-20T18:34:38.776Z"
   },
   {
    "duration": 13,
    "start_time": "2022-02-20T18:34:38.789Z"
   },
   {
    "duration": 14,
    "start_time": "2022-02-20T18:34:38.805Z"
   },
   {
    "duration": 682,
    "start_time": "2022-02-20T18:34:38.822Z"
   },
   {
    "duration": 24,
    "start_time": "2022-02-20T18:34:39.506Z"
   },
   {
    "duration": 81,
    "start_time": "2022-02-20T18:34:39.532Z"
   },
   {
    "duration": 55,
    "start_time": "2022-02-20T18:34:39.615Z"
   },
   {
    "duration": 9,
    "start_time": "2022-02-20T18:34:39.673Z"
   },
   {
    "duration": 24,
    "start_time": "2022-02-20T18:34:39.686Z"
   },
   {
    "duration": 59,
    "start_time": "2022-02-20T18:34:39.713Z"
   },
   {
    "duration": 4,
    "start_time": "2022-02-20T18:34:39.776Z"
   },
   {
    "duration": 29,
    "start_time": "2022-02-20T18:34:39.782Z"
   },
   {
    "duration": 21,
    "start_time": "2022-02-20T18:34:39.813Z"
   },
   {
    "duration": 582,
    "start_time": "2022-02-20T18:34:39.836Z"
   },
   {
    "duration": 515,
    "start_time": "2022-02-20T18:34:40.421Z"
   },
   {
    "duration": 491,
    "start_time": "2022-02-20T18:34:40.939Z"
   },
   {
    "duration": 8,
    "start_time": "2022-02-20T18:34:41.433Z"
   },
   {
    "duration": 25,
    "start_time": "2022-02-20T18:34:41.444Z"
   },
   {
    "duration": 29,
    "start_time": "2022-02-20T18:34:41.473Z"
   },
   {
    "duration": 19,
    "start_time": "2022-02-20T18:34:41.505Z"
   },
   {
    "duration": 18,
    "start_time": "2022-02-20T18:34:41.563Z"
   },
   {
    "duration": 4,
    "start_time": "2022-02-20T18:34:41.584Z"
   },
   {
    "duration": 10,
    "start_time": "2022-02-20T18:34:41.591Z"
   },
   {
    "duration": 61,
    "start_time": "2022-02-20T18:34:41.603Z"
   },
   {
    "duration": 15,
    "start_time": "2022-02-20T18:34:41.667Z"
   },
   {
    "duration": 28,
    "start_time": "2022-02-20T18:34:41.685Z"
   },
   {
    "duration": 52,
    "start_time": "2022-02-20T18:34:41.716Z"
   },
   {
    "duration": 10,
    "start_time": "2022-02-20T18:34:41.772Z"
   },
   {
    "duration": 7,
    "start_time": "2022-02-20T18:34:41.784Z"
   },
   {
    "duration": 130,
    "start_time": "2022-02-20T18:34:41.793Z"
   },
   {
    "duration": 20,
    "start_time": "2022-02-20T18:34:41.925Z"
   },
   {
    "duration": 19,
    "start_time": "2022-02-20T18:37:19.598Z"
   },
   {
    "duration": 4,
    "start_time": "2022-02-20T18:38:18.026Z"
   },
   {
    "duration": 540,
    "start_time": "2022-02-20T18:38:18.033Z"
   },
   {
    "duration": 161,
    "start_time": "2022-02-20T18:38:18.578Z"
   },
   {
    "duration": 14,
    "start_time": "2022-02-20T18:38:18.763Z"
   },
   {
    "duration": 149,
    "start_time": "2022-02-20T18:38:18.780Z"
   },
   {
    "duration": 10,
    "start_time": "2022-02-20T18:38:18.932Z"
   },
   {
    "duration": 63,
    "start_time": "2022-02-20T18:38:18.946Z"
   },
   {
    "duration": 88,
    "start_time": "2022-02-20T18:38:19.014Z"
   },
   {
    "duration": 503,
    "start_time": "2022-02-20T18:38:19.105Z"
   },
   {
    "duration": 22,
    "start_time": "2022-02-20T18:38:19.610Z"
   },
   {
    "duration": 46,
    "start_time": "2022-02-20T18:38:19.634Z"
   },
   {
    "duration": 456,
    "start_time": "2022-02-20T18:38:19.683Z"
   },
   {
    "duration": 25,
    "start_time": "2022-02-20T18:38:20.142Z"
   },
   {
    "duration": 34,
    "start_time": "2022-02-20T18:38:20.170Z"
   },
   {
    "duration": 54,
    "start_time": "2022-02-20T18:38:20.207Z"
   },
   {
    "duration": 21,
    "start_time": "2022-02-20T18:38:20.265Z"
   },
   {
    "duration": 79,
    "start_time": "2022-02-20T18:38:20.288Z"
   },
   {
    "duration": 25,
    "start_time": "2022-02-20T18:38:20.370Z"
   },
   {
    "duration": 25,
    "start_time": "2022-02-20T18:38:20.397Z"
   },
   {
    "duration": 38,
    "start_time": "2022-02-20T18:38:20.425Z"
   },
   {
    "duration": 49,
    "start_time": "2022-02-20T18:38:20.467Z"
   },
   {
    "duration": 67,
    "start_time": "2022-02-20T18:38:20.519Z"
   },
   {
    "duration": 47,
    "start_time": "2022-02-20T18:38:20.594Z"
   },
   {
    "duration": 66,
    "start_time": "2022-02-20T18:38:20.645Z"
   },
   {
    "duration": 13,
    "start_time": "2022-02-20T18:38:20.714Z"
   },
   {
    "duration": 12,
    "start_time": "2022-02-20T18:38:20.730Z"
   },
   {
    "duration": 20,
    "start_time": "2022-02-20T18:38:20.745Z"
   },
   {
    "duration": 19,
    "start_time": "2022-02-20T18:38:20.768Z"
   },
   {
    "duration": 12,
    "start_time": "2022-02-20T18:38:20.789Z"
   },
   {
    "duration": 17,
    "start_time": "2022-02-20T18:38:20.804Z"
   },
   {
    "duration": 39,
    "start_time": "2022-02-20T18:38:20.824Z"
   },
   {
    "duration": 9,
    "start_time": "2022-02-20T18:38:20.866Z"
   },
   {
    "duration": 8,
    "start_time": "2022-02-20T18:38:20.878Z"
   },
   {
    "duration": 8,
    "start_time": "2022-02-20T18:38:20.888Z"
   },
   {
    "duration": 7,
    "start_time": "2022-02-20T18:38:20.899Z"
   },
   {
    "duration": 68,
    "start_time": "2022-02-20T18:38:20.909Z"
   },
   {
    "duration": 18,
    "start_time": "2022-02-20T18:38:20.981Z"
   },
   {
    "duration": 10,
    "start_time": "2022-02-20T18:38:21.001Z"
   },
   {
    "duration": 57,
    "start_time": "2022-02-20T18:38:21.013Z"
   },
   {
    "duration": 11,
    "start_time": "2022-02-20T18:38:21.074Z"
   },
   {
    "duration": 9,
    "start_time": "2022-02-20T18:38:22.617Z"
   },
   {
    "duration": 12,
    "start_time": "2022-02-20T18:38:24.287Z"
   },
   {
    "duration": 19,
    "start_time": "2022-02-20T18:38:35.236Z"
   },
   {
    "duration": 4,
    "start_time": "2022-02-20T18:39:03.179Z"
   },
   {
    "duration": 531,
    "start_time": "2022-02-20T18:39:03.186Z"
   },
   {
    "duration": 147,
    "start_time": "2022-02-20T18:39:03.720Z"
   },
   {
    "duration": 17,
    "start_time": "2022-02-20T18:39:03.869Z"
   },
   {
    "duration": 133,
    "start_time": "2022-02-20T18:39:03.889Z"
   },
   {
    "duration": 8,
    "start_time": "2022-02-20T18:39:04.025Z"
   },
   {
    "duration": 96,
    "start_time": "2022-02-20T18:39:04.037Z"
   },
   {
    "duration": 119,
    "start_time": "2022-02-20T18:39:04.136Z"
   },
   {
    "duration": 512,
    "start_time": "2022-02-20T18:39:04.259Z"
   },
   {
    "duration": 22,
    "start_time": "2022-02-20T18:39:04.776Z"
   },
   {
    "duration": 22,
    "start_time": "2022-02-20T18:39:04.801Z"
   },
   {
    "duration": 567,
    "start_time": "2022-02-20T18:39:04.826Z"
   },
   {
    "duration": 21,
    "start_time": "2022-02-20T18:39:05.397Z"
   },
   {
    "duration": 106,
    "start_time": "2022-02-20T18:39:05.420Z"
   },
   {
    "duration": 70,
    "start_time": "2022-02-20T18:39:05.528Z"
   },
   {
    "duration": 17,
    "start_time": "2022-02-20T18:39:05.601Z"
   },
   {
    "duration": 65,
    "start_time": "2022-02-20T18:39:05.621Z"
   },
   {
    "duration": 15,
    "start_time": "2022-02-20T18:39:05.690Z"
   },
   {
    "duration": 128,
    "start_time": "2022-02-20T18:39:05.708Z"
   },
   {
    "duration": 22,
    "start_time": "2022-02-20T18:39:05.838Z"
   },
   {
    "duration": 62,
    "start_time": "2022-02-20T18:39:05.862Z"
   },
   {
    "duration": 39,
    "start_time": "2022-02-20T18:39:05.927Z"
   },
   {
    "duration": 44,
    "start_time": "2022-02-20T18:39:05.969Z"
   },
   {
    "duration": 13,
    "start_time": "2022-02-20T18:39:06.016Z"
   },
   {
    "duration": 39,
    "start_time": "2022-02-20T18:39:06.061Z"
   },
   {
    "duration": 16,
    "start_time": "2022-02-20T18:39:06.103Z"
   },
   {
    "duration": 13,
    "start_time": "2022-02-20T18:39:06.126Z"
   },
   {
    "duration": 13,
    "start_time": "2022-02-20T18:39:06.143Z"
   },
   {
    "duration": 18,
    "start_time": "2022-02-20T18:39:06.162Z"
   },
   {
    "duration": 20,
    "start_time": "2022-02-20T18:39:06.183Z"
   },
   {
    "duration": 6,
    "start_time": "2022-02-20T18:39:06.206Z"
   },
   {
    "duration": 48,
    "start_time": "2022-02-20T18:39:06.214Z"
   },
   {
    "duration": 8,
    "start_time": "2022-02-20T18:39:06.264Z"
   },
   {
    "duration": 14,
    "start_time": "2022-02-20T18:39:06.275Z"
   },
   {
    "duration": 7,
    "start_time": "2022-02-20T18:39:06.292Z"
   },
   {
    "duration": 19,
    "start_time": "2022-02-20T18:39:06.302Z"
   },
   {
    "duration": 61,
    "start_time": "2022-02-20T18:39:06.323Z"
   },
   {
    "duration": 8,
    "start_time": "2022-02-20T18:39:06.386Z"
   },
   {
    "duration": 16,
    "start_time": "2022-02-20T18:39:06.397Z"
   },
   {
    "duration": 47,
    "start_time": "2022-02-20T18:39:06.416Z"
   },
   {
    "duration": 20,
    "start_time": "2022-02-20T18:39:06.466Z"
   },
   {
    "duration": 25,
    "start_time": "2022-02-20T18:39:06.488Z"
   },
   {
    "duration": 11,
    "start_time": "2022-02-20T18:39:06.515Z"
   },
   {
    "duration": 732,
    "start_time": "2022-02-20T18:39:06.529Z"
   },
   {
    "duration": 30,
    "start_time": "2022-02-20T18:39:07.264Z"
   },
   {
    "duration": 67,
    "start_time": "2022-02-20T18:39:07.296Z"
   },
   {
    "duration": 56,
    "start_time": "2022-02-20T18:39:07.367Z"
   },
   {
    "duration": 8,
    "start_time": "2022-02-20T18:39:07.425Z"
   },
   {
    "duration": 40,
    "start_time": "2022-02-20T18:39:07.435Z"
   },
   {
    "duration": 43,
    "start_time": "2022-02-20T18:39:07.479Z"
   },
   {
    "duration": 3,
    "start_time": "2022-02-20T18:39:07.525Z"
   },
   {
    "duration": 51,
    "start_time": "2022-02-20T18:39:07.531Z"
   },
   {
    "duration": 20,
    "start_time": "2022-02-20T18:39:07.584Z"
   },
   {
    "duration": 535,
    "start_time": "2022-02-20T18:39:07.606Z"
   },
   {
    "duration": 530,
    "start_time": "2022-02-20T18:39:08.145Z"
   },
   {
    "duration": 473,
    "start_time": "2022-02-20T18:39:08.678Z"
   },
   {
    "duration": 12,
    "start_time": "2022-02-20T18:39:09.162Z"
   },
   {
    "duration": 9,
    "start_time": "2022-02-20T18:39:09.177Z"
   },
   {
    "duration": 27,
    "start_time": "2022-02-20T18:39:09.188Z"
   },
   {
    "duration": 57,
    "start_time": "2022-02-20T18:39:09.218Z"
   },
   {
    "duration": 13,
    "start_time": "2022-02-20T18:39:09.278Z"
   },
   {
    "duration": 4,
    "start_time": "2022-02-20T18:39:09.294Z"
   },
   {
    "duration": 12,
    "start_time": "2022-02-20T18:39:09.301Z"
   },
   {
    "duration": 65,
    "start_time": "2022-02-20T18:39:09.316Z"
   },
   {
    "duration": 12,
    "start_time": "2022-02-20T18:39:09.384Z"
   },
   {
    "duration": 29,
    "start_time": "2022-02-20T18:39:09.399Z"
   },
   {
    "duration": 45,
    "start_time": "2022-02-20T18:39:09.430Z"
   },
   {
    "duration": 15,
    "start_time": "2022-02-20T18:39:09.478Z"
   },
   {
    "duration": 4,
    "start_time": "2022-02-20T18:39:09.496Z"
   },
   {
    "duration": 123,
    "start_time": "2022-02-20T18:39:09.503Z"
   },
   {
    "duration": 43,
    "start_time": "2022-02-20T18:39:09.629Z"
   },
   {
    "duration": 5,
    "start_time": "2022-02-20T18:45:02.680Z"
   },
   {
    "duration": 516,
    "start_time": "2022-02-20T18:45:02.688Z"
   },
   {
    "duration": 124,
    "start_time": "2022-02-20T18:45:03.207Z"
   },
   {
    "duration": 11,
    "start_time": "2022-02-20T18:45:03.361Z"
   },
   {
    "duration": 133,
    "start_time": "2022-02-20T18:45:03.374Z"
   },
   {
    "duration": 10,
    "start_time": "2022-02-20T18:45:03.509Z"
   },
   {
    "duration": 20,
    "start_time": "2022-02-20T18:45:03.522Z"
   },
   {
    "duration": 41,
    "start_time": "2022-02-20T18:45:03.544Z"
   },
   {
    "duration": 418,
    "start_time": "2022-02-20T18:45:03.590Z"
   },
   {
    "duration": 22,
    "start_time": "2022-02-20T18:45:04.012Z"
   },
   {
    "duration": 80,
    "start_time": "2022-02-20T18:45:04.037Z"
   },
   {
    "duration": 482,
    "start_time": "2022-02-20T18:45:04.120Z"
   },
   {
    "duration": 14,
    "start_time": "2022-02-20T18:45:04.605Z"
   },
   {
    "duration": 203,
    "start_time": "2022-02-20T18:45:04.622Z"
   },
   {
    "duration": 59,
    "start_time": "2022-02-20T18:45:04.828Z"
   },
   {
    "duration": 15,
    "start_time": "2022-02-20T18:45:04.890Z"
   },
   {
    "duration": 73,
    "start_time": "2022-02-20T18:45:04.908Z"
   },
   {
    "duration": 17,
    "start_time": "2022-02-20T18:45:04.984Z"
   },
   {
    "duration": 44,
    "start_time": "2022-02-20T18:45:05.003Z"
   },
   {
    "duration": 21,
    "start_time": "2022-02-20T18:45:05.050Z"
   },
   {
    "duration": 86,
    "start_time": "2022-02-20T18:45:05.074Z"
   },
   {
    "duration": 34,
    "start_time": "2022-02-20T18:45:05.163Z"
   },
   {
    "duration": 62,
    "start_time": "2022-02-20T18:45:05.200Z"
   },
   {
    "duration": 29,
    "start_time": "2022-02-20T18:45:05.265Z"
   },
   {
    "duration": 181,
    "start_time": "2022-02-20T18:45:05.297Z"
   },
   {
    "duration": 31,
    "start_time": "2022-02-20T18:45:05.481Z"
   },
   {
    "duration": 43,
    "start_time": "2022-02-20T18:45:05.522Z"
   },
   {
    "duration": 21,
    "start_time": "2022-02-20T18:45:05.570Z"
   },
   {
    "duration": 20,
    "start_time": "2022-02-20T18:45:05.594Z"
   },
   {
    "duration": 43,
    "start_time": "2022-02-20T18:45:05.616Z"
   },
   {
    "duration": 6,
    "start_time": "2022-02-20T18:45:05.662Z"
   },
   {
    "duration": 8,
    "start_time": "2022-02-20T18:45:05.670Z"
   },
   {
    "duration": 5,
    "start_time": "2022-02-20T18:45:05.680Z"
   },
   {
    "duration": 14,
    "start_time": "2022-02-20T18:45:05.687Z"
   },
   {
    "duration": 32,
    "start_time": "2022-02-20T18:45:05.703Z"
   },
   {
    "duration": 29,
    "start_time": "2022-02-20T18:45:05.737Z"
   },
   {
    "duration": 20,
    "start_time": "2022-02-20T18:45:05.768Z"
   },
   {
    "duration": 10,
    "start_time": "2022-02-20T18:45:05.791Z"
   },
   {
    "duration": 20,
    "start_time": "2022-02-20T18:45:05.803Z"
   },
   {
    "duration": 38,
    "start_time": "2022-02-20T18:45:05.825Z"
   },
   {
    "duration": 12,
    "start_time": "2022-02-20T18:45:05.866Z"
   },
   {
    "duration": 20,
    "start_time": "2022-02-20T18:45:05.881Z"
   },
   {
    "duration": 10,
    "start_time": "2022-02-20T18:45:05.903Z"
   },
   {
    "duration": 612,
    "start_time": "2022-02-20T18:45:05.915Z"
   },
   {
    "duration": 21,
    "start_time": "2022-02-20T18:45:06.530Z"
   },
   {
    "duration": 41,
    "start_time": "2022-02-20T18:45:06.561Z"
   },
   {
    "duration": 67,
    "start_time": "2022-02-20T18:45:06.604Z"
   },
   {
    "duration": 8,
    "start_time": "2022-02-20T18:45:06.673Z"
   },
   {
    "duration": 16,
    "start_time": "2022-02-20T18:45:06.683Z"
   },
   {
    "duration": 20,
    "start_time": "2022-02-20T18:45:06.702Z"
   },
   {
    "duration": 36,
    "start_time": "2022-02-20T18:45:06.725Z"
   },
   {
    "duration": 28,
    "start_time": "2022-02-20T18:45:06.764Z"
   },
   {
    "duration": 18,
    "start_time": "2022-02-20T18:45:06.794Z"
   },
   {
    "duration": 663,
    "start_time": "2022-02-20T18:45:06.815Z"
   },
   {
    "duration": 496,
    "start_time": "2022-02-20T18:45:07.482Z"
   },
   {
    "duration": 431,
    "start_time": "2022-02-20T18:45:07.981Z"
   },
   {
    "duration": 7,
    "start_time": "2022-02-20T18:45:08.415Z"
   },
   {
    "duration": 13,
    "start_time": "2022-02-20T18:45:08.424Z"
   },
   {
    "duration": 137,
    "start_time": "2022-02-20T18:45:08.439Z"
   },
   {
    "duration": 22,
    "start_time": "2022-02-20T18:45:08.579Z"
   },
   {
    "duration": 10,
    "start_time": "2022-02-20T18:45:08.604Z"
   },
   {
    "duration": 8,
    "start_time": "2022-02-20T18:45:08.617Z"
   },
   {
    "duration": 37,
    "start_time": "2022-02-20T18:45:08.628Z"
   },
   {
    "duration": 20,
    "start_time": "2022-02-20T18:45:08.668Z"
   },
   {
    "duration": 11,
    "start_time": "2022-02-20T18:45:08.690Z"
   },
   {
    "duration": 61,
    "start_time": "2022-02-20T18:45:08.704Z"
   },
   {
    "duration": 13,
    "start_time": "2022-02-20T18:45:08.767Z"
   },
   {
    "duration": 7,
    "start_time": "2022-02-20T18:45:08.783Z"
   },
   {
    "duration": 4,
    "start_time": "2022-02-20T18:45:08.792Z"
   },
   {
    "duration": 121,
    "start_time": "2022-02-20T18:45:08.798Z"
   },
   {
    "duration": 21,
    "start_time": "2022-02-20T18:45:08.922Z"
   },
   {
    "duration": 61,
    "start_time": "2022-07-14T10:38:28.615Z"
   },
   {
    "duration": 1044,
    "start_time": "2022-07-14T10:38:32.430Z"
   },
   {
    "duration": 2058,
    "start_time": "2022-07-14T10:38:33.475Z"
   },
   {
    "duration": 87,
    "start_time": "2022-07-14T10:38:35.535Z"
   },
   {
    "duration": 7,
    "start_time": "2022-07-14T10:38:35.624Z"
   },
   {
    "duration": 89,
    "start_time": "2022-07-14T10:38:35.632Z"
   },
   {
    "duration": 7,
    "start_time": "2022-07-14T10:38:35.722Z"
   },
   {
    "duration": 14,
    "start_time": "2022-07-14T10:38:35.730Z"
   },
   {
    "duration": 25,
    "start_time": "2022-07-14T10:38:35.746Z"
   },
   {
    "duration": 190,
    "start_time": "2022-07-14T10:38:35.772Z"
   },
   {
    "duration": 15,
    "start_time": "2022-07-14T10:38:35.965Z"
   },
   {
    "duration": 12,
    "start_time": "2022-07-14T10:38:35.981Z"
   },
   {
    "duration": 236,
    "start_time": "2022-07-14T10:38:35.994Z"
   },
   {
    "duration": 22,
    "start_time": "2022-07-14T10:38:36.233Z"
   },
   {
    "duration": 22,
    "start_time": "2022-07-14T10:38:36.257Z"
   },
   {
    "duration": 21,
    "start_time": "2022-07-14T10:38:36.281Z"
   },
   {
    "duration": 9,
    "start_time": "2022-07-14T10:38:36.304Z"
   },
   {
    "duration": 66,
    "start_time": "2022-07-14T10:38:36.315Z"
   },
   {
    "duration": 11,
    "start_time": "2022-07-14T10:38:36.383Z"
   },
   {
    "duration": 20,
    "start_time": "2022-07-14T10:38:36.395Z"
   },
   {
    "duration": 9,
    "start_time": "2022-07-14T10:38:36.416Z"
   },
   {
    "duration": 59,
    "start_time": "2022-07-14T10:38:36.427Z"
   },
   {
    "duration": 26,
    "start_time": "2022-07-14T10:38:36.488Z"
   },
   {
    "duration": 44,
    "start_time": "2022-07-14T10:38:36.516Z"
   },
   {
    "duration": 7,
    "start_time": "2022-07-14T10:38:36.562Z"
   },
   {
    "duration": 10,
    "start_time": "2022-07-14T10:38:36.570Z"
   },
   {
    "duration": 10,
    "start_time": "2022-07-14T10:38:36.581Z"
   },
   {
    "duration": 10,
    "start_time": "2022-07-14T10:38:36.592Z"
   },
   {
    "duration": 9,
    "start_time": "2022-07-14T10:38:36.607Z"
   },
   {
    "duration": 42,
    "start_time": "2022-07-14T10:38:36.617Z"
   },
   {
    "duration": 13,
    "start_time": "2022-07-14T10:38:36.661Z"
   },
   {
    "duration": 6,
    "start_time": "2022-07-14T10:38:36.675Z"
   },
   {
    "duration": 5,
    "start_time": "2022-07-14T10:38:36.682Z"
   },
   {
    "duration": 5,
    "start_time": "2022-07-14T10:38:36.688Z"
   },
   {
    "duration": 58,
    "start_time": "2022-07-14T10:38:36.695Z"
   },
   {
    "duration": 6,
    "start_time": "2022-07-14T10:38:36.754Z"
   },
   {
    "duration": 9,
    "start_time": "2022-07-14T10:38:36.761Z"
   },
   {
    "duration": 14,
    "start_time": "2022-07-14T10:38:36.772Z"
   },
   {
    "duration": 8,
    "start_time": "2022-07-14T10:38:36.787Z"
   },
   {
    "duration": 62,
    "start_time": "2022-07-14T10:38:36.797Z"
   },
   {
    "duration": 4,
    "start_time": "2022-07-14T10:38:36.861Z"
   },
   {
    "duration": 9,
    "start_time": "2022-07-14T10:38:36.867Z"
   },
   {
    "duration": 73,
    "start_time": "2022-07-14T10:38:36.878Z"
   },
   {
    "duration": 9,
    "start_time": "2022-07-14T10:38:36.954Z"
   },
   {
    "duration": 516,
    "start_time": "2022-07-14T10:38:36.965Z"
   },
   {
    "duration": 70,
    "start_time": "2022-07-14T10:38:37.483Z"
   },
   {
    "duration": 26,
    "start_time": "2022-07-14T10:38:37.554Z"
   },
   {
    "duration": 81,
    "start_time": "2022-07-14T10:38:37.582Z"
   },
   {
    "duration": 5,
    "start_time": "2022-07-14T10:38:37.665Z"
   },
   {
    "duration": 14,
    "start_time": "2022-07-14T10:38:37.671Z"
   },
   {
    "duration": 15,
    "start_time": "2022-07-14T10:38:37.687Z"
   },
   {
    "duration": 2,
    "start_time": "2022-07-14T10:38:37.753Z"
   },
   {
    "duration": 18,
    "start_time": "2022-07-14T10:38:37.756Z"
   },
   {
    "duration": 12,
    "start_time": "2022-07-14T10:38:37.775Z"
   },
   {
    "duration": 408,
    "start_time": "2022-07-14T10:38:37.789Z"
   },
   {
    "duration": 344,
    "start_time": "2022-07-14T10:38:38.199Z"
   },
   {
    "duration": 186,
    "start_time": "2022-07-14T10:38:38.545Z"
   },
   {
    "duration": 6,
    "start_time": "2022-07-14T10:38:38.732Z"
   },
   {
    "duration": 20,
    "start_time": "2022-07-14T10:38:38.740Z"
   },
   {
    "duration": 19,
    "start_time": "2022-07-14T10:38:38.762Z"
   },
   {
    "duration": 40,
    "start_time": "2022-07-14T10:38:38.783Z"
   },
   {
    "duration": 25,
    "start_time": "2022-07-14T10:38:38.825Z"
   },
   {
    "duration": 22,
    "start_time": "2022-07-14T10:38:38.852Z"
   },
   {
    "duration": 21,
    "start_time": "2022-07-14T10:38:38.875Z"
   },
   {
    "duration": 36,
    "start_time": "2022-07-14T10:38:38.897Z"
   },
   {
    "duration": 23,
    "start_time": "2022-07-14T10:38:38.935Z"
   },
   {
    "duration": 35,
    "start_time": "2022-07-14T10:38:38.959Z"
   },
   {
    "duration": 12,
    "start_time": "2022-07-14T10:38:38.996Z"
   },
   {
    "duration": 16,
    "start_time": "2022-07-14T10:38:39.009Z"
   },
   {
    "duration": 23,
    "start_time": "2022-07-14T10:38:39.027Z"
   },
   {
    "duration": 42,
    "start_time": "2022-07-14T10:38:39.052Z"
   },
   {
    "duration": 12,
    "start_time": "2022-07-14T10:38:39.096Z"
   }
  ],
  "kernelspec": {
   "display_name": "Python 3 (ipykernel)",
   "language": "python",
   "name": "python3"
  },
  "language_info": {
   "codemirror_mode": {
    "name": "ipython",
    "version": 3
   },
   "file_extension": ".py",
   "mimetype": "text/x-python",
   "name": "python",
   "nbconvert_exporter": "python",
   "pygments_lexer": "ipython3",
   "version": "3.9.5"
  },
  "toc": {
   "base_numbering": 1,
   "nav_menu": {
    "height": "519.469px",
    "width": "830.469px"
   },
   "number_sections": false,
   "sideBar": true,
   "skip_h1_title": false,
   "title_cell": "Table of Contents",
   "title_sidebar": "Contents",
   "toc_cell": false,
   "toc_position": {},
   "toc_section_display": true,
   "toc_window_display": true
  }
 },
 "nbformat": 4,
 "nbformat_minor": 2
}

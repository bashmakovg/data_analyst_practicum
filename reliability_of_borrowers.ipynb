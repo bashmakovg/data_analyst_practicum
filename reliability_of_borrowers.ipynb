{
 "cells": [
  {
   "cell_type": "markdown",
   "metadata": {},
   "source": [
    "# Исследование надёжности заёмщиков\n",
    "\n",
    "Заказчик — кредитный отдел банка. \n",
    "Цель: разобраться, влияет ли семейное положение и количество детей клиента на факт погашения кредита в срок. Входные данные от банка — статистика о платёжеспособности клиентов.\n",
    "\n",
    "Результаты исследования будут учтены при построении модели **кредитного скоринга** — специальной системы, которая оценивает способность потенциального заёмщика вернуть кредит банку.\n",
    "\n",
    "\n",
    "\n",
    "\n",
    "Описание данных:\n",
    "* children — количество детей в семье\n",
    "* days_employed — общий трудовой стаж в днях\n",
    "* dob_years — возраст клиента в годах\n",
    "* education — уровень образования клиента\n",
    "* education_id — идентификатор уровня образования\n",
    "* family_status — семейное положение\n",
    "* family_status_id — идентификатор семейного положения\n",
    "* gender — пол клиента\n",
    "* income_type — тип занятости\n",
    "* debt — имел ли задолженность по возврату кредитов\n",
    "* total_income — ежемесячный доход\n",
    "* purpose — цель получения кредита"
   ]
  },
  {
   "cell_type": "markdown",
   "metadata": {},
   "source": [
    "## Шаг. Откройте файл с данными и изучите общую информацию"
   ]
  },
  {
   "cell_type": "code",
   "execution_count": 1,
   "metadata": {},
   "outputs": [],
   "source": [
    "# для дальнейшего удобства загружаем все необходимые библиотеки в одной ячейке\n",
    "# библиотека, которая необходима для лемматизации\n",
    "\n",
    "from pymystem3 import Mystem\n",
    "\n",
    "#библиотека для подсчета количества лемм\n",
    "from collections import Counter\n",
    "\n",
    "import pandas as pd #импортируем библиотеку pandas\n",
    "data = pd.read_csv('/datasets/data.csv') #читаем файл с данными и сохраняем его в переменную data\n"
   ]
  },
  {
   "cell_type": "code",
   "execution_count": 2,
   "metadata": {
    "scrolled": true
   },
   "outputs": [
    {
     "name": "stdout",
     "output_type": "stream",
     "text": [
      "<class 'pandas.core.frame.DataFrame'>\n",
      "RangeIndex: 21525 entries, 0 to 21524\n",
      "Data columns (total 12 columns):\n",
      "children            21525 non-null int64\n",
      "days_employed       19351 non-null float64\n",
      "dob_years           21525 non-null int64\n",
      "education           21525 non-null object\n",
      "education_id        21525 non-null int64\n",
      "family_status       21525 non-null object\n",
      "family_status_id    21525 non-null int64\n",
      "gender              21525 non-null object\n",
      "income_type         21525 non-null object\n",
      "debt                21525 non-null int64\n",
      "total_income        19351 non-null float64\n",
      "purpose             21525 non-null object\n",
      "dtypes: float64(2), int64(5), object(5)\n",
      "memory usage: 2.0+ MB\n"
     ]
    },
    {
     "data": {
      "text/html": [
       "<div>\n",
       "<style scoped>\n",
       "    .dataframe tbody tr th:only-of-type {\n",
       "        vertical-align: middle;\n",
       "    }\n",
       "\n",
       "    .dataframe tbody tr th {\n",
       "        vertical-align: top;\n",
       "    }\n",
       "\n",
       "    .dataframe thead th {\n",
       "        text-align: right;\n",
       "    }\n",
       "</style>\n",
       "<table border=\"1\" class=\"dataframe\">\n",
       "  <thead>\n",
       "    <tr style=\"text-align: right;\">\n",
       "      <th></th>\n",
       "      <th>children</th>\n",
       "      <th>days_employed</th>\n",
       "      <th>dob_years</th>\n",
       "      <th>education</th>\n",
       "      <th>education_id</th>\n",
       "      <th>family_status</th>\n",
       "      <th>family_status_id</th>\n",
       "      <th>gender</th>\n",
       "      <th>income_type</th>\n",
       "      <th>debt</th>\n",
       "      <th>total_income</th>\n",
       "      <th>purpose</th>\n",
       "    </tr>\n",
       "  </thead>\n",
       "  <tbody>\n",
       "    <tr>\n",
       "      <td>0</td>\n",
       "      <td>1</td>\n",
       "      <td>-8437.673028</td>\n",
       "      <td>42</td>\n",
       "      <td>высшее</td>\n",
       "      <td>0</td>\n",
       "      <td>женат / замужем</td>\n",
       "      <td>0</td>\n",
       "      <td>F</td>\n",
       "      <td>сотрудник</td>\n",
       "      <td>0</td>\n",
       "      <td>253875.639453</td>\n",
       "      <td>покупка жилья</td>\n",
       "    </tr>\n",
       "    <tr>\n",
       "      <td>1</td>\n",
       "      <td>1</td>\n",
       "      <td>-4024.803754</td>\n",
       "      <td>36</td>\n",
       "      <td>среднее</td>\n",
       "      <td>1</td>\n",
       "      <td>женат / замужем</td>\n",
       "      <td>0</td>\n",
       "      <td>F</td>\n",
       "      <td>сотрудник</td>\n",
       "      <td>0</td>\n",
       "      <td>112080.014102</td>\n",
       "      <td>приобретение автомобиля</td>\n",
       "    </tr>\n",
       "    <tr>\n",
       "      <td>2</td>\n",
       "      <td>0</td>\n",
       "      <td>-5623.422610</td>\n",
       "      <td>33</td>\n",
       "      <td>Среднее</td>\n",
       "      <td>1</td>\n",
       "      <td>женат / замужем</td>\n",
       "      <td>0</td>\n",
       "      <td>M</td>\n",
       "      <td>сотрудник</td>\n",
       "      <td>0</td>\n",
       "      <td>145885.952297</td>\n",
       "      <td>покупка жилья</td>\n",
       "    </tr>\n",
       "    <tr>\n",
       "      <td>3</td>\n",
       "      <td>3</td>\n",
       "      <td>-4124.747207</td>\n",
       "      <td>32</td>\n",
       "      <td>среднее</td>\n",
       "      <td>1</td>\n",
       "      <td>женат / замужем</td>\n",
       "      <td>0</td>\n",
       "      <td>M</td>\n",
       "      <td>сотрудник</td>\n",
       "      <td>0</td>\n",
       "      <td>267628.550329</td>\n",
       "      <td>дополнительное образование</td>\n",
       "    </tr>\n",
       "    <tr>\n",
       "      <td>4</td>\n",
       "      <td>0</td>\n",
       "      <td>340266.072047</td>\n",
       "      <td>53</td>\n",
       "      <td>среднее</td>\n",
       "      <td>1</td>\n",
       "      <td>гражданский брак</td>\n",
       "      <td>1</td>\n",
       "      <td>F</td>\n",
       "      <td>пенсионер</td>\n",
       "      <td>0</td>\n",
       "      <td>158616.077870</td>\n",
       "      <td>сыграть свадьбу</td>\n",
       "    </tr>\n",
       "  </tbody>\n",
       "</table>\n",
       "</div>"
      ],
      "text/plain": [
       "   children  days_employed  dob_years education  education_id  \\\n",
       "0         1   -8437.673028         42    высшее             0   \n",
       "1         1   -4024.803754         36   среднее             1   \n",
       "2         0   -5623.422610         33   Среднее             1   \n",
       "3         3   -4124.747207         32   среднее             1   \n",
       "4         0  340266.072047         53   среднее             1   \n",
       "\n",
       "      family_status  family_status_id gender income_type  debt   total_income  \\\n",
       "0   женат / замужем                 0      F   сотрудник     0  253875.639453   \n",
       "1   женат / замужем                 0      F   сотрудник     0  112080.014102   \n",
       "2   женат / замужем                 0      M   сотрудник     0  145885.952297   \n",
       "3   женат / замужем                 0      M   сотрудник     0  267628.550329   \n",
       "4  гражданский брак                 1      F   пенсионер     0  158616.077870   \n",
       "\n",
       "                      purpose  \n",
       "0               покупка жилья  \n",
       "1     приобретение автомобиля  \n",
       "2               покупка жилья  \n",
       "3  дополнительное образование  \n",
       "4             сыграть свадьбу  "
      ]
     },
     "execution_count": 2,
     "metadata": {},
     "output_type": "execute_result"
    }
   ],
   "source": [
    "data.info() #получение общей информации о данных в таблице\n",
    "data.head()"
   ]
  },
  {
   "cell_type": "code",
   "execution_count": 3,
   "metadata": {
    "scrolled": true
   },
   "outputs": [
    {
     "data": {
      "text/plain": [
       "F      14236\n",
       "M       7288\n",
       "XNA        1\n",
       "Name: gender, dtype: int64"
      ]
     },
     "execution_count": 3,
     "metadata": {},
     "output_type": "execute_result"
    }
   ],
   "source": [
    "data['gender'].value_counts() \n",
    "#после ревью был обнаружен 3 гендер, странно, либо кто-то пошутил, либо клиент банка является небинарной личностью"
   ]
  },
  {
   "cell_type": "code",
   "execution_count": 4,
   "metadata": {},
   "outputs": [
    {
     "data": {
      "text/plain": [
       " 0     14149\n",
       " 1      4818\n",
       " 2      2055\n",
       " 3       330\n",
       " 20       76\n",
       "-1        47\n",
       " 4        41\n",
       " 5         9\n",
       "Name: children, dtype: int64"
      ]
     },
     "execution_count": 4,
     "metadata": {},
     "output_type": "execute_result"
    }
   ],
   "source": [
    "data['children'].value_counts() "
   ]
  },
  {
   "cell_type": "markdown",
   "metadata": {},
   "source": [
    "Еще один артефакт: отрицательное значение детей, а у кого-то их вообще 20. Думаю надо исправить"
   ]
  },
  {
   "cell_type": "markdown",
   "metadata": {},
   "source": [
    "**Вывод**"
   ]
  },
  {
   "cell_type": "markdown",
   "metadata": {},
   "source": [
    "В таблице 12 столбцов. В них встречается 3 типа данных:\n",
    "* float64\n",
    "* int64\n",
    "* object(5) "
   ]
  },
  {
   "cell_type": "markdown",
   "metadata": {},
   "source": [
    "Наш датасет состоит из 21525 строк и 12 столбцов.\n",
    "По первым 5-ти строкам сразу видим, что присутствует отрицательный трудовой стаж, разный регистр в образовании, совпадение цели кредита (что не является проблемой, а поможет при категоризации данных), нужно будет только применить метод лемматизации.\n",
    "\n",
    "В колонке дни стажа работы присутствуют 6-ти значные значения, это говорит о том, что люди работали около 1000 лет). Тут явно какая то ошибка, возможно написали в часах, или сотрудник банка торопился и случайно нажал лишнюю клавишу - поправим. \n",
    "Также обнаружен 3 гендер, думаю можно попросить кредитный отдел проверить правильность заполнения информации, но я за самоопределение человека и поэтому не заменяю его на мужской или женский.\n",
    "\n",
    "* Количественные переменные в стобцах: children, days_employed, dob_years, total_income\n",
    "\n",
    "* Категориальные: education, education_id, family_status,\tfamily_status_id, gender, income_type, debt, purpose\n",
    "\n",
    "* Логические переменные отсутствуют так как нет столбцов со значениями True/False\n",
    "\n",
    "**Над чем работаем:**\n",
    "* пропущенные значения в days_employed и total_income\n",
    "* некорректны тип данных в столбце days_employed\n",
    "* дубликаты в purpose и education\n",
    "* большие значения в days_employed, которые показывают опыт работы скорее в часах или минутах\n",
    "* третий гендер\n",
    "* отрицательное количество детей, а также количество детей, равное 20 (сильно много)"
   ]
  },
  {
   "cell_type": "markdown",
   "metadata": {},
   "source": [
    "## Шаг. Предобработка данных"
   ]
  },
  {
   "cell_type": "markdown",
   "metadata": {},
   "source": [
    "### Работа с артефактами"
   ]
  },
  {
   "cell_type": "markdown",
   "metadata": {},
   "source": [
    "**Работа с количеством детей**\n"
   ]
  },
  {
   "cell_type": "code",
   "execution_count": 5,
   "metadata": {},
   "outputs": [
    {
     "data": {
      "text/plain": [
       " 0     14149\n",
       " 1      4818\n",
       " 2      2055\n",
       " 3       330\n",
       " 20       76\n",
       "-1        47\n",
       " 4        41\n",
       " 5         9\n",
       "Name: children, dtype: int64"
      ]
     },
     "execution_count": 5,
     "metadata": {},
     "output_type": "execute_result"
    }
   ],
   "source": [
    "#Проверим, какое количество и как часто встречается в наших данных\n",
    "data['children'].value_counts()"
   ]
  },
  {
   "cell_type": "markdown",
   "metadata": {},
   "source": [
    "* Обнаружено, что есть -1 ребенок, а также 20 детей в семье. Предполагаю, что в данных ошибка, появившаяся в процессе заполнения данных о клиенте. Предлагаю изменить отрицательное значение на положительное, а 20 детей на 2, что более логично и реально.\n",
    "\n",
    "* Для того, чтобы изменить отрицательное значение на положительное, воспользуемся ранее функцией по замене на модуль числа"
   ]
  },
  {
   "cell_type": "code",
   "execution_count": 6,
   "metadata": {},
   "outputs": [],
   "source": [
    "# Функция для замены отрицательного числа на модуль этого числа\n",
    "def modul_days(days):\n",
    "    if days<0:\n",
    "        days = abs(days)\n",
    "    return days"
   ]
  },
  {
   "cell_type": "code",
   "execution_count": 7,
   "metadata": {},
   "outputs": [
    {
     "data": {
      "text/plain": [
       "0     14149\n",
       "1      4865\n",
       "2      2055\n",
       "3       330\n",
       "20       76\n",
       "4        41\n",
       "5         9\n",
       "Name: children, dtype: int64"
      ]
     },
     "execution_count": 7,
     "metadata": {},
     "output_type": "execute_result"
    }
   ],
   "source": [
    "# применяем функцию modul_days к столбцу 'children'\n",
    "data['children'] = data['children'].apply(modul_days)\n",
    "# сразу проверим как обстоят дела, выведем информацию с помощью value_counts()\n",
    "data['children'].value_counts()"
   ]
  },
  {
   "cell_type": "markdown",
   "metadata": {},
   "source": [
    "**Отлично**, осталось изменить количество детей с 20 до 2. Для этого воспользуемся методом .replace()"
   ]
  },
  {
   "cell_type": "code",
   "execution_count": 8,
   "metadata": {},
   "outputs": [],
   "source": [
    "# применяем метод .replace() к столбцу 'children'\n",
    "data['children'] = data['children'].replace(20, 2)"
   ]
  },
  {
   "cell_type": "markdown",
   "metadata": {},
   "source": [
    "Проверим, как после проделанной работы изменилось распределение детей в данных"
   ]
  },
  {
   "cell_type": "code",
   "execution_count": 9,
   "metadata": {},
   "outputs": [
    {
     "data": {
      "text/plain": [
       "0    14149\n",
       "1     4865\n",
       "2     2131\n",
       "3      330\n",
       "4       41\n",
       "5        9\n",
       "Name: children, dtype: int64"
      ]
     },
     "execution_count": 9,
     "metadata": {},
     "output_type": "execute_result"
    }
   ],
   "source": [
    "# для этого воспользуемся методом value_counts()\n",
    "data['children'].value_counts()"
   ]
  },
  {
   "cell_type": "markdown",
   "metadata": {},
   "source": [
    "**ВЫВОД**:\n",
    "\n",
    "В столбце `children` приведено количество детей к более реальным показателям, заменили отрицательные значения."
   ]
  },
  {
   "cell_type": "markdown",
   "metadata": {},
   "source": [
    "### Обработка пропусков"
   ]
  },
  {
   "cell_type": "code",
   "execution_count": 10,
   "metadata": {},
   "outputs": [
    {
     "data": {
      "text/plain": [
       "children               0\n",
       "days_employed       2174\n",
       "dob_years              0\n",
       "education              0\n",
       "education_id           0\n",
       "family_status          0\n",
       "family_status_id       0\n",
       "gender                 0\n",
       "income_type            0\n",
       "debt                   0\n",
       "total_income        2174\n",
       "purpose                0\n",
       "dtype: int64"
      ]
     },
     "execution_count": 10,
     "metadata": {},
     "output_type": "execute_result"
    }
   ],
   "source": [
    "#посчитаем количество пропусков\n",
    "data.isna().sum()"
   ]
  },
  {
   "cell_type": "markdown",
   "metadata": {},
   "source": [
    "* Видим, что пропущены значения в столбцах о стаже и заработке. Проверим, связаны ли они между собой или значения пропущены в разных строках?"
   ]
  },
  {
   "cell_type": "code",
   "execution_count": 11,
   "metadata": {},
   "outputs": [
    {
     "data": {
      "text/html": [
       "<div>\n",
       "<style scoped>\n",
       "    .dataframe tbody tr th:only-of-type {\n",
       "        vertical-align: middle;\n",
       "    }\n",
       "\n",
       "    .dataframe tbody tr th {\n",
       "        vertical-align: top;\n",
       "    }\n",
       "\n",
       "    .dataframe thead th {\n",
       "        text-align: right;\n",
       "    }\n",
       "</style>\n",
       "<table border=\"1\" class=\"dataframe\">\n",
       "  <thead>\n",
       "    <tr style=\"text-align: right;\">\n",
       "      <th></th>\n",
       "      <th>children</th>\n",
       "      <th>days_employed</th>\n",
       "      <th>dob_years</th>\n",
       "      <th>education</th>\n",
       "      <th>education_id</th>\n",
       "      <th>family_status</th>\n",
       "      <th>family_status_id</th>\n",
       "      <th>gender</th>\n",
       "      <th>income_type</th>\n",
       "      <th>debt</th>\n",
       "      <th>total_income</th>\n",
       "      <th>purpose</th>\n",
       "    </tr>\n",
       "  </thead>\n",
       "  <tbody>\n",
       "    <tr>\n",
       "      <td>12</td>\n",
       "      <td>0</td>\n",
       "      <td>NaN</td>\n",
       "      <td>65</td>\n",
       "      <td>среднее</td>\n",
       "      <td>1</td>\n",
       "      <td>гражданский брак</td>\n",
       "      <td>1</td>\n",
       "      <td>M</td>\n",
       "      <td>пенсионер</td>\n",
       "      <td>0</td>\n",
       "      <td>NaN</td>\n",
       "      <td>сыграть свадьбу</td>\n",
       "    </tr>\n",
       "    <tr>\n",
       "      <td>26</td>\n",
       "      <td>0</td>\n",
       "      <td>NaN</td>\n",
       "      <td>41</td>\n",
       "      <td>среднее</td>\n",
       "      <td>1</td>\n",
       "      <td>женат / замужем</td>\n",
       "      <td>0</td>\n",
       "      <td>M</td>\n",
       "      <td>госслужащий</td>\n",
       "      <td>0</td>\n",
       "      <td>NaN</td>\n",
       "      <td>образование</td>\n",
       "    </tr>\n",
       "    <tr>\n",
       "      <td>29</td>\n",
       "      <td>0</td>\n",
       "      <td>NaN</td>\n",
       "      <td>63</td>\n",
       "      <td>среднее</td>\n",
       "      <td>1</td>\n",
       "      <td>Не женат / не замужем</td>\n",
       "      <td>4</td>\n",
       "      <td>F</td>\n",
       "      <td>пенсионер</td>\n",
       "      <td>0</td>\n",
       "      <td>NaN</td>\n",
       "      <td>строительство жилой недвижимости</td>\n",
       "    </tr>\n",
       "    <tr>\n",
       "      <td>41</td>\n",
       "      <td>0</td>\n",
       "      <td>NaN</td>\n",
       "      <td>50</td>\n",
       "      <td>среднее</td>\n",
       "      <td>1</td>\n",
       "      <td>женат / замужем</td>\n",
       "      <td>0</td>\n",
       "      <td>F</td>\n",
       "      <td>госслужащий</td>\n",
       "      <td>0</td>\n",
       "      <td>NaN</td>\n",
       "      <td>сделка с подержанным автомобилем</td>\n",
       "    </tr>\n",
       "    <tr>\n",
       "      <td>55</td>\n",
       "      <td>0</td>\n",
       "      <td>NaN</td>\n",
       "      <td>54</td>\n",
       "      <td>среднее</td>\n",
       "      <td>1</td>\n",
       "      <td>гражданский брак</td>\n",
       "      <td>1</td>\n",
       "      <td>F</td>\n",
       "      <td>пенсионер</td>\n",
       "      <td>1</td>\n",
       "      <td>NaN</td>\n",
       "      <td>сыграть свадьбу</td>\n",
       "    </tr>\n",
       "    <tr>\n",
       "      <td>65</td>\n",
       "      <td>0</td>\n",
       "      <td>NaN</td>\n",
       "      <td>21</td>\n",
       "      <td>среднее</td>\n",
       "      <td>1</td>\n",
       "      <td>Не женат / не замужем</td>\n",
       "      <td>4</td>\n",
       "      <td>M</td>\n",
       "      <td>компаньон</td>\n",
       "      <td>0</td>\n",
       "      <td>NaN</td>\n",
       "      <td>операции с коммерческой недвижимостью</td>\n",
       "    </tr>\n",
       "    <tr>\n",
       "      <td>67</td>\n",
       "      <td>0</td>\n",
       "      <td>NaN</td>\n",
       "      <td>52</td>\n",
       "      <td>высшее</td>\n",
       "      <td>0</td>\n",
       "      <td>женат / замужем</td>\n",
       "      <td>0</td>\n",
       "      <td>F</td>\n",
       "      <td>пенсионер</td>\n",
       "      <td>0</td>\n",
       "      <td>NaN</td>\n",
       "      <td>покупка жилья для семьи</td>\n",
       "    </tr>\n",
       "    <tr>\n",
       "      <td>72</td>\n",
       "      <td>1</td>\n",
       "      <td>NaN</td>\n",
       "      <td>32</td>\n",
       "      <td>высшее</td>\n",
       "      <td>0</td>\n",
       "      <td>женат / замужем</td>\n",
       "      <td>0</td>\n",
       "      <td>M</td>\n",
       "      <td>госслужащий</td>\n",
       "      <td>0</td>\n",
       "      <td>NaN</td>\n",
       "      <td>операции с коммерческой недвижимостью</td>\n",
       "    </tr>\n",
       "    <tr>\n",
       "      <td>82</td>\n",
       "      <td>2</td>\n",
       "      <td>NaN</td>\n",
       "      <td>50</td>\n",
       "      <td>высшее</td>\n",
       "      <td>0</td>\n",
       "      <td>женат / замужем</td>\n",
       "      <td>0</td>\n",
       "      <td>F</td>\n",
       "      <td>сотрудник</td>\n",
       "      <td>0</td>\n",
       "      <td>NaN</td>\n",
       "      <td>жилье</td>\n",
       "    </tr>\n",
       "    <tr>\n",
       "      <td>83</td>\n",
       "      <td>0</td>\n",
       "      <td>NaN</td>\n",
       "      <td>52</td>\n",
       "      <td>среднее</td>\n",
       "      <td>1</td>\n",
       "      <td>женат / замужем</td>\n",
       "      <td>0</td>\n",
       "      <td>M</td>\n",
       "      <td>сотрудник</td>\n",
       "      <td>0</td>\n",
       "      <td>NaN</td>\n",
       "      <td>жилье</td>\n",
       "    </tr>\n",
       "  </tbody>\n",
       "</table>\n",
       "</div>"
      ],
      "text/plain": [
       "    children  days_employed  dob_years education  education_id  \\\n",
       "12         0            NaN         65   среднее             1   \n",
       "26         0            NaN         41   среднее             1   \n",
       "29         0            NaN         63   среднее             1   \n",
       "41         0            NaN         50   среднее             1   \n",
       "55         0            NaN         54   среднее             1   \n",
       "65         0            NaN         21   среднее             1   \n",
       "67         0            NaN         52    высшее             0   \n",
       "72         1            NaN         32    высшее             0   \n",
       "82         2            NaN         50    высшее             0   \n",
       "83         0            NaN         52   среднее             1   \n",
       "\n",
       "            family_status  family_status_id gender  income_type  debt  \\\n",
       "12       гражданский брак                 1      M    пенсионер     0   \n",
       "26        женат / замужем                 0      M  госслужащий     0   \n",
       "29  Не женат / не замужем                 4      F    пенсионер     0   \n",
       "41        женат / замужем                 0      F  госслужащий     0   \n",
       "55       гражданский брак                 1      F    пенсионер     1   \n",
       "65  Не женат / не замужем                 4      M    компаньон     0   \n",
       "67        женат / замужем                 0      F    пенсионер     0   \n",
       "72        женат / замужем                 0      M  госслужащий     0   \n",
       "82        женат / замужем                 0      F    сотрудник     0   \n",
       "83        женат / замужем                 0      M    сотрудник     0   \n",
       "\n",
       "    total_income                                purpose  \n",
       "12           NaN                        сыграть свадьбу  \n",
       "26           NaN                            образование  \n",
       "29           NaN       строительство жилой недвижимости  \n",
       "41           NaN       сделка с подержанным автомобилем  \n",
       "55           NaN                        сыграть свадьбу  \n",
       "65           NaN  операции с коммерческой недвижимостью  \n",
       "67           NaN                покупка жилья для семьи  \n",
       "72           NaN  операции с коммерческой недвижимостью  \n",
       "82           NaN                                  жилье  \n",
       "83           NaN                                  жилье  "
      ]
     },
     "metadata": {},
     "output_type": "display_data"
    },
    {
     "name": "stdout",
     "output_type": "stream",
     "text": [
      "Количество пропущенных значений 2174\n"
     ]
    }
   ],
   "source": [
    "data_null = data[data['days_employed'].isna() & data['total_income'].isna()]\n",
    "display(data_null.head(10)) #просмотрим первые 5 строк\n",
    "print('Количество пропущенных значений', data_null.shape[0]) #найдем размер новой таблицы"
   ]
  },
  {
   "cell_type": "markdown",
   "metadata": {},
   "source": [
    "Пропущенные значения в трудовом стаже 'days_employed' связаны с пропущенными значениями в зарплате 'total_income'. Это немного упрощает дальнейшую работу.\n",
    "\n",
    "Возможная причина: ошибка при выгрузке данных. Вообще можно попросить отправить корректные данные, но мы работаем с тем, что есть. Также можно отметить, что эти пропуски у разной категории занятости - сотрудники, пенсионеры, госслужащие и т.п.\n",
    "\n",
    "Пропуски в трудовом стаже в колонке 'days_employed' не оказывают влияния на наше исследование, а вот пропуск значений в колонке уровня зарплат 'total_income' может привести к неточности анализа, ведь у нас есть вопрос: \"Есть ли зависимость между уровнем дохода и возвратом кредита в срок?\"\n",
    "\n",
    "Что делаем?\n",
    "\n",
    "* Удалять пропущенные значения в 'total_income', также заменять их пустыми строками мы не будем, так как они составляют около 10% от объема данных.\n",
    "\n",
    "* Следователь, их необходимо заполнить медианным или средним значением."
   ]
  },
  {
   "cell_type": "code",
   "execution_count": 12,
   "metadata": {},
   "outputs": [],
   "source": [
    "#создаю функцию, которая проверить зависимость появления пропусков от других данных\n",
    "#она группирует по категориям столбца и возвращает процент пропуска по категории\n",
    "#purpose выбрана, так как в ней нет пропусков\n",
    "\n",
    "def percent_null(column):\n",
    "    f_category = data.pivot_table(index=[column], values=['purpose', 'days_employed'], aggfunc=['count'])\n",
    "    f_category['perc_null'] = (1-(f_category['count']['days_employed']/f_category['count']['purpose']))*100\n",
    "    f_category['perc_null'] = round(f_category['perc_null'], 1)\n",
    "    return f_category "
   ]
  },
  {
   "cell_type": "code",
   "execution_count": 13,
   "metadata": {},
   "outputs": [
    {
     "data": {
      "text/html": [
       "<div>\n",
       "<style scoped>\n",
       "    .dataframe tbody tr th:only-of-type {\n",
       "        vertical-align: middle;\n",
       "    }\n",
       "\n",
       "    .dataframe tbody tr th {\n",
       "        vertical-align: top;\n",
       "    }\n",
       "\n",
       "    .dataframe thead tr th {\n",
       "        text-align: left;\n",
       "    }\n",
       "\n",
       "    .dataframe thead tr:last-of-type th {\n",
       "        text-align: right;\n",
       "    }\n",
       "</style>\n",
       "<table border=\"1\" class=\"dataframe\">\n",
       "  <thead>\n",
       "    <tr>\n",
       "      <th></th>\n",
       "      <th colspan=\"2\" halign=\"left\">count</th>\n",
       "      <th>perc_null</th>\n",
       "    </tr>\n",
       "    <tr>\n",
       "      <th></th>\n",
       "      <th>days_employed</th>\n",
       "      <th>purpose</th>\n",
       "      <th></th>\n",
       "    </tr>\n",
       "    <tr>\n",
       "      <th>children</th>\n",
       "      <th></th>\n",
       "      <th></th>\n",
       "      <th></th>\n",
       "    </tr>\n",
       "  </thead>\n",
       "  <tbody>\n",
       "    <tr>\n",
       "      <td>0</td>\n",
       "      <td>12710</td>\n",
       "      <td>14149</td>\n",
       "      <td>10.2</td>\n",
       "    </tr>\n",
       "    <tr>\n",
       "      <td>1</td>\n",
       "      <td>4387</td>\n",
       "      <td>4865</td>\n",
       "      <td>9.8</td>\n",
       "    </tr>\n",
       "    <tr>\n",
       "      <td>2</td>\n",
       "      <td>1918</td>\n",
       "      <td>2131</td>\n",
       "      <td>10.0</td>\n",
       "    </tr>\n",
       "    <tr>\n",
       "      <td>3</td>\n",
       "      <td>294</td>\n",
       "      <td>330</td>\n",
       "      <td>10.9</td>\n",
       "    </tr>\n",
       "    <tr>\n",
       "      <td>4</td>\n",
       "      <td>34</td>\n",
       "      <td>41</td>\n",
       "      <td>17.1</td>\n",
       "    </tr>\n",
       "    <tr>\n",
       "      <td>5</td>\n",
       "      <td>8</td>\n",
       "      <td>9</td>\n",
       "      <td>11.1</td>\n",
       "    </tr>\n",
       "  </tbody>\n",
       "</table>\n",
       "</div>"
      ],
      "text/plain": [
       "                 count         perc_null\n",
       "         days_employed purpose          \n",
       "children                                \n",
       "0                12710   14149      10.2\n",
       "1                 4387    4865       9.8\n",
       "2                 1918    2131      10.0\n",
       "3                  294     330      10.9\n",
       "4                   34      41      17.1\n",
       "5                    8       9      11.1"
      ]
     },
     "execution_count": 13,
     "metadata": {},
     "output_type": "execute_result"
    }
   ],
   "source": [
    "#проверим работу функции на столбце с детьми\n",
    "percent_null('children')"
   ]
  },
  {
   "cell_type": "markdown",
   "metadata": {},
   "source": [
    "**Пропуски равномерно разбросаны по всем категориям, в среднем по 10. Исключение это 17% у людей с 4 детьми, учитывая что это 41 значение из 21 тыс. Также наблюдаю меньшую выборку у людей с 5 детьми.**"
   ]
  },
  {
   "cell_type": "code",
   "execution_count": 14,
   "metadata": {},
   "outputs": [
    {
     "data": {
      "text/html": [
       "<div>\n",
       "<style scoped>\n",
       "    .dataframe tbody tr th:only-of-type {\n",
       "        vertical-align: middle;\n",
       "    }\n",
       "\n",
       "    .dataframe tbody tr th {\n",
       "        vertical-align: top;\n",
       "    }\n",
       "\n",
       "    .dataframe thead tr th {\n",
       "        text-align: left;\n",
       "    }\n",
       "\n",
       "    .dataframe thead tr:last-of-type th {\n",
       "        text-align: right;\n",
       "    }\n",
       "</style>\n",
       "<table border=\"1\" class=\"dataframe\">\n",
       "  <thead>\n",
       "    <tr>\n",
       "      <th></th>\n",
       "      <th colspan=\"2\" halign=\"left\">count</th>\n",
       "      <th>perc_null</th>\n",
       "    </tr>\n",
       "    <tr>\n",
       "      <th></th>\n",
       "      <th>days_employed</th>\n",
       "      <th>purpose</th>\n",
       "      <th></th>\n",
       "    </tr>\n",
       "    <tr>\n",
       "      <th>family_status</th>\n",
       "      <th></th>\n",
       "      <th></th>\n",
       "      <th></th>\n",
       "    </tr>\n",
       "  </thead>\n",
       "  <tbody>\n",
       "    <tr>\n",
       "      <td>Не женат / не замужем</td>\n",
       "      <td>2525</td>\n",
       "      <td>2813</td>\n",
       "      <td>10.2</td>\n",
       "    </tr>\n",
       "    <tr>\n",
       "      <td>в разводе</td>\n",
       "      <td>1083</td>\n",
       "      <td>1195</td>\n",
       "      <td>9.4</td>\n",
       "    </tr>\n",
       "    <tr>\n",
       "      <td>вдовец / вдова</td>\n",
       "      <td>865</td>\n",
       "      <td>960</td>\n",
       "      <td>9.9</td>\n",
       "    </tr>\n",
       "    <tr>\n",
       "      <td>гражданский брак</td>\n",
       "      <td>3735</td>\n",
       "      <td>4177</td>\n",
       "      <td>10.6</td>\n",
       "    </tr>\n",
       "    <tr>\n",
       "      <td>женат / замужем</td>\n",
       "      <td>11143</td>\n",
       "      <td>12380</td>\n",
       "      <td>10.0</td>\n",
       "    </tr>\n",
       "  </tbody>\n",
       "</table>\n",
       "</div>"
      ],
      "text/plain": [
       "                              count         perc_null\n",
       "                      days_employed purpose          \n",
       "family_status                                        \n",
       "Не женат / не замужем          2525    2813      10.2\n",
       "в разводе                      1083    1195       9.4\n",
       "вдовец / вдова                  865     960       9.9\n",
       "гражданский брак               3735    4177      10.6\n",
       "женат / замужем               11143   12380      10.0"
      ]
     },
     "execution_count": 14,
     "metadata": {},
     "output_type": "execute_result"
    }
   ],
   "source": [
    "#оценим пропуски в категории по столбцу 'family_status'\n",
    "percent_null('family_status')"
   ]
  },
  {
   "cell_type": "markdown",
   "metadata": {},
   "source": [
    "**Аналогичное представление. Пропуски равномерно разбросаны по всем категориям**"
   ]
  },
  {
   "cell_type": "markdown",
   "metadata": {},
   "source": [
    "**Обнаружено, что пропуски имеются в двух колонках 'days_employed' и 'total_income'. Они находятся в одних и тех же местах в 2174 строках. Распреление пропусков в соответствии с различными группа показало, что они распределены внутри категорий столбцов также, как в общем датасете (около 10%). Какая-либо закономерность появления пропущенных значений не прослеживается. Они являются симметричными и скорее всего полностью случайными, которые ни от чего не зависят. Предпологаю, что это ошибка в выгрузке данных, ну или так совпало, что кредитный менеджер забывал их заполнять в какие то дни)**"
   ]
  },
  {
   "cell_type": "code",
   "execution_count": 15,
   "metadata": {},
   "outputs": [
    {
     "name": "stdout",
     "output_type": "stream",
     "text": [
      "167422.30220817294\n"
     ]
    }
   ],
   "source": [
    "# определяем среднее значение зарплаты\n",
    "total_income_mean = data['total_income'].mean()\n",
    "print(total_income_mean)"
   ]
  },
  {
   "cell_type": "code",
   "execution_count": 16,
   "metadata": {},
   "outputs": [
    {
     "name": "stdout",
     "output_type": "stream",
     "text": [
      "145017.93753253992\n"
     ]
    }
   ],
   "source": [
    "# определяем медианное значение зарплаты\n",
    "total_income_median = data['total_income'].median()\n",
    "print(total_income_median)"
   ]
  },
  {
   "cell_type": "code",
   "execution_count": 17,
   "metadata": {},
   "outputs": [
    {
     "name": "stdout",
     "output_type": "stream",
     "text": [
      "Максимальный уровень зарплаты 2265604.028722744\n",
      "Минимальный уровень зарплаты 20667.26379327158\n"
     ]
    }
   ],
   "source": [
    "# в дополнение определим максимальный и минимальный уровень зарплат\n",
    "print('Максимальный уровень зарплаты', data['total_income'].max())\n",
    "print('Минимальный уровень зарплаты', data['total_income'].min())"
   ]
  },
  {
   "cell_type": "markdown",
   "metadata": {},
   "source": [
    "Получается очень широкий коридор уровня зарплаты: от 20 тыс. до 2.2 млн. Учитывая, что пропущенные значения принадлежат и пенсионерам и обычным сотрудникам, остановлюсь на том, что пропущенные значения зп заполню медианным значением."
   ]
  },
  {
   "cell_type": "code",
   "execution_count": 18,
   "metadata": {},
   "outputs": [],
   "source": [
    "# заменяем пропущенные значения в столбце 'total_income' медианным значением\n",
    "data['total_income'] = data['total_income'].fillna(total_income_median)"
   ]
  },
  {
   "cell_type": "code",
   "execution_count": 19,
   "metadata": {},
   "outputs": [],
   "source": [
    "# заменяем пропущенные значения в столбце 'days_employed' на 0.\n",
    "data['days_employed'] = data['days_employed'].fillna(0)"
   ]
  },
  {
   "cell_type": "code",
   "execution_count": 20,
   "metadata": {},
   "outputs": [
    {
     "data": {
      "text/plain": [
       "children            0\n",
       "days_employed       0\n",
       "dob_years           0\n",
       "education           0\n",
       "education_id        0\n",
       "family_status       0\n",
       "family_status_id    0\n",
       "gender              0\n",
       "income_type         0\n",
       "debt                0\n",
       "total_income        0\n",
       "purpose             0\n",
       "dtype: int64"
      ]
     },
     "execution_count": 20,
     "metadata": {},
     "output_type": "execute_result"
    }
   ],
   "source": [
    "# проверяем, как сработали оба дейсвия замены\n",
    "data.isna().sum()"
   ]
  },
  {
   "cell_type": "markdown",
   "metadata": {},
   "source": [
    "**Вывод**"
   ]
  },
  {
   "cell_type": "markdown",
   "metadata": {},
   "source": [
    "Устранены следующие пропуски:\n",
    "* В столбце уровня заработной планы 'total_income' пропущенные данные заменены медианным значением с связи с широким диапазоном полученных значений\n",
    "* Пропущенные дни стажа в колонке 'days_employed' заменены на нулевые значения, так как не учиваются в нашем исследовании"
   ]
  },
  {
   "cell_type": "markdown",
   "metadata": {},
   "source": [
    "### Замена типа данных"
   ]
  },
  {
   "cell_type": "markdown",
   "metadata": {},
   "source": [
    "В первом шаге при получении общей информации о полученных данных обнаружено, что показатели трудового стажа в днях имеют нецелочисленный тип данных:\n",
    "- days_employed       19351 non-null float64\n",
    "Также я принял решение округлить доходы заявителей в банк. Это будет нужно при дальнейшей категоризации"
   ]
  },
  {
   "cell_type": "code",
   "execution_count": 21,
   "metadata": {},
   "outputs": [
    {
     "name": "stdout",
     "output_type": "stream",
     "text": [
      "<class 'pandas.core.frame.DataFrame'>\n",
      "RangeIndex: 21525 entries, 0 to 21524\n",
      "Data columns (total 12 columns):\n",
      "children            21525 non-null int64\n",
      "days_employed       21525 non-null int64\n",
      "dob_years           21525 non-null int64\n",
      "education           21525 non-null object\n",
      "education_id        21525 non-null int64\n",
      "family_status       21525 non-null object\n",
      "family_status_id    21525 non-null int64\n",
      "gender              21525 non-null object\n",
      "income_type         21525 non-null object\n",
      "debt                21525 non-null int64\n",
      "total_income        21525 non-null int64\n",
      "purpose             21525 non-null object\n",
      "dtypes: int64(7), object(5)\n",
      "memory usage: 2.0+ MB\n"
     ]
    }
   ],
   "source": [
    "#изменение типа данных столбца 'days_employed' с float на int с помощью метода astype()\n",
    "data['days_employed'] = data['days_employed'].astype('int')\n",
    "#изменение типа данных столбца 'total_income' с float на int с помощью метода astype()\n",
    "data['total_income'] = data['total_income'].astype('int')\n",
    "\n",
    "data.head()\n",
    "data.info()"
   ]
  },
  {
   "cell_type": "markdown",
   "metadata": {},
   "source": [
    "Тип данных изменен. Но можно заметить отрицательные значения, которые нехарактерны для \"дней\". Для этого напишем фукцию, которая поможет заменить все отрицательные значения на положительные."
   ]
  },
  {
   "cell_type": "code",
   "execution_count": 22,
   "metadata": {},
   "outputs": [],
   "source": [
    "# Функция для замены отрицательного числа на модуль этого числа\n",
    "def modul_days(days):\n",
    "    if days<0:\n",
    "        days = abs(days)\n",
    "    return days"
   ]
  },
  {
   "cell_type": "markdown",
   "metadata": {},
   "source": [
    "Пробуем применить данную функцию к столбцу 'days_employed' c помощью метода .apply()"
   ]
  },
  {
   "cell_type": "code",
   "execution_count": 23,
   "metadata": {},
   "outputs": [],
   "source": [
    "data['days_employed'] = data['days_employed'].apply(modul_days)"
   ]
  },
  {
   "cell_type": "code",
   "execution_count": 24,
   "metadata": {},
   "outputs": [
    {
     "name": "stdout",
     "output_type": "stream",
     "text": [
      "Количество отрицательных значений дней в данных 0\n"
     ]
    }
   ],
   "source": [
    "# Проверим сколько отрицательных значений осталось после применения функции\n",
    "print('Количество отрицательных значений дней в данных', data[data['days_employed'] < 0].shape[0])"
   ]
  },
  {
   "cell_type": "markdown",
   "metadata": {},
   "source": [
    "**Вывод**\n",
    "\n",
    "\n",
    "* В столбце 'days_employed' изменен вещественный тип данный на целочисленный для учета колиства дней. Заменены отрицательные значения на модуль числа.\n",
    "* В столбце 'children' приведено количество детей к более реальным показателям, заменили отрицательные значения."
   ]
  },
  {
   "cell_type": "markdown",
   "metadata": {},
   "source": [
    "### Обработка дубликатов"
   ]
  },
  {
   "cell_type": "markdown",
   "metadata": {},
   "source": [
    "Дубликаты бывают неявные и явные. Предлагаю начать с неявных дубликатов, которые уже видно в Шаге 1. В колонке степени образования видно, что они записаны разным регистром. Проверим уникальные значения в этой колонке."
   ]
  },
  {
   "cell_type": "markdown",
   "metadata": {},
   "source": [
    "#### Обработка неявных дубликатов"
   ]
  },
  {
   "cell_type": "code",
   "execution_count": 25,
   "metadata": {},
   "outputs": [
    {
     "data": {
      "text/plain": [
       "array(['высшее', 'среднее', 'Среднее', 'СРЕДНЕЕ', 'ВЫСШЕЕ',\n",
       "       'неоконченное высшее', 'начальное', 'Высшее',\n",
       "       'НЕОКОНЧЕННОЕ ВЫСШЕЕ', 'Неоконченное высшее', 'НАЧАЛЬНОЕ',\n",
       "       'Начальное', 'Ученая степень', 'УЧЕНАЯ СТЕПЕНЬ', 'ученая степень'],\n",
       "      dtype=object)"
      ]
     },
     "execution_count": 25,
     "metadata": {},
     "output_type": "execute_result"
    }
   ],
   "source": [
    "#определим уникальные значения в колонке образования\n",
    "data['education'].unique()"
   ]
  },
  {
   "cell_type": "markdown",
   "metadata": {},
   "source": [
    "Такая проблема обычно появляется при заполнении данных, но это можно поправить.\n",
    "Лишние пробелы отсутствуют, поэтому можно привести все к одному нижнему регистру и посмотреть на результат"
   ]
  },
  {
   "cell_type": "code",
   "execution_count": 26,
   "metadata": {},
   "outputs": [],
   "source": [
    "# приведем значения в колонке 'education' к нижнему регистру \n",
    "data['education'] = data['education'].str.lower()"
   ]
  },
  {
   "cell_type": "markdown",
   "metadata": {},
   "source": [
    "Проверим, сколько значений осталось в колонке образования"
   ]
  },
  {
   "cell_type": "code",
   "execution_count": 27,
   "metadata": {},
   "outputs": [
    {
     "data": {
      "text/plain": [
       "array(['высшее', 'среднее', 'неоконченное высшее', 'начальное',\n",
       "       'ученая степень'], dtype=object)"
      ]
     },
     "execution_count": 27,
     "metadata": {},
     "output_type": "execute_result"
    }
   ],
   "source": [
    "data['education'].unique()"
   ]
  },
  {
   "cell_type": "markdown",
   "metadata": {},
   "source": [
    "**Отлично.** Такой результат нас устраивает: от неоконченного высшего до ученой степени, и ни одной записи с разным регистром"
   ]
  },
  {
   "cell_type": "markdown",
   "metadata": {},
   "source": [
    "#### Обработка явных дубликатов"
   ]
  },
  {
   "cell_type": "markdown",
   "metadata": {},
   "source": [
    "Для начала определим количество явных дубликатов в наших данных"
   ]
  },
  {
   "cell_type": "code",
   "execution_count": 28,
   "metadata": {},
   "outputs": [
    {
     "data": {
      "text/plain": [
       "71"
      ]
     },
     "execution_count": 28,
     "metadata": {},
     "output_type": "execute_result"
    }
   ],
   "source": [
    "# используем метод duplicated() для определения дубликатов и метод sum() для подсчета их количество\n",
    "data.duplicated().sum()"
   ]
  },
  {
   "cell_type": "code",
   "execution_count": 29,
   "metadata": {},
   "outputs": [
    {
     "data": {
      "text/html": [
       "<div>\n",
       "<style scoped>\n",
       "    .dataframe tbody tr th:only-of-type {\n",
       "        vertical-align: middle;\n",
       "    }\n",
       "\n",
       "    .dataframe tbody tr th {\n",
       "        vertical-align: top;\n",
       "    }\n",
       "\n",
       "    .dataframe thead th {\n",
       "        text-align: right;\n",
       "    }\n",
       "</style>\n",
       "<table border=\"1\" class=\"dataframe\">\n",
       "  <thead>\n",
       "    <tr style=\"text-align: right;\">\n",
       "      <th></th>\n",
       "      <th>children</th>\n",
       "      <th>days_employed</th>\n",
       "      <th>dob_years</th>\n",
       "      <th>education</th>\n",
       "      <th>education_id</th>\n",
       "      <th>family_status</th>\n",
       "      <th>family_status_id</th>\n",
       "      <th>gender</th>\n",
       "      <th>income_type</th>\n",
       "      <th>debt</th>\n",
       "      <th>total_income</th>\n",
       "      <th>purpose</th>\n",
       "    </tr>\n",
       "  </thead>\n",
       "  <tbody>\n",
       "    <tr>\n",
       "      <td>2849</td>\n",
       "      <td>0</td>\n",
       "      <td>0</td>\n",
       "      <td>41</td>\n",
       "      <td>среднее</td>\n",
       "      <td>1</td>\n",
       "      <td>женат / замужем</td>\n",
       "      <td>0</td>\n",
       "      <td>F</td>\n",
       "      <td>сотрудник</td>\n",
       "      <td>0</td>\n",
       "      <td>145017</td>\n",
       "      <td>покупка жилья для семьи</td>\n",
       "    </tr>\n",
       "    <tr>\n",
       "      <td>3290</td>\n",
       "      <td>0</td>\n",
       "      <td>0</td>\n",
       "      <td>58</td>\n",
       "      <td>среднее</td>\n",
       "      <td>1</td>\n",
       "      <td>гражданский брак</td>\n",
       "      <td>1</td>\n",
       "      <td>F</td>\n",
       "      <td>пенсионер</td>\n",
       "      <td>0</td>\n",
       "      <td>145017</td>\n",
       "      <td>сыграть свадьбу</td>\n",
       "    </tr>\n",
       "    <tr>\n",
       "      <td>4182</td>\n",
       "      <td>1</td>\n",
       "      <td>0</td>\n",
       "      <td>34</td>\n",
       "      <td>высшее</td>\n",
       "      <td>0</td>\n",
       "      <td>гражданский брак</td>\n",
       "      <td>1</td>\n",
       "      <td>F</td>\n",
       "      <td>сотрудник</td>\n",
       "      <td>0</td>\n",
       "      <td>145017</td>\n",
       "      <td>свадьба</td>\n",
       "    </tr>\n",
       "    <tr>\n",
       "      <td>4851</td>\n",
       "      <td>0</td>\n",
       "      <td>0</td>\n",
       "      <td>60</td>\n",
       "      <td>среднее</td>\n",
       "      <td>1</td>\n",
       "      <td>гражданский брак</td>\n",
       "      <td>1</td>\n",
       "      <td>F</td>\n",
       "      <td>пенсионер</td>\n",
       "      <td>0</td>\n",
       "      <td>145017</td>\n",
       "      <td>свадьба</td>\n",
       "    </tr>\n",
       "    <tr>\n",
       "      <td>5557</td>\n",
       "      <td>0</td>\n",
       "      <td>0</td>\n",
       "      <td>58</td>\n",
       "      <td>среднее</td>\n",
       "      <td>1</td>\n",
       "      <td>гражданский брак</td>\n",
       "      <td>1</td>\n",
       "      <td>F</td>\n",
       "      <td>пенсионер</td>\n",
       "      <td>0</td>\n",
       "      <td>145017</td>\n",
       "      <td>сыграть свадьбу</td>\n",
       "    </tr>\n",
       "    <tr>\n",
       "      <td>...</td>\n",
       "      <td>...</td>\n",
       "      <td>...</td>\n",
       "      <td>...</td>\n",
       "      <td>...</td>\n",
       "      <td>...</td>\n",
       "      <td>...</td>\n",
       "      <td>...</td>\n",
       "      <td>...</td>\n",
       "      <td>...</td>\n",
       "      <td>...</td>\n",
       "      <td>...</td>\n",
       "      <td>...</td>\n",
       "    </tr>\n",
       "    <tr>\n",
       "      <td>20702</td>\n",
       "      <td>0</td>\n",
       "      <td>0</td>\n",
       "      <td>64</td>\n",
       "      <td>среднее</td>\n",
       "      <td>1</td>\n",
       "      <td>женат / замужем</td>\n",
       "      <td>0</td>\n",
       "      <td>F</td>\n",
       "      <td>пенсионер</td>\n",
       "      <td>0</td>\n",
       "      <td>145017</td>\n",
       "      <td>дополнительное образование</td>\n",
       "    </tr>\n",
       "    <tr>\n",
       "      <td>21032</td>\n",
       "      <td>0</td>\n",
       "      <td>0</td>\n",
       "      <td>60</td>\n",
       "      <td>среднее</td>\n",
       "      <td>1</td>\n",
       "      <td>женат / замужем</td>\n",
       "      <td>0</td>\n",
       "      <td>F</td>\n",
       "      <td>пенсионер</td>\n",
       "      <td>0</td>\n",
       "      <td>145017</td>\n",
       "      <td>заняться образованием</td>\n",
       "    </tr>\n",
       "    <tr>\n",
       "      <td>21132</td>\n",
       "      <td>0</td>\n",
       "      <td>0</td>\n",
       "      <td>47</td>\n",
       "      <td>среднее</td>\n",
       "      <td>1</td>\n",
       "      <td>женат / замужем</td>\n",
       "      <td>0</td>\n",
       "      <td>F</td>\n",
       "      <td>сотрудник</td>\n",
       "      <td>0</td>\n",
       "      <td>145017</td>\n",
       "      <td>ремонт жилью</td>\n",
       "    </tr>\n",
       "    <tr>\n",
       "      <td>21281</td>\n",
       "      <td>1</td>\n",
       "      <td>0</td>\n",
       "      <td>30</td>\n",
       "      <td>высшее</td>\n",
       "      <td>0</td>\n",
       "      <td>женат / замужем</td>\n",
       "      <td>0</td>\n",
       "      <td>F</td>\n",
       "      <td>сотрудник</td>\n",
       "      <td>0</td>\n",
       "      <td>145017</td>\n",
       "      <td>покупка коммерческой недвижимости</td>\n",
       "    </tr>\n",
       "    <tr>\n",
       "      <td>21415</td>\n",
       "      <td>0</td>\n",
       "      <td>0</td>\n",
       "      <td>54</td>\n",
       "      <td>среднее</td>\n",
       "      <td>1</td>\n",
       "      <td>женат / замужем</td>\n",
       "      <td>0</td>\n",
       "      <td>F</td>\n",
       "      <td>пенсионер</td>\n",
       "      <td>0</td>\n",
       "      <td>145017</td>\n",
       "      <td>операции с жильем</td>\n",
       "    </tr>\n",
       "  </tbody>\n",
       "</table>\n",
       "<p>71 rows × 12 columns</p>\n",
       "</div>"
      ],
      "text/plain": [
       "       children  days_employed  dob_years education  education_id  \\\n",
       "2849          0              0         41   среднее             1   \n",
       "3290          0              0         58   среднее             1   \n",
       "4182          1              0         34    высшее             0   \n",
       "4851          0              0         60   среднее             1   \n",
       "5557          0              0         58   среднее             1   \n",
       "...         ...            ...        ...       ...           ...   \n",
       "20702         0              0         64   среднее             1   \n",
       "21032         0              0         60   среднее             1   \n",
       "21132         0              0         47   среднее             1   \n",
       "21281         1              0         30    высшее             0   \n",
       "21415         0              0         54   среднее             1   \n",
       "\n",
       "          family_status  family_status_id gender income_type  debt  \\\n",
       "2849    женат / замужем                 0      F   сотрудник     0   \n",
       "3290   гражданский брак                 1      F   пенсионер     0   \n",
       "4182   гражданский брак                 1      F   сотрудник     0   \n",
       "4851   гражданский брак                 1      F   пенсионер     0   \n",
       "5557   гражданский брак                 1      F   пенсионер     0   \n",
       "...                 ...               ...    ...         ...   ...   \n",
       "20702   женат / замужем                 0      F   пенсионер     0   \n",
       "21032   женат / замужем                 0      F   пенсионер     0   \n",
       "21132   женат / замужем                 0      F   сотрудник     0   \n",
       "21281   женат / замужем                 0      F   сотрудник     0   \n",
       "21415   женат / замужем                 0      F   пенсионер     0   \n",
       "\n",
       "       total_income                            purpose  \n",
       "2849         145017            покупка жилья для семьи  \n",
       "3290         145017                    сыграть свадьбу  \n",
       "4182         145017                            свадьба  \n",
       "4851         145017                            свадьба  \n",
       "5557         145017                    сыграть свадьбу  \n",
       "...             ...                                ...  \n",
       "20702        145017         дополнительное образование  \n",
       "21032        145017              заняться образованием  \n",
       "21132        145017                       ремонт жилью  \n",
       "21281        145017  покупка коммерческой недвижимости  \n",
       "21415        145017                  операции с жильем  \n",
       "\n",
       "[71 rows x 12 columns]"
      ]
     },
     "execution_count": 29,
     "metadata": {},
     "output_type": "execute_result"
    }
   ],
   "source": [
    "# выведем дубликаты в таблицу для просмотра\n",
    "data[data.duplicated()]"
   ]
  },
  {
   "cell_type": "code",
   "execution_count": 30,
   "metadata": {},
   "outputs": [
    {
     "name": "stdout",
     "output_type": "stream",
     "text": [
      "Количество дубликатов от общего датасета составляет 0.33%\n"
     ]
    }
   ],
   "source": [
    "print('Количество дубликатов от общего датасета составляет {:.2%}'.format(71/21525))"
   ]
  },
  {
   "cell_type": "markdown",
   "metadata": {},
   "source": [
    "Явно видно, что дубликаты определились только по стоблцу 'total_income', значения в котором мы заполняли медианной зарплатой, а может быть это вообще ошибка банка и операционист сам выбирал их уровень зарплат. Исходя из того, что количесто дубликатов составляет всего 0,33% от общего количества данных предлагаю удалить данные дубликаты.\n"
   ]
  },
  {
   "cell_type": "code",
   "execution_count": 31,
   "metadata": {},
   "outputs": [],
   "source": [
    "# удаляем дубликаты методом drop_duplicates вместе с присвоением новых индексов\n",
    "data = data.drop_duplicates().reset_index(drop=True)"
   ]
  },
  {
   "cell_type": "code",
   "execution_count": 32,
   "metadata": {},
   "outputs": [
    {
     "data": {
      "text/plain": [
       "0"
      ]
     },
     "execution_count": 32,
     "metadata": {},
     "output_type": "execute_result"
    }
   ],
   "source": [
    "# проверяем, сколько дубликатов осталось после их удаления\n",
    "data.duplicated().sum()"
   ]
  },
  {
   "cell_type": "markdown",
   "metadata": {},
   "source": [
    "**От дубликатов избавились**"
   ]
  },
  {
   "cell_type": "markdown",
   "metadata": {},
   "source": [
    "**Вывод**\n",
    "В процессе работы данных я избавился от неявных и явных дубликатов:\n",
    "* неявные дубликаты были представлены в колонке уровня образования, записанные разным регистром. Устранить данную неточность помогло присвоение нижнего регистра всей колонке;\n",
    "* явные дубликаты представлены одинаковым уровнем дохода у разных категорий заявителей. Это либо неточность, вызванная заполнением пропусков медианной зарплатой, либо ошибка операциониста, заполнявшего сведения в банке. Явные дублика составляют около 0,3% от всего набора данных, поэтому их удаление не должно привести к неточности в исследовании."
   ]
  },
  {
   "cell_type": "markdown",
   "metadata": {},
   "source": [
    "## Лемматизация"
   ]
  },
  {
   "cell_type": "markdown",
   "metadata": {},
   "source": [
    "**Для того, чтобы выделить основные категории целей кредита, необходимо пройти процесс лемматизации. Это приведение слова к его словарной форме.**\n"
   ]
  },
  {
   "cell_type": "code",
   "execution_count": 33,
   "metadata": {},
   "outputs": [
    {
     "data": {
      "text/plain": [
       "свадьба                                   791\n",
       "на проведение свадьбы                     768\n",
       "сыграть свадьбу                           765\n",
       "операции с недвижимостью                  675\n",
       "покупка коммерческой недвижимости         661\n",
       "операции с жильем                         652\n",
       "покупка жилья для сдачи                   651\n",
       "операции с коммерческой недвижимостью     650\n",
       "покупка жилья                             646\n",
       "жилье                                     646\n",
       "покупка жилья для семьи                   638\n",
       "строительство собственной недвижимости    635\n",
       "недвижимость                              633\n",
       "операции со своей недвижимостью           627\n",
       "строительство жилой недвижимости          624\n",
       "покупка недвижимости                      621\n",
       "покупка своего жилья                      620\n",
       "строительство недвижимости                619\n",
       "ремонт жилью                              607\n",
       "покупка жилой недвижимости                606\n",
       "на покупку своего автомобиля              505\n",
       "заняться высшим образованием              496\n",
       "автомобиль                                494\n",
       "сделка с подержанным автомобилем          486\n",
       "автомобили                                478\n",
       "свой автомобиль                           478\n",
       "на покупку подержанного автомобиля        478\n",
       "на покупку автомобиля                     471\n",
       "приобретение автомобиля                   461\n",
       "дополнительное образование                460\n",
       "сделка с автомобилем                      455\n",
       "высшее образование                        452\n",
       "образование                               447\n",
       "получение дополнительного образования     446\n",
       "получение образования                     442\n",
       "профильное образование                    436\n",
       "получение высшего образования             426\n",
       "заняться образованием                     408\n",
       "Name: purpose, dtype: int64"
      ]
     },
     "metadata": {},
     "output_type": "display_data"
    }
   ],
   "source": [
    "# посмотрим какие цели кредита представлены в нашей таблице и как часто\n",
    "\n",
    "display(data['purpose'].value_counts())"
   ]
  },
  {
   "cell_type": "markdown",
   "metadata": {},
   "source": [
    "Основные запросы населения - это:\n",
    "1) процессы, связанные с недвижимостью (приобретение жилья, в т.ч. под сдачу, ремонт, новое строительство и т.п.)\n",
    "\n",
    "2) процессы, связанные с автомобилем (покупка нового или б/у, и т.п.)\n",
    "\n",
    "3) получение образования\n",
    "\n",
    "4) проведение свадьбы\n",
    "\n",
    "Будем работать в этом направлении."
   ]
  },
  {
   "cell_type": "code",
   "execution_count": 34,
   "metadata": {},
   "outputs": [
    {
     "data": {
      "text/plain": [
       "array(['автомобили', 'автомобиль', 'высшее образование',\n",
       "       'дополнительное образование', 'жилье',\n",
       "       'заняться высшим образованием', 'заняться образованием',\n",
       "       'на покупку автомобиля', 'на покупку подержанного автомобиля',\n",
       "       'на покупку своего автомобиля', 'на проведение свадьбы',\n",
       "       'недвижимость', 'образование', 'операции с жильем',\n",
       "       'операции с коммерческой недвижимостью',\n",
       "       'операции с недвижимостью', 'операции со своей недвижимостью',\n",
       "       'покупка жилой недвижимости', 'покупка жилья',\n",
       "       'покупка жилья для сдачи', 'покупка жилья для семьи',\n",
       "       'покупка коммерческой недвижимости', 'покупка недвижимости',\n",
       "       'покупка своего жилья', 'получение высшего образования',\n",
       "       'получение дополнительного образования', 'получение образования',\n",
       "       'приобретение автомобиля', 'профильное образование',\n",
       "       'ремонт жилью', 'свадьба', 'свой автомобиль',\n",
       "       'сделка с автомобилем', 'сделка с подержанным автомобилем',\n",
       "       'строительство жилой недвижимости', 'строительство недвижимости',\n",
       "       'строительство собственной недвижимости', 'сыграть свадьбу'],\n",
       "      dtype=object)"
      ]
     },
     "metadata": {},
     "output_type": "display_data"
    }
   ],
   "source": [
    "# Просмотр уникальных целей кредита\n",
    "credit_purpose = data['purpose'].sort_values().unique()\n",
    "display(credit_purpose)\n"
   ]
  },
  {
   "cell_type": "markdown",
   "metadata": {},
   "source": [
    "Для удобства создадим строку уникальных значений, как в практической части курса"
   ]
  },
  {
   "cell_type": "code",
   "execution_count": 35,
   "metadata": {},
   "outputs": [
    {
     "name": "stdout",
     "output_type": "stream",
     "text": [
      "автомобили автомобиль высшее образование дополнительное образование жилье заняться высшим образованием заняться образованием на покупку автомобиля на покупку подержанного автомобиля на покупку своего автомобиля на проведение свадьбы недвижимость образование операции с жильем операции с коммерческой недвижимостью операции с недвижимостью операции со своей недвижимостью покупка жилой недвижимости покупка жилья покупка жилья для сдачи покупка жилья для семьи покупка коммерческой недвижимости покупка недвижимости покупка своего жилья получение высшего образования получение дополнительного образования получение образования приобретение автомобиля профильное образование ремонт жилью свадьба свой автомобиль сделка с автомобилем сделка с подержанным автомобилем строительство жилой недвижимости строительство недвижимости строительство собственной недвижимости сыграть свадьбу\n"
     ]
    }
   ],
   "source": [
    "# строку из списка можно сделать с помощью метода join()\n",
    "purposes = ' '.join(credit_purpose) \n",
    "print(purposes)"
   ]
  },
  {
   "cell_type": "markdown",
   "metadata": {},
   "source": [
    "* Для лемматизации воспользуемся библиотекой с функцией лемматизации на русском языке — pymystem3"
   ]
  },
  {
   "cell_type": "code",
   "execution_count": 36,
   "metadata": {},
   "outputs": [
    {
     "name": "stdout",
     "output_type": "stream",
     "text": [
      "['автомобиль', ' ', 'автомобиль', ' ', 'высокий', ' ', 'образование', ' ', 'дополнительный', ' ', 'образование', ' ', 'жилье', ' ', 'заниматься', ' ', 'высокий', ' ', 'образование', ' ', 'заниматься', ' ', 'образование', ' ', 'на', ' ', 'покупка', ' ', 'автомобиль', ' ', 'на', ' ', 'покупка', ' ', 'подержать', ' ', 'автомобиль', ' ', 'на', ' ', 'покупка', ' ', 'свой', ' ', 'автомобиль', ' ', 'на', ' ', 'проведение', ' ', 'свадьба', ' ', 'недвижимость', ' ', 'образование', ' ', 'операция', ' ', 'с', ' ', 'жилье', ' ', 'операция', ' ', 'с', ' ', 'коммерческий', ' ', 'недвижимость', ' ', 'операция', ' ', 'с', ' ', 'недвижимость', ' ', 'операция', ' ', 'со', ' ', 'свой', ' ', 'недвижимость', ' ', 'покупка', ' ', 'жилой', ' ', 'недвижимость', ' ', 'покупка', ' ', 'жилье', ' ', 'покупка', ' ', 'жилье', ' ', 'для', ' ', 'сдача', ' ', 'покупка', ' ', 'жилье', ' ', 'для', ' ', 'семья', ' ', 'покупка', ' ', 'коммерческий', ' ', 'недвижимость', ' ', 'покупка', ' ', 'недвижимость', ' ', 'покупка', ' ', 'свой', ' ', 'жилье', ' ', 'получение', ' ', 'высокий', ' ', 'образование', ' ', 'получение', ' ', 'дополнительный', ' ', 'образование', ' ', 'получение', ' ', 'образование', ' ', 'приобретение', ' ', 'автомобиль', ' ', 'профильный', ' ', 'образование', ' ', 'ремонт', ' ', 'жилье', ' ', 'свадьба', ' ', 'свой', ' ', 'автомобиль', ' ', 'сделка', ' ', 'с', ' ', 'автомобиль', ' ', 'сделка', ' ', 'с', ' ', 'подержать', ' ', 'автомобиль', ' ', 'строительство', ' ', 'жилой', ' ', 'недвижимость', ' ', 'строительство', ' ', 'недвижимость', ' ', 'строительство', ' ', 'собственный', ' ', 'недвижимость', ' ', 'сыграть', ' ', 'свадьба', '\\n']\n"
     ]
    }
   ],
   "source": [
    "# определяем леммы нашего списка\n",
    "\n",
    "m = Mystem() \n",
    "lemmas = m.lemmatize(purposes)\n",
    "print(lemmas) "
   ]
  },
  {
   "cell_type": "markdown",
   "metadata": {},
   "source": [
    "* Теперь посчитаем числа их упоминаний. Для этого вызывают специальный контейнер Counter из модуля collections."
   ]
  },
  {
   "cell_type": "code",
   "execution_count": 1,
   "metadata": {},
   "outputs": [
    {
     "ename": "NameError",
     "evalue": "name 'Counter' is not defined",
     "output_type": "error",
     "traceback": [
      "\u001b[0;31m---------------------------------------------------------------------------\u001b[0m",
      "\u001b[0;31mNameError\u001b[0m                                 Traceback (most recent call last)",
      "\u001b[0;32m/tmp/ipykernel_48/605055993.py\u001b[0m in \u001b[0;36m<module>\u001b[0;34m\u001b[0m\n\u001b[0;32m----> 1\u001b[0;31m \u001b[0mprint\u001b[0m\u001b[0;34m(\u001b[0m\u001b[0mCounter\u001b[0m\u001b[0;34m(\u001b[0m\u001b[0mlemmas\u001b[0m\u001b[0;34m)\u001b[0m\u001b[0;34m)\u001b[0m\u001b[0;34m\u001b[0m\u001b[0;34m\u001b[0m\u001b[0m\n\u001b[0m",
      "\u001b[0;31mNameError\u001b[0m: name 'Counter' is not defined"
     ]
    }
   ],
   "source": [
    "print(Counter(lemmas)) "
   ]
  },
  {
   "cell_type": "markdown",
   "metadata": {},
   "source": [
    "В результате проделланных операций мы можем для каждой категории целей кредита создать собственный словарь на основе лемматизации.\n",
    "1. Процессы, связанные с **недвижимостью**: 'недвижимость', 'жилье', 'строительство', 'коммерческий', 'жилой', 'сдача', 'ремонт';\n",
    "\n",
    "2. Процессы, связанные с **автомобилем**: 'автомобиль', 'подержать';\n",
    "\n",
    "3. Получение **образования**: 'образование', 'дополнительный', 'высокий', 'профильный';\n",
    "\n",
    "4. Проведение **свадьбы**: 'сыграть', 'проведение', 'свадьба'\n",
    "\n",
    "В данные категории не включены такие слова как **покупка**, **получение** и т.п., а также предлоги, потому что они перекликаются в разных целях и запутают процесс"
   ]
  },
  {
   "cell_type": "markdown",
   "metadata": {},
   "source": [
    "**Вывод**"
   ]
  },
  {
   "cell_type": "markdown",
   "metadata": {},
   "source": [
    "В этом разделе была проведена лемматизация - нахождение словарной формы слова. Она необходима для следующего этапа - котегорацизации данных. \n",
    "\n",
    "Результатом стали 4 основные категории целей получения кредита и присвоение каждой категории определенного списка:\n",
    "1. Процессы, связанные с недвижимостью\n",
    "\n",
    "2. Процессы, связанные с автомобилем\n",
    "\n",
    "3. Получение образования\n",
    "\n",
    "4. Проведение свадьбы"
   ]
  },
  {
   "cell_type": "markdown",
   "metadata": {},
   "source": [
    "## Категоризация данных"
   ]
  },
  {
   "cell_type": "markdown",
   "metadata": {},
   "source": [
    "Для каждой категории целей нужно создать список, для того, чтобы значение в ячейке можно было сравнить с набором, соответствующим определенной категории и присвоить этому значению категорию. \n",
    "Значение категории будет отображено в новой колонке."
   ]
  },
  {
   "cell_type": "code",
   "execution_count": 38,
   "metadata": {},
   "outputs": [],
   "source": [
    "# каждой категории создаем список\n",
    "# Процессы, связанные с недвижимостью\n",
    "the_property = [ 'недвижимость', 'жилье', 'строительство', 'коммерческий', 'жилой', 'сдача', 'ремонт']\n",
    "# Процессы, связанные с автомобилем\n",
    "cars = ['автомобиль', 'подержать']\n",
    "# Получение образования\n",
    "education = ['образование', 'дополнительный', 'высокий', 'профильный']\n",
    "# Проведение свадьбы\n",
    "wedding = ['сыграть', 'проведение', 'свадьба']"
   ]
  },
  {
   "cell_type": "markdown",
   "metadata": {},
   "source": [
    "**Итак, напишем функцию, которая принимает значение в столбце 'purpose', далее его лемматизирует, и если оно совпадает с каким-либо списком, то функция присваивает ему название категории, к которой относится данный список**"
   ]
  },
  {
   "cell_type": "code",
   "execution_count": 39,
   "metadata": {},
   "outputs": [],
   "source": [
    "def categories(purpose):\n",
    "    lemmas = m.lemmatize(purpose)\n",
    "    for lema in lemmas:\n",
    "        if lema in the_property:\n",
    "            return 'процессы, связанные с недвижимостью'\n",
    "        if lema in cars:\n",
    "            return 'процессы, связанные с автомобилем'\n",
    "        if lema in education:\n",
    "            return 'получение образования'\n",
    "        if lema in wedding:\n",
    "            return 'проведение свадьбы'"
   ]
  },
  {
   "cell_type": "markdown",
   "metadata": {},
   "source": [
    "Создадим новый столбец 'target_category' в который попадут новые значения.\n",
    "Для этого нужен метод apply(): он берёт значения столбца датафрейма и применяет к ним функцию из своего аргумента. Здесь apply() следует вызвать для столбца 'purpose', так как в нём содержатся данные, которые функция примет на вход. Аргументом метода станет сама функция categories."
   ]
  },
  {
   "cell_type": "code",
   "execution_count": 40,
   "metadata": {},
   "outputs": [],
   "source": [
    "# создаем новый столбец и применяем функцию\n",
    "data['target_category'] = data['purpose'].apply(categories)\n"
   ]
  },
  {
   "cell_type": "code",
   "execution_count": 41,
   "metadata": {
    "scrolled": true
   },
   "outputs": [
    {
     "data": {
      "text/html": [
       "<div>\n",
       "<style scoped>\n",
       "    .dataframe tbody tr th:only-of-type {\n",
       "        vertical-align: middle;\n",
       "    }\n",
       "\n",
       "    .dataframe tbody tr th {\n",
       "        vertical-align: top;\n",
       "    }\n",
       "\n",
       "    .dataframe thead th {\n",
       "        text-align: right;\n",
       "    }\n",
       "</style>\n",
       "<table border=\"1\" class=\"dataframe\">\n",
       "  <thead>\n",
       "    <tr style=\"text-align: right;\">\n",
       "      <th></th>\n",
       "      <th>children</th>\n",
       "      <th>days_employed</th>\n",
       "      <th>dob_years</th>\n",
       "      <th>education</th>\n",
       "      <th>education_id</th>\n",
       "      <th>family_status</th>\n",
       "      <th>family_status_id</th>\n",
       "      <th>gender</th>\n",
       "      <th>income_type</th>\n",
       "      <th>debt</th>\n",
       "      <th>total_income</th>\n",
       "      <th>purpose</th>\n",
       "      <th>target_category</th>\n",
       "    </tr>\n",
       "  </thead>\n",
       "  <tbody>\n",
       "    <tr>\n",
       "      <td>0</td>\n",
       "      <td>1</td>\n",
       "      <td>8437</td>\n",
       "      <td>42</td>\n",
       "      <td>высшее</td>\n",
       "      <td>0</td>\n",
       "      <td>женат / замужем</td>\n",
       "      <td>0</td>\n",
       "      <td>F</td>\n",
       "      <td>сотрудник</td>\n",
       "      <td>0</td>\n",
       "      <td>253875</td>\n",
       "      <td>покупка жилья</td>\n",
       "      <td>процессы, связанные с недвижимостью</td>\n",
       "    </tr>\n",
       "    <tr>\n",
       "      <td>1</td>\n",
       "      <td>1</td>\n",
       "      <td>4024</td>\n",
       "      <td>36</td>\n",
       "      <td>среднее</td>\n",
       "      <td>1</td>\n",
       "      <td>женат / замужем</td>\n",
       "      <td>0</td>\n",
       "      <td>F</td>\n",
       "      <td>сотрудник</td>\n",
       "      <td>0</td>\n",
       "      <td>112080</td>\n",
       "      <td>приобретение автомобиля</td>\n",
       "      <td>процессы, связанные с автомобилем</td>\n",
       "    </tr>\n",
       "    <tr>\n",
       "      <td>2</td>\n",
       "      <td>0</td>\n",
       "      <td>5623</td>\n",
       "      <td>33</td>\n",
       "      <td>среднее</td>\n",
       "      <td>1</td>\n",
       "      <td>женат / замужем</td>\n",
       "      <td>0</td>\n",
       "      <td>M</td>\n",
       "      <td>сотрудник</td>\n",
       "      <td>0</td>\n",
       "      <td>145885</td>\n",
       "      <td>покупка жилья</td>\n",
       "      <td>процессы, связанные с недвижимостью</td>\n",
       "    </tr>\n",
       "    <tr>\n",
       "      <td>3</td>\n",
       "      <td>3</td>\n",
       "      <td>4124</td>\n",
       "      <td>32</td>\n",
       "      <td>среднее</td>\n",
       "      <td>1</td>\n",
       "      <td>женат / замужем</td>\n",
       "      <td>0</td>\n",
       "      <td>M</td>\n",
       "      <td>сотрудник</td>\n",
       "      <td>0</td>\n",
       "      <td>267628</td>\n",
       "      <td>дополнительное образование</td>\n",
       "      <td>получение образования</td>\n",
       "    </tr>\n",
       "    <tr>\n",
       "      <td>4</td>\n",
       "      <td>0</td>\n",
       "      <td>340266</td>\n",
       "      <td>53</td>\n",
       "      <td>среднее</td>\n",
       "      <td>1</td>\n",
       "      <td>гражданский брак</td>\n",
       "      <td>1</td>\n",
       "      <td>F</td>\n",
       "      <td>пенсионер</td>\n",
       "      <td>0</td>\n",
       "      <td>158616</td>\n",
       "      <td>сыграть свадьбу</td>\n",
       "      <td>проведение свадьбы</td>\n",
       "    </tr>\n",
       "  </tbody>\n",
       "</table>\n",
       "</div>"
      ],
      "text/plain": [
       "   children  days_employed  dob_years education  education_id  \\\n",
       "0         1           8437         42    высшее             0   \n",
       "1         1           4024         36   среднее             1   \n",
       "2         0           5623         33   среднее             1   \n",
       "3         3           4124         32   среднее             1   \n",
       "4         0         340266         53   среднее             1   \n",
       "\n",
       "      family_status  family_status_id gender income_type  debt  total_income  \\\n",
       "0   женат / замужем                 0      F   сотрудник     0        253875   \n",
       "1   женат / замужем                 0      F   сотрудник     0        112080   \n",
       "2   женат / замужем                 0      M   сотрудник     0        145885   \n",
       "3   женат / замужем                 0      M   сотрудник     0        267628   \n",
       "4  гражданский брак                 1      F   пенсионер     0        158616   \n",
       "\n",
       "                      purpose                      target_category  \n",
       "0               покупка жилья  процессы, связанные с недвижимостью  \n",
       "1     приобретение автомобиля    процессы, связанные с автомобилем  \n",
       "2               покупка жилья  процессы, связанные с недвижимостью  \n",
       "3  дополнительное образование                получение образования  \n",
       "4             сыграть свадьбу                   проведение свадьбы  "
      ]
     },
     "metadata": {},
     "output_type": "display_data"
    }
   ],
   "source": [
    "display(data.head())"
   ]
  },
  {
   "cell_type": "markdown",
   "metadata": {},
   "source": [
    "* Для дальнейше работы необходимо провести категоризацию по уровню дохода"
   ]
  },
  {
   "cell_type": "markdown",
   "metadata": {},
   "source": [
    "Для данной цели воспользуемся методом **describe()**, который покажет нам в каком процентном соотношении распределены доходы в нашем датасете"
   ]
  },
  {
   "cell_type": "code",
   "execution_count": 42,
   "metadata": {
    "scrolled": false
   },
   "outputs": [
    {
     "data": {
      "text/plain": [
       "count    2.145400e+04\n",
       "mean     1.652256e+05\n",
       "std      9.802102e+04\n",
       "min      2.066700e+04\n",
       "25%      1.076230e+05\n",
       "50%      1.450170e+05\n",
       "75%      1.958132e+05\n",
       "max      2.265604e+06\n",
       "Name: total_income, dtype: float64"
      ]
     },
     "metadata": {},
     "output_type": "display_data"
    },
    {
     "data": {
      "text/plain": [
       "20667.0"
      ]
     },
     "metadata": {},
     "output_type": "display_data"
    }
   ],
   "source": [
    "#применяем метод describe() и сохраняем полученный series в money_cat\n",
    "money_cat = data.describe()['total_income']\n",
    "display(money_cat)\n",
    "display(money_cat['min'])\n"
   ]
  },
  {
   "cell_type": "code",
   "execution_count": 43,
   "metadata": {},
   "outputs": [],
   "source": [
    "# по аналогии с предыдущей функцией напишем функцию categories_money, которая принимает значение из столбца total_income и \n",
    "# исходя из распределения доходов присваивает определенную категорию\n",
    "def categories_money(money):\n",
    "    if money<=money_cat['25%']:\n",
    "        return 'низкий доход'\n",
    "    if money_cat['25%']<=money<=money_cat['50%']:\n",
    "        return 'средний доход'\n",
    "    if money_cat['50%']<=money<=money_cat['75%']:\n",
    "        return 'доход выше среднего'\n",
    "    if money_cat['75%']<=money:\n",
    "        return 'высокий доход'\n",
    "           "
   ]
  },
  {
   "cell_type": "markdown",
   "metadata": {},
   "source": [
    "Чтобы было понятно, доходы я разделил на **4** категории:\n",
    "1. Низкий доход (меньше 107 тыс./месяц), то что в money_cat до 25%\n",
    "2. Средний доход (от 107 до 145 тыс./месяц), то что в money_cat до 50%\n",
    "3. Доход выше среднего (от 145 до 195 тыс./месяц)\n",
    "4. Высокий доход (от 195 тыс./месяц)"
   ]
  },
  {
   "cell_type": "code",
   "execution_count": 44,
   "metadata": {},
   "outputs": [],
   "source": [
    "# создаем новый столбец 'money_category' и применяем функцию\n",
    "data['money_category'] = data['total_income'].apply(categories_money)\n"
   ]
  },
  {
   "cell_type": "code",
   "execution_count": 45,
   "metadata": {
    "scrolled": true
   },
   "outputs": [
    {
     "data": {
      "text/html": [
       "<div>\n",
       "<style scoped>\n",
       "    .dataframe tbody tr th:only-of-type {\n",
       "        vertical-align: middle;\n",
       "    }\n",
       "\n",
       "    .dataframe tbody tr th {\n",
       "        vertical-align: top;\n",
       "    }\n",
       "\n",
       "    .dataframe thead th {\n",
       "        text-align: right;\n",
       "    }\n",
       "</style>\n",
       "<table border=\"1\" class=\"dataframe\">\n",
       "  <thead>\n",
       "    <tr style=\"text-align: right;\">\n",
       "      <th></th>\n",
       "      <th>children</th>\n",
       "      <th>days_employed</th>\n",
       "      <th>dob_years</th>\n",
       "      <th>education</th>\n",
       "      <th>education_id</th>\n",
       "      <th>family_status</th>\n",
       "      <th>family_status_id</th>\n",
       "      <th>gender</th>\n",
       "      <th>income_type</th>\n",
       "      <th>debt</th>\n",
       "      <th>total_income</th>\n",
       "      <th>purpose</th>\n",
       "      <th>target_category</th>\n",
       "      <th>money_category</th>\n",
       "    </tr>\n",
       "  </thead>\n",
       "  <tbody>\n",
       "    <tr>\n",
       "      <td>0</td>\n",
       "      <td>1</td>\n",
       "      <td>8437</td>\n",
       "      <td>42</td>\n",
       "      <td>высшее</td>\n",
       "      <td>0</td>\n",
       "      <td>женат / замужем</td>\n",
       "      <td>0</td>\n",
       "      <td>F</td>\n",
       "      <td>сотрудник</td>\n",
       "      <td>0</td>\n",
       "      <td>253875</td>\n",
       "      <td>покупка жилья</td>\n",
       "      <td>процессы, связанные с недвижимостью</td>\n",
       "      <td>высокий доход</td>\n",
       "    </tr>\n",
       "    <tr>\n",
       "      <td>1</td>\n",
       "      <td>1</td>\n",
       "      <td>4024</td>\n",
       "      <td>36</td>\n",
       "      <td>среднее</td>\n",
       "      <td>1</td>\n",
       "      <td>женат / замужем</td>\n",
       "      <td>0</td>\n",
       "      <td>F</td>\n",
       "      <td>сотрудник</td>\n",
       "      <td>0</td>\n",
       "      <td>112080</td>\n",
       "      <td>приобретение автомобиля</td>\n",
       "      <td>процессы, связанные с автомобилем</td>\n",
       "      <td>средний доход</td>\n",
       "    </tr>\n",
       "    <tr>\n",
       "      <td>2</td>\n",
       "      <td>0</td>\n",
       "      <td>5623</td>\n",
       "      <td>33</td>\n",
       "      <td>среднее</td>\n",
       "      <td>1</td>\n",
       "      <td>женат / замужем</td>\n",
       "      <td>0</td>\n",
       "      <td>M</td>\n",
       "      <td>сотрудник</td>\n",
       "      <td>0</td>\n",
       "      <td>145885</td>\n",
       "      <td>покупка жилья</td>\n",
       "      <td>процессы, связанные с недвижимостью</td>\n",
       "      <td>доход выше среднего</td>\n",
       "    </tr>\n",
       "    <tr>\n",
       "      <td>3</td>\n",
       "      <td>3</td>\n",
       "      <td>4124</td>\n",
       "      <td>32</td>\n",
       "      <td>среднее</td>\n",
       "      <td>1</td>\n",
       "      <td>женат / замужем</td>\n",
       "      <td>0</td>\n",
       "      <td>M</td>\n",
       "      <td>сотрудник</td>\n",
       "      <td>0</td>\n",
       "      <td>267628</td>\n",
       "      <td>дополнительное образование</td>\n",
       "      <td>получение образования</td>\n",
       "      <td>высокий доход</td>\n",
       "    </tr>\n",
       "    <tr>\n",
       "      <td>4</td>\n",
       "      <td>0</td>\n",
       "      <td>340266</td>\n",
       "      <td>53</td>\n",
       "      <td>среднее</td>\n",
       "      <td>1</td>\n",
       "      <td>гражданский брак</td>\n",
       "      <td>1</td>\n",
       "      <td>F</td>\n",
       "      <td>пенсионер</td>\n",
       "      <td>0</td>\n",
       "      <td>158616</td>\n",
       "      <td>сыграть свадьбу</td>\n",
       "      <td>проведение свадьбы</td>\n",
       "      <td>доход выше среднего</td>\n",
       "    </tr>\n",
       "    <tr>\n",
       "      <td>5</td>\n",
       "      <td>0</td>\n",
       "      <td>926</td>\n",
       "      <td>27</td>\n",
       "      <td>высшее</td>\n",
       "      <td>0</td>\n",
       "      <td>гражданский брак</td>\n",
       "      <td>1</td>\n",
       "      <td>M</td>\n",
       "      <td>компаньон</td>\n",
       "      <td>0</td>\n",
       "      <td>255763</td>\n",
       "      <td>покупка жилья</td>\n",
       "      <td>процессы, связанные с недвижимостью</td>\n",
       "      <td>высокий доход</td>\n",
       "    </tr>\n",
       "    <tr>\n",
       "      <td>6</td>\n",
       "      <td>0</td>\n",
       "      <td>2879</td>\n",
       "      <td>43</td>\n",
       "      <td>высшее</td>\n",
       "      <td>0</td>\n",
       "      <td>женат / замужем</td>\n",
       "      <td>0</td>\n",
       "      <td>F</td>\n",
       "      <td>компаньон</td>\n",
       "      <td>0</td>\n",
       "      <td>240525</td>\n",
       "      <td>операции с жильем</td>\n",
       "      <td>процессы, связанные с недвижимостью</td>\n",
       "      <td>высокий доход</td>\n",
       "    </tr>\n",
       "    <tr>\n",
       "      <td>7</td>\n",
       "      <td>0</td>\n",
       "      <td>152</td>\n",
       "      <td>50</td>\n",
       "      <td>среднее</td>\n",
       "      <td>1</td>\n",
       "      <td>женат / замужем</td>\n",
       "      <td>0</td>\n",
       "      <td>M</td>\n",
       "      <td>сотрудник</td>\n",
       "      <td>0</td>\n",
       "      <td>135823</td>\n",
       "      <td>образование</td>\n",
       "      <td>получение образования</td>\n",
       "      <td>средний доход</td>\n",
       "    </tr>\n",
       "    <tr>\n",
       "      <td>8</td>\n",
       "      <td>2</td>\n",
       "      <td>6929</td>\n",
       "      <td>35</td>\n",
       "      <td>высшее</td>\n",
       "      <td>0</td>\n",
       "      <td>гражданский брак</td>\n",
       "      <td>1</td>\n",
       "      <td>F</td>\n",
       "      <td>сотрудник</td>\n",
       "      <td>0</td>\n",
       "      <td>95856</td>\n",
       "      <td>на проведение свадьбы</td>\n",
       "      <td>проведение свадьбы</td>\n",
       "      <td>низкий доход</td>\n",
       "    </tr>\n",
       "    <tr>\n",
       "      <td>9</td>\n",
       "      <td>0</td>\n",
       "      <td>2188</td>\n",
       "      <td>41</td>\n",
       "      <td>среднее</td>\n",
       "      <td>1</td>\n",
       "      <td>женат / замужем</td>\n",
       "      <td>0</td>\n",
       "      <td>M</td>\n",
       "      <td>сотрудник</td>\n",
       "      <td>0</td>\n",
       "      <td>144425</td>\n",
       "      <td>покупка жилья для семьи</td>\n",
       "      <td>процессы, связанные с недвижимостью</td>\n",
       "      <td>средний доход</td>\n",
       "    </tr>\n",
       "    <tr>\n",
       "      <td>10</td>\n",
       "      <td>2</td>\n",
       "      <td>4171</td>\n",
       "      <td>36</td>\n",
       "      <td>высшее</td>\n",
       "      <td>0</td>\n",
       "      <td>женат / замужем</td>\n",
       "      <td>0</td>\n",
       "      <td>M</td>\n",
       "      <td>компаньон</td>\n",
       "      <td>0</td>\n",
       "      <td>113943</td>\n",
       "      <td>покупка недвижимости</td>\n",
       "      <td>процессы, связанные с недвижимостью</td>\n",
       "      <td>средний доход</td>\n",
       "    </tr>\n",
       "    <tr>\n",
       "      <td>11</td>\n",
       "      <td>0</td>\n",
       "      <td>792</td>\n",
       "      <td>40</td>\n",
       "      <td>среднее</td>\n",
       "      <td>1</td>\n",
       "      <td>женат / замужем</td>\n",
       "      <td>0</td>\n",
       "      <td>F</td>\n",
       "      <td>сотрудник</td>\n",
       "      <td>0</td>\n",
       "      <td>77069</td>\n",
       "      <td>покупка коммерческой недвижимости</td>\n",
       "      <td>процессы, связанные с недвижимостью</td>\n",
       "      <td>низкий доход</td>\n",
       "    </tr>\n",
       "    <tr>\n",
       "      <td>12</td>\n",
       "      <td>0</td>\n",
       "      <td>0</td>\n",
       "      <td>65</td>\n",
       "      <td>среднее</td>\n",
       "      <td>1</td>\n",
       "      <td>гражданский брак</td>\n",
       "      <td>1</td>\n",
       "      <td>M</td>\n",
       "      <td>пенсионер</td>\n",
       "      <td>0</td>\n",
       "      <td>145017</td>\n",
       "      <td>сыграть свадьбу</td>\n",
       "      <td>проведение свадьбы</td>\n",
       "      <td>средний доход</td>\n",
       "    </tr>\n",
       "    <tr>\n",
       "      <td>13</td>\n",
       "      <td>0</td>\n",
       "      <td>1846</td>\n",
       "      <td>54</td>\n",
       "      <td>неоконченное высшее</td>\n",
       "      <td>2</td>\n",
       "      <td>женат / замужем</td>\n",
       "      <td>0</td>\n",
       "      <td>F</td>\n",
       "      <td>сотрудник</td>\n",
       "      <td>0</td>\n",
       "      <td>130458</td>\n",
       "      <td>приобретение автомобиля</td>\n",
       "      <td>процессы, связанные с автомобилем</td>\n",
       "      <td>средний доход</td>\n",
       "    </tr>\n",
       "    <tr>\n",
       "      <td>14</td>\n",
       "      <td>0</td>\n",
       "      <td>1844</td>\n",
       "      <td>56</td>\n",
       "      <td>высшее</td>\n",
       "      <td>0</td>\n",
       "      <td>гражданский брак</td>\n",
       "      <td>1</td>\n",
       "      <td>F</td>\n",
       "      <td>компаньон</td>\n",
       "      <td>1</td>\n",
       "      <td>165127</td>\n",
       "      <td>покупка жилой недвижимости</td>\n",
       "      <td>процессы, связанные с недвижимостью</td>\n",
       "      <td>доход выше среднего</td>\n",
       "    </tr>\n",
       "    <tr>\n",
       "      <td>15</td>\n",
       "      <td>1</td>\n",
       "      <td>972</td>\n",
       "      <td>26</td>\n",
       "      <td>среднее</td>\n",
       "      <td>1</td>\n",
       "      <td>женат / замужем</td>\n",
       "      <td>0</td>\n",
       "      <td>F</td>\n",
       "      <td>сотрудник</td>\n",
       "      <td>0</td>\n",
       "      <td>116820</td>\n",
       "      <td>строительство собственной недвижимости</td>\n",
       "      <td>процессы, связанные с недвижимостью</td>\n",
       "      <td>средний доход</td>\n",
       "    </tr>\n",
       "    <tr>\n",
       "      <td>16</td>\n",
       "      <td>0</td>\n",
       "      <td>1719</td>\n",
       "      <td>35</td>\n",
       "      <td>среднее</td>\n",
       "      <td>1</td>\n",
       "      <td>женат / замужем</td>\n",
       "      <td>0</td>\n",
       "      <td>F</td>\n",
       "      <td>сотрудник</td>\n",
       "      <td>0</td>\n",
       "      <td>289202</td>\n",
       "      <td>недвижимость</td>\n",
       "      <td>процессы, связанные с недвижимостью</td>\n",
       "      <td>высокий доход</td>\n",
       "    </tr>\n",
       "    <tr>\n",
       "      <td>17</td>\n",
       "      <td>0</td>\n",
       "      <td>2369</td>\n",
       "      <td>33</td>\n",
       "      <td>высшее</td>\n",
       "      <td>0</td>\n",
       "      <td>гражданский брак</td>\n",
       "      <td>1</td>\n",
       "      <td>M</td>\n",
       "      <td>сотрудник</td>\n",
       "      <td>0</td>\n",
       "      <td>90410</td>\n",
       "      <td>строительство недвижимости</td>\n",
       "      <td>процессы, связанные с недвижимостью</td>\n",
       "      <td>низкий доход</td>\n",
       "    </tr>\n",
       "    <tr>\n",
       "      <td>18</td>\n",
       "      <td>0</td>\n",
       "      <td>400281</td>\n",
       "      <td>53</td>\n",
       "      <td>среднее</td>\n",
       "      <td>1</td>\n",
       "      <td>вдовец / вдова</td>\n",
       "      <td>2</td>\n",
       "      <td>F</td>\n",
       "      <td>пенсионер</td>\n",
       "      <td>0</td>\n",
       "      <td>56823</td>\n",
       "      <td>на покупку подержанного автомобиля</td>\n",
       "      <td>процессы, связанные с автомобилем</td>\n",
       "      <td>низкий доход</td>\n",
       "    </tr>\n",
       "    <tr>\n",
       "      <td>19</td>\n",
       "      <td>0</td>\n",
       "      <td>10038</td>\n",
       "      <td>48</td>\n",
       "      <td>среднее</td>\n",
       "      <td>1</td>\n",
       "      <td>в разводе</td>\n",
       "      <td>3</td>\n",
       "      <td>F</td>\n",
       "      <td>сотрудник</td>\n",
       "      <td>0</td>\n",
       "      <td>242831</td>\n",
       "      <td>на покупку своего автомобиля</td>\n",
       "      <td>процессы, связанные с автомобилем</td>\n",
       "      <td>высокий доход</td>\n",
       "    </tr>\n",
       "  </tbody>\n",
       "</table>\n",
       "</div>"
      ],
      "text/plain": [
       "    children  days_employed  dob_years            education  education_id  \\\n",
       "0          1           8437         42               высшее             0   \n",
       "1          1           4024         36              среднее             1   \n",
       "2          0           5623         33              среднее             1   \n",
       "3          3           4124         32              среднее             1   \n",
       "4          0         340266         53              среднее             1   \n",
       "5          0            926         27               высшее             0   \n",
       "6          0           2879         43               высшее             0   \n",
       "7          0            152         50              среднее             1   \n",
       "8          2           6929         35               высшее             0   \n",
       "9          0           2188         41              среднее             1   \n",
       "10         2           4171         36               высшее             0   \n",
       "11         0            792         40              среднее             1   \n",
       "12         0              0         65              среднее             1   \n",
       "13         0           1846         54  неоконченное высшее             2   \n",
       "14         0           1844         56               высшее             0   \n",
       "15         1            972         26              среднее             1   \n",
       "16         0           1719         35              среднее             1   \n",
       "17         0           2369         33               высшее             0   \n",
       "18         0         400281         53              среднее             1   \n",
       "19         0          10038         48              среднее             1   \n",
       "\n",
       "       family_status  family_status_id gender income_type  debt  total_income  \\\n",
       "0    женат / замужем                 0      F   сотрудник     0        253875   \n",
       "1    женат / замужем                 0      F   сотрудник     0        112080   \n",
       "2    женат / замужем                 0      M   сотрудник     0        145885   \n",
       "3    женат / замужем                 0      M   сотрудник     0        267628   \n",
       "4   гражданский брак                 1      F   пенсионер     0        158616   \n",
       "5   гражданский брак                 1      M   компаньон     0        255763   \n",
       "6    женат / замужем                 0      F   компаньон     0        240525   \n",
       "7    женат / замужем                 0      M   сотрудник     0        135823   \n",
       "8   гражданский брак                 1      F   сотрудник     0         95856   \n",
       "9    женат / замужем                 0      M   сотрудник     0        144425   \n",
       "10   женат / замужем                 0      M   компаньон     0        113943   \n",
       "11   женат / замужем                 0      F   сотрудник     0         77069   \n",
       "12  гражданский брак                 1      M   пенсионер     0        145017   \n",
       "13   женат / замужем                 0      F   сотрудник     0        130458   \n",
       "14  гражданский брак                 1      F   компаньон     1        165127   \n",
       "15   женат / замужем                 0      F   сотрудник     0        116820   \n",
       "16   женат / замужем                 0      F   сотрудник     0        289202   \n",
       "17  гражданский брак                 1      M   сотрудник     0         90410   \n",
       "18    вдовец / вдова                 2      F   пенсионер     0         56823   \n",
       "19         в разводе                 3      F   сотрудник     0        242831   \n",
       "\n",
       "                                   purpose  \\\n",
       "0                            покупка жилья   \n",
       "1                  приобретение автомобиля   \n",
       "2                            покупка жилья   \n",
       "3               дополнительное образование   \n",
       "4                          сыграть свадьбу   \n",
       "5                            покупка жилья   \n",
       "6                        операции с жильем   \n",
       "7                              образование   \n",
       "8                    на проведение свадьбы   \n",
       "9                  покупка жилья для семьи   \n",
       "10                    покупка недвижимости   \n",
       "11       покупка коммерческой недвижимости   \n",
       "12                         сыграть свадьбу   \n",
       "13                 приобретение автомобиля   \n",
       "14              покупка жилой недвижимости   \n",
       "15  строительство собственной недвижимости   \n",
       "16                            недвижимость   \n",
       "17              строительство недвижимости   \n",
       "18      на покупку подержанного автомобиля   \n",
       "19            на покупку своего автомобиля   \n",
       "\n",
       "                        target_category       money_category  \n",
       "0   процессы, связанные с недвижимостью        высокий доход  \n",
       "1     процессы, связанные с автомобилем        средний доход  \n",
       "2   процессы, связанные с недвижимостью  доход выше среднего  \n",
       "3                 получение образования        высокий доход  \n",
       "4                    проведение свадьбы  доход выше среднего  \n",
       "5   процессы, связанные с недвижимостью        высокий доход  \n",
       "6   процессы, связанные с недвижимостью        высокий доход  \n",
       "7                 получение образования        средний доход  \n",
       "8                    проведение свадьбы         низкий доход  \n",
       "9   процессы, связанные с недвижимостью        средний доход  \n",
       "10  процессы, связанные с недвижимостью        средний доход  \n",
       "11  процессы, связанные с недвижимостью         низкий доход  \n",
       "12                   проведение свадьбы        средний доход  \n",
       "13    процессы, связанные с автомобилем        средний доход  \n",
       "14  процессы, связанные с недвижимостью  доход выше среднего  \n",
       "15  процессы, связанные с недвижимостью        средний доход  \n",
       "16  процессы, связанные с недвижимостью        высокий доход  \n",
       "17  процессы, связанные с недвижимостью         низкий доход  \n",
       "18    процессы, связанные с автомобилем         низкий доход  \n",
       "19    процессы, связанные с автомобилем        высокий доход  "
      ]
     },
     "metadata": {},
     "output_type": "display_data"
    }
   ],
   "source": [
    "display(data.head(20))"
   ]
  },
  {
   "cell_type": "markdown",
   "metadata": {},
   "source": [
    "**Вывод**"
   ]
  },
  {
   "cell_type": "markdown",
   "metadata": {},
   "source": [
    "В данном разделе мы для каждой категории создали список определенных ключевых значений. Написали функцию **categories**, которая принимает значение в колонке 'purpose' и после лемматизации присваивает ему определенную категорию, сохраняя ее в новой колонке 'target_category'. \n",
    "Разделили доходы населения на 4 категории, написали функцию **categories_money**, которая исходя из значения дохода присваивает одну из четырех категорий. Результат сохраняется в колонке 'money_category'.\n",
    "\n",
    "Для работы функции с определенным столбцом был использован метод apply(), работа которого представлена выше в проекте.\n",
    "\n",
    "Результатом работы стали новые столбцы в датафреймы с отображением категории цели и категории доходов заявителей"
   ]
  },
  {
   "cell_type": "markdown",
   "metadata": {},
   "source": [
    "## Ответим на вопросы"
   ]
  },
  {
   "cell_type": "markdown",
   "metadata": {},
   "source": [
    "### Есть ли зависимость между наличием детей и возвратом кредита в срок?"
   ]
  },
  {
   "cell_type": "markdown",
   "metadata": {},
   "source": [
    "* Для начала я отфильтровал значения в колонке `children`, чтобы посмотреть, как часто встречается та или иная категория заявителей в банк с детьми или без"
   ]
  },
  {
   "cell_type": "code",
   "execution_count": 46,
   "metadata": {
    "scrolled": true
   },
   "outputs": [
    {
     "data": {
      "text/plain": [
       "0    14091\n",
       "1     4855\n",
       "2     2128\n",
       "3      330\n",
       "4       41\n",
       "5        9\n",
       "Name: children, dtype: int64"
      ]
     },
     "execution_count": 46,
     "metadata": {},
     "output_type": "execute_result"
    }
   ],
   "source": [
    "# создаем series по количеству заявителей с детьми или без\n",
    "data['children'].value_counts()"
   ]
  },
  {
   "cell_type": "markdown",
   "metadata": {},
   "source": [
    "* Далее с помощью метода pivot_table() мы создаем сводную таблицу, где отражено следующее:\n",
    "\n",
    "    1. `count debt` - показывает количество заявителей с детьми или без;\n",
    "    2. `mean debt` - показывает какая доля из этой категории имеет задолженность по возврату кредита."
   ]
  },
  {
   "cell_type": "code",
   "execution_count": 47,
   "metadata": {
    "scrolled": true
   },
   "outputs": [
    {
     "data": {
      "text/html": [
       "<div>\n",
       "<style scoped>\n",
       "    .dataframe tbody tr th:only-of-type {\n",
       "        vertical-align: middle;\n",
       "    }\n",
       "\n",
       "    .dataframe tbody tr th {\n",
       "        vertical-align: top;\n",
       "    }\n",
       "\n",
       "    .dataframe thead tr th {\n",
       "        text-align: left;\n",
       "    }\n",
       "\n",
       "    .dataframe thead tr:last-of-type th {\n",
       "        text-align: right;\n",
       "    }\n",
       "</style>\n",
       "<table border=\"1\" class=\"dataframe\">\n",
       "  <thead>\n",
       "    <tr>\n",
       "      <th></th>\n",
       "      <th>count</th>\n",
       "      <th>mean</th>\n",
       "    </tr>\n",
       "    <tr>\n",
       "      <th></th>\n",
       "      <th>debt</th>\n",
       "      <th>debt</th>\n",
       "    </tr>\n",
       "    <tr>\n",
       "      <th>children</th>\n",
       "      <th></th>\n",
       "      <th></th>\n",
       "    </tr>\n",
       "  </thead>\n",
       "  <tbody>\n",
       "    <tr>\n",
       "      <td>0</td>\n",
       "      <td>14091</td>\n",
       "      <td>0.075438</td>\n",
       "    </tr>\n",
       "    <tr>\n",
       "      <td>1</td>\n",
       "      <td>4855</td>\n",
       "      <td>0.091658</td>\n",
       "    </tr>\n",
       "    <tr>\n",
       "      <td>2</td>\n",
       "      <td>2128</td>\n",
       "      <td>0.094925</td>\n",
       "    </tr>\n",
       "    <tr>\n",
       "      <td>3</td>\n",
       "      <td>330</td>\n",
       "      <td>0.081818</td>\n",
       "    </tr>\n",
       "    <tr>\n",
       "      <td>4</td>\n",
       "      <td>41</td>\n",
       "      <td>0.097561</td>\n",
       "    </tr>\n",
       "    <tr>\n",
       "      <td>5</td>\n",
       "      <td>9</td>\n",
       "      <td>0.000000</td>\n",
       "    </tr>\n",
       "  </tbody>\n",
       "</table>\n",
       "</div>"
      ],
      "text/plain": [
       "          count      mean\n",
       "           debt      debt\n",
       "children                 \n",
       "0         14091  0.075438\n",
       "1          4855  0.091658\n",
       "2          2128  0.094925\n",
       "3           330  0.081818\n",
       "4            41  0.097561\n",
       "5             9  0.000000"
      ]
     },
     "execution_count": 47,
     "metadata": {},
     "output_type": "execute_result"
    }
   ],
   "source": [
    "# создаем первую сводную таблицу \n",
    "data_pivot = data.pivot_table(index=['children'], values='debt', aggfunc=['count', 'mean'])\n",
    "data_pivot"
   ]
  },
  {
   "cell_type": "markdown",
   "metadata": {},
   "source": [
    "* Т.е. из 14 тыс. заявителей без детей 7,5% имеет задолженность перед банком"
   ]
  },
  {
   "cell_type": "code",
   "execution_count": 48,
   "metadata": {},
   "outputs": [
    {
     "data": {
      "text/html": [
       "<div>\n",
       "<style scoped>\n",
       "    .dataframe tbody tr th:only-of-type {\n",
       "        vertical-align: middle;\n",
       "    }\n",
       "\n",
       "    .dataframe tbody tr th {\n",
       "        vertical-align: top;\n",
       "    }\n",
       "\n",
       "    .dataframe thead tr th {\n",
       "        text-align: left;\n",
       "    }\n",
       "\n",
       "    .dataframe thead tr:last-of-type th {\n",
       "        text-align: right;\n",
       "    }\n",
       "</style>\n",
       "<table border=\"1\" class=\"dataframe\">\n",
       "  <thead>\n",
       "    <tr>\n",
       "      <th></th>\n",
       "      <th>count</th>\n",
       "      <th>mean</th>\n",
       "      <th>percentage_of_arrears,%</th>\n",
       "    </tr>\n",
       "    <tr>\n",
       "      <th></th>\n",
       "      <th>debt</th>\n",
       "      <th>debt</th>\n",
       "      <th></th>\n",
       "    </tr>\n",
       "    <tr>\n",
       "      <th>children</th>\n",
       "      <th></th>\n",
       "      <th></th>\n",
       "      <th></th>\n",
       "    </tr>\n",
       "  </thead>\n",
       "  <tbody>\n",
       "    <tr>\n",
       "      <td>0</td>\n",
       "      <td>14091</td>\n",
       "      <td>0.075438</td>\n",
       "      <td>7.543822</td>\n",
       "    </tr>\n",
       "    <tr>\n",
       "      <td>1</td>\n",
       "      <td>4855</td>\n",
       "      <td>0.091658</td>\n",
       "      <td>9.165808</td>\n",
       "    </tr>\n",
       "    <tr>\n",
       "      <td>2</td>\n",
       "      <td>2128</td>\n",
       "      <td>0.094925</td>\n",
       "      <td>9.492481</td>\n",
       "    </tr>\n",
       "    <tr>\n",
       "      <td>3</td>\n",
       "      <td>330</td>\n",
       "      <td>0.081818</td>\n",
       "      <td>8.181818</td>\n",
       "    </tr>\n",
       "    <tr>\n",
       "      <td>4</td>\n",
       "      <td>41</td>\n",
       "      <td>0.097561</td>\n",
       "      <td>9.756098</td>\n",
       "    </tr>\n",
       "    <tr>\n",
       "      <td>5</td>\n",
       "      <td>9</td>\n",
       "      <td>0.000000</td>\n",
       "      <td>0.000000</td>\n",
       "    </tr>\n",
       "  </tbody>\n",
       "</table>\n",
       "</div>"
      ],
      "text/plain": [
       "          count      mean percentage_of_arrears,%\n",
       "           debt      debt                        \n",
       "children                                         \n",
       "0         14091  0.075438                7.543822\n",
       "1          4855  0.091658                9.165808\n",
       "2          2128  0.094925                9.492481\n",
       "3           330  0.081818                8.181818\n",
       "4            41  0.097561                9.756098\n",
       "5             9  0.000000                0.000000"
      ]
     },
     "execution_count": 48,
     "metadata": {},
     "output_type": "execute_result"
    }
   ],
   "source": [
    "# для того, чтобы видеть наглядный процент должников умножим значение колонки 'mean_debt' на 100 \n",
    "\n",
    "data_pivot['percentage_of_arrears,%'] = data_pivot['mean']['debt']*100\n",
    "data_pivot"
   ]
  },
  {
   "cell_type": "markdown",
   "metadata": {},
   "source": [
    "**Вывод**"
   ]
  },
  {
   "cell_type": "markdown",
   "metadata": {},
   "source": [
    "- По результатам сводной таблицы наблюдаем следующие результаты:\n",
    "    \n",
    "    1. Явно видно, что клиенты банка, не имеющие детей, лучше закрывают кредиты по сравнению с теми у кого дети есть. Думаю, это связано с тем, что свободных денег у этой категории больше для того, чтобы закрыть кредит в срок или досрочно. Также у них больше сводобного времени, а значит недостающую сумму можно успеть заработать, не отвлекаясь на детей).\n",
    "\n",
    "    2. Малодетная категория населения (1-2 ребенка) хуже справляется со своими обязанностями перед банком. Возможно это связано с тем, что люди не до конца готовы к рождению первого или второго ребенка и не совсем правильно распределяют свой бюджет. Плюс различные форсмажорные обстоятельства, связанные с детьми, которые так или иначе влияют на выполнение кредитных обязательств в срок.\n",
    "\n",
    "    3. Данные показывают, что многодетные семьи (от 3х детей) намного реже берут кредит. Интересным остается то, что многодетная семья с тремя детьми справляется с задачей выплата кредита лучше, чем малодетная. Предполагаю, что эта категория на опыте лучше распределяет свой бюджет, также можно сэкономить на вещах для малышей, кроватке или коляске, которые переходят от старшего ребенка. Возможно в этом помогают некоторые льготы, положенные многодетным семьям в нашей стране, которые помогают отложить часть денег и вернуть кредит вовремя.\n",
    "\n",
    "    4. Самый большой процент должников среди заявителей с 4мя детьми. Четверых детей вырастить конечно нелегко, и несмотря на различные льготы и хоть какую-то помощь государства, возможно у них чаще возникают материальные проблемы, которые не позволяют платить в срок и полностью.\n",
    "\n",
    "    5. Заявители, имеющие 5 детей выплачивают кредит вовремя, но здесь данных очень мало, всего 9 человек, поэтому предположить почему так происходит не представляется возможным. Возможно со временем получится вернуться к этой категории граждан и провести анализ еще раз для того, чтобы отследить изменения.\n"
   ]
  },
  {
   "cell_type": "markdown",
   "metadata": {},
   "source": [
    "### Есть ли зависимость между семейным положением и возвратом кредита в срок?"
   ]
  },
  {
   "cell_type": "markdown",
   "metadata": {},
   "source": [
    "* Для начала отфильтруем значения в колонке `family_status`, чтобы посмотреть, как часто встречается та или иная категория заявителей."
   ]
  },
  {
   "cell_type": "code",
   "execution_count": 49,
   "metadata": {},
   "outputs": [
    {
     "data": {
      "text/plain": [
       "женат / замужем          12339\n",
       "гражданский брак          4151\n",
       "Не женат / не замужем     2810\n",
       "в разводе                 1195\n",
       "вдовец / вдова             959\n",
       "Name: family_status, dtype: int64"
      ]
     },
     "execution_count": 49,
     "metadata": {},
     "output_type": "execute_result"
    }
   ],
   "source": [
    "# создаем series по семейному положению\n",
    "data['family_status'].value_counts()"
   ]
  },
  {
   "cell_type": "code",
   "execution_count": 50,
   "metadata": {},
   "outputs": [
    {
     "data": {
      "text/html": [
       "<div>\n",
       "<style scoped>\n",
       "    .dataframe tbody tr th:only-of-type {\n",
       "        vertical-align: middle;\n",
       "    }\n",
       "\n",
       "    .dataframe tbody tr th {\n",
       "        vertical-align: top;\n",
       "    }\n",
       "\n",
       "    .dataframe thead tr th {\n",
       "        text-align: left;\n",
       "    }\n",
       "\n",
       "    .dataframe thead tr:last-of-type th {\n",
       "        text-align: right;\n",
       "    }\n",
       "</style>\n",
       "<table border=\"1\" class=\"dataframe\">\n",
       "  <thead>\n",
       "    <tr>\n",
       "      <th></th>\n",
       "      <th>count</th>\n",
       "      <th>mean</th>\n",
       "    </tr>\n",
       "    <tr>\n",
       "      <th></th>\n",
       "      <th>debt</th>\n",
       "      <th>debt</th>\n",
       "    </tr>\n",
       "    <tr>\n",
       "      <th>family_status</th>\n",
       "      <th></th>\n",
       "      <th></th>\n",
       "    </tr>\n",
       "  </thead>\n",
       "  <tbody>\n",
       "    <tr>\n",
       "      <td>Не женат / не замужем</td>\n",
       "      <td>2810</td>\n",
       "      <td>0.097509</td>\n",
       "    </tr>\n",
       "    <tr>\n",
       "      <td>в разводе</td>\n",
       "      <td>1195</td>\n",
       "      <td>0.071130</td>\n",
       "    </tr>\n",
       "    <tr>\n",
       "      <td>вдовец / вдова</td>\n",
       "      <td>959</td>\n",
       "      <td>0.065693</td>\n",
       "    </tr>\n",
       "    <tr>\n",
       "      <td>гражданский брак</td>\n",
       "      <td>4151</td>\n",
       "      <td>0.093471</td>\n",
       "    </tr>\n",
       "    <tr>\n",
       "      <td>женат / замужем</td>\n",
       "      <td>12339</td>\n",
       "      <td>0.075452</td>\n",
       "    </tr>\n",
       "  </tbody>\n",
       "</table>\n",
       "</div>"
      ],
      "text/plain": [
       "                       count      mean\n",
       "                        debt      debt\n",
       "family_status                         \n",
       "Не женат / не замужем   2810  0.097509\n",
       "в разводе               1195  0.071130\n",
       "вдовец / вдова           959  0.065693\n",
       "гражданский брак        4151  0.093471\n",
       "женат / замужем        12339  0.075452"
      ]
     },
     "execution_count": 50,
     "metadata": {},
     "output_type": "execute_result"
    }
   ],
   "source": [
    "# создаем  сводную таблицу по количеству заявителей и доли должников\n",
    "data_pivot_1 = data.pivot_table(index=['family_status'], values='debt', aggfunc=['count', 'mean'])\n",
    "data_pivot_1"
   ]
  },
  {
   "cell_type": "code",
   "execution_count": 51,
   "metadata": {},
   "outputs": [
    {
     "data": {
      "text/html": [
       "<div>\n",
       "<style scoped>\n",
       "    .dataframe tbody tr th:only-of-type {\n",
       "        vertical-align: middle;\n",
       "    }\n",
       "\n",
       "    .dataframe tbody tr th {\n",
       "        vertical-align: top;\n",
       "    }\n",
       "\n",
       "    .dataframe thead tr th {\n",
       "        text-align: left;\n",
       "    }\n",
       "\n",
       "    .dataframe thead tr:last-of-type th {\n",
       "        text-align: right;\n",
       "    }\n",
       "</style>\n",
       "<table border=\"1\" class=\"dataframe\">\n",
       "  <thead>\n",
       "    <tr>\n",
       "      <th></th>\n",
       "      <th>count</th>\n",
       "      <th>mean</th>\n",
       "      <th>family_status_arrears,%</th>\n",
       "    </tr>\n",
       "    <tr>\n",
       "      <th></th>\n",
       "      <th>debt</th>\n",
       "      <th>debt</th>\n",
       "      <th></th>\n",
       "    </tr>\n",
       "    <tr>\n",
       "      <th>family_status</th>\n",
       "      <th></th>\n",
       "      <th></th>\n",
       "      <th></th>\n",
       "    </tr>\n",
       "  </thead>\n",
       "  <tbody>\n",
       "    <tr>\n",
       "      <td>Не женат / не замужем</td>\n",
       "      <td>2810</td>\n",
       "      <td>0.097509</td>\n",
       "      <td>9.750890</td>\n",
       "    </tr>\n",
       "    <tr>\n",
       "      <td>в разводе</td>\n",
       "      <td>1195</td>\n",
       "      <td>0.071130</td>\n",
       "      <td>7.112971</td>\n",
       "    </tr>\n",
       "    <tr>\n",
       "      <td>вдовец / вдова</td>\n",
       "      <td>959</td>\n",
       "      <td>0.065693</td>\n",
       "      <td>6.569343</td>\n",
       "    </tr>\n",
       "    <tr>\n",
       "      <td>гражданский брак</td>\n",
       "      <td>4151</td>\n",
       "      <td>0.093471</td>\n",
       "      <td>9.347145</td>\n",
       "    </tr>\n",
       "    <tr>\n",
       "      <td>женат / замужем</td>\n",
       "      <td>12339</td>\n",
       "      <td>0.075452</td>\n",
       "      <td>7.545182</td>\n",
       "    </tr>\n",
       "  </tbody>\n",
       "</table>\n",
       "</div>"
      ],
      "text/plain": [
       "                       count      mean family_status_arrears,%\n",
       "                        debt      debt                        \n",
       "family_status                                                 \n",
       "Не женат / не замужем   2810  0.097509                9.750890\n",
       "в разводе               1195  0.071130                7.112971\n",
       "вдовец / вдова           959  0.065693                6.569343\n",
       "гражданский брак        4151  0.093471                9.347145\n",
       "женат / замужем        12339  0.075452                7.545182"
      ]
     },
     "execution_count": 51,
     "metadata": {},
     "output_type": "execute_result"
    }
   ],
   "source": [
    "# для того, чтобы видеть наглядный процент должников умножим значение колонки 'mean_debt' на 100 \n",
    "data_pivot_1['family_status_arrears,%'] = data_pivot_1['mean']['debt']*100\n",
    "data_pivot_1"
   ]
  },
  {
   "cell_type": "markdown",
   "metadata": {},
   "source": [
    "**Вывод**"
   ]
  },
  {
   "cell_type": "markdown",
   "metadata": {},
   "source": [
    "Результаты анализа показывают следующую зависимость:\n",
    "* Вдовы и вдовцы имеют меньшую кредитную задолженность \n",
    "* Люди, находящиеся в браке, а также те, кто уже разведен, относительно одинаково выплачивают кредит, немного больше 7% имеют кредитную задолженность перед банком\n",
    "* Категория людей, состоящий в гражданском браке, а также неженатые/незамужние показывают наибольший процент задолжности по кредиту. Почти 10% из каждой категории каким-то образом оказывались должником банка."
   ]
  },
  {
   "cell_type": "markdown",
   "metadata": {},
   "source": [
    "### Есть ли зависимость между уровнем дохода и возвратом кредита в срок?"
   ]
  },
  {
   "cell_type": "code",
   "execution_count": 52,
   "metadata": {
    "scrolled": true
   },
   "outputs": [
    {
     "data": {
      "text/plain": [
       "средний доход          6415\n",
       "высокий доход          5364\n",
       "низкий доход           5364\n",
       "доход выше среднего    4311\n",
       "Name: money_category, dtype: int64"
      ]
     },
     "execution_count": 52,
     "metadata": {},
     "output_type": "execute_result"
    }
   ],
   "source": [
    "# создаем series по категории доходы заявителей\n",
    "data['money_category'].value_counts()"
   ]
  },
  {
   "cell_type": "code",
   "execution_count": 53,
   "metadata": {},
   "outputs": [
    {
     "data": {
      "text/html": [
       "<div>\n",
       "<style scoped>\n",
       "    .dataframe tbody tr th:only-of-type {\n",
       "        vertical-align: middle;\n",
       "    }\n",
       "\n",
       "    .dataframe tbody tr th {\n",
       "        vertical-align: top;\n",
       "    }\n",
       "\n",
       "    .dataframe thead tr th {\n",
       "        text-align: left;\n",
       "    }\n",
       "\n",
       "    .dataframe thead tr:last-of-type th {\n",
       "        text-align: right;\n",
       "    }\n",
       "</style>\n",
       "<table border=\"1\" class=\"dataframe\">\n",
       "  <thead>\n",
       "    <tr>\n",
       "      <th></th>\n",
       "      <th>count</th>\n",
       "      <th>mean</th>\n",
       "    </tr>\n",
       "    <tr>\n",
       "      <th></th>\n",
       "      <th>debt</th>\n",
       "      <th>debt</th>\n",
       "    </tr>\n",
       "    <tr>\n",
       "      <th>money_category</th>\n",
       "      <th></th>\n",
       "      <th></th>\n",
       "    </tr>\n",
       "  </thead>\n",
       "  <tbody>\n",
       "    <tr>\n",
       "      <td>высокий доход</td>\n",
       "      <td>5364</td>\n",
       "      <td>0.071402</td>\n",
       "    </tr>\n",
       "    <tr>\n",
       "      <td>доход выше среднего</td>\n",
       "      <td>4311</td>\n",
       "      <td>0.089074</td>\n",
       "    </tr>\n",
       "    <tr>\n",
       "      <td>низкий доход</td>\n",
       "      <td>5364</td>\n",
       "      <td>0.079605</td>\n",
       "    </tr>\n",
       "    <tr>\n",
       "      <td>средний доход</td>\n",
       "      <td>6415</td>\n",
       "      <td>0.085269</td>\n",
       "    </tr>\n",
       "  </tbody>\n",
       "</table>\n",
       "</div>"
      ],
      "text/plain": [
       "                    count      mean\n",
       "                     debt      debt\n",
       "money_category                     \n",
       "высокий доход        5364  0.071402\n",
       "доход выше среднего  4311  0.089074\n",
       "низкий доход         5364  0.079605\n",
       "средний доход        6415  0.085269"
      ]
     },
     "execution_count": 53,
     "metadata": {},
     "output_type": "execute_result"
    }
   ],
   "source": [
    "# создаем  сводную таблицу по количеству заявителей и доли должников\n",
    "data_pivot_2 = data.pivot_table(index=['money_category'], values='debt', aggfunc=['count', 'mean'])\n",
    "data_pivot_2"
   ]
  },
  {
   "cell_type": "code",
   "execution_count": 54,
   "metadata": {},
   "outputs": [
    {
     "data": {
      "text/html": [
       "<div>\n",
       "<style scoped>\n",
       "    .dataframe tbody tr th:only-of-type {\n",
       "        vertical-align: middle;\n",
       "    }\n",
       "\n",
       "    .dataframe tbody tr th {\n",
       "        vertical-align: top;\n",
       "    }\n",
       "\n",
       "    .dataframe thead tr th {\n",
       "        text-align: left;\n",
       "    }\n",
       "\n",
       "    .dataframe thead tr:last-of-type th {\n",
       "        text-align: right;\n",
       "    }\n",
       "</style>\n",
       "<table border=\"1\" class=\"dataframe\">\n",
       "  <thead>\n",
       "    <tr>\n",
       "      <th></th>\n",
       "      <th>count</th>\n",
       "      <th>mean</th>\n",
       "      <th>money_category_arrears,%</th>\n",
       "    </tr>\n",
       "    <tr>\n",
       "      <th></th>\n",
       "      <th>debt</th>\n",
       "      <th>debt</th>\n",
       "      <th></th>\n",
       "    </tr>\n",
       "    <tr>\n",
       "      <th>money_category</th>\n",
       "      <th></th>\n",
       "      <th></th>\n",
       "      <th></th>\n",
       "    </tr>\n",
       "  </thead>\n",
       "  <tbody>\n",
       "    <tr>\n",
       "      <td>высокий доход</td>\n",
       "      <td>5364</td>\n",
       "      <td>0.071402</td>\n",
       "      <td>7.140194</td>\n",
       "    </tr>\n",
       "    <tr>\n",
       "      <td>доход выше среднего</td>\n",
       "      <td>4311</td>\n",
       "      <td>0.089074</td>\n",
       "      <td>8.907446</td>\n",
       "    </tr>\n",
       "    <tr>\n",
       "      <td>низкий доход</td>\n",
       "      <td>5364</td>\n",
       "      <td>0.079605</td>\n",
       "      <td>7.960477</td>\n",
       "    </tr>\n",
       "    <tr>\n",
       "      <td>средний доход</td>\n",
       "      <td>6415</td>\n",
       "      <td>0.085269</td>\n",
       "      <td>8.526890</td>\n",
       "    </tr>\n",
       "  </tbody>\n",
       "</table>\n",
       "</div>"
      ],
      "text/plain": [
       "                    count      mean money_category_arrears,%\n",
       "                     debt      debt                         \n",
       "money_category                                              \n",
       "высокий доход        5364  0.071402                 7.140194\n",
       "доход выше среднего  4311  0.089074                 8.907446\n",
       "низкий доход         5364  0.079605                 7.960477\n",
       "средний доход        6415  0.085269                 8.526890"
      ]
     },
     "execution_count": 54,
     "metadata": {},
     "output_type": "execute_result"
    }
   ],
   "source": [
    "# для того, чтобы видеть наглядный процент должников умножим значение колонки 'mean_debt' на 100 \n",
    "data_pivot_2['money_category_arrears,%'] = data_pivot_2['mean']['debt']*100\n",
    "data_pivot_2"
   ]
  },
  {
   "cell_type": "markdown",
   "metadata": {},
   "source": [
    "**Вывод**"
   ]
  },
  {
   "cell_type": "markdown",
   "metadata": {},
   "source": [
    "* На мой взгляд резкой зависимости между уровнем дохода и возвратом кредита в срок не наблюдается. Конечно видно, что люди с высоким доходом имеют меньший процент задолжности перед банком, но в среднем 8% людей не успевают вернуть кредит в срок, независимо от их финансового состояния"
   ]
  },
  {
   "cell_type": "markdown",
   "metadata": {},
   "source": [
    "### Как разные цели кредита влияют на его возврат в срок?"
   ]
  },
  {
   "cell_type": "code",
   "execution_count": 55,
   "metadata": {},
   "outputs": [
    {
     "data": {
      "text/plain": [
       "процессы, связанные с недвижимостью    10811\n",
       "процессы, связанные с автомобилем       4306\n",
       "получение образования                   4013\n",
       "проведение свадьбы                      2324\n",
       "Name: target_category, dtype: int64"
      ]
     },
     "execution_count": 55,
     "metadata": {},
     "output_type": "execute_result"
    }
   ],
   "source": [
    "# создаем series по категории доходы заявителей\n",
    "data['target_category'].value_counts()"
   ]
  },
  {
   "cell_type": "code",
   "execution_count": 56,
   "metadata": {},
   "outputs": [
    {
     "data": {
      "text/html": [
       "<div>\n",
       "<style scoped>\n",
       "    .dataframe tbody tr th:only-of-type {\n",
       "        vertical-align: middle;\n",
       "    }\n",
       "\n",
       "    .dataframe tbody tr th {\n",
       "        vertical-align: top;\n",
       "    }\n",
       "\n",
       "    .dataframe thead tr th {\n",
       "        text-align: left;\n",
       "    }\n",
       "\n",
       "    .dataframe thead tr:last-of-type th {\n",
       "        text-align: right;\n",
       "    }\n",
       "</style>\n",
       "<table border=\"1\" class=\"dataframe\">\n",
       "  <thead>\n",
       "    <tr>\n",
       "      <th></th>\n",
       "      <th>count</th>\n",
       "      <th>mean</th>\n",
       "    </tr>\n",
       "    <tr>\n",
       "      <th></th>\n",
       "      <th>debt</th>\n",
       "      <th>debt</th>\n",
       "    </tr>\n",
       "    <tr>\n",
       "      <th>target_category</th>\n",
       "      <th></th>\n",
       "      <th></th>\n",
       "    </tr>\n",
       "  </thead>\n",
       "  <tbody>\n",
       "    <tr>\n",
       "      <td>получение образования</td>\n",
       "      <td>4013</td>\n",
       "      <td>0.092200</td>\n",
       "    </tr>\n",
       "    <tr>\n",
       "      <td>проведение свадьбы</td>\n",
       "      <td>2324</td>\n",
       "      <td>0.080034</td>\n",
       "    </tr>\n",
       "    <tr>\n",
       "      <td>процессы, связанные с автомобилем</td>\n",
       "      <td>4306</td>\n",
       "      <td>0.093590</td>\n",
       "    </tr>\n",
       "    <tr>\n",
       "      <td>процессы, связанные с недвижимостью</td>\n",
       "      <td>10811</td>\n",
       "      <td>0.072334</td>\n",
       "    </tr>\n",
       "  </tbody>\n",
       "</table>\n",
       "</div>"
      ],
      "text/plain": [
       "                                     count      mean\n",
       "                                      debt      debt\n",
       "target_category                                     \n",
       "получение образования                 4013  0.092200\n",
       "проведение свадьбы                    2324  0.080034\n",
       "процессы, связанные с автомобилем     4306  0.093590\n",
       "процессы, связанные с недвижимостью  10811  0.072334"
      ]
     },
     "execution_count": 56,
     "metadata": {},
     "output_type": "execute_result"
    }
   ],
   "source": [
    "# создаем  сводную таблицу по количеству заявителей и доли должников\n",
    "data_pivot_3 = data.pivot_table(index=['target_category'], values='debt', aggfunc=['count', 'mean'])\n",
    "data_pivot_3"
   ]
  },
  {
   "cell_type": "code",
   "execution_count": 57,
   "metadata": {},
   "outputs": [
    {
     "data": {
      "text/html": [
       "<div>\n",
       "<style scoped>\n",
       "    .dataframe tbody tr th:only-of-type {\n",
       "        vertical-align: middle;\n",
       "    }\n",
       "\n",
       "    .dataframe tbody tr th {\n",
       "        vertical-align: top;\n",
       "    }\n",
       "\n",
       "    .dataframe thead tr th {\n",
       "        text-align: left;\n",
       "    }\n",
       "\n",
       "    .dataframe thead tr:last-of-type th {\n",
       "        text-align: right;\n",
       "    }\n",
       "</style>\n",
       "<table border=\"1\" class=\"dataframe\">\n",
       "  <thead>\n",
       "    <tr>\n",
       "      <th></th>\n",
       "      <th>count</th>\n",
       "      <th>mean</th>\n",
       "      <th>target_category_arrears,%</th>\n",
       "    </tr>\n",
       "    <tr>\n",
       "      <th></th>\n",
       "      <th>debt</th>\n",
       "      <th>debt</th>\n",
       "      <th></th>\n",
       "    </tr>\n",
       "    <tr>\n",
       "      <th>target_category</th>\n",
       "      <th></th>\n",
       "      <th></th>\n",
       "      <th></th>\n",
       "    </tr>\n",
       "  </thead>\n",
       "  <tbody>\n",
       "    <tr>\n",
       "      <td>получение образования</td>\n",
       "      <td>4013</td>\n",
       "      <td>0.092200</td>\n",
       "      <td>9.220035</td>\n",
       "    </tr>\n",
       "    <tr>\n",
       "      <td>проведение свадьбы</td>\n",
       "      <td>2324</td>\n",
       "      <td>0.080034</td>\n",
       "      <td>8.003442</td>\n",
       "    </tr>\n",
       "    <tr>\n",
       "      <td>процессы, связанные с автомобилем</td>\n",
       "      <td>4306</td>\n",
       "      <td>0.093590</td>\n",
       "      <td>9.359034</td>\n",
       "    </tr>\n",
       "    <tr>\n",
       "      <td>процессы, связанные с недвижимостью</td>\n",
       "      <td>10811</td>\n",
       "      <td>0.072334</td>\n",
       "      <td>7.233373</td>\n",
       "    </tr>\n",
       "  </tbody>\n",
       "</table>\n",
       "</div>"
      ],
      "text/plain": [
       "                                     count      mean target_category_arrears,%\n",
       "                                      debt      debt                          \n",
       "target_category                                                               \n",
       "получение образования                 4013  0.092200                  9.220035\n",
       "проведение свадьбы                    2324  0.080034                  8.003442\n",
       "процессы, связанные с автомобилем     4306  0.093590                  9.359034\n",
       "процессы, связанные с недвижимостью  10811  0.072334                  7.233373"
      ]
     },
     "execution_count": 57,
     "metadata": {},
     "output_type": "execute_result"
    }
   ],
   "source": [
    "# для того, чтобы видеть наглядный процент должников умножим значение колонки 'mean_debt' на 100 \n",
    "data_pivot_3['target_category_arrears,%'] = data_pivot_3['mean']['debt']*100\n",
    "data_pivot_3"
   ]
  },
  {
   "cell_type": "markdown",
   "metadata": {},
   "source": [
    "**Вывод**"
   ]
  },
  {
   "cell_type": "markdown",
   "metadata": {},
   "source": [
    "* Люди, которые берут кредит для покупки недвижимости под разные задачи лучше выплачивают кредит по сравнению со всеми остальными категориями. На мой взгляд это может быть связано с тем, что данный кредит оформляется под залог самой квартиры или какого-то другого имущества и люди ведут себя более ответственно.\n",
    "\n",
    "* Среди тех, кто берет кредит на свадьбу около 8% имеют задолженность перед банком по оплате такого кредита.\n",
    "\n",
    "* Люди, получившие кредит на образование или авто менее ответственно подходят к договорным обязательствам с банком и имеют наибольший процент задолженностей."
   ]
  },
  {
   "cell_type": "markdown",
   "metadata": {},
   "source": [
    "## Общий вывод"
   ]
  },
  {
   "cell_type": "markdown",
   "metadata": {},
   "source": [
    "В данной работе проведено исследование надёжности заёмщиков.\n",
    "На вход были получены данные от банка — статистика о платёжеспособности клиентов.\n",
    "\n",
    "1. Были изучены полученные данные. Первоначальная таблица состояла из 12 столбцов и содержала 3 типа данных.\n",
    "\n",
    "2. Далее  данные были обработаны: проведена работа с пропусками, заменены значения ежемесячного дохода и трудового стажа, количество детей приведено к реальным показателям; трудовой стаж приведен к целочисленному типу данных. Произведена обработка дубликатов посредством их удаления, так как они составили всего 0,33% от общего числа данных. Проведена лемматизация, которая понадобилась для того, чтобы легче провести категоризацию данных и разбить множество целей кредита на 4 основные. По результатам вышеперечисленных процессов были получены сводные таблицы для ответа на вопросы кредитного отдела банка.\n",
    "\n",
    "* Лучше всех закрывают кредит люди, не имеющие детей\n",
    "* Женатые, разведенные или овдовевшие заявители имеют низкий процент задолженности по сравнению с холостыми и живущими в гражданском браке\n",
    "* Люди с высоким и низким доходом лучше справляются со своими кредитными обязанностями\n",
    "* Наиболее рискованные цели - это кредит на образование и автомобиль, к выплате кредита за недвижимость или проведение свадьбы люди подходят более ответственно.\n",
    "\n",
    "**Лучший заемщик для банка** - это человек с высоким доходом, который желает приобрести недвижимость, не имеющий детей и находящийся в разводе или овдовевший.\n"
   ]
  }
 ],
 "metadata": {
  "ExecuteTimeLog": [
   {
    "duration": 843,
    "start_time": "2022-01-08T15:04:52.812Z"
   },
   {
    "duration": 73,
    "start_time": "2022-01-08T15:05:07.972Z"
   },
   {
    "duration": 77,
    "start_time": "2022-01-08T18:03:07.737Z"
   },
   {
    "duration": 133,
    "start_time": "2022-01-08T18:03:18.584Z"
   },
   {
    "duration": 103,
    "start_time": "2022-01-08T18:03:50.389Z"
   },
   {
    "duration": 70,
    "start_time": "2022-01-08T18:04:44.836Z"
   },
   {
    "duration": 69,
    "start_time": "2022-01-08T18:04:55.278Z"
   },
   {
    "duration": 70,
    "start_time": "2022-01-08T18:05:12.179Z"
   },
   {
    "duration": 80,
    "start_time": "2022-01-08T18:05:23.926Z"
   },
   {
    "duration": 62,
    "start_time": "2022-01-08T18:07:08.518Z"
   },
   {
    "duration": 20,
    "start_time": "2022-01-08T18:08:02.570Z"
   },
   {
    "duration": 31,
    "start_time": "2022-01-08T18:11:13.789Z"
   },
   {
    "duration": 62,
    "start_time": "2022-01-08T18:18:12.789Z"
   },
   {
    "duration": 30,
    "start_time": "2022-01-08T18:18:12.853Z"
   },
   {
    "duration": 13,
    "start_time": "2022-01-08T18:30:58.890Z"
   },
   {
    "duration": 6,
    "start_time": "2022-01-08T18:54:49.465Z"
   },
   {
    "duration": 20,
    "start_time": "2022-01-08T18:55:19.899Z"
   },
   {
    "duration": 11,
    "start_time": "2022-01-08T18:56:00.422Z"
   },
   {
    "duration": 8,
    "start_time": "2022-01-08T18:56:38.454Z"
   },
   {
    "duration": 119,
    "start_time": "2022-01-08T18:58:27.755Z"
   },
   {
    "duration": 8,
    "start_time": "2022-01-08T18:58:35.104Z"
   },
   {
    "duration": 16,
    "start_time": "2022-01-08T19:00:00.854Z"
   },
   {
    "duration": 22,
    "start_time": "2022-01-08T19:00:11.350Z"
   },
   {
    "duration": 23,
    "start_time": "2022-01-08T19:00:19.235Z"
   },
   {
    "duration": 3,
    "start_time": "2022-01-08T19:14:25.588Z"
   },
   {
    "duration": 7,
    "start_time": "2022-01-08T19:15:12.624Z"
   },
   {
    "duration": 6,
    "start_time": "2022-01-08T19:15:34.762Z"
   },
   {
    "duration": 6,
    "start_time": "2022-01-08T19:17:35.831Z"
   },
   {
    "duration": 6,
    "start_time": "2022-01-08T19:17:56.863Z"
   },
   {
    "duration": 6,
    "start_time": "2022-01-08T19:19:15.819Z"
   },
   {
    "duration": 60,
    "start_time": "2022-01-08T19:24:25.626Z"
   },
   {
    "duration": 27,
    "start_time": "2022-01-08T19:24:25.689Z"
   },
   {
    "duration": 12,
    "start_time": "2022-01-08T19:24:25.718Z"
   },
   {
    "duration": 23,
    "start_time": "2022-01-08T19:24:25.732Z"
   },
   {
    "duration": 4,
    "start_time": "2022-01-08T19:24:25.757Z"
   },
   {
    "duration": 6,
    "start_time": "2022-01-08T19:24:25.764Z"
   },
   {
    "duration": 49,
    "start_time": "2022-01-08T19:24:25.772Z"
   },
   {
    "duration": 5,
    "start_time": "2022-01-08T19:26:12.619Z"
   },
   {
    "duration": 6,
    "start_time": "2022-01-08T19:26:38.719Z"
   },
   {
    "duration": 4,
    "start_time": "2022-01-08T19:27:54.400Z"
   },
   {
    "duration": 4,
    "start_time": "2022-01-08T19:29:34.177Z"
   },
   {
    "duration": 13,
    "start_time": "2022-01-08T19:29:44.642Z"
   },
   {
    "duration": 13,
    "start_time": "2022-01-08T19:30:20.543Z"
   },
   {
    "duration": 30,
    "start_time": "2022-01-08T19:31:33.268Z"
   },
   {
    "duration": 20,
    "start_time": "2022-01-08T19:31:41.160Z"
   },
   {
    "duration": 13,
    "start_time": "2022-01-08T19:31:55.343Z"
   },
   {
    "duration": 611,
    "start_time": "2022-01-09T11:52:50.148Z"
   },
   {
    "duration": 23,
    "start_time": "2022-01-09T11:52:50.761Z"
   },
   {
    "duration": 8,
    "start_time": "2022-01-09T11:52:50.786Z"
   },
   {
    "duration": 18,
    "start_time": "2022-01-09T11:52:50.795Z"
   },
   {
    "duration": 3,
    "start_time": "2022-01-09T11:52:50.814Z"
   },
   {
    "duration": 22,
    "start_time": "2022-01-09T11:52:50.819Z"
   },
   {
    "duration": 5,
    "start_time": "2022-01-09T11:52:50.843Z"
   },
   {
    "duration": 9,
    "start_time": "2022-01-09T11:52:50.850Z"
   },
   {
    "duration": 7,
    "start_time": "2022-01-09T11:52:50.861Z"
   },
   {
    "duration": 12,
    "start_time": "2022-01-09T11:52:50.869Z"
   },
   {
    "duration": 4,
    "start_time": "2022-01-09T12:01:49.862Z"
   },
   {
    "duration": 13,
    "start_time": "2022-01-09T12:02:02.208Z"
   },
   {
    "duration": 3,
    "start_time": "2022-01-09T12:07:28.086Z"
   },
   {
    "duration": 11,
    "start_time": "2022-01-09T12:09:16.606Z"
   },
   {
    "duration": 6,
    "start_time": "2022-01-09T12:10:54.602Z"
   },
   {
    "duration": 4,
    "start_time": "2022-01-09T12:11:32.732Z"
   },
   {
    "duration": 17,
    "start_time": "2022-01-09T12:14:59.500Z"
   },
   {
    "duration": 6,
    "start_time": "2022-01-09T12:16:15.290Z"
   },
   {
    "duration": 6,
    "start_time": "2022-01-09T12:17:16.714Z"
   },
   {
    "duration": 10,
    "start_time": "2022-01-09T12:22:34.350Z"
   },
   {
    "duration": 12,
    "start_time": "2022-01-09T12:22:42.920Z"
   },
   {
    "duration": 4,
    "start_time": "2022-01-09T12:24:28.330Z"
   },
   {
    "duration": 6,
    "start_time": "2022-01-09T12:26:02.108Z"
   },
   {
    "duration": 5,
    "start_time": "2022-01-09T18:59:49.596Z"
   },
   {
    "duration": 17,
    "start_time": "2022-01-09T19:01:53.367Z"
   },
   {
    "duration": 8,
    "start_time": "2022-01-09T19:02:34.662Z"
   },
   {
    "duration": 2,
    "start_time": "2022-01-09T19:03:52.490Z"
   },
   {
    "duration": 3,
    "start_time": "2022-01-09T19:03:54.377Z"
   },
   {
    "duration": 16,
    "start_time": "2022-01-09T19:05:43.975Z"
   },
   {
    "duration": 16,
    "start_time": "2022-01-09T19:06:40.130Z"
   },
   {
    "duration": 19,
    "start_time": "2022-01-09T19:06:45.731Z"
   },
   {
    "duration": 29,
    "start_time": "2022-01-09T19:07:56.365Z"
   },
   {
    "duration": 302,
    "start_time": "2022-01-09T19:12:47.585Z"
   },
   {
    "duration": 279,
    "start_time": "2022-01-09T19:12:57.738Z"
   },
   {
    "duration": 250,
    "start_time": "2022-01-09T19:13:15.185Z"
   },
   {
    "duration": 3,
    "start_time": "2022-01-09T19:14:37.693Z"
   },
   {
    "duration": 18,
    "start_time": "2022-01-09T19:21:12.315Z"
   },
   {
    "duration": 19,
    "start_time": "2022-01-09T19:22:55.493Z"
   },
   {
    "duration": 3,
    "start_time": "2022-01-09T19:22:57.696Z"
   },
   {
    "duration": 17,
    "start_time": "2022-01-09T19:23:20.393Z"
   },
   {
    "duration": 16,
    "start_time": "2022-01-09T19:23:31.726Z"
   },
   {
    "duration": 5,
    "start_time": "2022-01-09T19:27:39.477Z"
   },
   {
    "duration": 7,
    "start_time": "2022-01-09T19:28:38.022Z"
   },
   {
    "duration": 51,
    "start_time": "2022-01-09T19:28:58.638Z"
   },
   {
    "duration": 19,
    "start_time": "2022-01-09T19:28:58.691Z"
   },
   {
    "duration": 9,
    "start_time": "2022-01-09T19:28:58.712Z"
   },
   {
    "duration": 15,
    "start_time": "2022-01-09T19:28:58.741Z"
   },
   {
    "duration": 4,
    "start_time": "2022-01-09T19:28:58.757Z"
   },
   {
    "duration": 5,
    "start_time": "2022-01-09T19:28:58.762Z"
   },
   {
    "duration": 6,
    "start_time": "2022-01-09T19:28:58.768Z"
   },
   {
    "duration": 3,
    "start_time": "2022-01-09T19:28:58.776Z"
   },
   {
    "duration": 8,
    "start_time": "2022-01-09T19:28:58.780Z"
   },
   {
    "duration": 13,
    "start_time": "2022-01-09T19:28:58.789Z"
   },
   {
    "duration": 42,
    "start_time": "2022-01-09T19:28:58.803Z"
   },
   {
    "duration": 3,
    "start_time": "2022-01-09T19:28:58.847Z"
   },
   {
    "duration": 17,
    "start_time": "2022-01-09T19:28:58.851Z"
   },
   {
    "duration": 8,
    "start_time": "2022-01-09T19:28:58.869Z"
   },
   {
    "duration": 7,
    "start_time": "2022-01-09T19:28:58.879Z"
   },
   {
    "duration": 17,
    "start_time": "2022-01-09T19:28:58.888Z"
   },
   {
    "duration": 4,
    "start_time": "2022-01-09T19:28:58.906Z"
   },
   {
    "duration": 30,
    "start_time": "2022-01-09T19:28:58.912Z"
   },
   {
    "duration": 6,
    "start_time": "2022-01-09T19:28:58.944Z"
   },
   {
    "duration": 18,
    "start_time": "2022-01-09T19:28:58.951Z"
   },
   {
    "duration": 11,
    "start_time": "2022-01-09T19:28:58.970Z"
   },
   {
    "duration": 17,
    "start_time": "2022-01-09T19:28:58.983Z"
   },
   {
    "duration": 40,
    "start_time": "2022-01-09T19:28:59.003Z"
   },
   {
    "duration": 3,
    "start_time": "2022-01-09T19:28:59.045Z"
   },
   {
    "duration": 21,
    "start_time": "2022-01-09T19:28:59.049Z"
   },
   {
    "duration": 14,
    "start_time": "2022-01-09T19:28:59.072Z"
   },
   {
    "duration": 11,
    "start_time": "2022-01-10T07:13:32.391Z"
   },
   {
    "duration": 870,
    "start_time": "2022-01-10T07:13:38.708Z"
   },
   {
    "duration": 37,
    "start_time": "2022-01-10T07:13:39.581Z"
   },
   {
    "duration": 12,
    "start_time": "2022-01-10T07:13:39.621Z"
   },
   {
    "duration": 49,
    "start_time": "2022-01-10T07:13:39.636Z"
   },
   {
    "duration": 5,
    "start_time": "2022-01-10T07:13:39.688Z"
   },
   {
    "duration": 7,
    "start_time": "2022-01-10T07:13:39.696Z"
   },
   {
    "duration": 8,
    "start_time": "2022-01-10T07:13:39.706Z"
   },
   {
    "duration": 5,
    "start_time": "2022-01-10T07:13:39.767Z"
   },
   {
    "duration": 5,
    "start_time": "2022-01-10T07:13:39.776Z"
   },
   {
    "duration": 15,
    "start_time": "2022-01-10T07:13:39.784Z"
   },
   {
    "duration": 63,
    "start_time": "2022-01-10T07:13:39.802Z"
   },
   {
    "duration": 5,
    "start_time": "2022-01-10T07:13:39.869Z"
   },
   {
    "duration": 19,
    "start_time": "2022-01-10T07:13:39.877Z"
   },
   {
    "duration": 9,
    "start_time": "2022-01-10T07:13:39.899Z"
   },
   {
    "duration": 53,
    "start_time": "2022-01-10T07:13:39.911Z"
   },
   {
    "duration": 19,
    "start_time": "2022-01-10T07:13:39.966Z"
   },
   {
    "duration": 5,
    "start_time": "2022-01-10T07:13:39.988Z"
   },
   {
    "duration": 10,
    "start_time": "2022-01-10T07:13:39.995Z"
   },
   {
    "duration": 12,
    "start_time": "2022-01-10T07:13:40.007Z"
   },
   {
    "duration": 57,
    "start_time": "2022-01-10T07:13:40.021Z"
   },
   {
    "duration": 9,
    "start_time": "2022-01-10T07:13:40.080Z"
   },
   {
    "duration": 30,
    "start_time": "2022-01-10T07:13:40.092Z"
   },
   {
    "duration": 74,
    "start_time": "2022-01-10T07:13:40.127Z"
   },
   {
    "duration": 5,
    "start_time": "2022-01-10T07:13:40.203Z"
   },
   {
    "duration": 32,
    "start_time": "2022-01-10T07:13:40.210Z"
   },
   {
    "duration": 38,
    "start_time": "2022-01-10T07:13:40.244Z"
   },
   {
    "duration": 4,
    "start_time": "2022-01-10T07:13:40.285Z"
   },
   {
    "duration": 475,
    "start_time": "2022-01-10T07:14:19.413Z"
   },
   {
    "duration": 340,
    "start_time": "2022-01-10T07:17:28.746Z"
   },
   {
    "duration": 7,
    "start_time": "2022-01-10T07:21:00.307Z"
   },
   {
    "duration": 9,
    "start_time": "2022-01-10T07:21:16.797Z"
   },
   {
    "duration": 10,
    "start_time": "2022-01-10T07:21:26.964Z"
   },
   {
    "duration": 10,
    "start_time": "2022-01-10T07:28:46.528Z"
   },
   {
    "duration": 6,
    "start_time": "2022-01-10T07:29:05.486Z"
   },
   {
    "duration": 8,
    "start_time": "2022-01-10T07:29:35.591Z"
   },
   {
    "duration": 7,
    "start_time": "2022-01-10T07:29:41.740Z"
   },
   {
    "duration": 568,
    "start_time": "2022-01-10T07:31:57.494Z"
   },
   {
    "duration": 26,
    "start_time": "2022-01-10T07:33:17.765Z"
   },
   {
    "duration": 26,
    "start_time": "2022-01-10T07:33:47.904Z"
   },
   {
    "duration": 9,
    "start_time": "2022-01-10T07:33:57.207Z"
   },
   {
    "duration": 26,
    "start_time": "2022-01-10T07:34:03.673Z"
   },
   {
    "duration": 195,
    "start_time": "2022-01-10T07:36:30.572Z"
   },
   {
    "duration": 746,
    "start_time": "2022-01-10T07:36:37.556Z"
   },
   {
    "duration": 922,
    "start_time": "2022-01-10T07:37:26.009Z"
   },
   {
    "duration": 951,
    "start_time": "2022-01-10T07:37:36.786Z"
   },
   {
    "duration": 4,
    "start_time": "2022-01-10T07:42:46.945Z"
   },
   {
    "duration": 5,
    "start_time": "2022-01-10T07:43:30.493Z"
   },
   {
    "duration": 947,
    "start_time": "2022-01-10T07:45:59.442Z"
   },
   {
    "duration": 5,
    "start_time": "2022-01-10T07:48:41.022Z"
   },
   {
    "duration": 3,
    "start_time": "2022-01-10T10:11:22.691Z"
   },
   {
    "duration": 69,
    "start_time": "2022-01-10T10:15:53.104Z"
   },
   {
    "duration": 31,
    "start_time": "2022-01-10T10:15:53.176Z"
   },
   {
    "duration": 12,
    "start_time": "2022-01-10T10:15:53.210Z"
   },
   {
    "duration": 58,
    "start_time": "2022-01-10T10:15:53.225Z"
   },
   {
    "duration": 6,
    "start_time": "2022-01-10T10:15:53.286Z"
   },
   {
    "duration": 8,
    "start_time": "2022-01-10T10:15:53.295Z"
   },
   {
    "duration": 7,
    "start_time": "2022-01-10T10:15:53.306Z"
   },
   {
    "duration": 50,
    "start_time": "2022-01-10T10:15:53.315Z"
   },
   {
    "duration": 4,
    "start_time": "2022-01-10T10:15:53.370Z"
   },
   {
    "duration": 15,
    "start_time": "2022-01-10T10:15:53.377Z"
   },
   {
    "duration": 20,
    "start_time": "2022-01-10T10:15:53.395Z"
   },
   {
    "duration": 45,
    "start_time": "2022-01-10T10:15:53.418Z"
   },
   {
    "duration": 18,
    "start_time": "2022-01-10T10:15:53.466Z"
   },
   {
    "duration": 10,
    "start_time": "2022-01-10T10:15:53.487Z"
   },
   {
    "duration": 11,
    "start_time": "2022-01-10T10:15:53.500Z"
   },
   {
    "duration": 60,
    "start_time": "2022-01-10T10:15:53.514Z"
   },
   {
    "duration": 5,
    "start_time": "2022-01-10T10:15:53.577Z"
   },
   {
    "duration": 9,
    "start_time": "2022-01-10T10:15:53.585Z"
   },
   {
    "duration": 7,
    "start_time": "2022-01-10T10:15:53.597Z"
   },
   {
    "duration": 56,
    "start_time": "2022-01-10T10:15:53.607Z"
   },
   {
    "duration": 12,
    "start_time": "2022-01-10T10:15:53.666Z"
   },
   {
    "duration": 23,
    "start_time": "2022-01-10T10:15:53.681Z"
   },
   {
    "duration": 77,
    "start_time": "2022-01-10T10:15:53.707Z"
   },
   {
    "duration": 4,
    "start_time": "2022-01-10T10:15:53.786Z"
   },
   {
    "duration": 26,
    "start_time": "2022-01-10T10:15:53.793Z"
   },
   {
    "duration": 51,
    "start_time": "2022-01-10T10:15:53.821Z"
   },
   {
    "duration": 10,
    "start_time": "2022-01-10T10:15:53.877Z"
   },
   {
    "duration": 32,
    "start_time": "2022-01-10T10:15:53.890Z"
   },
   {
    "duration": 11,
    "start_time": "2022-01-10T10:15:53.925Z"
   },
   {
    "duration": 981,
    "start_time": "2022-01-10T10:15:53.938Z"
   },
   {
    "duration": 5,
    "start_time": "2022-01-10T10:15:54.922Z"
   },
   {
    "duration": 8,
    "start_time": "2022-01-10T10:15:54.929Z"
   },
   {
    "duration": 5,
    "start_time": "2022-01-10T10:31:33.955Z"
   },
   {
    "duration": 4611,
    "start_time": "2022-01-10T10:36:08.504Z"
   },
   {
    "duration": 8783,
    "start_time": "2022-01-10T10:37:00.845Z"
   },
   {
    "duration": 10385,
    "start_time": "2022-01-10T10:37:15.359Z"
   },
   {
    "duration": 4451,
    "start_time": "2022-01-10T10:37:45.712Z"
   },
   {
    "duration": 14,
    "start_time": "2022-01-10T10:38:16.018Z"
   },
   {
    "duration": 28,
    "start_time": "2022-01-10T10:38:21.589Z"
   },
   {
    "duration": 26,
    "start_time": "2022-01-10T10:39:43.442Z"
   },
   {
    "duration": 19,
    "start_time": "2022-01-10T10:41:11.041Z"
   },
   {
    "duration": 53,
    "start_time": "2022-01-10T10:49:24.698Z"
   },
   {
    "duration": 12,
    "start_time": "2022-01-10T12:56:34.402Z"
   },
   {
    "duration": 303,
    "start_time": "2022-01-10T12:58:09.617Z"
   },
   {
    "duration": 7,
    "start_time": "2022-01-10T12:58:15.449Z"
   },
   {
    "duration": 10,
    "start_time": "2022-01-10T13:05:18.916Z"
   },
   {
    "duration": 17,
    "start_time": "2022-01-10T13:13:45.916Z"
   },
   {
    "duration": 16,
    "start_time": "2022-01-10T13:14:13.228Z"
   },
   {
    "duration": 28,
    "start_time": "2022-01-10T13:15:23.842Z"
   },
   {
    "duration": 32,
    "start_time": "2022-01-10T13:15:39.629Z"
   },
   {
    "duration": 383,
    "start_time": "2022-01-10T13:17:59.144Z"
   },
   {
    "duration": 5,
    "start_time": "2022-01-10T13:18:05.535Z"
   },
   {
    "duration": 293,
    "start_time": "2022-01-10T13:18:51.022Z"
   },
   {
    "duration": 8,
    "start_time": "2022-01-10T13:19:02.678Z"
   },
   {
    "duration": 9,
    "start_time": "2022-01-10T13:19:27.349Z"
   },
   {
    "duration": 10,
    "start_time": "2022-01-10T13:20:13.600Z"
   },
   {
    "duration": 20,
    "start_time": "2022-01-10T13:20:28.939Z"
   },
   {
    "duration": 322,
    "start_time": "2022-01-10T13:22:00.952Z"
   },
   {
    "duration": 21,
    "start_time": "2022-01-10T13:22:05.505Z"
   },
   {
    "duration": 157,
    "start_time": "2022-01-10T13:22:19.971Z"
   },
   {
    "duration": 19,
    "start_time": "2022-01-10T13:22:22.604Z"
   },
   {
    "duration": 97,
    "start_time": "2022-01-10T13:22:59.637Z"
   },
   {
    "duration": 102,
    "start_time": "2022-01-10T13:23:08.063Z"
   },
   {
    "duration": 100,
    "start_time": "2022-01-10T13:23:16.223Z"
   },
   {
    "duration": 117,
    "start_time": "2022-01-10T13:23:19.327Z"
   },
   {
    "duration": 151,
    "start_time": "2022-01-10T13:27:25.235Z"
   },
   {
    "duration": 20,
    "start_time": "2022-01-10T13:27:31.492Z"
   },
   {
    "duration": 66,
    "start_time": "2022-01-10T13:27:38.994Z"
   },
   {
    "duration": 35,
    "start_time": "2022-01-10T13:27:39.064Z"
   },
   {
    "duration": 15,
    "start_time": "2022-01-10T13:27:39.103Z"
   },
   {
    "duration": 71,
    "start_time": "2022-01-10T13:27:39.122Z"
   },
   {
    "duration": 6,
    "start_time": "2022-01-10T13:27:39.195Z"
   },
   {
    "duration": 12,
    "start_time": "2022-01-10T13:27:39.204Z"
   },
   {
    "duration": 6,
    "start_time": "2022-01-10T13:27:39.218Z"
   },
   {
    "duration": 5,
    "start_time": "2022-01-10T13:27:39.265Z"
   },
   {
    "duration": 6,
    "start_time": "2022-01-10T13:27:39.273Z"
   },
   {
    "duration": 15,
    "start_time": "2022-01-10T13:27:39.281Z"
   },
   {
    "duration": 21,
    "start_time": "2022-01-10T13:27:39.298Z"
   },
   {
    "duration": 42,
    "start_time": "2022-01-10T13:27:39.322Z"
   },
   {
    "duration": 27,
    "start_time": "2022-01-10T13:27:39.367Z"
   },
   {
    "duration": 10,
    "start_time": "2022-01-10T13:27:39.397Z"
   },
   {
    "duration": 8,
    "start_time": "2022-01-10T13:27:39.409Z"
   },
   {
    "duration": 55,
    "start_time": "2022-01-10T13:27:39.420Z"
   },
   {
    "duration": 6,
    "start_time": "2022-01-10T13:27:39.477Z"
   },
   {
    "duration": 12,
    "start_time": "2022-01-10T13:27:39.486Z"
   },
   {
    "duration": 8,
    "start_time": "2022-01-10T13:27:39.501Z"
   },
   {
    "duration": 63,
    "start_time": "2022-01-10T13:27:39.512Z"
   },
   {
    "duration": 10,
    "start_time": "2022-01-10T13:27:39.577Z"
   },
   {
    "duration": 25,
    "start_time": "2022-01-10T13:27:39.590Z"
   },
   {
    "duration": 83,
    "start_time": "2022-01-10T13:27:39.621Z"
   },
   {
    "duration": 5,
    "start_time": "2022-01-10T13:27:39.708Z"
   },
   {
    "duration": 48,
    "start_time": "2022-01-10T13:27:39.715Z"
   },
   {
    "duration": 26,
    "start_time": "2022-01-10T13:27:39.765Z"
   },
   {
    "duration": 11,
    "start_time": "2022-01-10T13:27:39.794Z"
   },
   {
    "duration": 55,
    "start_time": "2022-01-10T13:27:39.808Z"
   },
   {
    "duration": 4,
    "start_time": "2022-01-10T13:27:39.865Z"
   },
   {
    "duration": 1048,
    "start_time": "2022-01-10T13:27:39.872Z"
   },
   {
    "duration": 5,
    "start_time": "2022-01-10T13:27:40.923Z"
   },
   {
    "duration": 7,
    "start_time": "2022-01-10T13:27:40.931Z"
   },
   {
    "duration": 5,
    "start_time": "2022-01-10T13:27:40.963Z"
   },
   {
    "duration": 3801,
    "start_time": "2022-01-10T13:27:40.971Z"
   },
   {
    "duration": 27,
    "start_time": "2022-01-10T13:27:44.775Z"
   },
   {
    "duration": 11,
    "start_time": "2022-01-10T13:27:44.805Z"
   },
   {
    "duration": 69,
    "start_time": "2022-01-10T13:27:44.818Z"
   },
   {
    "duration": 15,
    "start_time": "2022-01-10T13:27:44.890Z"
   },
   {
    "duration": 23,
    "start_time": "2022-01-10T13:28:51.962Z"
   },
   {
    "duration": 587,
    "start_time": "2022-01-10T16:32:47.632Z"
   },
   {
    "duration": 26,
    "start_time": "2022-01-10T16:32:48.221Z"
   },
   {
    "duration": 9,
    "start_time": "2022-01-10T16:32:48.249Z"
   },
   {
    "duration": 38,
    "start_time": "2022-01-10T16:32:48.260Z"
   },
   {
    "duration": 4,
    "start_time": "2022-01-10T16:32:48.300Z"
   },
   {
    "duration": 5,
    "start_time": "2022-01-10T16:32:48.306Z"
   },
   {
    "duration": 6,
    "start_time": "2022-01-10T16:32:48.313Z"
   },
   {
    "duration": 4,
    "start_time": "2022-01-10T16:32:48.321Z"
   },
   {
    "duration": 3,
    "start_time": "2022-01-10T16:32:48.329Z"
   },
   {
    "duration": 10,
    "start_time": "2022-01-10T16:32:48.334Z"
   },
   {
    "duration": 58,
    "start_time": "2022-01-10T16:32:48.346Z"
   },
   {
    "duration": 3,
    "start_time": "2022-01-10T16:32:48.406Z"
   },
   {
    "duration": 17,
    "start_time": "2022-01-10T16:32:48.411Z"
   },
   {
    "duration": 7,
    "start_time": "2022-01-10T16:32:48.429Z"
   },
   {
    "duration": 6,
    "start_time": "2022-01-10T16:32:48.438Z"
   },
   {
    "duration": 12,
    "start_time": "2022-01-10T16:32:48.445Z"
   },
   {
    "duration": 35,
    "start_time": "2022-01-10T16:32:48.459Z"
   },
   {
    "duration": 10,
    "start_time": "2022-01-10T16:32:48.495Z"
   },
   {
    "duration": 9,
    "start_time": "2022-01-10T16:32:48.506Z"
   },
   {
    "duration": 11,
    "start_time": "2022-01-10T16:32:48.517Z"
   },
   {
    "duration": 14,
    "start_time": "2022-01-10T16:32:48.530Z"
   },
   {
    "duration": 22,
    "start_time": "2022-01-10T16:32:48.546Z"
   },
   {
    "duration": 49,
    "start_time": "2022-01-10T16:32:48.570Z"
   },
   {
    "duration": 3,
    "start_time": "2022-01-10T16:32:48.622Z"
   },
   {
    "duration": 18,
    "start_time": "2022-01-10T16:32:48.628Z"
   },
   {
    "duration": 44,
    "start_time": "2022-01-10T16:32:48.648Z"
   },
   {
    "duration": 7,
    "start_time": "2022-01-10T16:32:48.697Z"
   },
   {
    "duration": 22,
    "start_time": "2022-01-10T16:32:48.707Z"
   },
   {
    "duration": 4,
    "start_time": "2022-01-10T16:32:48.731Z"
   },
   {
    "duration": 728,
    "start_time": "2022-01-10T16:32:48.737Z"
   },
   {
    "duration": 4,
    "start_time": "2022-01-10T16:32:49.467Z"
   },
   {
    "duration": 13,
    "start_time": "2022-01-10T16:32:49.473Z"
   },
   {
    "duration": 13,
    "start_time": "2022-01-10T16:32:49.488Z"
   },
   {
    "duration": 3121,
    "start_time": "2022-01-10T16:32:49.503Z"
   },
   {
    "duration": 16,
    "start_time": "2022-01-10T16:32:52.626Z"
   },
   {
    "duration": 18,
    "start_time": "2022-01-10T16:32:52.644Z"
   },
   {
    "duration": 39,
    "start_time": "2022-01-10T16:32:52.663Z"
   },
   {
    "duration": 13,
    "start_time": "2022-01-10T16:32:52.704Z"
   },
   {
    "duration": 49,
    "start_time": "2022-01-10T16:36:53.578Z"
   },
   {
    "duration": 20,
    "start_time": "2022-01-10T16:36:53.629Z"
   },
   {
    "duration": 11,
    "start_time": "2022-01-10T16:36:53.661Z"
   },
   {
    "duration": 30,
    "start_time": "2022-01-10T16:36:53.673Z"
   },
   {
    "duration": 4,
    "start_time": "2022-01-10T16:36:53.705Z"
   },
   {
    "duration": 5,
    "start_time": "2022-01-10T16:36:53.711Z"
   },
   {
    "duration": 6,
    "start_time": "2022-01-10T16:36:53.718Z"
   },
   {
    "duration": 5,
    "start_time": "2022-01-10T16:36:53.726Z"
   },
   {
    "duration": 6,
    "start_time": "2022-01-10T16:36:53.733Z"
   },
   {
    "duration": 59,
    "start_time": "2022-01-10T16:36:53.741Z"
   },
   {
    "duration": 14,
    "start_time": "2022-01-10T16:36:53.803Z"
   },
   {
    "duration": 3,
    "start_time": "2022-01-10T16:36:53.819Z"
   },
   {
    "duration": 14,
    "start_time": "2022-01-10T16:36:53.824Z"
   },
   {
    "duration": 7,
    "start_time": "2022-01-10T16:36:53.840Z"
   },
   {
    "duration": 6,
    "start_time": "2022-01-10T16:36:53.849Z"
   },
   {
    "duration": 46,
    "start_time": "2022-01-10T16:36:53.856Z"
   },
   {
    "duration": 3,
    "start_time": "2022-01-10T16:36:53.903Z"
   },
   {
    "duration": 9,
    "start_time": "2022-01-10T16:36:53.908Z"
   },
   {
    "duration": 5,
    "start_time": "2022-01-10T16:36:53.918Z"
   },
   {
    "duration": 10,
    "start_time": "2022-01-10T16:36:53.925Z"
   },
   {
    "duration": 9,
    "start_time": "2022-01-10T16:36:53.936Z"
   },
   {
    "duration": 50,
    "start_time": "2022-01-10T16:36:53.946Z"
   },
   {
    "duration": 30,
    "start_time": "2022-01-10T16:36:53.998Z"
   },
   {
    "duration": 3,
    "start_time": "2022-01-10T16:36:54.030Z"
   },
   {
    "duration": 21,
    "start_time": "2022-01-10T16:36:54.036Z"
   },
   {
    "duration": 40,
    "start_time": "2022-01-10T16:36:54.059Z"
   },
   {
    "duration": 7,
    "start_time": "2022-01-10T16:36:54.100Z"
   },
   {
    "duration": 19,
    "start_time": "2022-01-10T16:36:54.109Z"
   },
   {
    "duration": 3,
    "start_time": "2022-01-10T16:36:54.130Z"
   },
   {
    "duration": 734,
    "start_time": "2022-01-10T16:36:54.134Z"
   },
   {
    "duration": 3,
    "start_time": "2022-01-10T16:36:54.870Z"
   },
   {
    "duration": 17,
    "start_time": "2022-01-10T16:36:54.875Z"
   },
   {
    "duration": 8,
    "start_time": "2022-01-10T16:36:54.894Z"
   },
   {
    "duration": 3064,
    "start_time": "2022-01-10T16:36:54.904Z"
   },
   {
    "duration": 23,
    "start_time": "2022-01-10T16:36:57.969Z"
   },
   {
    "duration": 12,
    "start_time": "2022-01-10T16:36:57.994Z"
   },
   {
    "duration": 38,
    "start_time": "2022-01-10T16:36:58.008Z"
   },
   {
    "duration": 11,
    "start_time": "2022-01-10T16:36:58.048Z"
   },
   {
    "duration": 7,
    "start_time": "2022-01-10T16:43:05.879Z"
   },
   {
    "duration": 5,
    "start_time": "2022-01-10T16:43:46.424Z"
   },
   {
    "duration": 25,
    "start_time": "2022-01-10T16:48:14.051Z"
   },
   {
    "duration": 21,
    "start_time": "2022-01-10T16:49:15.917Z"
   },
   {
    "duration": 15,
    "start_time": "2022-01-10T16:49:27.439Z"
   },
   {
    "duration": 19,
    "start_time": "2022-01-10T16:50:42.153Z"
   },
   {
    "duration": 13,
    "start_time": "2022-01-10T16:50:56.887Z"
   },
   {
    "duration": 15,
    "start_time": "2022-01-10T16:51:13.175Z"
   },
   {
    "duration": 51,
    "start_time": "2022-01-10T16:51:19.482Z"
   },
   {
    "duration": 20,
    "start_time": "2022-01-10T16:51:19.535Z"
   },
   {
    "duration": 39,
    "start_time": "2022-01-10T16:51:19.557Z"
   },
   {
    "duration": 18,
    "start_time": "2022-01-10T16:51:19.598Z"
   },
   {
    "duration": 4,
    "start_time": "2022-01-10T16:51:19.618Z"
   },
   {
    "duration": 6,
    "start_time": "2022-01-10T16:51:19.624Z"
   },
   {
    "duration": 5,
    "start_time": "2022-01-10T16:51:19.632Z"
   },
   {
    "duration": 5,
    "start_time": "2022-01-10T16:51:19.639Z"
   },
   {
    "duration": 46,
    "start_time": "2022-01-10T16:51:19.647Z"
   },
   {
    "duration": 14,
    "start_time": "2022-01-10T16:51:19.696Z"
   },
   {
    "duration": 18,
    "start_time": "2022-01-10T16:51:19.711Z"
   },
   {
    "duration": 3,
    "start_time": "2022-01-10T16:51:19.731Z"
   },
   {
    "duration": 22,
    "start_time": "2022-01-10T16:51:19.736Z"
   },
   {
    "duration": 36,
    "start_time": "2022-01-10T16:51:19.760Z"
   },
   {
    "duration": 7,
    "start_time": "2022-01-10T16:51:19.798Z"
   },
   {
    "duration": 14,
    "start_time": "2022-01-10T16:51:19.807Z"
   },
   {
    "duration": 4,
    "start_time": "2022-01-10T16:51:19.823Z"
   },
   {
    "duration": 8,
    "start_time": "2022-01-10T16:51:19.829Z"
   },
   {
    "duration": 6,
    "start_time": "2022-01-10T16:51:19.839Z"
   },
   {
    "duration": 53,
    "start_time": "2022-01-10T16:51:19.847Z"
   },
   {
    "duration": 9,
    "start_time": "2022-01-10T16:51:19.903Z"
   },
   {
    "duration": 18,
    "start_time": "2022-01-10T16:51:19.913Z"
   },
   {
    "duration": 57,
    "start_time": "2022-01-10T16:51:19.934Z"
   },
   {
    "duration": 3,
    "start_time": "2022-01-10T16:51:19.993Z"
   },
   {
    "duration": 24,
    "start_time": "2022-01-10T16:51:19.998Z"
   },
   {
    "duration": 18,
    "start_time": "2022-01-10T16:51:20.024Z"
   },
   {
    "duration": 8,
    "start_time": "2022-01-10T16:51:20.047Z"
   },
   {
    "duration": 48,
    "start_time": "2022-01-10T16:51:20.057Z"
   },
   {
    "duration": 3,
    "start_time": "2022-01-10T16:51:20.108Z"
   },
   {
    "duration": 740,
    "start_time": "2022-01-10T16:51:20.113Z"
   },
   {
    "duration": 3,
    "start_time": "2022-01-10T16:51:20.855Z"
   },
   {
    "duration": 17,
    "start_time": "2022-01-10T16:51:20.860Z"
   },
   {
    "duration": 6,
    "start_time": "2022-01-10T16:51:20.879Z"
   },
   {
    "duration": 3084,
    "start_time": "2022-01-10T16:51:20.887Z"
   },
   {
    "duration": 40,
    "start_time": "2022-01-10T16:51:23.972Z"
   },
   {
    "duration": 9,
    "start_time": "2022-01-10T16:51:24.014Z"
   },
   {
    "duration": 29,
    "start_time": "2022-01-10T16:51:24.025Z"
   },
   {
    "duration": 37,
    "start_time": "2022-01-10T16:51:24.056Z"
   },
   {
    "duration": 9,
    "start_time": "2022-01-10T17:27:01.076Z"
   },
   {
    "duration": 17,
    "start_time": "2022-01-10T17:27:42.034Z"
   },
   {
    "duration": 22,
    "start_time": "2022-01-10T17:27:50.633Z"
   },
   {
    "duration": 22,
    "start_time": "2022-01-10T17:29:08.410Z"
   },
   {
    "duration": 14,
    "start_time": "2022-01-10T17:31:18.888Z"
   },
   {
    "duration": 12,
    "start_time": "2022-01-10T17:31:29.655Z"
   },
   {
    "duration": 8,
    "start_time": "2022-01-10T17:45:56.388Z"
   },
   {
    "duration": 279,
    "start_time": "2022-01-11T07:24:49.125Z"
   },
   {
    "duration": 629,
    "start_time": "2022-01-11T07:24:54.958Z"
   },
   {
    "duration": 25,
    "start_time": "2022-01-11T07:24:55.588Z"
   },
   {
    "duration": 9,
    "start_time": "2022-01-11T07:24:55.615Z"
   },
   {
    "duration": 19,
    "start_time": "2022-01-11T07:24:55.626Z"
   },
   {
    "duration": 3,
    "start_time": "2022-01-11T07:24:55.647Z"
   },
   {
    "duration": 8,
    "start_time": "2022-01-11T07:24:55.652Z"
   },
   {
    "duration": 9,
    "start_time": "2022-01-11T07:24:55.662Z"
   },
   {
    "duration": 7,
    "start_time": "2022-01-11T07:24:55.673Z"
   },
   {
    "duration": 5,
    "start_time": "2022-01-11T07:24:55.682Z"
   },
   {
    "duration": 12,
    "start_time": "2022-01-11T07:24:55.689Z"
   },
   {
    "duration": 12,
    "start_time": "2022-01-11T07:24:55.703Z"
   },
   {
    "duration": 26,
    "start_time": "2022-01-11T07:24:55.716Z"
   },
   {
    "duration": 14,
    "start_time": "2022-01-11T07:24:55.744Z"
   },
   {
    "duration": 10,
    "start_time": "2022-01-11T07:24:55.759Z"
   },
   {
    "duration": 7,
    "start_time": "2022-01-11T07:24:55.771Z"
   },
   {
    "duration": 13,
    "start_time": "2022-01-11T07:24:55.780Z"
   },
   {
    "duration": 4,
    "start_time": "2022-01-11T07:24:55.794Z"
   },
   {
    "duration": 8,
    "start_time": "2022-01-11T07:24:55.800Z"
   },
   {
    "duration": 33,
    "start_time": "2022-01-11T07:24:55.809Z"
   },
   {
    "duration": 13,
    "start_time": "2022-01-11T07:24:55.844Z"
   },
   {
    "duration": 18,
    "start_time": "2022-01-11T07:24:55.858Z"
   },
   {
    "duration": 22,
    "start_time": "2022-01-11T07:24:55.878Z"
   },
   {
    "duration": 39,
    "start_time": "2022-01-11T07:24:55.903Z"
   },
   {
    "duration": 3,
    "start_time": "2022-01-11T07:24:55.944Z"
   },
   {
    "duration": 23,
    "start_time": "2022-01-11T07:24:55.948Z"
   },
   {
    "duration": 15,
    "start_time": "2022-01-11T07:24:55.973Z"
   },
   {
    "duration": 7,
    "start_time": "2022-01-11T07:24:55.989Z"
   },
   {
    "duration": 23,
    "start_time": "2022-01-11T07:24:55.998Z"
   },
   {
    "duration": 21,
    "start_time": "2022-01-11T07:24:56.022Z"
   },
   {
    "duration": 679,
    "start_time": "2022-01-11T07:24:56.044Z"
   },
   {
    "duration": 4,
    "start_time": "2022-01-11T07:24:56.725Z"
   },
   {
    "duration": 11,
    "start_time": "2022-01-11T07:24:56.730Z"
   },
   {
    "duration": 4,
    "start_time": "2022-01-11T07:24:56.742Z"
   },
   {
    "duration": 2813,
    "start_time": "2022-01-11T07:24:56.747Z"
   },
   {
    "duration": 12,
    "start_time": "2022-01-11T07:24:59.561Z"
   },
   {
    "duration": 9,
    "start_time": "2022-01-11T07:24:59.575Z"
   },
   {
    "duration": 31,
    "start_time": "2022-01-11T07:24:59.585Z"
   },
   {
    "duration": 28,
    "start_time": "2022-01-11T07:24:59.618Z"
   },
   {
    "duration": 6,
    "start_time": "2022-01-11T07:24:59.647Z"
   },
   {
    "duration": 25,
    "start_time": "2022-01-11T07:24:59.655Z"
   },
   {
    "duration": 10,
    "start_time": "2022-01-11T07:24:59.681Z"
   },
   {
    "duration": 30,
    "start_time": "2022-01-11T07:28:04.355Z"
   },
   {
    "duration": 23,
    "start_time": "2022-01-11T07:29:11.825Z"
   },
   {
    "duration": 24,
    "start_time": "2022-01-11T07:29:24.097Z"
   },
   {
    "duration": 25,
    "start_time": "2022-01-11T07:29:34.058Z"
   },
   {
    "duration": 12,
    "start_time": "2022-01-11T07:32:52.898Z"
   },
   {
    "duration": 48,
    "start_time": "2022-01-11T07:33:03.829Z"
   },
   {
    "duration": 18,
    "start_time": "2022-01-11T07:33:03.879Z"
   },
   {
    "duration": 8,
    "start_time": "2022-01-11T07:33:03.899Z"
   },
   {
    "duration": 44,
    "start_time": "2022-01-11T07:33:03.909Z"
   },
   {
    "duration": 16,
    "start_time": "2022-01-11T07:33:03.955Z"
   },
   {
    "duration": 21,
    "start_time": "2022-01-11T07:33:03.972Z"
   },
   {
    "duration": 15,
    "start_time": "2022-01-11T07:33:03.995Z"
   },
   {
    "duration": 34,
    "start_time": "2022-01-11T07:33:04.013Z"
   },
   {
    "duration": 30,
    "start_time": "2022-01-11T07:33:04.049Z"
   },
   {
    "duration": 31,
    "start_time": "2022-01-11T07:33:04.081Z"
   },
   {
    "duration": 30,
    "start_time": "2022-01-11T07:33:04.114Z"
   },
   {
    "duration": 9,
    "start_time": "2022-01-11T07:33:04.146Z"
   },
   {
    "duration": 17,
    "start_time": "2022-01-11T07:33:04.156Z"
   },
   {
    "duration": 10,
    "start_time": "2022-01-11T07:33:04.175Z"
   },
   {
    "duration": 6,
    "start_time": "2022-01-11T07:33:04.187Z"
   },
   {
    "duration": 13,
    "start_time": "2022-01-11T07:33:04.194Z"
   },
   {
    "duration": 4,
    "start_time": "2022-01-11T07:33:04.208Z"
   },
   {
    "duration": 16,
    "start_time": "2022-01-11T07:33:04.213Z"
   },
   {
    "duration": 13,
    "start_time": "2022-01-11T07:33:04.230Z"
   },
   {
    "duration": 33,
    "start_time": "2022-01-11T07:33:04.245Z"
   },
   {
    "duration": 40,
    "start_time": "2022-01-11T07:33:04.279Z"
   },
   {
    "duration": 34,
    "start_time": "2022-01-11T07:33:04.320Z"
   },
   {
    "duration": 47,
    "start_time": "2022-01-11T07:33:04.357Z"
   },
   {
    "duration": 7,
    "start_time": "2022-01-11T07:33:04.406Z"
   },
   {
    "duration": 50,
    "start_time": "2022-01-11T07:33:04.414Z"
   },
   {
    "duration": 22,
    "start_time": "2022-01-11T07:33:04.466Z"
   },
   {
    "duration": 20,
    "start_time": "2022-01-11T07:33:04.490Z"
   },
   {
    "duration": 28,
    "start_time": "2022-01-11T07:33:04.512Z"
   },
   {
    "duration": 11,
    "start_time": "2022-01-11T07:33:04.542Z"
   },
   {
    "duration": 674,
    "start_time": "2022-01-11T07:33:04.555Z"
   },
   {
    "duration": 12,
    "start_time": "2022-01-11T07:33:05.231Z"
   },
   {
    "duration": 5,
    "start_time": "2022-01-11T07:33:05.245Z"
   },
   {
    "duration": 7,
    "start_time": "2022-01-11T07:33:05.252Z"
   },
   {
    "duration": 2636,
    "start_time": "2022-01-11T07:33:05.261Z"
   },
   {
    "duration": 11,
    "start_time": "2022-01-11T07:33:07.899Z"
   },
   {
    "duration": 59,
    "start_time": "2022-01-11T07:33:07.912Z"
   },
   {
    "duration": 5,
    "start_time": "2022-01-11T07:33:07.973Z"
   },
   {
    "duration": 52,
    "start_time": "2022-01-11T07:33:07.979Z"
   },
   {
    "duration": 48,
    "start_time": "2022-01-11T07:33:08.032Z"
   },
   {
    "duration": 30,
    "start_time": "2022-01-11T07:33:08.082Z"
   },
   {
    "duration": 60,
    "start_time": "2022-01-11T07:33:08.113Z"
   },
   {
    "duration": 32,
    "start_time": "2022-01-11T07:33:08.174Z"
   },
   {
    "duration": 54,
    "start_time": "2022-01-11T07:34:51.521Z"
   },
   {
    "duration": 22,
    "start_time": "2022-01-11T07:34:51.577Z"
   },
   {
    "duration": 45,
    "start_time": "2022-01-11T07:34:51.601Z"
   },
   {
    "duration": 19,
    "start_time": "2022-01-11T07:34:51.648Z"
   },
   {
    "duration": 17,
    "start_time": "2022-01-11T07:34:51.669Z"
   },
   {
    "duration": 21,
    "start_time": "2022-01-11T07:34:51.688Z"
   },
   {
    "duration": 15,
    "start_time": "2022-01-11T07:34:51.711Z"
   },
   {
    "duration": 27,
    "start_time": "2022-01-11T07:34:51.728Z"
   },
   {
    "duration": 15,
    "start_time": "2022-01-11T07:34:51.758Z"
   },
   {
    "duration": 18,
    "start_time": "2022-01-11T07:34:51.775Z"
   },
   {
    "duration": 23,
    "start_time": "2022-01-11T07:34:51.794Z"
   },
   {
    "duration": 4,
    "start_time": "2022-01-11T07:34:51.819Z"
   },
   {
    "duration": 28,
    "start_time": "2022-01-11T07:34:51.824Z"
   },
   {
    "duration": 26,
    "start_time": "2022-01-11T07:34:51.853Z"
   },
   {
    "duration": 18,
    "start_time": "2022-01-11T07:34:51.880Z"
   },
   {
    "duration": 14,
    "start_time": "2022-01-11T07:34:51.900Z"
   },
   {
    "duration": 6,
    "start_time": "2022-01-11T07:34:51.916Z"
   },
   {
    "duration": 16,
    "start_time": "2022-01-11T07:34:51.923Z"
   },
   {
    "duration": 15,
    "start_time": "2022-01-11T07:34:51.941Z"
   },
   {
    "duration": 16,
    "start_time": "2022-01-11T07:34:51.958Z"
   },
   {
    "duration": 21,
    "start_time": "2022-01-11T07:34:51.976Z"
   },
   {
    "duration": 27,
    "start_time": "2022-01-11T07:34:51.998Z"
   },
   {
    "duration": 28,
    "start_time": "2022-01-11T07:34:52.026Z"
   },
   {
    "duration": 2,
    "start_time": "2022-01-11T07:34:52.056Z"
   },
   {
    "duration": 20,
    "start_time": "2022-01-11T07:34:52.060Z"
   },
   {
    "duration": 19,
    "start_time": "2022-01-11T07:34:52.081Z"
   },
   {
    "duration": 9,
    "start_time": "2022-01-11T07:34:52.103Z"
   },
   {
    "duration": 28,
    "start_time": "2022-01-11T07:34:52.114Z"
   },
   {
    "duration": 2,
    "start_time": "2022-01-11T07:34:52.144Z"
   },
   {
    "duration": 781,
    "start_time": "2022-01-11T07:34:52.148Z"
   },
   {
    "duration": 10,
    "start_time": "2022-01-11T07:34:52.931Z"
   },
   {
    "duration": 3,
    "start_time": "2022-01-11T07:34:52.943Z"
   },
   {
    "duration": 6,
    "start_time": "2022-01-11T07:34:52.948Z"
   },
   {
    "duration": 2809,
    "start_time": "2022-01-11T07:34:52.955Z"
   },
   {
    "duration": 11,
    "start_time": "2022-01-11T07:34:55.765Z"
   },
   {
    "duration": 28,
    "start_time": "2022-01-11T07:34:55.778Z"
   },
   {
    "duration": 5,
    "start_time": "2022-01-11T07:34:55.808Z"
   },
   {
    "duration": 38,
    "start_time": "2022-01-11T07:34:55.814Z"
   },
   {
    "duration": 11,
    "start_time": "2022-01-11T07:34:55.853Z"
   },
   {
    "duration": 6,
    "start_time": "2022-01-11T07:34:55.865Z"
   },
   {
    "duration": 23,
    "start_time": "2022-01-11T07:34:55.873Z"
   },
   {
    "duration": 9,
    "start_time": "2022-01-11T07:34:55.897Z"
   },
   {
    "duration": 51,
    "start_time": "2022-01-11T07:37:13.522Z"
   },
   {
    "duration": 20,
    "start_time": "2022-01-11T07:37:13.576Z"
   },
   {
    "duration": 11,
    "start_time": "2022-01-11T07:37:13.599Z"
   },
   {
    "duration": 45,
    "start_time": "2022-01-11T07:37:13.611Z"
   },
   {
    "duration": 9,
    "start_time": "2022-01-11T07:37:13.658Z"
   },
   {
    "duration": 17,
    "start_time": "2022-01-11T07:37:13.668Z"
   },
   {
    "duration": 30,
    "start_time": "2022-01-11T07:37:13.687Z"
   },
   {
    "duration": 9,
    "start_time": "2022-01-11T07:37:13.720Z"
   },
   {
    "duration": 20,
    "start_time": "2022-01-11T07:37:13.731Z"
   },
   {
    "duration": 23,
    "start_time": "2022-01-11T07:37:13.753Z"
   },
   {
    "duration": 27,
    "start_time": "2022-01-11T07:37:13.778Z"
   },
   {
    "duration": 8,
    "start_time": "2022-01-11T07:37:13.807Z"
   },
   {
    "duration": 24,
    "start_time": "2022-01-11T07:37:13.817Z"
   },
   {
    "duration": 36,
    "start_time": "2022-01-11T07:37:13.843Z"
   },
   {
    "duration": 14,
    "start_time": "2022-01-11T07:37:13.881Z"
   },
   {
    "duration": 30,
    "start_time": "2022-01-11T07:37:13.897Z"
   },
   {
    "duration": 16,
    "start_time": "2022-01-11T07:37:13.929Z"
   },
   {
    "duration": 27,
    "start_time": "2022-01-11T07:37:13.946Z"
   },
   {
    "duration": 13,
    "start_time": "2022-01-11T07:37:13.975Z"
   },
   {
    "duration": 38,
    "start_time": "2022-01-11T07:37:13.989Z"
   },
   {
    "duration": 23,
    "start_time": "2022-01-11T07:37:14.028Z"
   },
   {
    "duration": 34,
    "start_time": "2022-01-11T07:37:14.053Z"
   },
   {
    "duration": 33,
    "start_time": "2022-01-11T07:37:14.089Z"
   },
   {
    "duration": 3,
    "start_time": "2022-01-11T07:37:14.124Z"
   },
   {
    "duration": 17,
    "start_time": "2022-01-11T07:37:14.128Z"
   },
   {
    "duration": 19,
    "start_time": "2022-01-11T07:37:14.147Z"
   },
   {
    "duration": 14,
    "start_time": "2022-01-11T07:37:14.168Z"
   },
   {
    "duration": 28,
    "start_time": "2022-01-11T07:37:14.184Z"
   },
   {
    "duration": 19,
    "start_time": "2022-01-11T07:37:14.213Z"
   },
   {
    "duration": 659,
    "start_time": "2022-01-11T07:37:14.233Z"
   },
   {
    "duration": 3,
    "start_time": "2022-01-11T07:37:14.894Z"
   },
   {
    "duration": 13,
    "start_time": "2022-01-11T07:37:14.899Z"
   },
   {
    "duration": 23,
    "start_time": "2022-01-11T07:37:14.913Z"
   },
   {
    "duration": 2888,
    "start_time": "2022-01-11T07:37:14.937Z"
   },
   {
    "duration": 15,
    "start_time": "2022-01-11T07:37:17.827Z"
   },
   {
    "duration": 31,
    "start_time": "2022-01-11T07:37:17.843Z"
   },
   {
    "duration": 5,
    "start_time": "2022-01-11T07:37:17.876Z"
   },
   {
    "duration": 21,
    "start_time": "2022-01-11T07:37:17.882Z"
   },
   {
    "duration": 9,
    "start_time": "2022-01-11T07:37:17.905Z"
   },
   {
    "duration": 6,
    "start_time": "2022-01-11T07:37:17.940Z"
   },
   {
    "duration": 21,
    "start_time": "2022-01-11T07:37:17.948Z"
   },
   {
    "duration": 9,
    "start_time": "2022-01-11T07:37:17.971Z"
   },
   {
    "duration": 51,
    "start_time": "2022-01-11T07:37:50.612Z"
   },
   {
    "duration": 18,
    "start_time": "2022-01-11T07:37:50.665Z"
   },
   {
    "duration": 8,
    "start_time": "2022-01-11T07:37:50.685Z"
   },
   {
    "duration": 14,
    "start_time": "2022-01-11T07:37:50.695Z"
   },
   {
    "duration": 15,
    "start_time": "2022-01-11T07:37:50.740Z"
   },
   {
    "duration": 7,
    "start_time": "2022-01-11T07:37:50.757Z"
   },
   {
    "duration": 14,
    "start_time": "2022-01-11T07:37:50.765Z"
   },
   {
    "duration": 4,
    "start_time": "2022-01-11T07:37:50.781Z"
   },
   {
    "duration": 5,
    "start_time": "2022-01-11T07:37:50.787Z"
   },
   {
    "duration": 11,
    "start_time": "2022-01-11T07:37:50.793Z"
   },
   {
    "duration": 11,
    "start_time": "2022-01-11T07:37:50.805Z"
   },
   {
    "duration": 3,
    "start_time": "2022-01-11T07:37:50.817Z"
   },
   {
    "duration": 23,
    "start_time": "2022-01-11T07:37:50.821Z"
   },
   {
    "duration": 8,
    "start_time": "2022-01-11T07:37:50.846Z"
   },
   {
    "duration": 32,
    "start_time": "2022-01-11T07:37:50.856Z"
   },
   {
    "duration": 15,
    "start_time": "2022-01-11T07:37:50.890Z"
   },
   {
    "duration": 5,
    "start_time": "2022-01-11T07:37:50.907Z"
   },
   {
    "duration": 11,
    "start_time": "2022-01-11T07:37:50.914Z"
   },
   {
    "duration": 11,
    "start_time": "2022-01-11T07:37:50.926Z"
   },
   {
    "duration": 28,
    "start_time": "2022-01-11T07:37:50.938Z"
   },
   {
    "duration": 10,
    "start_time": "2022-01-11T07:37:50.968Z"
   },
   {
    "duration": 19,
    "start_time": "2022-01-11T07:37:50.980Z"
   },
   {
    "duration": 26,
    "start_time": "2022-01-11T07:37:51.003Z"
   },
   {
    "duration": 2,
    "start_time": "2022-01-11T07:37:51.031Z"
   },
   {
    "duration": 23,
    "start_time": "2022-01-11T07:37:51.035Z"
   },
   {
    "duration": 14,
    "start_time": "2022-01-11T07:37:51.059Z"
   },
   {
    "duration": 7,
    "start_time": "2022-01-11T07:37:51.074Z"
   },
   {
    "duration": 25,
    "start_time": "2022-01-11T07:37:51.082Z"
   },
   {
    "duration": 5,
    "start_time": "2022-01-11T07:37:51.108Z"
   },
   {
    "duration": 706,
    "start_time": "2022-01-11T07:37:51.114Z"
   },
   {
    "duration": 3,
    "start_time": "2022-01-11T07:37:51.822Z"
   },
   {
    "duration": 5,
    "start_time": "2022-01-11T07:37:51.827Z"
   },
   {
    "duration": 8,
    "start_time": "2022-01-11T07:37:51.834Z"
   },
   {
    "duration": 2830,
    "start_time": "2022-01-11T07:37:51.844Z"
   },
   {
    "duration": 13,
    "start_time": "2022-01-11T07:37:54.676Z"
   },
   {
    "duration": 33,
    "start_time": "2022-01-11T07:37:54.691Z"
   },
   {
    "duration": 20,
    "start_time": "2022-01-11T07:37:54.726Z"
   },
   {
    "duration": 34,
    "start_time": "2022-01-11T07:37:54.748Z"
   },
   {
    "duration": 11,
    "start_time": "2022-01-11T07:37:54.784Z"
   },
   {
    "duration": 11,
    "start_time": "2022-01-11T07:37:54.797Z"
   },
   {
    "duration": 45,
    "start_time": "2022-01-11T07:37:54.810Z"
   },
   {
    "duration": 10,
    "start_time": "2022-01-11T07:37:54.857Z"
   },
   {
    "duration": 14,
    "start_time": "2022-01-11T07:38:42.886Z"
   },
   {
    "duration": 22,
    "start_time": "2022-01-11T07:39:58.763Z"
   },
   {
    "duration": 23,
    "start_time": "2022-01-11T07:40:07.324Z"
   },
   {
    "duration": 328,
    "start_time": "2022-01-11T07:43:48.756Z"
   },
   {
    "duration": -32,
    "start_time": "2022-01-11T07:44:10.608Z"
   },
   {
    "duration": 10251,
    "start_time": "2022-01-11T07:44:10.856Z"
   },
   {
    "duration": 25,
    "start_time": "2022-01-11T07:46:40.413Z"
   },
   {
    "duration": 24,
    "start_time": "2022-01-11T07:46:45.036Z"
   },
   {
    "duration": 26,
    "start_time": "2022-01-11T07:47:43.971Z"
   },
   {
    "duration": -50,
    "start_time": "2022-01-11T07:48:23.251Z"
   },
   {
    "duration": 27,
    "start_time": "2022-01-11T07:48:28.309Z"
   },
   {
    "duration": 25,
    "start_time": "2022-01-11T07:48:45.349Z"
   },
   {
    "duration": 81,
    "start_time": "2022-01-11T07:49:03.403Z"
   },
   {
    "duration": 83,
    "start_time": "2022-01-11T07:49:07.879Z"
   },
   {
    "duration": 27,
    "start_time": "2022-01-11T07:49:11.159Z"
   },
   {
    "duration": 3,
    "start_time": "2022-01-11T07:53:38.030Z"
   },
   {
    "duration": 619,
    "start_time": "2022-01-11T07:54:32.422Z"
   },
   {
    "duration": 12,
    "start_time": "2022-01-11T07:54:46.002Z"
   },
   {
    "duration": 15,
    "start_time": "2022-01-11T07:55:07.580Z"
   },
   {
    "duration": 51,
    "start_time": "2022-01-11T08:47:19.397Z"
   },
   {
    "duration": 19,
    "start_time": "2022-01-11T08:47:19.450Z"
   },
   {
    "duration": 8,
    "start_time": "2022-01-11T08:47:19.471Z"
   },
   {
    "duration": 16,
    "start_time": "2022-01-11T08:47:19.481Z"
   },
   {
    "duration": 3,
    "start_time": "2022-01-11T08:47:19.498Z"
   },
   {
    "duration": 41,
    "start_time": "2022-01-11T08:47:19.503Z"
   },
   {
    "duration": 5,
    "start_time": "2022-01-11T08:47:19.545Z"
   },
   {
    "duration": 5,
    "start_time": "2022-01-11T08:47:19.552Z"
   },
   {
    "duration": 7,
    "start_time": "2022-01-11T08:47:19.559Z"
   },
   {
    "duration": 11,
    "start_time": "2022-01-11T08:47:19.567Z"
   },
   {
    "duration": 17,
    "start_time": "2022-01-11T08:47:19.579Z"
   },
   {
    "duration": 3,
    "start_time": "2022-01-11T08:47:19.597Z"
   },
   {
    "duration": 42,
    "start_time": "2022-01-11T08:47:19.601Z"
   },
   {
    "duration": 5,
    "start_time": "2022-01-11T08:47:19.644Z"
   },
   {
    "duration": 9,
    "start_time": "2022-01-11T08:47:19.650Z"
   },
   {
    "duration": 18,
    "start_time": "2022-01-11T08:47:19.660Z"
   },
   {
    "duration": 4,
    "start_time": "2022-01-11T08:47:19.679Z"
   },
   {
    "duration": 18,
    "start_time": "2022-01-11T08:47:19.684Z"
   },
   {
    "duration": 24,
    "start_time": "2022-01-11T08:47:19.703Z"
   },
   {
    "duration": 16,
    "start_time": "2022-01-11T08:47:19.729Z"
   },
   {
    "duration": 11,
    "start_time": "2022-01-11T08:47:19.747Z"
   },
   {
    "duration": 20,
    "start_time": "2022-01-11T08:47:19.759Z"
   },
   {
    "duration": 28,
    "start_time": "2022-01-11T08:47:19.780Z"
   },
   {
    "duration": 3,
    "start_time": "2022-01-11T08:47:19.809Z"
   },
   {
    "duration": 31,
    "start_time": "2022-01-11T08:47:19.813Z"
   },
   {
    "duration": 15,
    "start_time": "2022-01-11T08:47:19.845Z"
   },
   {
    "duration": 7,
    "start_time": "2022-01-11T08:47:19.863Z"
   },
   {
    "duration": 24,
    "start_time": "2022-01-11T08:47:19.872Z"
   },
   {
    "duration": 4,
    "start_time": "2022-01-11T08:47:19.898Z"
   },
   {
    "duration": 706,
    "start_time": "2022-01-11T08:47:19.904Z"
   },
   {
    "duration": 4,
    "start_time": "2022-01-11T08:47:20.612Z"
   },
   {
    "duration": 24,
    "start_time": "2022-01-11T08:47:20.617Z"
   },
   {
    "duration": 18,
    "start_time": "2022-01-11T08:47:20.643Z"
   },
   {
    "duration": 3051,
    "start_time": "2022-01-11T08:47:20.662Z"
   },
   {
    "duration": 14,
    "start_time": "2022-01-11T08:47:23.715Z"
   },
   {
    "duration": 30,
    "start_time": "2022-01-11T08:47:23.741Z"
   },
   {
    "duration": 4,
    "start_time": "2022-01-11T08:47:23.773Z"
   },
   {
    "duration": 464,
    "start_time": "2022-01-11T08:47:23.778Z"
   },
   {
    "duration": 16,
    "start_time": "2022-01-11T08:47:24.243Z"
   },
   {
    "duration": 7,
    "start_time": "2022-01-11T08:47:24.260Z"
   },
   {
    "duration": 24,
    "start_time": "2022-01-11T08:47:24.269Z"
   },
   {
    "duration": 10,
    "start_time": "2022-01-11T08:47:24.295Z"
   },
   {
    "duration": 6,
    "start_time": "2022-01-11T08:47:24.306Z"
   },
   {
    "duration": 21,
    "start_time": "2022-01-11T08:47:24.342Z"
   },
   {
    "duration": 10,
    "start_time": "2022-01-11T08:47:24.364Z"
   },
   {
    "duration": 4,
    "start_time": "2022-01-11T08:50:26.178Z"
   },
   {
    "duration": 8,
    "start_time": "2022-01-11T08:57:26.851Z"
   },
   {
    "duration": 21,
    "start_time": "2022-01-11T08:58:40.673Z"
   },
   {
    "duration": 14,
    "start_time": "2022-01-11T08:59:55.232Z"
   },
   {
    "duration": 13,
    "start_time": "2022-01-11T09:00:08.095Z"
   },
   {
    "duration": 7,
    "start_time": "2022-01-11T10:37:55.767Z"
   },
   {
    "duration": 26,
    "start_time": "2022-01-11T10:40:46.508Z"
   },
   {
    "duration": 11,
    "start_time": "2022-01-11T10:43:21.369Z"
   },
   {
    "duration": 51,
    "start_time": "2022-01-11T11:32:09.553Z"
   },
   {
    "duration": 18,
    "start_time": "2022-01-11T11:32:09.606Z"
   },
   {
    "duration": 20,
    "start_time": "2022-01-11T11:32:09.626Z"
   },
   {
    "duration": 29,
    "start_time": "2022-01-11T11:32:09.647Z"
   },
   {
    "duration": 9,
    "start_time": "2022-01-11T11:32:09.678Z"
   },
   {
    "duration": 12,
    "start_time": "2022-01-11T11:32:09.688Z"
   },
   {
    "duration": 19,
    "start_time": "2022-01-11T11:32:09.702Z"
   },
   {
    "duration": 5,
    "start_time": "2022-01-11T11:32:09.725Z"
   },
   {
    "duration": 7,
    "start_time": "2022-01-11T11:32:09.740Z"
   },
   {
    "duration": 20,
    "start_time": "2022-01-11T11:32:09.749Z"
   },
   {
    "duration": 24,
    "start_time": "2022-01-11T11:32:09.771Z"
   },
   {
    "duration": 3,
    "start_time": "2022-01-11T11:32:09.797Z"
   },
   {
    "duration": 15,
    "start_time": "2022-01-11T11:32:09.801Z"
   },
   {
    "duration": 13,
    "start_time": "2022-01-11T11:32:09.817Z"
   },
   {
    "duration": 16,
    "start_time": "2022-01-11T11:32:09.831Z"
   },
   {
    "duration": 20,
    "start_time": "2022-01-11T11:32:09.848Z"
   },
   {
    "duration": 8,
    "start_time": "2022-01-11T11:32:09.870Z"
   },
   {
    "duration": 14,
    "start_time": "2022-01-11T11:32:09.880Z"
   },
   {
    "duration": 13,
    "start_time": "2022-01-11T11:32:09.896Z"
   },
   {
    "duration": 19,
    "start_time": "2022-01-11T11:32:09.911Z"
   },
   {
    "duration": 12,
    "start_time": "2022-01-11T11:32:09.931Z"
   },
   {
    "duration": 31,
    "start_time": "2022-01-11T11:32:09.944Z"
   },
   {
    "duration": 33,
    "start_time": "2022-01-11T11:32:09.979Z"
   },
   {
    "duration": 3,
    "start_time": "2022-01-11T11:32:10.014Z"
   },
   {
    "duration": 49,
    "start_time": "2022-01-11T11:32:10.019Z"
   },
   {
    "duration": 16,
    "start_time": "2022-01-11T11:32:10.070Z"
   },
   {
    "duration": 8,
    "start_time": "2022-01-11T11:32:10.087Z"
   },
   {
    "duration": 25,
    "start_time": "2022-01-11T11:32:10.096Z"
   },
   {
    "duration": 14,
    "start_time": "2022-01-11T11:32:10.123Z"
   },
   {
    "duration": 696,
    "start_time": "2022-01-11T11:32:10.138Z"
   },
   {
    "duration": 6,
    "start_time": "2022-01-11T11:32:10.836Z"
   },
   {
    "duration": 15,
    "start_time": "2022-01-11T11:32:10.843Z"
   },
   {
    "duration": 7,
    "start_time": "2022-01-11T11:32:10.859Z"
   },
   {
    "duration": 2831,
    "start_time": "2022-01-11T11:32:10.868Z"
   },
   {
    "duration": 13,
    "start_time": "2022-01-11T11:32:13.701Z"
   },
   {
    "duration": 51,
    "start_time": "2022-01-11T11:32:13.716Z"
   },
   {
    "duration": 4,
    "start_time": "2022-01-11T11:32:13.769Z"
   },
   {
    "duration": 488,
    "start_time": "2022-01-11T11:32:13.775Z"
   },
   {
    "duration": 18,
    "start_time": "2022-01-11T11:32:14.265Z"
   },
   {
    "duration": 8,
    "start_time": "2022-01-11T11:32:14.285Z"
   },
   {
    "duration": 47,
    "start_time": "2022-01-11T11:32:14.295Z"
   },
   {
    "duration": 12,
    "start_time": "2022-01-11T11:32:14.344Z"
   },
   {
    "duration": 21,
    "start_time": "2022-01-11T11:32:14.358Z"
   },
   {
    "duration": 35,
    "start_time": "2022-01-11T11:32:14.381Z"
   },
   {
    "duration": 11,
    "start_time": "2022-01-11T11:32:14.418Z"
   },
   {
    "duration": 22,
    "start_time": "2022-01-11T11:32:14.430Z"
   },
   {
    "duration": 32,
    "start_time": "2022-01-11T11:32:14.454Z"
   },
   {
    "duration": 11,
    "start_time": "2022-01-11T11:32:14.487Z"
   },
   {
    "duration": 15,
    "start_time": "2022-01-11T11:32:14.500Z"
   },
   {
    "duration": 40,
    "start_time": "2022-01-11T11:32:14.517Z"
   },
   {
    "duration": 17,
    "start_time": "2022-01-11T11:32:14.558Z"
   },
   {
    "duration": 569,
    "start_time": "2022-01-12T17:52:55.250Z"
   },
   {
    "duration": 24,
    "start_time": "2022-01-12T17:52:55.821Z"
   },
   {
    "duration": 9,
    "start_time": "2022-01-12T17:52:55.847Z"
   },
   {
    "duration": 36,
    "start_time": "2022-01-12T17:52:55.857Z"
   },
   {
    "duration": 4,
    "start_time": "2022-01-12T17:52:55.894Z"
   },
   {
    "duration": 8,
    "start_time": "2022-01-12T17:52:55.900Z"
   },
   {
    "duration": 5,
    "start_time": "2022-01-12T17:52:55.909Z"
   },
   {
    "duration": 3,
    "start_time": "2022-01-12T17:52:55.916Z"
   },
   {
    "duration": 5,
    "start_time": "2022-01-12T17:52:55.920Z"
   },
   {
    "duration": 10,
    "start_time": "2022-01-12T17:52:55.926Z"
   },
   {
    "duration": 12,
    "start_time": "2022-01-12T17:52:55.938Z"
   },
   {
    "duration": 2,
    "start_time": "2022-01-12T17:52:55.952Z"
   },
   {
    "duration": 12,
    "start_time": "2022-01-12T17:52:55.992Z"
   },
   {
    "duration": 13,
    "start_time": "2022-01-12T17:52:56.006Z"
   },
   {
    "duration": 13,
    "start_time": "2022-01-12T17:52:56.021Z"
   },
   {
    "duration": 11,
    "start_time": "2022-01-12T17:52:56.036Z"
   },
   {
    "duration": 3,
    "start_time": "2022-01-12T17:52:56.049Z"
   },
   {
    "duration": 12,
    "start_time": "2022-01-12T17:52:56.054Z"
   },
   {
    "duration": 25,
    "start_time": "2022-01-12T17:52:56.068Z"
   },
   {
    "duration": 15,
    "start_time": "2022-01-12T17:52:56.095Z"
   },
   {
    "duration": 7,
    "start_time": "2022-01-12T17:52:56.112Z"
   },
   {
    "duration": 17,
    "start_time": "2022-01-12T17:52:56.120Z"
   },
   {
    "duration": 26,
    "start_time": "2022-01-12T17:52:56.140Z"
   },
   {
    "duration": 25,
    "start_time": "2022-01-12T17:52:56.168Z"
   },
   {
    "duration": 23,
    "start_time": "2022-01-12T17:52:56.195Z"
   },
   {
    "duration": 14,
    "start_time": "2022-01-12T17:52:56.219Z"
   },
   {
    "duration": 6,
    "start_time": "2022-01-12T17:52:56.235Z"
   },
   {
    "duration": 19,
    "start_time": "2022-01-12T17:52:56.243Z"
   },
   {
    "duration": 28,
    "start_time": "2022-01-12T17:52:56.264Z"
   },
   {
    "duration": 671,
    "start_time": "2022-01-12T17:52:56.294Z"
   },
   {
    "duration": 4,
    "start_time": "2022-01-12T17:52:56.966Z"
   },
   {
    "duration": 8,
    "start_time": "2022-01-12T17:52:56.971Z"
   },
   {
    "duration": 11,
    "start_time": "2022-01-12T17:52:56.981Z"
   },
   {
    "duration": 2778,
    "start_time": "2022-01-12T17:52:56.994Z"
   },
   {
    "duration": 28,
    "start_time": "2022-01-12T17:52:59.773Z"
   },
   {
    "duration": 33,
    "start_time": "2022-01-12T17:52:59.802Z"
   },
   {
    "duration": 3,
    "start_time": "2022-01-12T17:52:59.837Z"
   },
   {
    "duration": 489,
    "start_time": "2022-01-12T17:52:59.842Z"
   },
   {
    "duration": 16,
    "start_time": "2022-01-12T17:53:00.333Z"
   },
   {
    "duration": 15,
    "start_time": "2022-01-12T17:53:00.351Z"
   },
   {
    "duration": 35,
    "start_time": "2022-01-12T17:53:00.367Z"
   },
   {
    "duration": 12,
    "start_time": "2022-01-12T17:53:00.404Z"
   },
   {
    "duration": 7,
    "start_time": "2022-01-12T17:53:00.417Z"
   },
   {
    "duration": 27,
    "start_time": "2022-01-12T17:53:00.425Z"
   },
   {
    "duration": 11,
    "start_time": "2022-01-12T17:53:00.454Z"
   },
   {
    "duration": 7,
    "start_time": "2022-01-12T17:53:00.491Z"
   },
   {
    "duration": 30,
    "start_time": "2022-01-12T17:53:00.500Z"
   },
   {
    "duration": 10,
    "start_time": "2022-01-12T17:53:00.531Z"
   },
   {
    "duration": 16,
    "start_time": "2022-01-12T17:53:00.543Z"
   },
   {
    "duration": 35,
    "start_time": "2022-01-12T17:53:00.560Z"
   },
   {
    "duration": 10,
    "start_time": "2022-01-12T17:53:00.597Z"
   },
   {
    "duration": 700,
    "start_time": "2022-01-12T19:35:02.075Z"
   },
   {
    "duration": 11,
    "start_time": "2022-01-12T19:42:06.415Z"
   },
   {
    "duration": 7,
    "start_time": "2022-01-12T19:42:37.437Z"
   },
   {
    "duration": 8,
    "start_time": "2022-01-12T19:42:52.428Z"
   },
   {
    "duration": 8,
    "start_time": "2022-01-12T19:44:07.633Z"
   },
   {
    "duration": 8,
    "start_time": "2022-01-12T19:44:40.702Z"
   },
   {
    "duration": 8,
    "start_time": "2022-01-12T19:57:49.089Z"
   },
   {
    "duration": 6,
    "start_time": "2022-01-12T20:01:07.140Z"
   },
   {
    "duration": 48,
    "start_time": "2022-01-12T20:08:01.468Z"
   },
   {
    "duration": 20,
    "start_time": "2022-01-12T20:08:01.518Z"
   },
   {
    "duration": 6,
    "start_time": "2022-01-12T20:08:01.540Z"
   },
   {
    "duration": 23,
    "start_time": "2022-01-12T20:08:01.547Z"
   },
   {
    "duration": 18,
    "start_time": "2022-01-12T20:08:01.572Z"
   },
   {
    "duration": 23,
    "start_time": "2022-01-12T20:08:01.592Z"
   },
   {
    "duration": 3,
    "start_time": "2022-01-12T20:08:01.616Z"
   },
   {
    "duration": 15,
    "start_time": "2022-01-12T20:08:01.622Z"
   },
   {
    "duration": 14,
    "start_time": "2022-01-12T20:08:01.638Z"
   },
   {
    "duration": 10,
    "start_time": "2022-01-12T20:08:01.653Z"
   },
   {
    "duration": 8,
    "start_time": "2022-01-12T20:08:01.664Z"
   },
   {
    "duration": 21,
    "start_time": "2022-01-12T20:08:01.673Z"
   },
   {
    "duration": 24,
    "start_time": "2022-01-12T20:08:01.696Z"
   },
   {
    "duration": 15,
    "start_time": "2022-01-12T20:08:01.722Z"
   },
   {
    "duration": 22,
    "start_time": "2022-01-12T20:08:01.739Z"
   },
   {
    "duration": 9,
    "start_time": "2022-01-12T20:08:01.763Z"
   },
   {
    "duration": 9,
    "start_time": "2022-01-12T20:08:01.773Z"
   },
   {
    "duration": 14,
    "start_time": "2022-01-12T20:08:01.784Z"
   },
   {
    "duration": 5,
    "start_time": "2022-01-12T20:08:01.800Z"
   },
   {
    "duration": 10,
    "start_time": "2022-01-12T20:08:01.807Z"
   },
   {
    "duration": 10,
    "start_time": "2022-01-12T20:08:01.819Z"
   },
   {
    "duration": 14,
    "start_time": "2022-01-12T20:08:01.830Z"
   },
   {
    "duration": 13,
    "start_time": "2022-01-12T20:08:01.847Z"
   },
   {
    "duration": 20,
    "start_time": "2022-01-12T20:08:01.863Z"
   },
   {
    "duration": 26,
    "start_time": "2022-01-12T20:08:01.884Z"
   },
   {
    "duration": 3,
    "start_time": "2022-01-12T20:08:01.912Z"
   },
   {
    "duration": 35,
    "start_time": "2022-01-12T20:08:01.916Z"
   },
   {
    "duration": 14,
    "start_time": "2022-01-12T20:08:01.953Z"
   },
   {
    "duration": 6,
    "start_time": "2022-01-12T20:08:01.969Z"
   },
   {
    "duration": 39,
    "start_time": "2022-01-12T20:08:01.977Z"
   },
   {
    "duration": 8,
    "start_time": "2022-01-12T20:08:02.017Z"
   },
   {
    "duration": 621,
    "start_time": "2022-01-12T20:08:02.026Z"
   },
   {
    "duration": 3,
    "start_time": "2022-01-12T20:08:02.649Z"
   },
   {
    "duration": 39,
    "start_time": "2022-01-12T20:08:02.654Z"
   },
   {
    "duration": 26,
    "start_time": "2022-01-12T20:08:02.695Z"
   },
   {
    "duration": 2888,
    "start_time": "2022-01-12T20:08:02.722Z"
   },
   {
    "duration": 12,
    "start_time": "2022-01-12T20:08:05.612Z"
   },
   {
    "duration": 29,
    "start_time": "2022-01-12T20:08:05.641Z"
   },
   {
    "duration": 3,
    "start_time": "2022-01-12T20:08:05.672Z"
   },
   {
    "duration": 467,
    "start_time": "2022-01-12T20:08:05.677Z"
   },
   {
    "duration": 14,
    "start_time": "2022-01-12T20:08:06.146Z"
   },
   {
    "duration": 6,
    "start_time": "2022-01-12T20:08:06.162Z"
   },
   {
    "duration": 22,
    "start_time": "2022-01-12T20:08:06.170Z"
   },
   {
    "duration": 14,
    "start_time": "2022-01-12T20:08:06.193Z"
   },
   {
    "duration": 6,
    "start_time": "2022-01-12T20:08:06.209Z"
   },
   {
    "duration": 20,
    "start_time": "2022-01-12T20:08:06.242Z"
   },
   {
    "duration": 10,
    "start_time": "2022-01-12T20:08:06.264Z"
   },
   {
    "duration": 6,
    "start_time": "2022-01-12T20:08:06.276Z"
   },
   {
    "duration": 24,
    "start_time": "2022-01-12T20:08:06.284Z"
   },
   {
    "duration": 41,
    "start_time": "2022-01-12T20:08:06.310Z"
   },
   {
    "duration": 11,
    "start_time": "2022-01-12T20:08:06.353Z"
   },
   {
    "duration": 30,
    "start_time": "2022-01-12T20:08:06.365Z"
   },
   {
    "duration": 10,
    "start_time": "2022-01-12T20:08:06.396Z"
   },
   {
    "duration": 15,
    "start_time": "2022-01-12T20:09:18.841Z"
   },
   {
    "duration": 1305,
    "start_time": "2022-01-12T20:09:46.654Z"
   },
   {
    "duration": 17,
    "start_time": "2022-01-12T20:09:53.254Z"
   },
   {
    "duration": 585,
    "start_time": "2022-01-13T06:17:24.564Z"
   },
   {
    "duration": 23,
    "start_time": "2022-01-13T06:17:25.151Z"
   },
   {
    "duration": 6,
    "start_time": "2022-01-13T06:17:25.176Z"
   },
   {
    "duration": 6,
    "start_time": "2022-01-13T06:17:25.184Z"
   },
   {
    "duration": 6,
    "start_time": "2022-01-13T06:17:29.198Z"
   },
   {
    "duration": 222,
    "start_time": "2022-01-13T06:18:55.409Z"
   },
   {
    "duration": 3,
    "start_time": "2022-01-13T06:19:10.669Z"
   },
   {
    "duration": 12,
    "start_time": "2022-01-13T06:20:13.380Z"
   },
   {
    "duration": 3,
    "start_time": "2022-01-13T06:20:36.243Z"
   },
   {
    "duration": 6,
    "start_time": "2022-01-13T06:20:53.740Z"
   },
   {
    "duration": 320,
    "start_time": "2022-01-13T06:22:38.329Z"
   },
   {
    "duration": 9,
    "start_time": "2022-01-13T06:23:40.393Z"
   },
   {
    "duration": 48,
    "start_time": "2022-01-13T06:23:57.347Z"
   },
   {
    "duration": 17,
    "start_time": "2022-01-13T06:23:57.397Z"
   },
   {
    "duration": 6,
    "start_time": "2022-01-13T06:23:57.416Z"
   },
   {
    "duration": 20,
    "start_time": "2022-01-13T06:23:57.424Z"
   },
   {
    "duration": 7,
    "start_time": "2022-01-13T06:23:57.446Z"
   },
   {
    "duration": 2,
    "start_time": "2022-01-13T06:23:57.454Z"
   },
   {
    "duration": 14,
    "start_time": "2022-01-13T06:23:57.458Z"
   },
   {
    "duration": 3,
    "start_time": "2022-01-13T06:23:57.474Z"
   },
   {
    "duration": 8,
    "start_time": "2022-01-13T06:23:57.479Z"
   },
   {
    "duration": 247,
    "start_time": "2022-01-13T06:23:57.488Z"
   },
   {
    "duration": -118,
    "start_time": "2022-01-13T06:23:57.855Z"
   },
   {
    "duration": -121,
    "start_time": "2022-01-13T06:23:57.859Z"
   },
   {
    "duration": -124,
    "start_time": "2022-01-13T06:23:57.863Z"
   },
   {
    "duration": -128,
    "start_time": "2022-01-13T06:23:57.868Z"
   },
   {
    "duration": -130,
    "start_time": "2022-01-13T06:23:57.871Z"
   },
   {
    "duration": -134,
    "start_time": "2022-01-13T06:23:57.876Z"
   },
   {
    "duration": -137,
    "start_time": "2022-01-13T06:23:57.880Z"
   },
   {
    "duration": -140,
    "start_time": "2022-01-13T06:23:57.884Z"
   },
   {
    "duration": -142,
    "start_time": "2022-01-13T06:23:57.887Z"
   },
   {
    "duration": -145,
    "start_time": "2022-01-13T06:23:57.891Z"
   },
   {
    "duration": -148,
    "start_time": "2022-01-13T06:23:57.895Z"
   },
   {
    "duration": -150,
    "start_time": "2022-01-13T06:23:57.898Z"
   },
   {
    "duration": -153,
    "start_time": "2022-01-13T06:23:57.902Z"
   },
   {
    "duration": -157,
    "start_time": "2022-01-13T06:23:57.907Z"
   },
   {
    "duration": -160,
    "start_time": "2022-01-13T06:23:57.911Z"
   },
   {
    "duration": -173,
    "start_time": "2022-01-13T06:23:57.925Z"
   },
   {
    "duration": -176,
    "start_time": "2022-01-13T06:23:57.929Z"
   },
   {
    "duration": -180,
    "start_time": "2022-01-13T06:23:57.933Z"
   },
   {
    "duration": -182,
    "start_time": "2022-01-13T06:23:57.936Z"
   },
   {
    "duration": -185,
    "start_time": "2022-01-13T06:23:57.940Z"
   },
   {
    "duration": -205,
    "start_time": "2022-01-13T06:23:57.961Z"
   },
   {
    "duration": -210,
    "start_time": "2022-01-13T06:23:57.967Z"
   },
   {
    "duration": -214,
    "start_time": "2022-01-13T06:23:57.972Z"
   },
   {
    "duration": -218,
    "start_time": "2022-01-13T06:23:57.976Z"
   },
   {
    "duration": -221,
    "start_time": "2022-01-13T06:23:57.981Z"
   },
   {
    "duration": -223,
    "start_time": "2022-01-13T06:23:57.984Z"
   },
   {
    "duration": -246,
    "start_time": "2022-01-13T06:23:58.007Z"
   },
   {
    "duration": -249,
    "start_time": "2022-01-13T06:23:58.011Z"
   },
   {
    "duration": -251,
    "start_time": "2022-01-13T06:23:58.014Z"
   },
   {
    "duration": -255,
    "start_time": "2022-01-13T06:23:58.019Z"
   },
   {
    "duration": -257,
    "start_time": "2022-01-13T06:23:58.022Z"
   },
   {
    "duration": -260,
    "start_time": "2022-01-13T06:23:58.026Z"
   },
   {
    "duration": -262,
    "start_time": "2022-01-13T06:23:58.029Z"
   },
   {
    "duration": -266,
    "start_time": "2022-01-13T06:23:58.033Z"
   },
   {
    "duration": -268,
    "start_time": "2022-01-13T06:23:58.036Z"
   },
   {
    "duration": -270,
    "start_time": "2022-01-13T06:23:58.039Z"
   },
   {
    "duration": -272,
    "start_time": "2022-01-13T06:23:58.042Z"
   },
   {
    "duration": -275,
    "start_time": "2022-01-13T06:23:58.046Z"
   },
   {
    "duration": -278,
    "start_time": "2022-01-13T06:23:58.049Z"
   },
   {
    "duration": -284,
    "start_time": "2022-01-13T06:23:58.056Z"
   },
   {
    "duration": -293,
    "start_time": "2022-01-13T06:23:58.066Z"
   },
   {
    "duration": -296,
    "start_time": "2022-01-13T06:23:58.070Z"
   },
   {
    "duration": -298,
    "start_time": "2022-01-13T06:23:58.073Z"
   },
   {
    "duration": -303,
    "start_time": "2022-01-13T06:23:58.079Z"
   },
   {
    "duration": -307,
    "start_time": "2022-01-13T06:23:58.084Z"
   },
   {
    "duration": -309,
    "start_time": "2022-01-13T06:23:58.087Z"
   },
   {
    "duration": -313,
    "start_time": "2022-01-13T06:23:58.092Z"
   },
   {
    "duration": -255,
    "start_time": "2022-01-13T06:23:58.096Z"
   },
   {
    "duration": -257,
    "start_time": "2022-01-13T06:23:58.099Z"
   },
   {
    "duration": -260,
    "start_time": "2022-01-13T06:23:58.103Z"
   },
   {
    "duration": -262,
    "start_time": "2022-01-13T06:23:58.106Z"
   },
   {
    "duration": 255,
    "start_time": "2022-01-13T06:24:58.989Z"
   },
   {
    "duration": 9,
    "start_time": "2022-01-13T06:25:17.434Z"
   },
   {
    "duration": 5,
    "start_time": "2022-01-13T06:25:17.809Z"
   },
   {
    "duration": 46,
    "start_time": "2022-01-13T06:29:22.299Z"
   },
   {
    "duration": 17,
    "start_time": "2022-01-13T06:29:22.347Z"
   },
   {
    "duration": 5,
    "start_time": "2022-01-13T06:29:22.366Z"
   },
   {
    "duration": 6,
    "start_time": "2022-01-13T06:29:22.373Z"
   },
   {
    "duration": 5,
    "start_time": "2022-01-13T06:29:22.381Z"
   },
   {
    "duration": 5,
    "start_time": "2022-01-13T06:29:22.388Z"
   },
   {
    "duration": 47,
    "start_time": "2022-01-13T06:29:22.395Z"
   },
   {
    "duration": 3,
    "start_time": "2022-01-13T06:29:22.444Z"
   },
   {
    "duration": 10,
    "start_time": "2022-01-13T06:29:22.449Z"
   },
   {
    "duration": 8,
    "start_time": "2022-01-13T06:29:22.461Z"
   },
   {
    "duration": 16,
    "start_time": "2022-01-13T06:29:22.471Z"
   },
   {
    "duration": 3,
    "start_time": "2022-01-13T06:29:22.488Z"
   },
   {
    "duration": 7,
    "start_time": "2022-01-13T06:29:22.493Z"
   },
   {
    "duration": 4,
    "start_time": "2022-01-13T06:29:22.541Z"
   },
   {
    "duration": 6,
    "start_time": "2022-01-13T06:29:22.547Z"
   },
   {
    "duration": 8,
    "start_time": "2022-01-13T06:29:22.554Z"
   },
   {
    "duration": 15,
    "start_time": "2022-01-13T06:29:22.563Z"
   },
   {
    "duration": 22,
    "start_time": "2022-01-13T06:29:22.579Z"
   },
   {
    "duration": 4,
    "start_time": "2022-01-13T06:29:22.603Z"
   },
   {
    "duration": 39,
    "start_time": "2022-01-13T06:29:22.609Z"
   },
   {
    "duration": 14,
    "start_time": "2022-01-13T06:29:22.650Z"
   },
   {
    "duration": 14,
    "start_time": "2022-01-13T06:29:22.666Z"
   },
   {
    "duration": 16,
    "start_time": "2022-01-13T06:29:22.682Z"
   },
   {
    "duration": 15,
    "start_time": "2022-01-13T06:29:22.699Z"
   },
   {
    "duration": 26,
    "start_time": "2022-01-13T06:29:22.715Z"
   },
   {
    "duration": 25,
    "start_time": "2022-01-13T06:29:22.743Z"
   },
   {
    "duration": 2,
    "start_time": "2022-01-13T06:29:22.770Z"
   },
   {
    "duration": 22,
    "start_time": "2022-01-13T06:29:22.774Z"
   },
   {
    "duration": 13,
    "start_time": "2022-01-13T06:29:22.798Z"
   },
   {
    "duration": 31,
    "start_time": "2022-01-13T06:29:22.813Z"
   },
   {
    "duration": 20,
    "start_time": "2022-01-13T06:29:22.845Z"
   },
   {
    "duration": 3,
    "start_time": "2022-01-13T06:29:22.867Z"
   },
   {
    "duration": 670,
    "start_time": "2022-01-13T06:29:22.871Z"
   },
   {
    "duration": 3,
    "start_time": "2022-01-13T06:29:23.543Z"
   },
   {
    "duration": 9,
    "start_time": "2022-01-13T06:29:23.547Z"
   },
   {
    "duration": 7,
    "start_time": "2022-01-13T06:29:23.557Z"
   },
   {
    "duration": 2837,
    "start_time": "2022-01-13T06:29:23.566Z"
   },
   {
    "duration": 12,
    "start_time": "2022-01-13T06:29:26.404Z"
   },
   {
    "duration": 49,
    "start_time": "2022-01-13T06:29:26.418Z"
   },
   {
    "duration": 4,
    "start_time": "2022-01-13T06:29:26.469Z"
   },
   {
    "duration": 502,
    "start_time": "2022-01-13T06:29:26.474Z"
   },
   {
    "duration": 17,
    "start_time": "2022-01-13T06:29:26.978Z"
   },
   {
    "duration": 7,
    "start_time": "2022-01-13T06:29:27.001Z"
   },
   {
    "duration": 49,
    "start_time": "2022-01-13T06:29:27.010Z"
   },
   {
    "duration": 21,
    "start_time": "2022-01-13T06:29:27.061Z"
   },
   {
    "duration": 8,
    "start_time": "2022-01-13T06:29:27.084Z"
   },
   {
    "duration": 60,
    "start_time": "2022-01-13T06:29:27.094Z"
   },
   {
    "duration": 14,
    "start_time": "2022-01-13T06:29:27.156Z"
   },
   {
    "duration": 11,
    "start_time": "2022-01-13T06:29:27.171Z"
   },
   {
    "duration": 23,
    "start_time": "2022-01-13T06:29:27.185Z"
   },
   {
    "duration": 42,
    "start_time": "2022-01-13T06:29:27.210Z"
   },
   {
    "duration": 9,
    "start_time": "2022-01-13T06:29:27.254Z"
   },
   {
    "duration": 18,
    "start_time": "2022-01-13T06:29:27.265Z"
   },
   {
    "duration": 7531,
    "start_time": "2022-01-13T06:29:27.285Z"
   },
   {
    "duration": 9,
    "start_time": "2022-01-13T06:36:23.574Z"
   },
   {
    "duration": 18,
    "start_time": "2022-01-13T06:39:38.780Z"
   },
   {
    "duration": 11,
    "start_time": "2022-01-13T06:42:23.083Z"
   },
   {
    "duration": 22,
    "start_time": "2022-01-13T06:42:48.469Z"
   },
   {
    "duration": 20,
    "start_time": "2022-01-13T06:51:29.279Z"
   },
   {
    "duration": 85,
    "start_time": "2022-01-13T06:51:55.463Z"
   },
   {
    "duration": 11,
    "start_time": "2022-01-13T06:51:59.647Z"
   },
   {
    "duration": 22,
    "start_time": "2022-01-13T06:52:29.506Z"
   },
   {
    "duration": 12,
    "start_time": "2022-01-13T06:52:49.676Z"
   },
   {
    "duration": 23,
    "start_time": "2022-01-13T06:53:14.614Z"
   },
   {
    "duration": 12,
    "start_time": "2022-01-13T06:53:37.988Z"
   },
   {
    "duration": 51,
    "start_time": "2022-01-13T06:56:11.550Z"
   },
   {
    "duration": 22,
    "start_time": "2022-01-13T06:56:11.603Z"
   },
   {
    "duration": 21,
    "start_time": "2022-01-13T06:56:11.628Z"
   },
   {
    "duration": 9,
    "start_time": "2022-01-13T06:56:11.651Z"
   },
   {
    "duration": 21,
    "start_time": "2022-01-13T06:56:11.662Z"
   },
   {
    "duration": 7,
    "start_time": "2022-01-13T06:56:11.685Z"
   },
   {
    "duration": 16,
    "start_time": "2022-01-13T06:56:11.694Z"
   },
   {
    "duration": 2,
    "start_time": "2022-01-13T06:56:11.713Z"
   },
   {
    "duration": 7,
    "start_time": "2022-01-13T06:56:11.742Z"
   },
   {
    "duration": 12,
    "start_time": "2022-01-13T06:56:11.751Z"
   },
   {
    "duration": 14,
    "start_time": "2022-01-13T06:56:11.765Z"
   },
   {
    "duration": 3,
    "start_time": "2022-01-13T06:56:11.780Z"
   },
   {
    "duration": 10,
    "start_time": "2022-01-13T06:56:11.784Z"
   },
   {
    "duration": 4,
    "start_time": "2022-01-13T06:56:11.842Z"
   },
   {
    "duration": 4,
    "start_time": "2022-01-13T06:56:11.848Z"
   },
   {
    "duration": 7,
    "start_time": "2022-01-13T06:56:11.853Z"
   },
   {
    "duration": 14,
    "start_time": "2022-01-13T06:56:11.861Z"
   },
   {
    "duration": 14,
    "start_time": "2022-01-13T06:56:11.877Z"
   },
   {
    "duration": 2,
    "start_time": "2022-01-13T06:56:11.893Z"
   },
   {
    "duration": 17,
    "start_time": "2022-01-13T06:56:11.896Z"
   },
   {
    "duration": 4,
    "start_time": "2022-01-13T06:56:11.941Z"
   },
   {
    "duration": 8,
    "start_time": "2022-01-13T06:56:11.946Z"
   },
   {
    "duration": 11,
    "start_time": "2022-01-13T06:56:11.958Z"
   },
   {
    "duration": 10,
    "start_time": "2022-01-13T06:56:11.971Z"
   },
   {
    "duration": 22,
    "start_time": "2022-01-13T06:56:11.983Z"
   },
   {
    "duration": 45,
    "start_time": "2022-01-13T06:56:12.007Z"
   },
   {
    "duration": 2,
    "start_time": "2022-01-13T06:56:12.054Z"
   },
   {
    "duration": 19,
    "start_time": "2022-01-13T06:56:12.058Z"
   },
   {
    "duration": 14,
    "start_time": "2022-01-13T06:56:12.079Z"
   },
   {
    "duration": 7,
    "start_time": "2022-01-13T06:56:12.095Z"
   },
   {
    "duration": 52,
    "start_time": "2022-01-13T06:56:12.104Z"
   },
   {
    "duration": 3,
    "start_time": "2022-01-13T06:56:12.157Z"
   },
   {
    "duration": 650,
    "start_time": "2022-01-13T06:56:12.162Z"
   },
   {
    "duration": 3,
    "start_time": "2022-01-13T06:56:12.814Z"
   },
   {
    "duration": 6,
    "start_time": "2022-01-13T06:56:12.819Z"
   },
   {
    "duration": 15,
    "start_time": "2022-01-13T06:56:12.827Z"
   },
   {
    "duration": 2636,
    "start_time": "2022-01-13T06:56:12.843Z"
   },
   {
    "duration": 12,
    "start_time": "2022-01-13T06:56:15.481Z"
   },
   {
    "duration": 49,
    "start_time": "2022-01-13T06:56:15.494Z"
   },
   {
    "duration": 3,
    "start_time": "2022-01-13T06:56:15.545Z"
   },
   {
    "duration": 466,
    "start_time": "2022-01-13T06:56:15.550Z"
   },
   {
    "duration": 15,
    "start_time": "2022-01-13T06:56:16.017Z"
   },
   {
    "duration": 11,
    "start_time": "2022-01-13T06:56:16.041Z"
   },
   {
    "duration": 28,
    "start_time": "2022-01-13T06:56:16.053Z"
   },
   {
    "duration": 10,
    "start_time": "2022-01-13T06:56:16.083Z"
   },
   {
    "duration": 16,
    "start_time": "2022-01-13T06:56:16.094Z"
   },
   {
    "duration": 42,
    "start_time": "2022-01-13T06:56:16.111Z"
   },
   {
    "duration": 9,
    "start_time": "2022-01-13T06:56:16.154Z"
   },
   {
    "duration": 28,
    "start_time": "2022-01-13T06:56:16.165Z"
   },
   {
    "duration": 38,
    "start_time": "2022-01-13T06:56:16.195Z"
   },
   {
    "duration": 9,
    "start_time": "2022-01-13T06:56:16.235Z"
   },
   {
    "duration": 8,
    "start_time": "2022-01-13T06:56:16.246Z"
   },
   {
    "duration": 21,
    "start_time": "2022-01-13T06:56:16.256Z"
   },
   {
    "duration": 9,
    "start_time": "2022-01-13T06:56:16.278Z"
   },
   {
    "duration": 239,
    "start_time": "2022-01-13T06:57:54.724Z"
   },
   {
    "duration": 2,
    "start_time": "2022-01-13T06:59:55.752Z"
   },
   {
    "duration": 84,
    "start_time": "2022-01-13T07:41:41.987Z"
   },
   {
    "duration": 83,
    "start_time": "2022-01-13T07:45:09.036Z"
   },
   {
    "duration": 117,
    "start_time": "2022-01-13T07:58:12.746Z"
   },
   {
    "duration": 3,
    "start_time": "2022-01-13T07:58:25.204Z"
   },
   {
    "duration": 19,
    "start_time": "2022-01-13T07:59:29.608Z"
   },
   {
    "duration": 3,
    "start_time": "2022-01-13T08:00:18.524Z"
   },
   {
    "duration": 21,
    "start_time": "2022-01-13T08:00:19.871Z"
   },
   {
    "duration": 48,
    "start_time": "2022-01-13T08:01:23.443Z"
   },
   {
    "duration": 19,
    "start_time": "2022-01-13T08:01:23.493Z"
   },
   {
    "duration": 36,
    "start_time": "2022-01-13T08:01:23.514Z"
   },
   {
    "duration": 5,
    "start_time": "2022-01-13T08:01:23.552Z"
   },
   {
    "duration": 11,
    "start_time": "2022-01-13T08:01:23.559Z"
   },
   {
    "duration": 4,
    "start_time": "2022-01-13T08:01:23.572Z"
   },
   {
    "duration": 17,
    "start_time": "2022-01-13T08:01:23.578Z"
   },
   {
    "duration": 4,
    "start_time": "2022-01-13T08:01:23.597Z"
   },
   {
    "duration": 10,
    "start_time": "2022-01-13T08:01:23.603Z"
   },
   {
    "duration": 10,
    "start_time": "2022-01-13T08:01:23.643Z"
   },
   {
    "duration": 20,
    "start_time": "2022-01-13T08:01:23.656Z"
   },
   {
    "duration": 5,
    "start_time": "2022-01-13T08:01:23.678Z"
   },
   {
    "duration": 72,
    "start_time": "2022-01-13T08:01:23.685Z"
   },
   {
    "duration": 5,
    "start_time": "2022-01-13T08:01:23.759Z"
   },
   {
    "duration": 9,
    "start_time": "2022-01-13T08:01:23.766Z"
   },
   {
    "duration": 7,
    "start_time": "2022-01-13T08:01:23.777Z"
   },
   {
    "duration": 7,
    "start_time": "2022-01-13T08:01:23.786Z"
   },
   {
    "duration": 16,
    "start_time": "2022-01-13T08:01:23.795Z"
   },
   {
    "duration": 32,
    "start_time": "2022-01-13T08:01:23.813Z"
   },
   {
    "duration": 20,
    "start_time": "2022-01-13T08:01:23.847Z"
   },
   {
    "duration": 4,
    "start_time": "2022-01-13T08:01:23.869Z"
   },
   {
    "duration": 25,
    "start_time": "2022-01-13T08:01:23.875Z"
   },
   {
    "duration": 18,
    "start_time": "2022-01-13T08:01:23.902Z"
   },
   {
    "duration": 27,
    "start_time": "2022-01-13T08:01:23.922Z"
   },
   {
    "duration": 28,
    "start_time": "2022-01-13T08:01:23.950Z"
   },
   {
    "duration": 29,
    "start_time": "2022-01-13T08:01:23.980Z"
   },
   {
    "duration": 32,
    "start_time": "2022-01-13T08:01:24.012Z"
   },
   {
    "duration": 26,
    "start_time": "2022-01-13T08:01:24.046Z"
   },
   {
    "duration": 3,
    "start_time": "2022-01-13T08:01:24.074Z"
   },
   {
    "duration": 33,
    "start_time": "2022-01-13T08:01:24.079Z"
   },
   {
    "duration": 34,
    "start_time": "2022-01-13T08:01:24.113Z"
   },
   {
    "duration": 8,
    "start_time": "2022-01-13T08:01:24.149Z"
   },
   {
    "duration": 19,
    "start_time": "2022-01-13T08:01:24.159Z"
   },
   {
    "duration": 5,
    "start_time": "2022-01-13T08:01:24.180Z"
   },
   {
    "duration": 671,
    "start_time": "2022-01-13T08:01:24.187Z"
   },
   {
    "duration": 3,
    "start_time": "2022-01-13T08:01:24.860Z"
   },
   {
    "duration": 7,
    "start_time": "2022-01-13T08:01:24.865Z"
   },
   {
    "duration": 11,
    "start_time": "2022-01-13T08:01:24.873Z"
   },
   {
    "duration": 3232,
    "start_time": "2022-01-13T08:01:24.885Z"
   },
   {
    "duration": 27,
    "start_time": "2022-01-13T08:01:28.119Z"
   },
   {
    "duration": 52,
    "start_time": "2022-01-13T08:01:28.148Z"
   },
   {
    "duration": 4,
    "start_time": "2022-01-13T08:01:28.202Z"
   },
   {
    "duration": 775,
    "start_time": "2022-01-13T08:01:28.208Z"
   },
   {
    "duration": 15,
    "start_time": "2022-01-13T08:01:28.985Z"
   },
   {
    "duration": 8,
    "start_time": "2022-01-13T08:01:29.002Z"
   },
   {
    "duration": 48,
    "start_time": "2022-01-13T08:01:29.012Z"
   },
   {
    "duration": 16,
    "start_time": "2022-01-13T08:01:29.063Z"
   },
   {
    "duration": 10,
    "start_time": "2022-01-13T08:01:29.081Z"
   },
   {
    "duration": 64,
    "start_time": "2022-01-13T08:01:29.093Z"
   },
   {
    "duration": 16,
    "start_time": "2022-01-13T08:01:29.159Z"
   },
   {
    "duration": 13,
    "start_time": "2022-01-13T08:01:29.177Z"
   },
   {
    "duration": 53,
    "start_time": "2022-01-13T08:01:29.192Z"
   },
   {
    "duration": 16,
    "start_time": "2022-01-13T08:01:29.247Z"
   },
   {
    "duration": 9,
    "start_time": "2022-01-13T08:01:29.265Z"
   },
   {
    "duration": 35,
    "start_time": "2022-01-13T08:01:29.276Z"
   },
   {
    "duration": 40,
    "start_time": "2022-01-13T08:01:29.313Z"
   },
   {
    "duration": 22,
    "start_time": "2022-01-13T08:06:56.069Z"
   },
   {
    "duration": 52,
    "start_time": "2022-01-13T08:07:02.188Z"
   },
   {
    "duration": 23,
    "start_time": "2022-01-13T08:07:02.243Z"
   },
   {
    "duration": 9,
    "start_time": "2022-01-13T08:07:02.269Z"
   },
   {
    "duration": 11,
    "start_time": "2022-01-13T08:07:02.280Z"
   },
   {
    "duration": 48,
    "start_time": "2022-01-13T08:07:02.293Z"
   },
   {
    "duration": 3,
    "start_time": "2022-01-13T08:07:02.344Z"
   },
   {
    "duration": 19,
    "start_time": "2022-01-13T08:07:02.349Z"
   },
   {
    "duration": 4,
    "start_time": "2022-01-13T08:07:02.370Z"
   },
   {
    "duration": 10,
    "start_time": "2022-01-13T08:07:02.377Z"
   },
   {
    "duration": 52,
    "start_time": "2022-01-13T08:07:02.390Z"
   },
   {
    "duration": 15,
    "start_time": "2022-01-13T08:07:02.444Z"
   },
   {
    "duration": 9,
    "start_time": "2022-01-13T08:07:02.460Z"
   },
   {
    "duration": 26,
    "start_time": "2022-01-13T08:07:02.471Z"
   },
   {
    "duration": 44,
    "start_time": "2022-01-13T08:07:02.498Z"
   },
   {
    "duration": 3,
    "start_time": "2022-01-13T08:07:02.544Z"
   },
   {
    "duration": 21,
    "start_time": "2022-01-13T08:07:02.549Z"
   },
   {
    "duration": 17,
    "start_time": "2022-01-13T08:07:02.572Z"
   },
   {
    "duration": 4,
    "start_time": "2022-01-13T08:07:02.590Z"
   },
   {
    "duration": 12,
    "start_time": "2022-01-13T08:07:02.595Z"
   },
   {
    "duration": 15,
    "start_time": "2022-01-13T08:07:02.609Z"
   },
   {
    "duration": 19,
    "start_time": "2022-01-13T08:07:02.625Z"
   },
   {
    "duration": 6,
    "start_time": "2022-01-13T08:07:02.645Z"
   },
   {
    "duration": 26,
    "start_time": "2022-01-13T08:07:02.652Z"
   },
   {
    "duration": 5,
    "start_time": "2022-01-13T08:07:02.680Z"
   },
   {
    "duration": 15,
    "start_time": "2022-01-13T08:07:02.686Z"
   },
   {
    "duration": 16,
    "start_time": "2022-01-13T08:07:02.703Z"
   },
   {
    "duration": 26,
    "start_time": "2022-01-13T08:07:02.723Z"
   },
   {
    "duration": 20,
    "start_time": "2022-01-13T08:07:02.751Z"
   },
   {
    "duration": 25,
    "start_time": "2022-01-13T08:07:02.773Z"
   },
   {
    "duration": 3,
    "start_time": "2022-01-13T08:07:02.800Z"
   },
   {
    "duration": 37,
    "start_time": "2022-01-13T08:07:02.804Z"
   },
   {
    "duration": 14,
    "start_time": "2022-01-13T08:07:02.843Z"
   },
   {
    "duration": 12,
    "start_time": "2022-01-13T08:07:02.858Z"
   },
   {
    "duration": 32,
    "start_time": "2022-01-13T08:07:02.872Z"
   },
   {
    "duration": 3,
    "start_time": "2022-01-13T08:07:02.906Z"
   },
   {
    "duration": 665,
    "start_time": "2022-01-13T08:07:02.910Z"
   },
   {
    "duration": 4,
    "start_time": "2022-01-13T08:07:03.577Z"
   },
   {
    "duration": 6,
    "start_time": "2022-01-13T08:07:03.582Z"
   },
   {
    "duration": 14,
    "start_time": "2022-01-13T08:07:03.590Z"
   },
   {
    "duration": 2842,
    "start_time": "2022-01-13T08:07:03.605Z"
   },
   {
    "duration": 12,
    "start_time": "2022-01-13T08:07:06.449Z"
   },
   {
    "duration": 33,
    "start_time": "2022-01-13T08:07:06.463Z"
   },
   {
    "duration": 3,
    "start_time": "2022-01-13T08:07:06.498Z"
   },
   {
    "duration": 459,
    "start_time": "2022-01-13T08:07:06.502Z"
   },
   {
    "duration": 15,
    "start_time": "2022-01-13T08:07:06.963Z"
   },
   {
    "duration": 9,
    "start_time": "2022-01-13T08:07:06.979Z"
   },
   {
    "duration": 21,
    "start_time": "2022-01-13T08:07:06.990Z"
   },
   {
    "duration": 39,
    "start_time": "2022-01-13T08:07:07.012Z"
   },
   {
    "duration": 9,
    "start_time": "2022-01-13T08:07:07.052Z"
   },
   {
    "duration": 21,
    "start_time": "2022-01-13T08:07:07.062Z"
   },
   {
    "duration": 13,
    "start_time": "2022-01-13T08:07:07.085Z"
   },
   {
    "duration": 42,
    "start_time": "2022-01-13T08:07:07.100Z"
   },
   {
    "duration": 27,
    "start_time": "2022-01-13T08:07:07.144Z"
   },
   {
    "duration": 12,
    "start_time": "2022-01-13T08:07:07.173Z"
   },
   {
    "duration": 8,
    "start_time": "2022-01-13T08:07:07.187Z"
   },
   {
    "duration": 59,
    "start_time": "2022-01-13T08:07:07.197Z"
   },
   {
    "duration": 13,
    "start_time": "2022-01-13T08:07:07.258Z"
   },
   {
    "duration": 48,
    "start_time": "2022-01-13T08:21:28.737Z"
   },
   {
    "duration": 19,
    "start_time": "2022-01-13T08:21:28.787Z"
   },
   {
    "duration": 7,
    "start_time": "2022-01-13T08:21:28.807Z"
   },
   {
    "duration": 26,
    "start_time": "2022-01-13T08:21:28.816Z"
   },
   {
    "duration": 6,
    "start_time": "2022-01-13T08:21:28.844Z"
   },
   {
    "duration": 7,
    "start_time": "2022-01-13T08:21:28.852Z"
   },
   {
    "duration": 38,
    "start_time": "2022-01-13T08:21:28.861Z"
   },
   {
    "duration": 5,
    "start_time": "2022-01-13T08:21:28.901Z"
   },
   {
    "duration": 8,
    "start_time": "2022-01-13T08:21:28.909Z"
   },
   {
    "duration": 32,
    "start_time": "2022-01-13T08:21:28.919Z"
   },
   {
    "duration": 20,
    "start_time": "2022-01-13T08:21:28.953Z"
   },
   {
    "duration": 5,
    "start_time": "2022-01-13T08:21:28.975Z"
   },
   {
    "duration": 64,
    "start_time": "2022-01-13T08:21:28.981Z"
   },
   {
    "duration": 22,
    "start_time": "2022-01-13T08:21:29.047Z"
   },
   {
    "duration": 3,
    "start_time": "2022-01-13T08:21:29.072Z"
   },
   {
    "duration": 6,
    "start_time": "2022-01-13T08:21:29.077Z"
   },
   {
    "duration": 18,
    "start_time": "2022-01-13T08:21:29.085Z"
   },
   {
    "duration": 36,
    "start_time": "2022-01-13T08:21:29.105Z"
   },
   {
    "duration": 3,
    "start_time": "2022-01-13T08:21:29.143Z"
   },
   {
    "duration": 15,
    "start_time": "2022-01-13T08:21:29.148Z"
   },
   {
    "duration": 17,
    "start_time": "2022-01-13T08:21:29.164Z"
   },
   {
    "duration": 2,
    "start_time": "2022-01-13T08:21:29.183Z"
   },
   {
    "duration": 16,
    "start_time": "2022-01-13T08:21:29.187Z"
   },
   {
    "duration": 36,
    "start_time": "2022-01-13T08:21:29.205Z"
   },
   {
    "duration": 5,
    "start_time": "2022-01-13T08:21:29.244Z"
   },
   {
    "duration": 19,
    "start_time": "2022-01-13T08:21:29.251Z"
   },
   {
    "duration": 12,
    "start_time": "2022-01-13T08:21:29.272Z"
   },
   {
    "duration": 20,
    "start_time": "2022-01-13T08:21:29.286Z"
   },
   {
    "duration": 67,
    "start_time": "2022-01-13T08:21:29.308Z"
   },
   {
    "duration": 4,
    "start_time": "2022-01-13T08:21:29.377Z"
   },
   {
    "duration": 24,
    "start_time": "2022-01-13T08:21:29.383Z"
   },
   {
    "duration": 45,
    "start_time": "2022-01-13T08:21:29.409Z"
   },
   {
    "duration": 10,
    "start_time": "2022-01-13T08:21:29.456Z"
   },
   {
    "duration": 27,
    "start_time": "2022-01-13T08:21:29.471Z"
   },
   {
    "duration": 3,
    "start_time": "2022-01-13T08:21:29.501Z"
   },
   {
    "duration": 701,
    "start_time": "2022-01-13T08:21:29.505Z"
   },
   {
    "duration": 3,
    "start_time": "2022-01-13T08:21:30.209Z"
   },
   {
    "duration": 10,
    "start_time": "2022-01-13T08:21:30.214Z"
   },
   {
    "duration": 16,
    "start_time": "2022-01-13T08:21:30.225Z"
   },
   {
    "duration": 2925,
    "start_time": "2022-01-13T08:21:30.243Z"
   },
   {
    "duration": 12,
    "start_time": "2022-01-13T08:21:33.169Z"
   },
   {
    "duration": 31,
    "start_time": "2022-01-13T08:21:33.183Z"
   },
   {
    "duration": 26,
    "start_time": "2022-01-13T08:21:33.215Z"
   },
   {
    "duration": 445,
    "start_time": "2022-01-13T08:21:33.242Z"
   },
   {
    "duration": 16,
    "start_time": "2022-01-13T08:21:33.689Z"
   },
   {
    "duration": 8,
    "start_time": "2022-01-13T08:21:33.706Z"
   },
   {
    "duration": 39,
    "start_time": "2022-01-13T08:21:33.715Z"
   },
   {
    "duration": 10,
    "start_time": "2022-01-13T08:21:33.755Z"
   },
   {
    "duration": 9,
    "start_time": "2022-01-13T08:21:33.766Z"
   },
   {
    "duration": 22,
    "start_time": "2022-01-13T08:21:33.777Z"
   },
   {
    "duration": 44,
    "start_time": "2022-01-13T08:21:33.801Z"
   },
   {
    "duration": 7,
    "start_time": "2022-01-13T08:21:33.847Z"
   },
   {
    "duration": 20,
    "start_time": "2022-01-13T08:21:33.856Z"
   },
   {
    "duration": 10,
    "start_time": "2022-01-13T08:21:33.878Z"
   },
   {
    "duration": 7,
    "start_time": "2022-01-13T08:21:33.889Z"
   },
   {
    "duration": 58,
    "start_time": "2022-01-13T08:21:33.898Z"
   },
   {
    "duration": 10,
    "start_time": "2022-01-13T08:21:33.958Z"
   },
   {
    "duration": 870,
    "start_time": "2022-01-14T06:48:35.227Z"
   },
   {
    "duration": 38,
    "start_time": "2022-01-14T06:48:36.100Z"
   },
   {
    "duration": 26,
    "start_time": "2022-01-14T06:48:36.141Z"
   },
   {
    "duration": 10,
    "start_time": "2022-01-14T06:48:36.170Z"
   },
   {
    "duration": 6,
    "start_time": "2022-01-14T06:48:36.183Z"
   },
   {
    "duration": 3,
    "start_time": "2022-01-14T06:48:36.192Z"
   },
   {
    "duration": 19,
    "start_time": "2022-01-14T06:48:36.198Z"
   },
   {
    "duration": 45,
    "start_time": "2022-01-14T06:48:36.220Z"
   },
   {
    "duration": 8,
    "start_time": "2022-01-14T06:48:36.269Z"
   },
   {
    "duration": 14,
    "start_time": "2022-01-14T06:48:36.280Z"
   },
   {
    "duration": 66,
    "start_time": "2022-01-14T06:48:36.297Z"
   },
   {
    "duration": 9,
    "start_time": "2022-01-14T06:48:36.366Z"
   },
   {
    "duration": 35,
    "start_time": "2022-01-14T06:48:36.377Z"
   },
   {
    "duration": 71,
    "start_time": "2022-01-14T06:48:36.415Z"
   },
   {
    "duration": 6,
    "start_time": "2022-01-14T06:48:36.488Z"
   },
   {
    "duration": 7,
    "start_time": "2022-01-14T06:48:36.497Z"
   },
   {
    "duration": 7,
    "start_time": "2022-01-14T06:48:36.507Z"
   },
   {
    "duration": 47,
    "start_time": "2022-01-14T06:48:36.517Z"
   },
   {
    "duration": 7,
    "start_time": "2022-01-14T06:48:36.568Z"
   },
   {
    "duration": 15,
    "start_time": "2022-01-14T06:48:36.577Z"
   },
   {
    "duration": 21,
    "start_time": "2022-01-14T06:48:36.595Z"
   },
   {
    "duration": 45,
    "start_time": "2022-01-14T06:48:36.619Z"
   },
   {
    "duration": 17,
    "start_time": "2022-01-14T06:48:36.669Z"
   },
   {
    "duration": 6,
    "start_time": "2022-01-14T06:48:36.689Z"
   },
   {
    "duration": 8,
    "start_time": "2022-01-14T06:48:36.698Z"
   },
   {
    "duration": 15,
    "start_time": "2022-01-14T06:48:36.708Z"
   },
   {
    "duration": 45,
    "start_time": "2022-01-14T06:48:36.725Z"
   },
   {
    "duration": 22,
    "start_time": "2022-01-14T06:48:36.772Z"
   },
   {
    "duration": 70,
    "start_time": "2022-01-14T06:48:36.797Z"
   },
   {
    "duration": 4,
    "start_time": "2022-01-14T06:48:36.870Z"
   },
   {
    "duration": 29,
    "start_time": "2022-01-14T06:48:36.877Z"
   },
   {
    "duration": 21,
    "start_time": "2022-01-14T06:48:36.908Z"
   },
   {
    "duration": 39,
    "start_time": "2022-01-14T06:48:36.931Z"
   },
   {
    "duration": 25,
    "start_time": "2022-01-14T06:48:36.972Z"
   },
   {
    "duration": 4,
    "start_time": "2022-01-14T06:48:36.999Z"
   },
   {
    "duration": 963,
    "start_time": "2022-01-14T06:48:37.005Z"
   },
   {
    "duration": 4,
    "start_time": "2022-01-14T06:48:37.971Z"
   },
   {
    "duration": 11,
    "start_time": "2022-01-14T06:48:37.977Z"
   },
   {
    "duration": 5,
    "start_time": "2022-01-14T06:48:37.991Z"
   },
   {
    "duration": 3598,
    "start_time": "2022-01-14T06:48:37.998Z"
   },
   {
    "duration": 20,
    "start_time": "2022-01-14T06:48:41.598Z"
   },
   {
    "duration": 75,
    "start_time": "2022-01-14T06:48:41.621Z"
   },
   {
    "duration": 5,
    "start_time": "2022-01-14T06:48:41.698Z"
   },
   {
    "duration": 822,
    "start_time": "2022-01-14T06:48:41.706Z"
   },
   {
    "duration": 33,
    "start_time": "2022-01-14T06:48:42.530Z"
   },
   {
    "duration": 8,
    "start_time": "2022-01-14T06:48:42.565Z"
   },
   {
    "duration": 35,
    "start_time": "2022-01-14T06:48:42.575Z"
   },
   {
    "duration": 51,
    "start_time": "2022-01-14T06:48:42.612Z"
   },
   {
    "duration": 11,
    "start_time": "2022-01-14T06:48:42.666Z"
   },
   {
    "duration": 35,
    "start_time": "2022-01-14T06:48:42.680Z"
   },
   {
    "duration": 53,
    "start_time": "2022-01-14T06:48:42.717Z"
   },
   {
    "duration": 10,
    "start_time": "2022-01-14T06:48:42.772Z"
   },
   {
    "duration": 33,
    "start_time": "2022-01-14T06:48:42.784Z"
   },
   {
    "duration": 45,
    "start_time": "2022-01-14T06:48:42.819Z"
   },
   {
    "duration": 10,
    "start_time": "2022-01-14T06:48:42.866Z"
   },
   {
    "duration": 35,
    "start_time": "2022-01-14T06:48:42.878Z"
   },
   {
    "duration": 16,
    "start_time": "2022-01-14T06:48:42.915Z"
   },
   {
    "duration": 42,
    "start_time": "2022-07-14T08:41:34.800Z"
   }
  ],
  "kernelspec": {
   "display_name": "Python 3 (ipykernel)",
   "language": "python",
   "name": "python3"
  },
  "language_info": {
   "codemirror_mode": {
    "name": "ipython",
    "version": 3
   },
   "file_extension": ".py",
   "mimetype": "text/x-python",
   "name": "python",
   "nbconvert_exporter": "python",
   "pygments_lexer": "ipython3",
   "version": "3.9.5"
  },
  "toc": {
   "base_numbering": 1,
   "nav_menu": {
    "height": "706.992px",
    "width": "428.984px"
   },
   "number_sections": true,
   "sideBar": true,
   "skip_h1_title": true,
   "title_cell": "Table of Contents",
   "title_sidebar": "Contents",
   "toc_cell": false,
   "toc_position": {
    "height": "calc(100% - 180px)",
    "left": "10px",
    "top": "150px",
    "width": "165px"
   },
   "toc_section_display": true,
   "toc_window_display": false
  }
 },
 "nbformat": 4,
 "nbformat_minor": 2
}
